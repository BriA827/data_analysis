{
 "cells": [
  {
   "cell_type": "markdown",
   "id": "f11e97e4",
   "metadata": {
    "id": "De30EVQQnzHH",
    "papermill": {
     "duration": 0.004554,
     "end_time": "2022-11-01T23:26:33.657639",
     "exception": false,
     "start_time": "2022-11-01T23:26:33.653085",
     "status": "completed"
    },
    "tags": []
   },
   "source": [
    "# Imports\n",
    "Import all modules/libraries"
   ]
  },
  {
   "cell_type": "code",
   "execution_count": 1,
   "id": "7ade324f",
   "metadata": {
    "execution": {
     "iopub.execute_input": "2022-11-01T23:26:33.667565Z",
     "iopub.status.busy": "2022-11-01T23:26:33.666909Z",
     "iopub.status.idle": "2022-11-01T23:26:33.681581Z",
     "shell.execute_reply": "2022-11-01T23:26:33.678571Z"
    },
    "id": "umjMEVyAn5zr",
    "papermill": {
     "duration": 0.025118,
     "end_time": "2022-11-01T23:26:33.686524",
     "exception": false,
     "start_time": "2022-11-01T23:26:33.661406",
     "status": "completed"
    },
    "tags": []
   },
   "outputs": [],
   "source": [
    "# cell for importing all modules and libraries\n",
    "import pandas as pd\n",
    "import math\n",
    "import matplotlib.pyplot as plt"
   ]
  },
  {
   "cell_type": "markdown",
   "id": "d6f3e965",
   "metadata": {
    "id": "1SvmzBj4niko",
    "papermill": {
     "duration": 0.003688,
     "end_time": "2022-11-01T23:26:33.696117",
     "exception": false,
     "start_time": "2022-11-01T23:26:33.692429",
     "status": "completed"
    },
    "tags": []
   },
   "source": [
    "# Functions"
   ]
  },
  {
   "cell_type": "markdown",
   "id": "02db287b",
   "metadata": {
    "id": "OO82Diw2oCZa",
    "papermill": {
     "duration": 0.003932,
     "end_time": "2022-11-01T23:26:33.706504",
     "exception": false,
     "start_time": "2022-11-01T23:26:33.702572",
     "status": "completed"
    },
    "tags": []
   },
   "source": [
    "## Create functions\n",
    "\n",
    "1.   Write a python function that takes as input a list of data and returns the values of the first, second and\n",
    "third quartiles.\n",
    "2.   Write 3 separate python functions to plot a histogram, piechart, and box plot. The plotting functions\n",
    "should be made as “generic” as possible so they can be reused. At a minimum they should accept the\n",
    "following as inputs :\n",
    "\n",
    "          data – where data is a numerical list of values to be plotted.\n",
    "          xaxis label – string for the label of the xaxis\n",
    "          yaxis label – string for the label of the yaxis\n",
    "          title – string for the title of the plot\n",
    "\n",
    "    Feel free to add any additional arguments to the function call that you think will enhance your plot.\n",
    "\n",
    "    These 3 functions should put into your generic function library."
   ]
  },
  {
   "cell_type": "code",
   "execution_count": 2,
   "id": "0c102a80",
   "metadata": {
    "execution": {
     "iopub.execute_input": "2022-11-01T23:26:33.717684Z",
     "iopub.status.busy": "2022-11-01T23:26:33.716739Z",
     "iopub.status.idle": "2022-11-01T23:26:33.763802Z",
     "shell.execute_reply": "2022-11-01T23:26:33.762163Z"
    },
    "id": "g3SYTG4jnpYi",
    "papermill": {
     "duration": 0.059181,
     "end_time": "2022-11-01T23:26:33.770003",
     "exception": false,
     "start_time": "2022-11-01T23:26:33.710822",
     "status": "completed"
    },
    "tags": []
   },
   "outputs": [],
   "source": [
    "# cell for all functions\n",
    "def mean(data):\n",
    "    sum = 0\n",
    "    for val in data:\n",
    "        sum += val\n",
    "    average = sum/len(data)\n",
    "    return average\n",
    "\n",
    "def median(data):\n",
    "    data.sort()\n",
    "    if len(data) % 2 == 0:\n",
    "        middle = [data[len(data)//2 - 1], data[len(data)//2]]\n",
    "        mid_avg = mean(middle)\n",
    "        return mid_avg\n",
    "    else:\n",
    "        middle = data[len(data)//2]\n",
    "        return middle\n",
    "    \n",
    "def quartiles(data):\n",
    "    data.sort() #sorts\n",
    "    second = median(data)\n",
    "    second = round(second,2) #MEDIAN\n",
    "    \n",
    "    if second not in data: #adds median if it's not in so we can split\n",
    "        data.append(second)\n",
    "        data.sort()\n",
    "    first = data[0:data.index(second)]\n",
    "    third = data[data.index(second)+1:] # both of these have now been split to form 1&2 and 2&3 quartiles\n",
    "    \n",
    "    first_mid = median(first)\n",
    "    first_mid = round(first_mid, 2) # same thing as before but for first half to split\n",
    "    if first_mid not in first:\n",
    "        first.append(first_mid)\n",
    "        first.sort()\n",
    "    first_quarter = first[0:first.index(first_mid)] # FIRST QUARTER\n",
    "    second_quarter = first[first.index(first_mid)+1:] # SECOND QUARTER\n",
    "    \n",
    "    third_mid = median(third)\n",
    "    third_mid = round(third_mid,2)\n",
    "    if third_mid not in third:\n",
    "        third.append(third_mid)\n",
    "        third.sort()\n",
    "    third_quarter = third[0:third.index(third_mid)] # THIRD QUARTER\n",
    "    fourth_quarter = third[third.index(third_mid)+1:] # FOURTH QUARTER\n",
    "    \n",
    "    medians = [first_mid, second, third_mid]\n",
    "    quartiles = [first_quarter, second_quarter, third_quarter, fourth_quarter]\n",
    "    \n",
    "    return medians, quartiles\n",
    "\n",
    "def variance(data):\n",
    "    sum = 0\n",
    "    for num in data:\n",
    "        sum += (num - mean(data))**2\n",
    "    vari = sum/len(data)\n",
    "    return vari\n",
    "\n",
    "def stand_dev(data):\n",
    "    de = math.sqrt(variance(data))\n",
    "    return de\n",
    "  \n",
    "def elem_stats(data):\n",
    "    data_stats = {\"mean\": mean(data), 'median':median(data), 'variance':variance(data), 'standard_deviance': stand_dev(data), \"min\": min(data), 'max': max(data)}\n",
    "    return data_stats\n",
    "\n",
    "def b_plot(data, title_str, x_label, y_label = None, vert=False):\n",
    "    plt.boxplot(data, vert=vert)\n",
    "    plt.xlabel(x_label)\n",
    "    if y_label != None:\n",
    "        plt.ylabel(y_label)\n",
    "    plt.title(title_str)\n",
    "    plt.show()\n",
    "    \n",
    "def histogram(data, title, x_label, y_label, edge_color='black'):\n",
    "    plt.hist(data, edgecolor=edge_color)\n",
    "    plt.title(title)\n",
    "    plt.xlabel(x_label)\n",
    "    plt.ylabel(y_label)\n",
    "    plt.show()\n",
    "    \n",
    "def piechart(size, title, labels=None):\n",
    "    plt.pie(size,labels=labels)\n",
    "    plt.title(title)\n",
    "    plt.show()\n",
    "    \n",
    "def data_to_list(df, index_str):\n",
    "    \"\"\" df is the dataframe, index_str is the specific column being acsessed\"\"\"\n",
    "    d_list = []\n",
    "    for item in df[index_str]:\n",
    "        d_list.append(item)\n",
    "    return d_list\n",
    "    \n",
    "def present_web(data_source, web_index):\n",
    "    \"\"\"data_source is the data frame, web_index is the specific column being acsessed\"\"\"\n",
    "    web_str = web_index.replace(\"_\", \" \")\n",
    "    \n",
    "    data_list = data_to_list(data_source, web_index)\n",
    "    meds, quarts = quartiles(data_list)\n",
    "    \n",
    "    stats = elem_stats(data_list)\n",
    "    \n",
    "    b_plot(data_list, \"Website \" + web_str, \"Minutes on Website\")\n",
    "    histogram(data_list, \"Website \"+web_str, \"Minutes on Website\", \"Occurence\")\n",
    "    piechart([1,2,3,4,5], \"Website \" + web_str, labels=[min(data_list), meds[0], median(data_list), meds[2], max(data_list)])\n",
    "    \n",
    "    return meds, quarts, stats"
   ]
  },
  {
   "cell_type": "markdown",
   "id": "f1ca60b3",
   "metadata": {
    "id": "syvTmSmfnH0Q",
    "papermill": {
     "duration": 0.004287,
     "end_time": "2022-11-01T23:26:33.777971",
     "exception": false,
     "start_time": "2022-11-01T23:26:33.773684",
     "status": "completed"
    },
    "tags": []
   },
   "source": [
    "# Get/Load data\n",
    "\n",
    "https://github.com/bobg207/Honors_Data_Analysis/blob/master/website_times.txt\n",
    "\n",
    "Make sure to use the URL from the **RAW** data"
   ]
  },
  {
   "cell_type": "code",
   "execution_count": 3,
   "id": "c28f75bc",
   "metadata": {
    "execution": {
     "iopub.execute_input": "2022-11-01T23:26:33.789161Z",
     "iopub.status.busy": "2022-11-01T23:26:33.788677Z",
     "iopub.status.idle": "2022-11-01T23:26:33.831376Z",
     "shell.execute_reply": "2022-11-01T23:26:33.828977Z"
    },
    "id": "FXoUaqHRmHFr",
    "papermill": {
     "duration": 0.053209,
     "end_time": "2022-11-01T23:26:33.835064",
     "exception": false,
     "start_time": "2022-11-01T23:26:33.781855",
     "status": "completed"
    },
    "tags": []
   },
   "outputs": [
    {
     "data": {
      "text/html": [
       "<div>\n",
       "<style scoped>\n",
       "    .dataframe tbody tr th:only-of-type {\n",
       "        vertical-align: middle;\n",
       "    }\n",
       "\n",
       "    .dataframe tbody tr th {\n",
       "        vertical-align: top;\n",
       "    }\n",
       "\n",
       "    .dataframe thead th {\n",
       "        text-align: right;\n",
       "    }\n",
       "</style>\n",
       "<table border=\"1\" class=\"dataframe\">\n",
       "  <thead>\n",
       "    <tr style=\"text-align: right;\">\n",
       "      <th></th>\n",
       "      <th>Website_A</th>\n",
       "      <th>Website_B</th>\n",
       "    </tr>\n",
       "  </thead>\n",
       "  <tbody>\n",
       "    <tr>\n",
       "      <th>95</th>\n",
       "      <td>29.17</td>\n",
       "      <td>34.15</td>\n",
       "    </tr>\n",
       "    <tr>\n",
       "      <th>96</th>\n",
       "      <td>29.55</td>\n",
       "      <td>49.52</td>\n",
       "    </tr>\n",
       "    <tr>\n",
       "      <th>97</th>\n",
       "      <td>26.93</td>\n",
       "      <td>43.80</td>\n",
       "    </tr>\n",
       "    <tr>\n",
       "      <th>98</th>\n",
       "      <td>12.06</td>\n",
       "      <td>50.96</td>\n",
       "    </tr>\n",
       "    <tr>\n",
       "      <th>99</th>\n",
       "      <td>23.28</td>\n",
       "      <td>52.85</td>\n",
       "    </tr>\n",
       "  </tbody>\n",
       "</table>\n",
       "</div>"
      ],
      "text/plain": [
       "    Website_A  Website_B\n",
       "95      29.17      34.15\n",
       "96      29.55      49.52\n",
       "97      26.93      43.80\n",
       "98      12.06      50.96\n",
       "99      23.28      52.85"
      ]
     },
     "execution_count": 3,
     "metadata": {},
     "output_type": "execute_result"
    }
   ],
   "source": [
    "# cell for loading data\n",
    "path = \"../input/websites/website_times.txt\"\n",
    "website_df = pd.read_csv(path, delim_whitespace = True)\n",
    "website_df.tail()"
   ]
  },
  {
   "cell_type": "markdown",
   "id": "bd1e1cd7",
   "metadata": {
    "id": "NRa7QxyMowQ4",
    "papermill": {
     "duration": 0.003562,
     "end_time": "2022-11-01T23:26:33.842593",
     "exception": false,
     "start_time": "2022-11-01T23:26:33.839031",
     "status": "completed"
    },
    "tags": []
   },
   "source": [
    "# Create a simple presentation of the data\n",
    "\n",
    "Using the above plotting functions as well as the simple statistics function you wrote for exercise 1, \n",
    "\n",
    "1.    Write a Python program to read in a set of data containing data on the length of time a user spends on a website. \n",
    "      \n",
    "      Your program should output the following statistics for the data set \n",
    "          Mean, Median, Variance, \n",
    "          Standard Deviation, Min and Max. \n",
    "          \n",
    "      Your program should also output a Boxplot, histogram and pie chart for the data.\n",
    "You will be provided a data files each containing data on the length of time a user spends on a website for two different websites.\n",
    "\n",
    "Take the outputs of your programs, i.e. the plots and statistics and, using combinations of \"Text\" and \"Code\" cells, create a presentation of your findings."
   ]
  },
  {
   "cell_type": "code",
   "execution_count": 4,
   "id": "8caf631a",
   "metadata": {
    "execution": {
     "iopub.execute_input": "2022-11-01T23:26:33.851681Z",
     "iopub.status.busy": "2022-11-01T23:26:33.851229Z",
     "iopub.status.idle": "2022-11-01T23:26:34.974168Z",
     "shell.execute_reply": "2022-11-01T23:26:34.972311Z"
    },
    "papermill": {
     "duration": 1.137076,
     "end_time": "2022-11-01T23:26:34.983348",
     "exception": false,
     "start_time": "2022-11-01T23:26:33.846272",
     "status": "completed"
    },
    "tags": []
   },
   "outputs": [
    {
     "data": {
      "image/png": "[encoded data removed]",
      "text/plain": [
       "<Figure size 432x288 with 1 Axes>"
      ]
     },
     "metadata": {
      "needs_background": "light"
     },
     "output_type": "display_data"
    },
    {
     "data": {
      "image/png": "[encoded data removed]",
      "text/plain": [
       "<Figure size 432x288 with 1 Axes>"
      ]
     },
     "metadata": {
      "needs_background": "light"
     },
     "output_type": "display_data"
    },
    {
     "data": {
      "image/png": "[encoded data removed]",
      "text/plain": [
       "<Figure size 432x288 with 1 Axes>"
      ]
     },
     "metadata": {},
     "output_type": "display_data"
    },
    {
     "name": "stdout",
     "output_type": "stream",
     "text": [
      "[16.39, 20.94, 25.21]\n",
      "[[10.78, 10.82, 11.23, 11.37, 11.52, 11.58, 12.06, 12.12, 12.17, 12.63, 12.71, 13.23, 13.56, 13.62, 13.65, 13.67, 13.93, 14.0, 14.19, 14.38, 14.92, 15.36, 15.48, 15.57, 16.01], [16.76, 16.84, 17.0, 17.08, 17.18, 17.43, 17.75, 17.96, 18.26, 18.29, 18.31, 18.67, 18.74, 19.2, 19.35, 19.65, 19.7, 19.7, 19.84, 20.01, 20.01, 20.31, 20.63, 20.86, 20.92], [20.95, 20.95, 21.43, 21.73, 21.77, 21.81, 22.33, 22.52, 22.7, 22.93, 23.07, 23.07, 23.16, 23.28, 23.38, 23.51, 23.88, 24.03, 24.11, 24.27, 24.27, 24.32, 24.36, 24.53, 25.07], [25.35, 25.43, 25.53, 25.76, 26.05, 26.23, 26.49, 26.63, 26.75, 26.93, 26.98, 27.43, 27.6, 27.73, 27.73, 27.92, 28.04, 28.59, 28.67, 29.17, 29.49, 29.55, 29.75, 29.93, 29.93]]\n",
      "{'mean': 20.683564356435642, 'median': 20.94, 'variance': 29.73545264189786, 'standard_deviance': 5.4530223401245905, 'min': 10.78, 'max': 29.93}\n"
     ]
    },
    {
     "data": {
      "image/png": "[encoded data removed]",
      "text/plain": [
       "<Figure size 432x288 with 1 Axes>"
      ]
     },
     "metadata": {
      "needs_background": "light"
     },
     "output_type": "display_data"
    },
    {
     "data": {
      "image/png": "[encoded data removed]",
      "text/plain": [
       "<Figure size 432x288 with 1 Axes>"
      ]
     },
     "metadata": {
      "needs_background": "light"
     },
     "output_type": "display_data"
    },
    {
     "data": {
      "image/png": "[encoded data removed]",
      "text/plain": [
       "<Figure size 432x288 with 1 Axes>"
      ]
     },
     "metadata": {},
     "output_type": "display_data"
    },
    {
     "name": "stdout",
     "output_type": "stream",
     "text": [
      "[41.75, 45.22, 49.54]\n",
      "[[27.92, 30.97, 32.57, 33.54, 34.15, 34.96, 35.02, 35.23, 35.47, 35.83, 35.85, 35.89, 35.92, 36.38, 36.71, 36.91, 37.11, 37.3, 38.53, 38.96, 39.17, 41.19, 41.35, 41.54, 41.74], [41.77, 41.88, 42.08, 42.12, 42.34, 42.71, 42.94, 43.12, 43.17, 43.23, 43.8, 43.82, 43.92, 44.0, 44.03, 44.16, 44.33, 44.37, 44.38, 44.48, 44.51, 44.57, 44.83, 45.13], [45.3, 45.47, 45.51, 45.54, 45.65, 45.84, 46.54, 46.78, 47.03, 47.03, 47.08, 47.1, 47.35, 47.44, 47.56, 47.79, 47.94, 47.96, 48.07, 48.31, 48.53, 48.68, 49.05, 49.43, 49.52], [49.56, 49.93, 50.32, 50.54, 50.73, 50.76, 50.93, 50.93, 50.96, 51.09, 51.47, 51.97, 52.05, 52.29, 52.76, 52.85, 52.87, 53.3, 53.41, 55.36, 55.95, 57.26, 58.2, 58.95, 63.89]]\n",
      "{'mean': 45.08613861386139, 'median': 45.22, 'variance': 42.479168258013914, 'standard_deviance': 6.5176044876943795, 'min': 27.92, 'max': 63.89}\n"
     ]
    }
   ],
   "source": [
    "mid_a, quart_a, stats_a = present_web(website_df, \"Website_A\")\n",
    "print(f\"{mid_a}\\n{quart_a}\\n{stats_a}\")\n",
    "mid_b, quart_b, stats_b = present_web(website_df, \"Website_B\")\n",
    "print(f\"{mid_b}\\n{quart_b}\\n{stats_b}\")"
   ]
  }
 ],
 "metadata": {
  "kernelspec": {
   "display_name": "Python 3",
   "language": "python",
   "name": "python3"
  },
  "language_info": {
   "codemirror_mode": {
    "name": "ipython",
    "version": 3
   },
   "file_extension": ".py",
   "mimetype": "text/x-python",
   "name": "python",
   "nbconvert_exporter": "python",
   "pygments_lexer": "ipython3",
   "version": "3.7.12"
  },
  "papermill": {
   "default_parameters": {},
   "duration": 12.993643,
   "end_time": "2022-11-01T23:26:35.827390",
   "environment_variables": {},
   "exception": null,
   "input_path": "__notebook__.ipynb",
   "output_path": "__notebook__.ipynb",
   "parameters": {},
   "start_time": "2022-11-01T23:26:22.833747",
   "version": "2.3.4"
  }
 },
 "nbformat": 4,
 "nbformat_minor": 5
}
