{
 "cells": [
  {
   "cell_type": "code",
   "execution_count": 1,
   "id": "bdb26c63",
   "metadata": {
    "execution": {
     "iopub.execute_input": "2023-05-02T16:30:19.197656Z",
     "iopub.status.busy": "2023-05-02T16:30:19.197111Z",
     "iopub.status.idle": "2023-05-02T16:30:19.210114Z",
     "shell.execute_reply": "2023-05-02T16:30:19.209141Z"
    },
    "papermill": {
     "duration": 0.023695,
     "end_time": "2023-05-02T16:30:19.212682",
     "exception": false,
     "start_time": "2023-05-02T16:30:19.188987",
     "status": "completed"
    },
    "tags": []
   },
   "outputs": [],
   "source": [
    "import pandas as pd\n",
    "import numpy as np\n",
    "import math\n",
    "import matplotlib.pyplot as plt"
   ]
  },
  {
   "cell_type": "code",
   "execution_count": 2,
   "id": "cd5e364b",
   "metadata": {
    "execution": {
     "iopub.execute_input": "2023-05-02T16:30:19.225131Z",
     "iopub.status.busy": "2023-05-02T16:30:19.224153Z",
     "iopub.status.idle": "2023-05-02T16:30:19.293567Z",
     "shell.execute_reply": "2023-05-02T16:30:19.292300Z"
    },
    "papermill": {
     "duration": 0.078708,
     "end_time": "2023-05-02T16:30:19.296642",
     "exception": false,
     "start_time": "2023-05-02T16:30:19.217934",
     "status": "completed"
    },
    "tags": []
   },
   "outputs": [
    {
     "data": {
      "text/html": [
       "<div>\n",
       "<style scoped>\n",
       "    .dataframe tbody tr th:only-of-type {\n",
       "        vertical-align: middle;\n",
       "    }\n",
       "\n",
       "    .dataframe tbody tr th {\n",
       "        vertical-align: top;\n",
       "    }\n",
       "\n",
       "    .dataframe thead th {\n",
       "        text-align: right;\n",
       "    }\n",
       "</style>\n",
       "<table border=\"1\" class=\"dataframe\">\n",
       "  <thead>\n",
       "    <tr style=\"text-align: right;\">\n",
       "      <th></th>\n",
       "      <th>male</th>\n",
       "      <th>age</th>\n",
       "      <th>education</th>\n",
       "      <th>currentSmoker</th>\n",
       "      <th>cigsPerDay</th>\n",
       "      <th>BPMeds</th>\n",
       "      <th>prevalentStroke</th>\n",
       "      <th>prevalentHyp</th>\n",
       "      <th>diabetes</th>\n",
       "      <th>totChol</th>\n",
       "      <th>sysBP</th>\n",
       "      <th>diaBP</th>\n",
       "      <th>BMI</th>\n",
       "      <th>heartRate</th>\n",
       "      <th>glucose</th>\n",
       "      <th>TenYearCHD</th>\n",
       "    </tr>\n",
       "  </thead>\n",
       "  <tbody>\n",
       "    <tr>\n",
       "      <th>0</th>\n",
       "      <td>1</td>\n",
       "      <td>39</td>\n",
       "      <td>4.0</td>\n",
       "      <td>0</td>\n",
       "      <td>0.0</td>\n",
       "      <td>0.0</td>\n",
       "      <td>0</td>\n",
       "      <td>0</td>\n",
       "      <td>0</td>\n",
       "      <td>195.0</td>\n",
       "      <td>106.0</td>\n",
       "      <td>70.0</td>\n",
       "      <td>26.97</td>\n",
       "      <td>80.0</td>\n",
       "      <td>77.0</td>\n",
       "      <td>0</td>\n",
       "    </tr>\n",
       "    <tr>\n",
       "      <th>1</th>\n",
       "      <td>0</td>\n",
       "      <td>46</td>\n",
       "      <td>2.0</td>\n",
       "      <td>0</td>\n",
       "      <td>0.0</td>\n",
       "      <td>0.0</td>\n",
       "      <td>0</td>\n",
       "      <td>0</td>\n",
       "      <td>0</td>\n",
       "      <td>250.0</td>\n",
       "      <td>121.0</td>\n",
       "      <td>81.0</td>\n",
       "      <td>28.73</td>\n",
       "      <td>95.0</td>\n",
       "      <td>76.0</td>\n",
       "      <td>0</td>\n",
       "    </tr>\n",
       "    <tr>\n",
       "      <th>2</th>\n",
       "      <td>1</td>\n",
       "      <td>48</td>\n",
       "      <td>1.0</td>\n",
       "      <td>1</td>\n",
       "      <td>20.0</td>\n",
       "      <td>0.0</td>\n",
       "      <td>0</td>\n",
       "      <td>0</td>\n",
       "      <td>0</td>\n",
       "      <td>245.0</td>\n",
       "      <td>127.5</td>\n",
       "      <td>80.0</td>\n",
       "      <td>25.34</td>\n",
       "      <td>75.0</td>\n",
       "      <td>70.0</td>\n",
       "      <td>0</td>\n",
       "    </tr>\n",
       "    <tr>\n",
       "      <th>3</th>\n",
       "      <td>0</td>\n",
       "      <td>61</td>\n",
       "      <td>3.0</td>\n",
       "      <td>1</td>\n",
       "      <td>30.0</td>\n",
       "      <td>0.0</td>\n",
       "      <td>0</td>\n",
       "      <td>1</td>\n",
       "      <td>0</td>\n",
       "      <td>225.0</td>\n",
       "      <td>150.0</td>\n",
       "      <td>95.0</td>\n",
       "      <td>28.58</td>\n",
       "      <td>65.0</td>\n",
       "      <td>103.0</td>\n",
       "      <td>1</td>\n",
       "    </tr>\n",
       "    <tr>\n",
       "      <th>4</th>\n",
       "      <td>0</td>\n",
       "      <td>46</td>\n",
       "      <td>3.0</td>\n",
       "      <td>1</td>\n",
       "      <td>23.0</td>\n",
       "      <td>0.0</td>\n",
       "      <td>0</td>\n",
       "      <td>0</td>\n",
       "      <td>0</td>\n",
       "      <td>285.0</td>\n",
       "      <td>130.0</td>\n",
       "      <td>84.0</td>\n",
       "      <td>23.10</td>\n",
       "      <td>85.0</td>\n",
       "      <td>85.0</td>\n",
       "      <td>0</td>\n",
       "    </tr>\n",
       "    <tr>\n",
       "      <th>...</th>\n",
       "      <td>...</td>\n",
       "      <td>...</td>\n",
       "      <td>...</td>\n",
       "      <td>...</td>\n",
       "      <td>...</td>\n",
       "      <td>...</td>\n",
       "      <td>...</td>\n",
       "      <td>...</td>\n",
       "      <td>...</td>\n",
       "      <td>...</td>\n",
       "      <td>...</td>\n",
       "      <td>...</td>\n",
       "      <td>...</td>\n",
       "      <td>...</td>\n",
       "      <td>...</td>\n",
       "      <td>...</td>\n",
       "    </tr>\n",
       "    <tr>\n",
       "      <th>4235</th>\n",
       "      <td>0</td>\n",
       "      <td>48</td>\n",
       "      <td>2.0</td>\n",
       "      <td>1</td>\n",
       "      <td>20.0</td>\n",
       "      <td>NaN</td>\n",
       "      <td>0</td>\n",
       "      <td>0</td>\n",
       "      <td>0</td>\n",
       "      <td>248.0</td>\n",
       "      <td>131.0</td>\n",
       "      <td>72.0</td>\n",
       "      <td>22.00</td>\n",
       "      <td>84.0</td>\n",
       "      <td>86.0</td>\n",
       "      <td>0</td>\n",
       "    </tr>\n",
       "    <tr>\n",
       "      <th>4236</th>\n",
       "      <td>0</td>\n",
       "      <td>44</td>\n",
       "      <td>1.0</td>\n",
       "      <td>1</td>\n",
       "      <td>15.0</td>\n",
       "      <td>0.0</td>\n",
       "      <td>0</td>\n",
       "      <td>0</td>\n",
       "      <td>0</td>\n",
       "      <td>210.0</td>\n",
       "      <td>126.5</td>\n",
       "      <td>87.0</td>\n",
       "      <td>19.16</td>\n",
       "      <td>86.0</td>\n",
       "      <td>NaN</td>\n",
       "      <td>0</td>\n",
       "    </tr>\n",
       "    <tr>\n",
       "      <th>4237</th>\n",
       "      <td>0</td>\n",
       "      <td>52</td>\n",
       "      <td>2.0</td>\n",
       "      <td>0</td>\n",
       "      <td>0.0</td>\n",
       "      <td>0.0</td>\n",
       "      <td>0</td>\n",
       "      <td>0</td>\n",
       "      <td>0</td>\n",
       "      <td>269.0</td>\n",
       "      <td>133.5</td>\n",
       "      <td>83.0</td>\n",
       "      <td>21.47</td>\n",
       "      <td>80.0</td>\n",
       "      <td>107.0</td>\n",
       "      <td>0</td>\n",
       "    </tr>\n",
       "    <tr>\n",
       "      <th>4238</th>\n",
       "      <td>1</td>\n",
       "      <td>40</td>\n",
       "      <td>3.0</td>\n",
       "      <td>0</td>\n",
       "      <td>0.0</td>\n",
       "      <td>0.0</td>\n",
       "      <td>0</td>\n",
       "      <td>1</td>\n",
       "      <td>0</td>\n",
       "      <td>185.0</td>\n",
       "      <td>141.0</td>\n",
       "      <td>98.0</td>\n",
       "      <td>25.60</td>\n",
       "      <td>67.0</td>\n",
       "      <td>72.0</td>\n",
       "      <td>0</td>\n",
       "    </tr>\n",
       "    <tr>\n",
       "      <th>4239</th>\n",
       "      <td>0</td>\n",
       "      <td>39</td>\n",
       "      <td>3.0</td>\n",
       "      <td>1</td>\n",
       "      <td>30.0</td>\n",
       "      <td>0.0</td>\n",
       "      <td>0</td>\n",
       "      <td>0</td>\n",
       "      <td>0</td>\n",
       "      <td>196.0</td>\n",
       "      <td>133.0</td>\n",
       "      <td>86.0</td>\n",
       "      <td>20.91</td>\n",
       "      <td>85.0</td>\n",
       "      <td>80.0</td>\n",
       "      <td>0</td>\n",
       "    </tr>\n",
       "  </tbody>\n",
       "</table>\n",
       "<p>4240 rows × 16 columns</p>\n",
       "</div>"
      ],
      "text/plain": [
       "      male  age  education  currentSmoker  cigsPerDay  BPMeds  \\\n",
       "0        1   39        4.0              0         0.0     0.0   \n",
       "1        0   46        2.0              0         0.0     0.0   \n",
       "2        1   48        1.0              1        20.0     0.0   \n",
       "3        0   61        3.0              1        30.0     0.0   \n",
       "4        0   46        3.0              1        23.0     0.0   \n",
       "...    ...  ...        ...            ...         ...     ...   \n",
       "4235     0   48        2.0              1        20.0     NaN   \n",
       "4236     0   44        1.0              1        15.0     0.0   \n",
       "4237     0   52        2.0              0         0.0     0.0   \n",
       "4238     1   40        3.0              0         0.0     0.0   \n",
       "4239     0   39        3.0              1        30.0     0.0   \n",
       "\n",
       "      prevalentStroke  prevalentHyp  diabetes  totChol  sysBP  diaBP    BMI  \\\n",
       "0                   0             0         0    195.0  106.0   70.0  26.97   \n",
       "1                   0             0         0    250.0  121.0   81.0  28.73   \n",
       "2                   0             0         0    245.0  127.5   80.0  25.34   \n",
       "3                   0             1         0    225.0  150.0   95.0  28.58   \n",
       "4                   0             0         0    285.0  130.0   84.0  23.10   \n",
       "...               ...           ...       ...      ...    ...    ...    ...   \n",
       "4235                0             0         0    248.0  131.0   72.0  22.00   \n",
       "4236                0             0         0    210.0  126.5   87.0  19.16   \n",
       "4237                0             0         0    269.0  133.5   83.0  21.47   \n",
       "4238                0             1         0    185.0  141.0   98.0  25.60   \n",
       "4239                0             0         0    196.0  133.0   86.0  20.91   \n",
       "\n",
       "      heartRate  glucose  TenYearCHD  \n",
       "0          80.0     77.0           0  \n",
       "1          95.0     76.0           0  \n",
       "2          75.0     70.0           0  \n",
       "3          65.0    103.0           1  \n",
       "4          85.0     85.0           0  \n",
       "...         ...      ...         ...  \n",
       "4235       84.0     86.0           0  \n",
       "4236       86.0      NaN           0  \n",
       "4237       80.0    107.0           0  \n",
       "4238       67.0     72.0           0  \n",
       "4239       85.0     80.0           0  \n",
       "\n",
       "[4240 rows x 16 columns]"
      ]
     },
     "execution_count": 2,
     "metadata": {},
     "output_type": "execute_result"
    }
   ],
   "source": [
    "heart_path = \"/kaggle/input/hearts/framingham.csv\"\n",
    "heart = pd.read_csv(heart_path)\n",
    "heart"
   ]
  },
  {
   "cell_type": "code",
   "execution_count": 3,
   "id": "7093d8d3",
   "metadata": {
    "execution": {
     "iopub.execute_input": "2023-05-02T16:30:19.309349Z",
     "iopub.status.busy": "2023-05-02T16:30:19.308931Z",
     "iopub.status.idle": "2023-05-02T16:30:19.334876Z",
     "shell.execute_reply": "2023-05-02T16:30:19.333607Z"
    },
    "papermill": {
     "duration": 0.035418,
     "end_time": "2023-05-02T16:30:19.337471",
     "exception": false,
     "start_time": "2023-05-02T16:30:19.302053",
     "status": "completed"
    },
    "tags": []
   },
   "outputs": [
    {
     "name": "stdout",
     "output_type": "stream",
     "text": [
      "<class 'pandas.core.frame.DataFrame'>\n",
      "RangeIndex: 4240 entries, 0 to 4239\n",
      "Data columns (total 16 columns):\n",
      " #   Column           Non-Null Count  Dtype  \n",
      "---  ------           --------------  -----  \n",
      " 0   male             4240 non-null   int64  \n",
      " 1   age              4240 non-null   int64  \n",
      " 2   education        4135 non-null   float64\n",
      " 3   currentSmoker    4240 non-null   int64  \n",
      " 4   cigsPerDay       4211 non-null   float64\n",
      " 5   BPMeds           4187 non-null   float64\n",
      " 6   prevalentStroke  4240 non-null   int64  \n",
      " 7   prevalentHyp     4240 non-null   int64  \n",
      " 8   diabetes         4240 non-null   int64  \n",
      " 9   totChol          4190 non-null   float64\n",
      " 10  sysBP            4240 non-null   float64\n",
      " 11  diaBP            4240 non-null   float64\n",
      " 12  BMI              4221 non-null   float64\n",
      " 13  heartRate        4239 non-null   float64\n",
      " 14  glucose          3852 non-null   float64\n",
      " 15  TenYearCHD       4240 non-null   int64  \n",
      "dtypes: float64(9), int64(7)\n",
      "memory usage: 530.1 KB\n"
     ]
    }
   ],
   "source": [
    "heart.info()"
   ]
  },
  {
   "cell_type": "markdown",
   "id": "80cacf86",
   "metadata": {
    "papermill": {
     "duration": 0.005162,
     "end_time": "2023-05-02T16:30:19.348062",
     "exception": false,
     "start_time": "2023-05-02T16:30:19.342900",
     "status": "completed"
    },
    "tags": []
   },
   "source": [
    "Let’s do a quick look at the data from the study. Using Pandas, get the following data : Total Cholesterol, Body Mass Index, Systolic BP, Diastolic BP, Glucose, Heart Rate, Number of Cigarettes Smoked per Day for two groups, those who are at risk for Cardiac Heart Disease in ten years and those that are not. This is indicated by 0 for those who are not at risk and a 1 for those who are in the column labeled “TenYearCHD”.\n",
    "\n",
    "Plot histograms of the Total Cholesterol, Body Mass Index, Systolic BP, Diastolic BP, Glucose, Heart Rate, Number of Cigarettes Smoked for each risk factor for those who are not at risk and those that are. For a given risk factor, plot the histograms for the not at risk and at risk on the same figure."
   ]
  },
  {
   "cell_type": "code",
   "execution_count": 4,
   "id": "5217c032",
   "metadata": {
    "execution": {
     "iopub.execute_input": "2023-05-02T16:30:19.360421Z",
     "iopub.status.busy": "2023-05-02T16:30:19.360021Z",
     "iopub.status.idle": "2023-05-02T16:30:19.368471Z",
     "shell.execute_reply": "2023-05-02T16:30:19.367287Z"
    },
    "papermill": {
     "duration": 0.0175,
     "end_time": "2023-05-02T16:30:19.370959",
     "exception": false,
     "start_time": "2023-05-02T16:30:19.353459",
     "status": "completed"
    },
    "tags": []
   },
   "outputs": [],
   "source": [
    "risk = heart[(heart[\"TenYearCHD\"] == 1)]\n",
    "no_risk = heart[(heart[\"TenYearCHD\"] == 0)]"
   ]
  },
  {
   "cell_type": "code",
   "execution_count": 5,
   "id": "660864b7",
   "metadata": {
    "execution": {
     "iopub.execute_input": "2023-05-02T16:30:19.383637Z",
     "iopub.status.busy": "2023-05-02T16:30:19.383242Z",
     "iopub.status.idle": "2023-05-02T16:30:19.677871Z",
     "shell.execute_reply": "2023-05-02T16:30:19.676808Z"
    },
    "papermill": {
     "duration": 0.30395,
     "end_time": "2023-05-02T16:30:19.680386",
     "exception": false,
     "start_time": "2023-05-02T16:30:19.376436",
     "status": "completed"
    },
    "tags": []
   },
   "outputs": [
    {
     "data": {
      "text/plain": [
       "<function matplotlib.pyplot.show(close=None, block=None)>"
      ]
     },
     "execution_count": 5,
     "metadata": {},
     "output_type": "execute_result"
    },
    {
     "data": {
      "image/png": "[encoded data removed]",
      "text/plain": [
       "<Figure size 640x480 with 1 Axes>"
      ]
     },
     "metadata": {},
     "output_type": "display_data"
    }
   ],
   "source": [
    "plt.hist(no_risk[\"totChol\"], color='green')\n",
    "plt.hist(risk[\"totChol\"], color='red')\n",
    "plt.title(\"Total Cholesterol\")\n",
    "plt.xlabel(\"Cholesterol Values\")\n",
    "plt.ylabel(\"Amount of People\")\n",
    "plt.show"
   ]
  },
  {
   "cell_type": "code",
   "execution_count": 6,
   "id": "5b90e7ac",
   "metadata": {
    "execution": {
     "iopub.execute_input": "2023-05-02T16:30:19.694506Z",
     "iopub.status.busy": "2023-05-02T16:30:19.693713Z",
     "iopub.status.idle": "2023-05-02T16:30:19.939744Z",
     "shell.execute_reply": "2023-05-02T16:30:19.938783Z"
    },
    "papermill": {
     "duration": 0.255605,
     "end_time": "2023-05-02T16:30:19.942039",
     "exception": false,
     "start_time": "2023-05-02T16:30:19.686434",
     "status": "completed"
    },
    "tags": []
   },
   "outputs": [
    {
     "data": {
      "text/plain": [
       "<function matplotlib.pyplot.show(close=None, block=None)>"
      ]
     },
     "execution_count": 6,
     "metadata": {},
     "output_type": "execute_result"
    },
    {
     "data": {
      "image/png": "[encoded data removed]",
      "text/plain": [
       "<Figure size 640x480 with 1 Axes>"
      ]
     },
     "metadata": {},
     "output_type": "display_data"
    }
   ],
   "source": [
    "plt.hist(no_risk[\"BMI\"], color='green')\n",
    "plt.hist(risk[\"BMI\"], color='red')\n",
    "plt.title(\"BMI\")\n",
    "plt.xlabel(\"BMI Values\")\n",
    "plt.ylabel(\"Amount of People\")\n",
    "plt.show"
   ]
  },
  {
   "cell_type": "code",
   "execution_count": 7,
   "id": "a7843779",
   "metadata": {
    "execution": {
     "iopub.execute_input": "2023-05-02T16:30:19.957390Z",
     "iopub.status.busy": "2023-05-02T16:30:19.956346Z",
     "iopub.status.idle": "2023-05-02T16:30:20.208980Z",
     "shell.execute_reply": "2023-05-02T16:30:20.207733Z"
    },
    "papermill": {
     "duration": 0.263204,
     "end_time": "2023-05-02T16:30:20.211840",
     "exception": false,
     "start_time": "2023-05-02T16:30:19.948636",
     "status": "completed"
    },
    "tags": []
   },
   "outputs": [
    {
     "data": {
      "text/plain": [
       "<function matplotlib.pyplot.show(close=None, block=None)>"
      ]
     },
     "execution_count": 7,
     "metadata": {},
     "output_type": "execute_result"
    },
    {
     "data": {
      "image/png": "[encoded data removed]",
      "text/plain": [
       "<Figure size 640x480 with 1 Axes>"
      ]
     },
     "metadata": {},
     "output_type": "display_data"
    }
   ],
   "source": [
    "plt.hist(no_risk[\"sysBP\"], color='green')\n",
    "plt.hist(risk[\"sysBP\"], color='red')\n",
    "plt.title(\"Systolic BP\")\n",
    "plt.xlabel(\"Systolic BP Values\")\n",
    "plt.ylabel(\"Amount of People\")\n",
    "plt.show"
   ]
  },
  {
   "cell_type": "code",
   "execution_count": 8,
   "id": "dfad9921",
   "metadata": {
    "execution": {
     "iopub.execute_input": "2023-05-02T16:30:20.228094Z",
     "iopub.status.busy": "2023-05-02T16:30:20.227129Z",
     "iopub.status.idle": "2023-05-02T16:30:20.582270Z",
     "shell.execute_reply": "2023-05-02T16:30:20.581092Z"
    },
    "papermill": {
     "duration": 0.366171,
     "end_time": "2023-05-02T16:30:20.585111",
     "exception": false,
     "start_time": "2023-05-02T16:30:20.218940",
     "status": "completed"
    },
    "tags": []
   },
   "outputs": [
    {
     "data": {
      "text/plain": [
       "<function matplotlib.pyplot.show(close=None, block=None)>"
      ]
     },
     "execution_count": 8,
     "metadata": {},
     "output_type": "execute_result"
    },
    {
     "data": {
      "image/png": "[encoded data removed]",
      "text/plain": [
       "<Figure size 640x480 with 1 Axes>"
      ]
     },
     "metadata": {},
     "output_type": "display_data"
    }
   ],
   "source": [
    "plt.hist(no_risk[\"diaBP\"], color='green')\n",
    "plt.hist(risk[\"diaBP\"], color='red')\n",
    "plt.title(\"Diastolic BP\")\n",
    "plt.xlabel(\"Diastolic BP Values\")\n",
    "plt.ylabel(\"Amount of People\")\n",
    "plt.show"
   ]
  },
  {
   "cell_type": "code",
   "execution_count": 9,
   "id": "e827e878",
   "metadata": {
    "execution": {
     "iopub.execute_input": "2023-05-02T16:30:20.602846Z",
     "iopub.status.busy": "2023-05-02T16:30:20.601832Z",
     "iopub.status.idle": "2023-05-02T16:30:20.878331Z",
     "shell.execute_reply": "2023-05-02T16:30:20.877046Z"
    },
    "papermill": {
     "duration": 0.288128,
     "end_time": "2023-05-02T16:30:20.880960",
     "exception": false,
     "start_time": "2023-05-02T16:30:20.592832",
     "status": "completed"
    },
    "tags": []
   },
   "outputs": [
    {
     "data": {
      "text/plain": [
       "<function matplotlib.pyplot.show(close=None, block=None)>"
      ]
     },
     "execution_count": 9,
     "metadata": {},
     "output_type": "execute_result"
    },
    {
     "data": {
      "image/png": "[encoded data removed]",
      "text/plain": [
       "<Figure size 640x480 with 1 Axes>"
      ]
     },
     "metadata": {},
     "output_type": "display_data"
    }
   ],
   "source": [
    "plt.hist(no_risk[\"glucose\"], color='green')\n",
    "plt.hist(risk[\"glucose\"], color='red')\n",
    "plt.title(\"Glucose\")\n",
    "plt.xlabel(\"Glucose Values\")\n",
    "plt.ylabel(\"Amount of People\")\n",
    "plt.show"
   ]
  },
  {
   "cell_type": "code",
   "execution_count": 10,
   "id": "0afa53f7",
   "metadata": {
    "execution": {
     "iopub.execute_input": "2023-05-02T16:30:20.899184Z",
     "iopub.status.busy": "2023-05-02T16:30:20.898355Z",
     "iopub.status.idle": "2023-05-02T16:30:21.150674Z",
     "shell.execute_reply": "2023-05-02T16:30:21.149432Z"
    },
    "papermill": {
     "duration": 0.264374,
     "end_time": "2023-05-02T16:30:21.153447",
     "exception": false,
     "start_time": "2023-05-02T16:30:20.889073",
     "status": "completed"
    },
    "tags": []
   },
   "outputs": [
    {
     "data": {
      "text/plain": [
       "<function matplotlib.pyplot.show(close=None, block=None)>"
      ]
     },
     "execution_count": 10,
     "metadata": {},
     "output_type": "execute_result"
    },
    {
     "data": {
      "image/png": "[encoded data removed]",
      "text/plain": [
       "<Figure size 640x480 with 1 Axes>"
      ]
     },
     "metadata": {},
     "output_type": "display_data"
    }
   ],
   "source": [
    "plt.hist(no_risk[\"heartRate\"], color='green')\n",
    "plt.hist(risk[\"heartRate\"], color='red')\n",
    "plt.title(\"Heart Rate\")\n",
    "plt.xlabel(\"Heart Rate Values\")\n",
    "plt.ylabel(\"Amount of People\")\n",
    "plt.show"
   ]
  },
  {
   "cell_type": "code",
   "execution_count": 11,
   "id": "5a918941",
   "metadata": {
    "execution": {
     "iopub.execute_input": "2023-05-02T16:30:21.173146Z",
     "iopub.status.busy": "2023-05-02T16:30:21.172266Z",
     "iopub.status.idle": "2023-05-02T16:30:21.443776Z",
     "shell.execute_reply": "2023-05-02T16:30:21.442482Z"
    },
    "papermill": {
     "duration": 0.284599,
     "end_time": "2023-05-02T16:30:21.446864",
     "exception": false,
     "start_time": "2023-05-02T16:30:21.162265",
     "status": "completed"
    },
    "tags": []
   },
   "outputs": [
    {
     "data": {
      "text/plain": [
       "<function matplotlib.pyplot.show(close=None, block=None)>"
      ]
     },
     "execution_count": 11,
     "metadata": {},
     "output_type": "execute_result"
    },
    {
     "data": {
      "image/png": "[encoded data removed]",
      "text/plain": [
       "<Figure size 640x480 with 1 Axes>"
      ]
     },
     "metadata": {},
     "output_type": "display_data"
    }
   ],
   "source": [
    "plt.hist(no_risk[\"cigsPerDay\"], color='green')\n",
    "plt.hist(risk[\"cigsPerDay\"], color='red')\n",
    "plt.title(\"Cigarettes Per Day\")\n",
    "plt.xlabel(\"Cigarettes Per Day Values\")\n",
    "plt.ylabel(\"Amount of People\")\n",
    "plt.show"
   ]
  },
  {
   "cell_type": "markdown",
   "id": "232e9598",
   "metadata": {
    "papermill": {
     "duration": 0.009117,
     "end_time": "2023-05-02T16:30:21.465518",
     "exception": false,
     "start_time": "2023-05-02T16:30:21.456401",
     "status": "completed"
    },
    "tags": []
   },
   "source": [
    "Let’s investigate the effects of demographic factors for cardiac disease. First compute, the using all samples, the number of patients who are at risk for Cardiac Heart Disease in ten years and those that are not. This is indicated by 0 for those who are not at risk and a 1 for those who are in the column labeled “TenYearCHD”. Use these numbers to compute the percentage of patients at risk and not at risk.\n",
    "\n",
    "1. Do the same calculation for all the male patients and for all the female patients.\n",
    "1. Do the same calculations for all patients <= 45 years old.\n",
    "1. Do the same calculations for all patients > 45 years old.\n",
    "1. Do the same calculations for each of the 4 education levels"
   ]
  },
  {
   "cell_type": "code",
   "execution_count": 12,
   "id": "df9ad0b1",
   "metadata": {
    "execution": {
     "iopub.execute_input": "2023-05-02T16:30:21.486968Z",
     "iopub.status.busy": "2023-05-02T16:30:21.486541Z",
     "iopub.status.idle": "2023-05-02T16:30:21.493237Z",
     "shell.execute_reply": "2023-05-02T16:30:21.491978Z"
    },
    "papermill": {
     "duration": 0.021332,
     "end_time": "2023-05-02T16:30:21.496143",
     "exception": false,
     "start_time": "2023-05-02T16:30:21.474811",
     "status": "completed"
    },
    "tags": []
   },
   "outputs": [
    {
     "name": "stdout",
     "output_type": "stream",
     "text": [
      "CHD: 644 \t NCHD: 3596\n",
      "CHD %: 15 \t NCHD %: 85\n"
     ]
    }
   ],
   "source": [
    "chd_per = round((len(risk)/len(heart))*100)\n",
    "nchd_per = round((len(no_risk)/len(heart))*100)\n",
    "\n",
    "print(\"CHD:\", len(risk),\"\\t\", \"NCHD:\",len(no_risk))\n",
    "print(\"CHD %:\",chd_per,\"\\t\", \"NCHD %:\",nchd_per)"
   ]
  },
  {
   "cell_type": "code",
   "execution_count": 13,
   "id": "0eeb2b4e",
   "metadata": {
    "execution": {
     "iopub.execute_input": "2023-05-02T16:30:21.517125Z",
     "iopub.status.busy": "2023-05-02T16:30:21.515909Z",
     "iopub.status.idle": "2023-05-02T16:30:21.530707Z",
     "shell.execute_reply": "2023-05-02T16:30:21.529353Z"
    },
    "papermill": {
     "duration": 0.027683,
     "end_time": "2023-05-02T16:30:21.532972",
     "exception": false,
     "start_time": "2023-05-02T16:30:21.505289",
     "status": "completed"
    },
    "tags": []
   },
   "outputs": [
    {
     "name": "stdout",
     "output_type": "stream",
     "text": [
      "Female CHD: 301 \t NCHD: 2119\n",
      "Female CHD %: 12 \t NCHD %: 88\n",
      "\n",
      "\n",
      "Male CHD: 343 \t\t NCHD: 1477\n",
      "Male CHD %: 19 \t\t NCHD %: 81\n"
     ]
    }
   ],
   "source": [
    "fem_risk = risk[(risk['male'] == 0)]\n",
    "fem_no = no_risk[(no_risk['male'] == 0)]\n",
    "male_risk = risk[(risk['male'] == 1)]\n",
    "male_no = no_risk[(no_risk['male'] == 1)]\n",
    "\n",
    "f_r_per = round((len(fem_risk)/(len(fem_risk)+len(fem_no)))*100)\n",
    "f_n_per = round((len(fem_no)/(len(fem_risk)+len(fem_no)))*100)\n",
    "\n",
    "print(\"Female\",\"CHD:\", len(fem_risk),\"\\t\", \"NCHD:\",len(fem_no))\n",
    "print(\"Female\",\"CHD %:\",f_r_per,\"\\t\", \"NCHD %:\",f_n_per)\n",
    "print(\"\\n\")\n",
    "\n",
    "m_r_per = round((len(male_risk)/(len(male_risk)+len(male_no)))*100)\n",
    "m_n_per = round((len(male_no)/(len(male_risk)+len(male_no)))*100)\n",
    "\n",
    "print(\"Male\",\"CHD:\", len(male_risk),\"\\t\\t\", \"NCHD:\",len(male_no))\n",
    "print(\"Male\",\"CHD %:\",m_r_per,\"\\t\\t\", \"NCHD %:\",m_n_per)"
   ]
  },
  {
   "cell_type": "code",
   "execution_count": 14,
   "id": "b9406b6d",
   "metadata": {
    "execution": {
     "iopub.execute_input": "2023-05-02T16:30:21.553474Z",
     "iopub.status.busy": "2023-05-02T16:30:21.552728Z",
     "iopub.status.idle": "2023-05-02T16:30:21.567172Z",
     "shell.execute_reply": "2023-05-02T16:30:21.566023Z"
    },
    "papermill": {
     "duration": 0.027559,
     "end_time": "2023-05-02T16:30:21.569671",
     "exception": false,
     "start_time": "2023-05-02T16:30:21.542112",
     "status": "completed"
    },
    "tags": []
   },
   "outputs": [
    {
     "name": "stdout",
     "output_type": "stream",
     "text": [
      "Less than 45 CHD: 106 \t NCHD: 1483\n",
      "Less than 45 CHD %: 7 \t NCHD %: 93\n",
      "\n",
      "\n",
      "Greater or equal to 45 CHD: 538 \t NCHD: 2113\n",
      "Greater or equal to 45 CHD %: 20 \t NCHD %: 80\n"
     ]
    }
   ],
   "source": [
    "le45_r = risk[(risk['age'] <= 45)]\n",
    "le45_n = no_risk[(no_risk['age'] <= 45)]\n",
    "gr45_r = risk[(risk['age'] > 45)]\n",
    "gr45_n = no_risk[(no_risk['age'] > 45)]\n",
    "\n",
    "le_r_per = round((len(le45_r)/(len(le45_r)+len(le45_n)))*100)\n",
    "le_n_per = round((len(le45_n)/(len(le45_r)+len(le45_n)))*100)\n",
    "\n",
    "print(\"Less than 45\",\"CHD:\", len(le45_r),\"\\t\", \"NCHD:\",len(le45_n))\n",
    "print(\"Less than 45\",\"CHD %:\",le_r_per,\"\\t\", \"NCHD %:\",le_n_per)\n",
    "print(\"\\n\")\n",
    "\n",
    "gr_r_per = round((len(gr45_r)/(len(gr45_r)+len(gr45_n)))*100)\n",
    "gr_n_per = round((len(gr45_n)/(len(gr45_r)+len(gr45_n)))*100)\n",
    "\n",
    "print(\"Greater or equal to 45\",\"CHD:\", len(gr45_r),\"\\t\", \"NCHD:\",len(gr45_n))\n",
    "print(\"Greater or equal to 45\",\"CHD %:\",gr_r_per,\"\\t\", \"NCHD %:\",gr_n_per)"
   ]
  },
  {
   "cell_type": "code",
   "execution_count": 15,
   "id": "a4ecdb6a",
   "metadata": {
    "execution": {
     "iopub.execute_input": "2023-05-02T16:30:21.590224Z",
     "iopub.status.busy": "2023-05-02T16:30:21.589478Z",
     "iopub.status.idle": "2023-05-02T16:30:21.604980Z",
     "shell.execute_reply": "2023-05-02T16:30:21.603328Z"
    },
    "papermill": {
     "duration": 0.028084,
     "end_time": "2023-05-02T16:30:21.607129",
     "exception": false,
     "start_time": "2023-05-02T16:30:21.579045",
     "status": "completed"
    },
    "tags": []
   },
   "outputs": [
    {
     "name": "stdout",
     "output_type": "stream",
     "text": [
      "1 education CHD: 323 \tNCHD: 1397\n",
      "1 education CHD %: 19 \tNCHD %: 81\n",
      "\n",
      "\n",
      "2 education CHD: 147 \tNCHD: 1106\n",
      "2 education CHD %: 12 \tNCHD %: 88\n",
      "\n",
      "\n",
      "3 education CHD: 88 \tNCHD: 601\n",
      "3 education CHD %: 13 \tNCHD %: 87\n",
      "\n",
      "\n",
      "4 education CHD: 70 \tNCHD: 403\n",
      "4 education CHD %: 15 \tNCHD %: 85\n",
      "\n",
      "\n"
     ]
    }
   ],
   "source": [
    "def num_per(df_r, df_n, column, condition):\n",
    "    lev_r = df_r[(df_r[column] == condition)]\n",
    "    lev_n = df_n[(df_n[column] == condition)]\n",
    "    \n",
    "    lev_r_per = round((len(lev_r)/(len(lev_r)+len(lev_n)))*100)\n",
    "    lev_n_per = round((len(lev_n)/(len(lev_r)+len(lev_n)))*100)\n",
    "    \n",
    "    print(f\"{condition} {column} CHD: {len(lev_r)} \\tNCHD: {len(lev_n)}\")\n",
    "    print(f\"{condition} {column} CHD %: {lev_r_per} \\tNCHD %: {lev_n_per}\")\n",
    "    print('\\n')\n",
    "          \n",
    "one_cha = num_per(risk, no_risk, \"education\", 1)\n",
    "two_cha = num_per(risk, no_risk, \"education\", 2)\n",
    "three_cha = num_per(risk, no_risk, \"education\", 3)\n",
    "four_cha = num_per(risk, no_risk, \"education\", 4)"
   ]
  }
 ],
 "metadata": {
  "kernelspec": {
   "display_name": "Python 3",
   "language": "python",
   "name": "python3"
  },
  "language_info": {
   "codemirror_mode": {
    "name": "ipython",
    "version": 3
   },
   "file_extension": ".py",
   "mimetype": "text/x-python",
   "name": "python",
   "nbconvert_exporter": "python",
   "pygments_lexer": "ipython3",
   "version": "3.7.12"
  },
  "papermill": {
   "default_parameters": {},
   "duration": 14.508204,
   "end_time": "2023-05-02T16:30:22.238372",
   "environment_variables": {},
   "exception": null,
   "input_path": "__notebook__.ipynb",
   "output_path": "__notebook__.ipynb",
   "parameters": {},
   "start_time": "2023-05-02T16:30:07.730168",
   "version": "2.4.0"
  }
 },
 "nbformat": 4,
 "nbformat_minor": 5
}
