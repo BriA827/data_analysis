{
 "cells": [
  {
   "cell_type": "code",
   "execution_count": 1,
   "id": "db49a254",
   "metadata": {
    "execution": {
     "iopub.execute_input": "2023-05-18T16:17:57.889983Z",
     "iopub.status.busy": "2023-05-18T16:17:57.889390Z",
     "iopub.status.idle": "2023-05-18T16:17:57.908362Z",
     "shell.execute_reply": "2023-05-18T16:17:57.906595Z"
    },
    "papermill": {
     "duration": 0.03902,
     "end_time": "2023-05-18T16:17:57.911460",
     "exception": false,
     "start_time": "2023-05-18T16:17:57.872440",
     "status": "completed"
    },
    "tags": []
   },
   "outputs": [],
   "source": [
    "import pandas as pd\n",
    "import numpy as np\n",
    "import math\n",
    "import matplotlib.pyplot as plt"
   ]
  },
  {
   "cell_type": "code",
   "execution_count": 2,
   "id": "74316c89",
   "metadata": {
    "execution": {
     "iopub.execute_input": "2023-05-18T16:17:57.935145Z",
     "iopub.status.busy": "2023-05-18T16:17:57.934110Z",
     "iopub.status.idle": "2023-05-18T16:17:58.028091Z",
     "shell.execute_reply": "2023-05-18T16:17:58.026704Z"
    },
    "papermill": {
     "duration": 0.109877,
     "end_time": "2023-05-18T16:17:58.031707",
     "exception": false,
     "start_time": "2023-05-18T16:17:57.921830",
     "status": "completed"
    },
    "tags": []
   },
   "outputs": [
    {
     "data": {
      "text/html": [
       "<div>\n",
       "<style scoped>\n",
       "    .dataframe tbody tr th:only-of-type {\n",
       "        vertical-align: middle;\n",
       "    }\n",
       "\n",
       "    .dataframe tbody tr th {\n",
       "        vertical-align: top;\n",
       "    }\n",
       "\n",
       "    .dataframe thead th {\n",
       "        text-align: right;\n",
       "    }\n",
       "</style>\n",
       "<table border=\"1\" class=\"dataframe\">\n",
       "  <thead>\n",
       "    <tr style=\"text-align: right;\">\n",
       "      <th></th>\n",
       "      <th>male</th>\n",
       "      <th>age</th>\n",
       "      <th>education</th>\n",
       "      <th>currentSmoker</th>\n",
       "      <th>cigsPerDay</th>\n",
       "      <th>BPMeds</th>\n",
       "      <th>prevalentStroke</th>\n",
       "      <th>prevalentHyp</th>\n",
       "      <th>diabetes</th>\n",
       "      <th>totChol</th>\n",
       "      <th>sysBP</th>\n",
       "      <th>diaBP</th>\n",
       "      <th>BMI</th>\n",
       "      <th>heartRate</th>\n",
       "      <th>glucose</th>\n",
       "      <th>TenYearCHD</th>\n",
       "    </tr>\n",
       "  </thead>\n",
       "  <tbody>\n",
       "    <tr>\n",
       "      <th>0</th>\n",
       "      <td>1</td>\n",
       "      <td>39</td>\n",
       "      <td>4.0</td>\n",
       "      <td>0</td>\n",
       "      <td>0.0</td>\n",
       "      <td>0.0</td>\n",
       "      <td>0</td>\n",
       "      <td>0</td>\n",
       "      <td>0</td>\n",
       "      <td>195.0</td>\n",
       "      <td>106.0</td>\n",
       "      <td>70.0</td>\n",
       "      <td>26.97</td>\n",
       "      <td>80.0</td>\n",
       "      <td>77.0</td>\n",
       "      <td>0</td>\n",
       "    </tr>\n",
       "    <tr>\n",
       "      <th>1</th>\n",
       "      <td>0</td>\n",
       "      <td>46</td>\n",
       "      <td>2.0</td>\n",
       "      <td>0</td>\n",
       "      <td>0.0</td>\n",
       "      <td>0.0</td>\n",
       "      <td>0</td>\n",
       "      <td>0</td>\n",
       "      <td>0</td>\n",
       "      <td>250.0</td>\n",
       "      <td>121.0</td>\n",
       "      <td>81.0</td>\n",
       "      <td>28.73</td>\n",
       "      <td>95.0</td>\n",
       "      <td>76.0</td>\n",
       "      <td>0</td>\n",
       "    </tr>\n",
       "    <tr>\n",
       "      <th>2</th>\n",
       "      <td>1</td>\n",
       "      <td>48</td>\n",
       "      <td>1.0</td>\n",
       "      <td>1</td>\n",
       "      <td>20.0</td>\n",
       "      <td>0.0</td>\n",
       "      <td>0</td>\n",
       "      <td>0</td>\n",
       "      <td>0</td>\n",
       "      <td>245.0</td>\n",
       "      <td>127.5</td>\n",
       "      <td>80.0</td>\n",
       "      <td>25.34</td>\n",
       "      <td>75.0</td>\n",
       "      <td>70.0</td>\n",
       "      <td>0</td>\n",
       "    </tr>\n",
       "    <tr>\n",
       "      <th>3</th>\n",
       "      <td>0</td>\n",
       "      <td>61</td>\n",
       "      <td>3.0</td>\n",
       "      <td>1</td>\n",
       "      <td>30.0</td>\n",
       "      <td>0.0</td>\n",
       "      <td>0</td>\n",
       "      <td>1</td>\n",
       "      <td>0</td>\n",
       "      <td>225.0</td>\n",
       "      <td>150.0</td>\n",
       "      <td>95.0</td>\n",
       "      <td>28.58</td>\n",
       "      <td>65.0</td>\n",
       "      <td>103.0</td>\n",
       "      <td>1</td>\n",
       "    </tr>\n",
       "    <tr>\n",
       "      <th>4</th>\n",
       "      <td>0</td>\n",
       "      <td>46</td>\n",
       "      <td>3.0</td>\n",
       "      <td>1</td>\n",
       "      <td>23.0</td>\n",
       "      <td>0.0</td>\n",
       "      <td>0</td>\n",
       "      <td>0</td>\n",
       "      <td>0</td>\n",
       "      <td>285.0</td>\n",
       "      <td>130.0</td>\n",
       "      <td>84.0</td>\n",
       "      <td>23.10</td>\n",
       "      <td>85.0</td>\n",
       "      <td>85.0</td>\n",
       "      <td>0</td>\n",
       "    </tr>\n",
       "    <tr>\n",
       "      <th>...</th>\n",
       "      <td>...</td>\n",
       "      <td>...</td>\n",
       "      <td>...</td>\n",
       "      <td>...</td>\n",
       "      <td>...</td>\n",
       "      <td>...</td>\n",
       "      <td>...</td>\n",
       "      <td>...</td>\n",
       "      <td>...</td>\n",
       "      <td>...</td>\n",
       "      <td>...</td>\n",
       "      <td>...</td>\n",
       "      <td>...</td>\n",
       "      <td>...</td>\n",
       "      <td>...</td>\n",
       "      <td>...</td>\n",
       "    </tr>\n",
       "    <tr>\n",
       "      <th>4235</th>\n",
       "      <td>0</td>\n",
       "      <td>48</td>\n",
       "      <td>2.0</td>\n",
       "      <td>1</td>\n",
       "      <td>20.0</td>\n",
       "      <td>NaN</td>\n",
       "      <td>0</td>\n",
       "      <td>0</td>\n",
       "      <td>0</td>\n",
       "      <td>248.0</td>\n",
       "      <td>131.0</td>\n",
       "      <td>72.0</td>\n",
       "      <td>22.00</td>\n",
       "      <td>84.0</td>\n",
       "      <td>86.0</td>\n",
       "      <td>0</td>\n",
       "    </tr>\n",
       "    <tr>\n",
       "      <th>4236</th>\n",
       "      <td>0</td>\n",
       "      <td>44</td>\n",
       "      <td>1.0</td>\n",
       "      <td>1</td>\n",
       "      <td>15.0</td>\n",
       "      <td>0.0</td>\n",
       "      <td>0</td>\n",
       "      <td>0</td>\n",
       "      <td>0</td>\n",
       "      <td>210.0</td>\n",
       "      <td>126.5</td>\n",
       "      <td>87.0</td>\n",
       "      <td>19.16</td>\n",
       "      <td>86.0</td>\n",
       "      <td>NaN</td>\n",
       "      <td>0</td>\n",
       "    </tr>\n",
       "    <tr>\n",
       "      <th>4237</th>\n",
       "      <td>0</td>\n",
       "      <td>52</td>\n",
       "      <td>2.0</td>\n",
       "      <td>0</td>\n",
       "      <td>0.0</td>\n",
       "      <td>0.0</td>\n",
       "      <td>0</td>\n",
       "      <td>0</td>\n",
       "      <td>0</td>\n",
       "      <td>269.0</td>\n",
       "      <td>133.5</td>\n",
       "      <td>83.0</td>\n",
       "      <td>21.47</td>\n",
       "      <td>80.0</td>\n",
       "      <td>107.0</td>\n",
       "      <td>0</td>\n",
       "    </tr>\n",
       "    <tr>\n",
       "      <th>4238</th>\n",
       "      <td>1</td>\n",
       "      <td>40</td>\n",
       "      <td>3.0</td>\n",
       "      <td>0</td>\n",
       "      <td>0.0</td>\n",
       "      <td>0.0</td>\n",
       "      <td>0</td>\n",
       "      <td>1</td>\n",
       "      <td>0</td>\n",
       "      <td>185.0</td>\n",
       "      <td>141.0</td>\n",
       "      <td>98.0</td>\n",
       "      <td>25.60</td>\n",
       "      <td>67.0</td>\n",
       "      <td>72.0</td>\n",
       "      <td>0</td>\n",
       "    </tr>\n",
       "    <tr>\n",
       "      <th>4239</th>\n",
       "      <td>0</td>\n",
       "      <td>39</td>\n",
       "      <td>3.0</td>\n",
       "      <td>1</td>\n",
       "      <td>30.0</td>\n",
       "      <td>0.0</td>\n",
       "      <td>0</td>\n",
       "      <td>0</td>\n",
       "      <td>0</td>\n",
       "      <td>196.0</td>\n",
       "      <td>133.0</td>\n",
       "      <td>86.0</td>\n",
       "      <td>20.91</td>\n",
       "      <td>85.0</td>\n",
       "      <td>80.0</td>\n",
       "      <td>0</td>\n",
       "    </tr>\n",
       "  </tbody>\n",
       "</table>\n",
       "<p>4240 rows × 16 columns</p>\n",
       "</div>"
      ],
      "text/plain": [
       "      male  age  education  currentSmoker  cigsPerDay  BPMeds  \\\n",
       "0        1   39        4.0              0         0.0     0.0   \n",
       "1        0   46        2.0              0         0.0     0.0   \n",
       "2        1   48        1.0              1        20.0     0.0   \n",
       "3        0   61        3.0              1        30.0     0.0   \n",
       "4        0   46        3.0              1        23.0     0.0   \n",
       "...    ...  ...        ...            ...         ...     ...   \n",
       "4235     0   48        2.0              1        20.0     NaN   \n",
       "4236     0   44        1.0              1        15.0     0.0   \n",
       "4237     0   52        2.0              0         0.0     0.0   \n",
       "4238     1   40        3.0              0         0.0     0.0   \n",
       "4239     0   39        3.0              1        30.0     0.0   \n",
       "\n",
       "      prevalentStroke  prevalentHyp  diabetes  totChol  sysBP  diaBP    BMI  \\\n",
       "0                   0             0         0    195.0  106.0   70.0  26.97   \n",
       "1                   0             0         0    250.0  121.0   81.0  28.73   \n",
       "2                   0             0         0    245.0  127.5   80.0  25.34   \n",
       "3                   0             1         0    225.0  150.0   95.0  28.58   \n",
       "4                   0             0         0    285.0  130.0   84.0  23.10   \n",
       "...               ...           ...       ...      ...    ...    ...    ...   \n",
       "4235                0             0         0    248.0  131.0   72.0  22.00   \n",
       "4236                0             0         0    210.0  126.5   87.0  19.16   \n",
       "4237                0             0         0    269.0  133.5   83.0  21.47   \n",
       "4238                0             1         0    185.0  141.0   98.0  25.60   \n",
       "4239                0             0         0    196.0  133.0   86.0  20.91   \n",
       "\n",
       "      heartRate  glucose  TenYearCHD  \n",
       "0          80.0     77.0           0  \n",
       "1          95.0     76.0           0  \n",
       "2          75.0     70.0           0  \n",
       "3          65.0    103.0           1  \n",
       "4          85.0     85.0           0  \n",
       "...         ...      ...         ...  \n",
       "4235       84.0     86.0           0  \n",
       "4236       86.0      NaN           0  \n",
       "4237       80.0    107.0           0  \n",
       "4238       67.0     72.0           0  \n",
       "4239       85.0     80.0           0  \n",
       "\n",
       "[4240 rows x 16 columns]"
      ]
     },
     "execution_count": 2,
     "metadata": {},
     "output_type": "execute_result"
    }
   ],
   "source": [
    "heart_path = \"/kaggle/input/hearts/framingham.csv\"\n",
    "heart = pd.read_csv(heart_path)\n",
    "heart"
   ]
  },
  {
   "cell_type": "code",
   "execution_count": 3,
   "id": "16575b2f",
   "metadata": {
    "execution": {
     "iopub.execute_input": "2023-05-18T16:17:58.057965Z",
     "iopub.status.busy": "2023-05-18T16:17:58.056789Z",
     "iopub.status.idle": "2023-05-18T16:17:58.096083Z",
     "shell.execute_reply": "2023-05-18T16:17:58.094606Z"
    },
    "papermill": {
     "duration": 0.056465,
     "end_time": "2023-05-18T16:17:58.099093",
     "exception": false,
     "start_time": "2023-05-18T16:17:58.042628",
     "status": "completed"
    },
    "tags": []
   },
   "outputs": [
    {
     "name": "stdout",
     "output_type": "stream",
     "text": [
      "<class 'pandas.core.frame.DataFrame'>\n",
      "RangeIndex: 4240 entries, 0 to 4239\n",
      "Data columns (total 16 columns):\n",
      " #   Column           Non-Null Count  Dtype  \n",
      "---  ------           --------------  -----  \n",
      " 0   male             4240 non-null   int64  \n",
      " 1   age              4240 non-null   int64  \n",
      " 2   education        4135 non-null   float64\n",
      " 3   currentSmoker    4240 non-null   int64  \n",
      " 4   cigsPerDay       4211 non-null   float64\n",
      " 5   BPMeds           4187 non-null   float64\n",
      " 6   prevalentStroke  4240 non-null   int64  \n",
      " 7   prevalentHyp     4240 non-null   int64  \n",
      " 8   diabetes         4240 non-null   int64  \n",
      " 9   totChol          4190 non-null   float64\n",
      " 10  sysBP            4240 non-null   float64\n",
      " 11  diaBP            4240 non-null   float64\n",
      " 12  BMI              4221 non-null   float64\n",
      " 13  heartRate        4239 non-null   float64\n",
      " 14  glucose          3852 non-null   float64\n",
      " 15  TenYearCHD       4240 non-null   int64  \n",
      "dtypes: float64(9), int64(7)\n",
      "memory usage: 530.1 KB\n"
     ]
    }
   ],
   "source": [
    "heart.info()"
   ]
  },
  {
   "cell_type": "markdown",
   "id": "55b3701c",
   "metadata": {
    "papermill": {
     "duration": 0.010834,
     "end_time": "2023-05-18T16:17:58.120918",
     "exception": false,
     "start_time": "2023-05-18T16:17:58.110084",
     "status": "completed"
    },
    "tags": []
   },
   "source": [
    "Let’s do a quick look at the data from the study. Using Pandas, get the following data : Total Cholesterol, Body Mass Index, Systolic BP, Diastolic BP, Glucose, Heart Rate, Number of Cigarettes Smoked per Day for two groups, those who are at risk for Cardiac Heart Disease in ten years and those that are not. This is indicated by 0 for those who are not at risk and a 1 for those who are in the column labeled “TenYearCHD”.\n",
    "\n",
    "Plot histograms of the Total Cholesterol, Body Mass Index, Systolic BP, Diastolic BP, Glucose, Heart Rate, Number of Cigarettes Smoked for each risk factor for those who are not at risk and those that are. For a given risk factor, plot the histograms for the not at risk and at risk on the same figure."
   ]
  },
  {
   "cell_type": "code",
   "execution_count": 4,
   "id": "0f2164e5",
   "metadata": {
    "execution": {
     "iopub.execute_input": "2023-05-18T16:17:58.147359Z",
     "iopub.status.busy": "2023-05-18T16:17:58.146392Z",
     "iopub.status.idle": "2023-05-18T16:17:58.156342Z",
     "shell.execute_reply": "2023-05-18T16:17:58.154901Z"
    },
    "papermill": {
     "duration": 0.027208,
     "end_time": "2023-05-18T16:17:58.160331",
     "exception": false,
     "start_time": "2023-05-18T16:17:58.133123",
     "status": "completed"
    },
    "tags": []
   },
   "outputs": [],
   "source": [
    "risk = heart[(heart[\"TenYearCHD\"] == 1)]\n",
    "no_risk = heart[(heart[\"TenYearCHD\"] == 0)]"
   ]
  },
  {
   "cell_type": "code",
   "execution_count": 5,
   "id": "8ede6fff",
   "metadata": {
    "execution": {
     "iopub.execute_input": "2023-05-18T16:17:58.185952Z",
     "iopub.status.busy": "2023-05-18T16:17:58.185462Z",
     "iopub.status.idle": "2023-05-18T16:17:58.598221Z",
     "shell.execute_reply": "2023-05-18T16:17:58.596816Z"
    },
    "papermill": {
     "duration": 0.430674,
     "end_time": "2023-05-18T16:17:58.602095",
     "exception": false,
     "start_time": "2023-05-18T16:17:58.171421",
     "status": "completed"
    },
    "tags": []
   },
   "outputs": [
    {
     "data": {
      "text/plain": [
       "<function matplotlib.pyplot.show(close=None, block=None)>"
      ]
     },
     "execution_count": 5,
     "metadata": {},
     "output_type": "execute_result"
    },
    {
     "data": {
      "image/png": "[encoded data removed]",
      "text/plain": [
       "<Figure size 640x480 with 1 Axes>"
      ]
     },
     "metadata": {},
     "output_type": "display_data"
    }
   ],
   "source": [
    "plt.hist(no_risk[\"totChol\"], color='green')\n",
    "plt.hist(risk[\"totChol\"], color='red')\n",
    "plt.title(\"Total Cholesterol\")\n",
    "plt.xlabel(\"Cholesterol Values\")\n",
    "plt.ylabel(\"Amount of People\")\n",
    "plt.show"
   ]
  },
  {
   "cell_type": "code",
   "execution_count": 6,
   "id": "df65dbcf",
   "metadata": {
    "execution": {
     "iopub.execute_input": "2023-05-18T16:17:58.629620Z",
     "iopub.status.busy": "2023-05-18T16:17:58.628738Z",
     "iopub.status.idle": "2023-05-18T16:17:58.929351Z",
     "shell.execute_reply": "2023-05-18T16:17:58.927861Z"
    },
    "papermill": {
     "duration": 0.317461,
     "end_time": "2023-05-18T16:17:58.932467",
     "exception": false,
     "start_time": "2023-05-18T16:17:58.615006",
     "status": "completed"
    },
    "tags": []
   },
   "outputs": [
    {
     "data": {
      "text/plain": [
       "<function matplotlib.pyplot.show(close=None, block=None)>"
      ]
     },
     "execution_count": 6,
     "metadata": {},
     "output_type": "execute_result"
    },
    {
     "data": {
      "image/png": "[encoded data removed]",
      "text/plain": [
       "<Figure size 640x480 with 1 Axes>"
      ]
     },
     "metadata": {},
     "output_type": "display_data"
    }
   ],
   "source": [
    "plt.hist(no_risk[\"BMI\"], color='green')\n",
    "plt.hist(risk[\"BMI\"], color='red')\n",
    "plt.title(\"BMI\")\n",
    "plt.xlabel(\"BMI Values\")\n",
    "plt.ylabel(\"Amount of People\")\n",
    "plt.show"
   ]
  },
  {
   "cell_type": "code",
   "execution_count": 7,
   "id": "3e8a65a5",
   "metadata": {
    "execution": {
     "iopub.execute_input": "2023-05-18T16:17:58.962084Z",
     "iopub.status.busy": "2023-05-18T16:17:58.960553Z",
     "iopub.status.idle": "2023-05-18T16:17:59.265724Z",
     "shell.execute_reply": "2023-05-18T16:17:59.264703Z"
    },
    "papermill": {
     "duration": 0.323847,
     "end_time": "2023-05-18T16:17:59.268562",
     "exception": false,
     "start_time": "2023-05-18T16:17:58.944715",
     "status": "completed"
    },
    "tags": []
   },
   "outputs": [
    {
     "data": {
      "text/plain": [
       "<function matplotlib.pyplot.show(close=None, block=None)>"
      ]
     },
     "execution_count": 7,
     "metadata": {},
     "output_type": "execute_result"
    },
    {
     "data": {
      "image/png": "[encoded data removed]",
      "text/plain": [
       "<Figure size 640x480 with 1 Axes>"
      ]
     },
     "metadata": {},
     "output_type": "display_data"
    }
   ],
   "source": [
    "plt.hist(no_risk[\"sysBP\"], color='green')\n",
    "plt.hist(risk[\"sysBP\"], color='red')\n",
    "plt.title(\"Systolic BP\")\n",
    "plt.xlabel(\"Systolic BP Values\")\n",
    "plt.ylabel(\"Amount of People\")\n",
    "plt.show"
   ]
  },
  {
   "cell_type": "code",
   "execution_count": 8,
   "id": "102ac58a",
   "metadata": {
    "execution": {
     "iopub.execute_input": "2023-05-18T16:17:59.298961Z",
     "iopub.status.busy": "2023-05-18T16:17:59.297583Z",
     "iopub.status.idle": "2023-05-18T16:17:59.720709Z",
     "shell.execute_reply": "2023-05-18T16:17:59.719134Z"
    },
    "papermill": {
     "duration": 0.442082,
     "end_time": "2023-05-18T16:17:59.723858",
     "exception": false,
     "start_time": "2023-05-18T16:17:59.281776",
     "status": "completed"
    },
    "tags": []
   },
   "outputs": [
    {
     "data": {
      "text/plain": [
       "<function matplotlib.pyplot.show(close=None, block=None)>"
      ]
     },
     "execution_count": 8,
     "metadata": {},
     "output_type": "execute_result"
    },
    {
     "data": {
      "image/png": "[encoded data removed]",
      "text/plain": [
       "<Figure size 640x480 with 1 Axes>"
      ]
     },
     "metadata": {},
     "output_type": "display_data"
    }
   ],
   "source": [
    "plt.hist(no_risk[\"diaBP\"], color='green')\n",
    "plt.hist(risk[\"diaBP\"], color='red')\n",
    "plt.title(\"Diastolic BP\")\n",
    "plt.xlabel(\"Diastolic BP Values\")\n",
    "plt.ylabel(\"Amount of People\")\n",
    "plt.show"
   ]
  },
  {
   "cell_type": "code",
   "execution_count": 9,
   "id": "be8aee76",
   "metadata": {
    "execution": {
     "iopub.execute_input": "2023-05-18T16:17:59.753267Z",
     "iopub.status.busy": "2023-05-18T16:17:59.752462Z",
     "iopub.status.idle": "2023-05-18T16:18:00.079318Z",
     "shell.execute_reply": "2023-05-18T16:18:00.077944Z"
    },
    "papermill": {
     "duration": 0.345343,
     "end_time": "2023-05-18T16:18:00.082629",
     "exception": false,
     "start_time": "2023-05-18T16:17:59.737286",
     "status": "completed"
    },
    "tags": []
   },
   "outputs": [
    {
     "data": {
      "text/plain": [
       "<function matplotlib.pyplot.show(close=None, block=None)>"
      ]
     },
     "execution_count": 9,
     "metadata": {},
     "output_type": "execute_result"
    },
    {
     "data": {
      "image/png": "[encoded data removed]",
      "text/plain": [
       "<Figure size 640x480 with 1 Axes>"
      ]
     },
     "metadata": {},
     "output_type": "display_data"
    }
   ],
   "source": [
    "plt.hist(no_risk[\"glucose\"], color='green')\n",
    "plt.hist(risk[\"glucose\"], color='red')\n",
    "plt.title(\"Glucose\")\n",
    "plt.xlabel(\"Glucose Values\")\n",
    "plt.ylabel(\"Amount of People\")\n",
    "plt.show"
   ]
  },
  {
   "cell_type": "code",
   "execution_count": 10,
   "id": "54aeb572",
   "metadata": {
    "execution": {
     "iopub.execute_input": "2023-05-18T16:18:00.115306Z",
     "iopub.status.busy": "2023-05-18T16:18:00.114055Z",
     "iopub.status.idle": "2023-05-18T16:18:00.424094Z",
     "shell.execute_reply": "2023-05-18T16:18:00.422602Z"
    },
    "papermill": {
     "duration": 0.330118,
     "end_time": "2023-05-18T16:18:00.427131",
     "exception": false,
     "start_time": "2023-05-18T16:18:00.097013",
     "status": "completed"
    },
    "tags": []
   },
   "outputs": [
    {
     "data": {
      "text/plain": [
       "<function matplotlib.pyplot.show(close=None, block=None)>"
      ]
     },
     "execution_count": 10,
     "metadata": {},
     "output_type": "execute_result"
    },
    {
     "data": {
      "image/png": "[encoded data removed]",
      "text/plain": [
       "<Figure size 640x480 with 1 Axes>"
      ]
     },
     "metadata": {},
     "output_type": "display_data"
    }
   ],
   "source": [
    "plt.hist(no_risk[\"heartRate\"], color='green')\n",
    "plt.hist(risk[\"heartRate\"], color='red')\n",
    "plt.title(\"Heart Rate\")\n",
    "plt.xlabel(\"Heart Rate Values\")\n",
    "plt.ylabel(\"Amount of People\")\n",
    "plt.show"
   ]
  },
  {
   "cell_type": "code",
   "execution_count": 11,
   "id": "fa60868b",
   "metadata": {
    "execution": {
     "iopub.execute_input": "2023-05-18T16:18:00.462496Z",
     "iopub.status.busy": "2023-05-18T16:18:00.462032Z",
     "iopub.status.idle": "2023-05-18T16:18:00.823898Z",
     "shell.execute_reply": "2023-05-18T16:18:00.822434Z"
    },
    "papermill": {
     "duration": 0.383209,
     "end_time": "2023-05-18T16:18:00.827246",
     "exception": false,
     "start_time": "2023-05-18T16:18:00.444037",
     "status": "completed"
    },
    "tags": []
   },
   "outputs": [
    {
     "data": {
      "text/plain": [
       "<function matplotlib.pyplot.show(close=None, block=None)>"
      ]
     },
     "execution_count": 11,
     "metadata": {},
     "output_type": "execute_result"
    },
    {
     "data": {
      "image/png": "[encoded data removed]",
      "text/plain": [
       "<Figure size 640x480 with 1 Axes>"
      ]
     },
     "metadata": {},
     "output_type": "display_data"
    }
   ],
   "source": [
    "plt.hist(no_risk[\"cigsPerDay\"], color='green')\n",
    "plt.hist(risk[\"cigsPerDay\"], color='red')\n",
    "plt.title(\"Cigarettes Per Day\")\n",
    "plt.xlabel(\"Cigarettes Per Day Values\")\n",
    "plt.ylabel(\"Amount of People\")\n",
    "plt.show"
   ]
  },
  {
   "cell_type": "markdown",
   "id": "3dda0aca",
   "metadata": {
    "papermill": {
     "duration": 0.016017,
     "end_time": "2023-05-18T16:18:00.859332",
     "exception": false,
     "start_time": "2023-05-18T16:18:00.843315",
     "status": "completed"
    },
    "tags": []
   },
   "source": [
    "Let’s investigate the effects of demographic factors for cardiac disease. First compute, the using all samples, the number of patients who are at risk for Cardiac Heart Disease in ten years and those that are not. This is indicated by 0 for those who are not at risk and a 1 for those who are in the column labeled “TenYearCHD”. Use these numbers to compute the percentage of patients at risk and not at risk.\n",
    "\n",
    "1. Do the same calculation for all the male patients and for all the female patients.\n",
    "1. Do the same calculations for all patients <= 45 years old.\n",
    "1. Do the same calculations for all patients > 45 years old.\n",
    "1. Do the same calculations for each of the 4 education levels"
   ]
  },
  {
   "cell_type": "code",
   "execution_count": 12,
   "id": "e4ccaae4",
   "metadata": {
    "execution": {
     "iopub.execute_input": "2023-05-18T16:18:00.892958Z",
     "iopub.status.busy": "2023-05-18T16:18:00.891861Z",
     "iopub.status.idle": "2023-05-18T16:18:00.901094Z",
     "shell.execute_reply": "2023-05-18T16:18:00.899483Z"
    },
    "papermill": {
     "duration": 0.029547,
     "end_time": "2023-05-18T16:18:00.904378",
     "exception": false,
     "start_time": "2023-05-18T16:18:00.874831",
     "status": "completed"
    },
    "tags": []
   },
   "outputs": [
    {
     "name": "stdout",
     "output_type": "stream",
     "text": [
      "CHD: 644 \t NCHD: 3596\n",
      "CHD %: 15 \t NCHD %: 85\n"
     ]
    }
   ],
   "source": [
    "chd_per = round((len(risk)/len(heart))*100)\n",
    "nchd_per = round((len(no_risk)/len(heart))*100)\n",
    "\n",
    "print(\"CHD:\", len(risk),\"\\t\", \"NCHD:\",len(no_risk))\n",
    "print(\"CHD %:\",chd_per,\"\\t\", \"NCHD %:\",nchd_per)"
   ]
  },
  {
   "cell_type": "code",
   "execution_count": 13,
   "id": "5f188935",
   "metadata": {
    "execution": {
     "iopub.execute_input": "2023-05-18T16:18:00.939883Z",
     "iopub.status.busy": "2023-05-18T16:18:00.938683Z",
     "iopub.status.idle": "2023-05-18T16:18:00.956528Z",
     "shell.execute_reply": "2023-05-18T16:18:00.954926Z"
    },
    "papermill": {
     "duration": 0.038624,
     "end_time": "2023-05-18T16:18:00.959690",
     "exception": false,
     "start_time": "2023-05-18T16:18:00.921066",
     "status": "completed"
    },
    "tags": []
   },
   "outputs": [
    {
     "name": "stdout",
     "output_type": "stream",
     "text": [
      "Female CHD: 301 \t NCHD: 2119\n",
      "Female CHD %: 12 \t NCHD %: 88\n",
      "\n",
      "\n",
      "Male CHD: 343 \t\t NCHD: 1477\n",
      "Male CHD %: 19 \t\t NCHD %: 81\n"
     ]
    }
   ],
   "source": [
    "fem_risk = risk[(risk['male'] == 0)]\n",
    "fem_no = no_risk[(no_risk['male'] == 0)]\n",
    "male_risk = risk[(risk['male'] == 1)]\n",
    "male_no = no_risk[(no_risk['male'] == 1)]\n",
    "\n",
    "f_r_per = round((len(fem_risk)/(len(fem_risk)+len(fem_no)))*100)\n",
    "f_n_per = round((len(fem_no)/(len(fem_risk)+len(fem_no)))*100)\n",
    "\n",
    "print(\"Female\",\"CHD:\", len(fem_risk),\"\\t\", \"NCHD:\",len(fem_no))\n",
    "print(\"Female\",\"CHD %:\",f_r_per,\"\\t\", \"NCHD %:\",f_n_per)\n",
    "print(\"\\n\")\n",
    "\n",
    "m_r_per = round((len(male_risk)/(len(male_risk)+len(male_no)))*100)\n",
    "m_n_per = round((len(male_no)/(len(male_risk)+len(male_no)))*100)\n",
    "\n",
    "print(\"Male\",\"CHD:\", len(male_risk),\"\\t\\t\", \"NCHD:\",len(male_no))\n",
    "print(\"Male\",\"CHD %:\",m_r_per,\"\\t\\t\", \"NCHD %:\",m_n_per)"
   ]
  },
  {
   "cell_type": "code",
   "execution_count": 14,
   "id": "a631514c",
   "metadata": {
    "execution": {
     "iopub.execute_input": "2023-05-18T16:18:00.994930Z",
     "iopub.status.busy": "2023-05-18T16:18:00.994434Z",
     "iopub.status.idle": "2023-05-18T16:18:01.012908Z",
     "shell.execute_reply": "2023-05-18T16:18:01.011472Z"
    },
    "papermill": {
     "duration": 0.040652,
     "end_time": "2023-05-18T16:18:01.016059",
     "exception": false,
     "start_time": "2023-05-18T16:18:00.975407",
     "status": "completed"
    },
    "tags": []
   },
   "outputs": [
    {
     "name": "stdout",
     "output_type": "stream",
     "text": [
      "Less than 45 CHD: 106 \t NCHD: 1483\n",
      "Less than 45 CHD %: 7 \t NCHD %: 93\n",
      "\n",
      "\n",
      "Greater or equal to 45 CHD: 538 \t NCHD: 2113\n",
      "Greater or equal to 45 CHD %: 20 \t NCHD %: 80\n"
     ]
    }
   ],
   "source": [
    "le45_r = risk[(risk['age'] <= 45)]\n",
    "le45_n = no_risk[(no_risk['age'] <= 45)]\n",
    "gr45_r = risk[(risk['age'] > 45)]\n",
    "gr45_n = no_risk[(no_risk['age'] > 45)]\n",
    "\n",
    "le_r_per = round((len(le45_r)/(len(le45_r)+len(le45_n)))*100)\n",
    "le_n_per = round((len(le45_n)/(len(le45_r)+len(le45_n)))*100)\n",
    "\n",
    "print(\"Less than 45\",\"CHD:\", len(le45_r),\"\\t\", \"NCHD:\",len(le45_n))\n",
    "print(\"Less than 45\",\"CHD %:\",le_r_per,\"\\t\", \"NCHD %:\",le_n_per)\n",
    "print(\"\\n\")\n",
    "\n",
    "gr_r_per = round((len(gr45_r)/(len(gr45_r)+len(gr45_n)))*100)\n",
    "gr_n_per = round((len(gr45_n)/(len(gr45_r)+len(gr45_n)))*100)\n",
    "\n",
    "print(\"Greater or equal to 45\",\"CHD:\", len(gr45_r),\"\\t\", \"NCHD:\",len(gr45_n))\n",
    "print(\"Greater or equal to 45\",\"CHD %:\",gr_r_per,\"\\t\", \"NCHD %:\",gr_n_per)"
   ]
  },
  {
   "cell_type": "code",
   "execution_count": 15,
   "id": "500d3589",
   "metadata": {
    "execution": {
     "iopub.execute_input": "2023-05-18T16:18:01.049882Z",
     "iopub.status.busy": "2023-05-18T16:18:01.049409Z",
     "iopub.status.idle": "2023-05-18T16:18:01.069370Z",
     "shell.execute_reply": "2023-05-18T16:18:01.067373Z"
    },
    "papermill": {
     "duration": 0.040269,
     "end_time": "2023-05-18T16:18:01.072287",
     "exception": false,
     "start_time": "2023-05-18T16:18:01.032018",
     "status": "completed"
    },
    "tags": []
   },
   "outputs": [
    {
     "name": "stdout",
     "output_type": "stream",
     "text": [
      "1 education CHD: 323 \tNCHD: 1397\n",
      "1 education CHD %: 19 \tNCHD %: 81\n",
      "\n",
      "\n",
      "2 education CHD: 147 \tNCHD: 1106\n",
      "2 education CHD %: 12 \tNCHD %: 88\n",
      "\n",
      "\n",
      "3 education CHD: 88 \tNCHD: 601\n",
      "3 education CHD %: 13 \tNCHD %: 87\n",
      "\n",
      "\n",
      "4 education CHD: 70 \tNCHD: 403\n",
      "4 education CHD %: 15 \tNCHD %: 85\n",
      "\n",
      "\n"
     ]
    }
   ],
   "source": [
    "def num_per(df_r, df_n, column, condition):\n",
    "    lev_r = df_r[(df_r[column] == condition)]\n",
    "    lev_n = df_n[(df_n[column] == condition)]\n",
    "    \n",
    "    lev_r_per = round((len(lev_r)/(len(lev_r)+len(lev_n)))*100)\n",
    "    lev_n_per = round((len(lev_n)/(len(lev_r)+len(lev_n)))*100)\n",
    "    \n",
    "    print(f\"{condition} {column} CHD: {len(lev_r)} \\tNCHD: {len(lev_n)}\")\n",
    "    print(f\"{condition} {column} CHD %: {lev_r_per} \\tNCHD %: {lev_n_per}\")\n",
    "    print('\\n')\n",
    "          \n",
    "num_per(risk, no_risk, \"education\", 1)\n",
    "num_per(risk, no_risk, \"education\", 2)\n",
    "num_per(risk, no_risk, \"education\", 3)\n",
    "num_per(risk, no_risk, \"education\", 4)"
   ]
  },
  {
   "cell_type": "markdown",
   "id": "b3c446ce",
   "metadata": {
    "papermill": {
     "duration": 0.016086,
     "end_time": "2023-05-18T16:18:01.104275",
     "exception": false,
     "start_time": "2023-05-18T16:18:01.088189",
     "status": "completed"
    },
    "tags": []
   },
   "source": [
    "**Lets suppose we have two sets of data. One containing a set of weights from a group of men, call the set X, and another containing the set of weights from a group of women, call this set Y**\n",
    "\n",
    "Step 1). Plot a “rough” histogram of the data from each data set to see if the distribution looks like it be normally distributed.\n",
    "\n",
    "Step 2). If not, then it is best to model the distribution using a histogram. If so, assume that each set X and Y are Normally distributed and can be modelled by two parameters calculated from the set’s data – the mean and Standard Deviation"
   ]
  },
  {
   "cell_type": "code",
   "execution_count": 16,
   "id": "8bd9779b",
   "metadata": {
    "execution": {
     "iopub.execute_input": "2023-05-18T16:18:01.140777Z",
     "iopub.status.busy": "2023-05-18T16:18:01.140272Z",
     "iopub.status.idle": "2023-05-18T16:18:01.438511Z",
     "shell.execute_reply": "2023-05-18T16:18:01.436321Z"
    },
    "papermill": {
     "duration": 0.321042,
     "end_time": "2023-05-18T16:18:01.442139",
     "exception": false,
     "start_time": "2023-05-18T16:18:01.121097",
     "status": "completed"
    },
    "tags": []
   },
   "outputs": [
    {
     "data": {
      "text/plain": [
       "Text(0, 0.5, 'Amount of People')"
      ]
     },
     "execution_count": 16,
     "metadata": {},
     "output_type": "execute_result"
    },
    {
     "data": {
      "image/png": "[encoded data removed]",
      "text/plain": [
       "<Figure size 640x480 with 1 Axes>"
      ]
     },
     "metadata": {},
     "output_type": "display_data"
    }
   ],
   "source": [
    "plt.hist(heart[\"BMI\"][heart[\"male\"] == 1])\n",
    "plt.title(\"Male BMI\")\n",
    "plt.xlabel(\"Male BMI Amounts\")\n",
    "plt.ylabel(\"Amount of People\")"
   ]
  },
  {
   "cell_type": "code",
   "execution_count": 17,
   "id": "4013baf5",
   "metadata": {
    "execution": {
     "iopub.execute_input": "2023-05-18T16:18:01.483238Z",
     "iopub.status.busy": "2023-05-18T16:18:01.482738Z",
     "iopub.status.idle": "2023-05-18T16:18:01.788058Z",
     "shell.execute_reply": "2023-05-18T16:18:01.786440Z"
    },
    "papermill": {
     "duration": 0.330472,
     "end_time": "2023-05-18T16:18:01.791809",
     "exception": false,
     "start_time": "2023-05-18T16:18:01.461337",
     "status": "completed"
    },
    "tags": []
   },
   "outputs": [
    {
     "data": {
      "text/plain": [
       "Text(0, 0.5, 'Amount of People')"
      ]
     },
     "execution_count": 17,
     "metadata": {},
     "output_type": "execute_result"
    },
    {
     "data": {
      "image/png": "[encoded data removed]",
      "text/plain": [
       "<Figure size 640x480 with 1 Axes>"
      ]
     },
     "metadata": {},
     "output_type": "display_data"
    }
   ],
   "source": [
    "plt.hist(heart[\"BMI\"][heart[\"male\"] == 0])\n",
    "plt.title(\"Female BMI\")\n",
    "plt.xlabel(\"Female BMI Amounts\")\n",
    "plt.ylabel(\"Amount of People\")"
   ]
  },
  {
   "cell_type": "markdown",
   "id": "76f8a0c7",
   "metadata": {
    "papermill": {
     "duration": 0.018627,
     "end_time": "2023-05-18T16:18:01.828193",
     "exception": false,
     "start_time": "2023-05-18T16:18:01.809566",
     "status": "completed"
    },
    "tags": []
   },
   "source": [
    "Step 3). Compute the mean and Standard Deviation for each set of data."
   ]
  },
  {
   "cell_type": "code",
   "execution_count": 18,
   "id": "ec18c4a6",
   "metadata": {
    "execution": {
     "iopub.execute_input": "2023-05-18T16:18:01.868337Z",
     "iopub.status.busy": "2023-05-18T16:18:01.867889Z",
     "iopub.status.idle": "2023-05-18T16:18:01.888755Z",
     "shell.execute_reply": "2023-05-18T16:18:01.887111Z"
    },
    "papermill": {
     "duration": 0.044813,
     "end_time": "2023-05-18T16:18:01.892820",
     "exception": false,
     "start_time": "2023-05-18T16:18:01.848007",
     "status": "completed"
    },
    "tags": []
   },
   "outputs": [
    {
     "name": "stdout",
     "output_type": "stream",
     "text": [
      "26.113395604395603 3.4115507306027415\n",
      "25.36314049586777 4.521407615321108\n"
     ]
    }
   ],
   "source": [
    "set_x_mean = ((heart[\"BMI\"][heart[\"male\"]==1]).sum())/len(heart[\"BMI\"][heart[\"male\"]==1])\n",
    "set_x_standdev = math.sqrt(((((heart[\"BMI\"][heart[\"male\"]==1]) - set_x_mean)**2).sum())/len(heart[\"BMI\"][heart[\"male\"]==1]))\n",
    "print(set_x_mean, set_x_standdev)\n",
    "\n",
    "set_y_mean = ((heart[\"BMI\"][heart[\"male\"]==0]).sum())/len(heart[\"BMI\"][heart[\"male\"]==0])\n",
    "set_y_standdev = math.sqrt(((((heart[\"BMI\"][heart[\"male\"]==0]) - set_x_mean)**2).sum())/len(heart[\"BMI\"][heart[\"male\"]==0]))\n",
    "print(set_y_mean, set_y_standdev)"
   ]
  },
  {
   "cell_type": "markdown",
   "id": "df325b79",
   "metadata": {
    "papermill": {
     "duration": 0.017349,
     "end_time": "2023-05-18T16:18:01.928098",
     "exception": false,
     "start_time": "2023-05-18T16:18:01.910749",
     "status": "completed"
    },
    "tags": []
   },
   "source": [
    "Write a python function that evaluates the above Gaussian function. x, mean, and standard devation should be the parameters for the function, i.e. gauss(mean, standard devation, x). The function should return the value of the Gaussian distribution for the input parameters"
   ]
  },
  {
   "cell_type": "code",
   "execution_count": 19,
   "id": "3711d883",
   "metadata": {
    "execution": {
     "iopub.execute_input": "2023-05-18T16:18:01.968404Z",
     "iopub.status.busy": "2023-05-18T16:18:01.966576Z",
     "iopub.status.idle": "2023-05-18T16:18:01.986048Z",
     "shell.execute_reply": "2023-05-18T16:18:01.983792Z"
    },
    "papermill": {
     "duration": 0.044031,
     "end_time": "2023-05-18T16:18:01.989762",
     "exception": false,
     "start_time": "2023-05-18T16:18:01.945731",
     "status": "completed"
    },
    "tags": []
   },
   "outputs": [
    {
     "name": "stdout",
     "output_type": "stream",
     "text": [
      "0       0.113310\n",
      "2       0.113972\n",
      "8       0.116634\n",
      "9       0.089337\n",
      "12      0.116745\n",
      "          ...   \n",
      "4231    0.110443\n",
      "4232    0.079985\n",
      "4233    0.116835\n",
      "4234    0.020088\n",
      "4238    0.115622\n",
      "Name: BMI, Length: 1820, dtype: float64\n",
      "1       0.066869\n",
      "3       0.068504\n",
      "4       0.077845\n",
      "5       0.048613\n",
      "6       0.020331\n",
      "          ...   \n",
      "4230    0.075974\n",
      "4235    0.066910\n",
      "4236    0.034428\n",
      "4237    0.060904\n",
      "4239    0.054325\n",
      "Name: BMI, Length: 2420, dtype: float64\n"
     ]
    }
   ],
   "source": [
    "def gauss(x, m, s):\n",
    "    value = (math.e**((-1/2)*((x-m)/s)**2))/(((2*math.pi)**(1/2))*s)\n",
    "    return value\n",
    "\n",
    "set_x_gauss = gauss((heart[\"BMI\"][heart[\"male\"]==1]), set_x_mean, set_x_standdev)\n",
    "print(set_x_gauss)\n",
    "\n",
    "set_y_gauss = gauss((heart[\"BMI\"][heart[\"male\"]==0]), set_y_mean, set_y_standdev)\n",
    "print(set_y_gauss)"
   ]
  },
  {
   "cell_type": "markdown",
   "id": "fd535520",
   "metadata": {
    "papermill": {
     "duration": 0.018184,
     "end_time": "2023-05-18T16:18:02.027378",
     "exception": false,
     "start_time": "2023-05-18T16:18:02.009194",
     "status": "completed"
    },
    "tags": []
   },
   "source": [
    "1). Write a python function that takes as input parameters a list of data, x and y axis labels and a plot title and performs the following operations:\n",
    "\n",
    "a). Computes the mean and standard deviation for the data set.\n",
    "\n",
    "b). Creates a subplot with 1 row and 2 columns. Plots a histogram of the data in one subplot and plots a Gaussian distribution with mean and standard deviation computed in part a in the other subplot.\n",
    "\n",
    "This function will allow you to determine whether or not the assumption of normality is valid."
   ]
  },
  {
   "cell_type": "code",
   "execution_count": 20,
   "id": "e27c1a01",
   "metadata": {
    "execution": {
     "iopub.execute_input": "2023-05-18T16:18:02.065913Z",
     "iopub.status.busy": "2023-05-18T16:18:02.065108Z",
     "iopub.status.idle": "2023-05-18T16:18:02.541777Z",
     "shell.execute_reply": "2023-05-18T16:18:02.540604Z"
    },
    "papermill": {
     "duration": 0.49895,
     "end_time": "2023-05-18T16:18:02.544438",
     "exception": false,
     "start_time": "2023-05-18T16:18:02.045488",
     "status": "completed"
    },
    "tags": []
   },
   "outputs": [
    {
     "name": "stdout",
     "output_type": "stream",
     "text": [
      "0.016300548888726157 77.0\n"
     ]
    },
    {
     "data": {
      "text/html": [
       "<div>\n",
       "<style scoped>\n",
       "    .dataframe tbody tr th:only-of-type {\n",
       "        vertical-align: middle;\n",
       "    }\n",
       "\n",
       "    .dataframe tbody tr th {\n",
       "        vertical-align: top;\n",
       "    }\n",
       "\n",
       "    .dataframe thead th {\n",
       "        text-align: right;\n",
       "    }\n",
       "</style>\n",
       "<table border=\"1\" class=\"dataframe\">\n",
       "  <thead>\n",
       "    <tr style=\"text-align: right;\">\n",
       "      <th></th>\n",
       "      <th>male</th>\n",
       "      <th>age</th>\n",
       "      <th>education</th>\n",
       "      <th>currentSmoker</th>\n",
       "      <th>cigsPerDay</th>\n",
       "      <th>BPMeds</th>\n",
       "      <th>prevalentStroke</th>\n",
       "      <th>prevalentHyp</th>\n",
       "      <th>diabetes</th>\n",
       "      <th>totChol</th>\n",
       "      <th>sysBP</th>\n",
       "      <th>diaBP</th>\n",
       "      <th>BMI</th>\n",
       "      <th>heartRate</th>\n",
       "      <th>glucose</th>\n",
       "      <th>TenYearCHD</th>\n",
       "      <th>gauss</th>\n",
       "    </tr>\n",
       "  </thead>\n",
       "  <tbody>\n",
       "    <tr>\n",
       "      <th>1183</th>\n",
       "      <td>0</td>\n",
       "      <td>57</td>\n",
       "      <td>1.0</td>\n",
       "      <td>0</td>\n",
       "      <td>0.0</td>\n",
       "      <td>0.0</td>\n",
       "      <td>0</td>\n",
       "      <td>1</td>\n",
       "      <td>0</td>\n",
       "      <td>233.0</td>\n",
       "      <td>184.0</td>\n",
       "      <td>106.0</td>\n",
       "      <td>38.88</td>\n",
       "      <td>66.0</td>\n",
       "      <td>40.0</td>\n",
       "      <td>1</td>\n",
       "      <td>0.003590</td>\n",
       "    </tr>\n",
       "    <tr>\n",
       "      <th>3975</th>\n",
       "      <td>1</td>\n",
       "      <td>43</td>\n",
       "      <td>2.0</td>\n",
       "      <td>1</td>\n",
       "      <td>43.0</td>\n",
       "      <td>0.0</td>\n",
       "      <td>0</td>\n",
       "      <td>0</td>\n",
       "      <td>0</td>\n",
       "      <td>240.0</td>\n",
       "      <td>126.0</td>\n",
       "      <td>79.0</td>\n",
       "      <td>21.38</td>\n",
       "      <td>88.0</td>\n",
       "      <td>40.0</td>\n",
       "      <td>0</td>\n",
       "      <td>0.003590</td>\n",
       "    </tr>\n",
       "    <tr>\n",
       "      <th>2225</th>\n",
       "      <td>1</td>\n",
       "      <td>38</td>\n",
       "      <td>4.0</td>\n",
       "      <td>0</td>\n",
       "      <td>0.0</td>\n",
       "      <td>0.0</td>\n",
       "      <td>0</td>\n",
       "      <td>0</td>\n",
       "      <td>0</td>\n",
       "      <td>240.0</td>\n",
       "      <td>122.5</td>\n",
       "      <td>80.0</td>\n",
       "      <td>23.97</td>\n",
       "      <td>60.0</td>\n",
       "      <td>43.0</td>\n",
       "      <td>0</td>\n",
       "      <td>0.004436</td>\n",
       "    </tr>\n",
       "    <tr>\n",
       "      <th>1419</th>\n",
       "      <td>1</td>\n",
       "      <td>42</td>\n",
       "      <td>3.0</td>\n",
       "      <td>1</td>\n",
       "      <td>20.0</td>\n",
       "      <td>0.0</td>\n",
       "      <td>0</td>\n",
       "      <td>0</td>\n",
       "      <td>0</td>\n",
       "      <td>231.0</td>\n",
       "      <td>123.0</td>\n",
       "      <td>87.0</td>\n",
       "      <td>21.48</td>\n",
       "      <td>75.0</td>\n",
       "      <td>44.0</td>\n",
       "      <td>0</td>\n",
       "      <td>0.004744</td>\n",
       "    </tr>\n",
       "    <tr>\n",
       "      <th>2854</th>\n",
       "      <td>1</td>\n",
       "      <td>59</td>\n",
       "      <td>1.0</td>\n",
       "      <td>1</td>\n",
       "      <td>40.0</td>\n",
       "      <td>0.0</td>\n",
       "      <td>0</td>\n",
       "      <td>1</td>\n",
       "      <td>0</td>\n",
       "      <td>188.0</td>\n",
       "      <td>111.0</td>\n",
       "      <td>72.0</td>\n",
       "      <td>21.48</td>\n",
       "      <td>75.0</td>\n",
       "      <td>44.0</td>\n",
       "      <td>0</td>\n",
       "      <td>0.004744</td>\n",
       "    </tr>\n",
       "    <tr>\n",
       "      <th>...</th>\n",
       "      <td>...</td>\n",
       "      <td>...</td>\n",
       "      <td>...</td>\n",
       "      <td>...</td>\n",
       "      <td>...</td>\n",
       "      <td>...</td>\n",
       "      <td>...</td>\n",
       "      <td>...</td>\n",
       "      <td>...</td>\n",
       "      <td>...</td>\n",
       "      <td>...</td>\n",
       "      <td>...</td>\n",
       "      <td>...</td>\n",
       "      <td>...</td>\n",
       "      <td>...</td>\n",
       "      <td>...</td>\n",
       "      <td>...</td>\n",
       "    </tr>\n",
       "    <tr>\n",
       "      <th>4170</th>\n",
       "      <td>0</td>\n",
       "      <td>41</td>\n",
       "      <td>2.0</td>\n",
       "      <td>1</td>\n",
       "      <td>5.0</td>\n",
       "      <td>0.0</td>\n",
       "      <td>0</td>\n",
       "      <td>0</td>\n",
       "      <td>0</td>\n",
       "      <td>205.0</td>\n",
       "      <td>105.0</td>\n",
       "      <td>74.0</td>\n",
       "      <td>20.85</td>\n",
       "      <td>87.0</td>\n",
       "      <td>NaN</td>\n",
       "      <td>0</td>\n",
       "      <td>NaN</td>\n",
       "    </tr>\n",
       "    <tr>\n",
       "      <th>4208</th>\n",
       "      <td>0</td>\n",
       "      <td>51</td>\n",
       "      <td>1.0</td>\n",
       "      <td>1</td>\n",
       "      <td>9.0</td>\n",
       "      <td>0.0</td>\n",
       "      <td>0</td>\n",
       "      <td>0</td>\n",
       "      <td>0</td>\n",
       "      <td>340.0</td>\n",
       "      <td>152.0</td>\n",
       "      <td>76.0</td>\n",
       "      <td>25.74</td>\n",
       "      <td>70.0</td>\n",
       "      <td>NaN</td>\n",
       "      <td>0</td>\n",
       "      <td>NaN</td>\n",
       "    </tr>\n",
       "    <tr>\n",
       "      <th>4229</th>\n",
       "      <td>0</td>\n",
       "      <td>51</td>\n",
       "      <td>3.0</td>\n",
       "      <td>1</td>\n",
       "      <td>20.0</td>\n",
       "      <td>0.0</td>\n",
       "      <td>0</td>\n",
       "      <td>1</td>\n",
       "      <td>0</td>\n",
       "      <td>251.0</td>\n",
       "      <td>140.0</td>\n",
       "      <td>80.0</td>\n",
       "      <td>25.60</td>\n",
       "      <td>75.0</td>\n",
       "      <td>NaN</td>\n",
       "      <td>0</td>\n",
       "      <td>NaN</td>\n",
       "    </tr>\n",
       "    <tr>\n",
       "      <th>4230</th>\n",
       "      <td>0</td>\n",
       "      <td>56</td>\n",
       "      <td>1.0</td>\n",
       "      <td>1</td>\n",
       "      <td>3.0</td>\n",
       "      <td>0.0</td>\n",
       "      <td>0</td>\n",
       "      <td>1</td>\n",
       "      <td>0</td>\n",
       "      <td>268.0</td>\n",
       "      <td>170.0</td>\n",
       "      <td>102.0</td>\n",
       "      <td>22.89</td>\n",
       "      <td>57.0</td>\n",
       "      <td>NaN</td>\n",
       "      <td>0</td>\n",
       "      <td>NaN</td>\n",
       "    </tr>\n",
       "    <tr>\n",
       "      <th>4236</th>\n",
       "      <td>0</td>\n",
       "      <td>44</td>\n",
       "      <td>1.0</td>\n",
       "      <td>1</td>\n",
       "      <td>15.0</td>\n",
       "      <td>0.0</td>\n",
       "      <td>0</td>\n",
       "      <td>0</td>\n",
       "      <td>0</td>\n",
       "      <td>210.0</td>\n",
       "      <td>126.5</td>\n",
       "      <td>87.0</td>\n",
       "      <td>19.16</td>\n",
       "      <td>86.0</td>\n",
       "      <td>NaN</td>\n",
       "      <td>0</td>\n",
       "      <td>NaN</td>\n",
       "    </tr>\n",
       "  </tbody>\n",
       "</table>\n",
       "<p>4240 rows × 17 columns</p>\n",
       "</div>"
      ],
      "text/plain": [
       "      male  age  education  currentSmoker  cigsPerDay  BPMeds  \\\n",
       "1183     0   57        1.0              0         0.0     0.0   \n",
       "3975     1   43        2.0              1        43.0     0.0   \n",
       "2225     1   38        4.0              0         0.0     0.0   \n",
       "1419     1   42        3.0              1        20.0     0.0   \n",
       "2854     1   59        1.0              1        40.0     0.0   \n",
       "...    ...  ...        ...            ...         ...     ...   \n",
       "4170     0   41        2.0              1         5.0     0.0   \n",
       "4208     0   51        1.0              1         9.0     0.0   \n",
       "4229     0   51        3.0              1        20.0     0.0   \n",
       "4230     0   56        1.0              1         3.0     0.0   \n",
       "4236     0   44        1.0              1        15.0     0.0   \n",
       "\n",
       "      prevalentStroke  prevalentHyp  diabetes  totChol  sysBP  diaBP    BMI  \\\n",
       "1183                0             1         0    233.0  184.0  106.0  38.88   \n",
       "3975                0             0         0    240.0  126.0   79.0  21.38   \n",
       "2225                0             0         0    240.0  122.5   80.0  23.97   \n",
       "1419                0             0         0    231.0  123.0   87.0  21.48   \n",
       "2854                0             1         0    188.0  111.0   72.0  21.48   \n",
       "...               ...           ...       ...      ...    ...    ...    ...   \n",
       "4170                0             0         0    205.0  105.0   74.0  20.85   \n",
       "4208                0             0         0    340.0  152.0   76.0  25.74   \n",
       "4229                0             1         0    251.0  140.0   80.0  25.60   \n",
       "4230                0             1         0    268.0  170.0  102.0  22.89   \n",
       "4236                0             0         0    210.0  126.5   87.0  19.16   \n",
       "\n",
       "      heartRate  glucose  TenYearCHD     gauss  \n",
       "1183       66.0     40.0           1  0.003590  \n",
       "3975       88.0     40.0           0  0.003590  \n",
       "2225       60.0     43.0           0  0.004436  \n",
       "1419       75.0     44.0           0  0.004744  \n",
       "2854       75.0     44.0           0  0.004744  \n",
       "...         ...      ...         ...       ...  \n",
       "4170       87.0      NaN           0       NaN  \n",
       "4208       70.0      NaN           0       NaN  \n",
       "4229       75.0      NaN           0       NaN  \n",
       "4230       57.0      NaN           0       NaN  \n",
       "4236       86.0      NaN           0       NaN  \n",
       "\n",
       "[4240 rows x 17 columns]"
      ]
     },
     "execution_count": 20,
     "metadata": {},
     "output_type": "execute_result"
    },
    {
     "data": {
      "image/png": "[encoded data removed]",
      "text/plain": [
       "<Figure size 640x480 with 2 Axes>"
      ]
     },
     "metadata": {},
     "output_type": "display_data"
    }
   ],
   "source": [
    "def norm_vs_gauss(data, x_title, plot_title, gauss_x):\n",
    "    set_mean = (data.sum())/len(data)\n",
    "    set_standdev = math.sqrt((((data - set_mean)**2).sum())/len(data))\n",
    "\n",
    "    figs, axs = plt.subplots(1,2)\n",
    "    axs[0].hist(data)\n",
    "    axs[1].plot(data,gauss_x, \"-\")\n",
    "    axs[1].set_xlim([set_mean-set_standdev, set_mean +set_standdev])\n",
    "    plt.xlabel(x_title)\n",
    "    plt.title(plot_title)\n",
    "    \n",
    "    \n",
    "heart.sort_values('glucose', inplace=True)\n",
    "glu_h = heart[\"glucose\"]\n",
    "\n",
    "heart[\"gauss\"] = gauss(glu_h, glu_h.mean(), glu_h.std())\n",
    "norm_vs_gauss(glu_h, \"Glucose\", \"Glucose Levels\", heart[\"gauss\"])\n",
    "print(heart[\"gauss\"][0], heart[\"glucose\"][0])\n",
    "heart"
   ]
  },
  {
   "cell_type": "code",
   "execution_count": 21,
   "id": "1486f910",
   "metadata": {
    "execution": {
     "iopub.execute_input": "2023-05-18T16:18:02.584733Z",
     "iopub.status.busy": "2023-05-18T16:18:02.583454Z",
     "iopub.status.idle": "2023-05-18T16:18:02.597137Z",
     "shell.execute_reply": "2023-05-18T16:18:02.595845Z"
    },
    "papermill": {
     "duration": 0.036884,
     "end_time": "2023-05-18T16:18:02.600228",
     "exception": false,
     "start_time": "2023-05-18T16:18:02.563344",
     "status": "completed"
    },
    "tags": []
   },
   "outputs": [
    {
     "data": {
      "text/plain": [
       "array([ 40.,  43.,  44.,  45.,  47.,  48.,  50.,  52.,  53.,  54.,  55.,\n",
       "        56.,  57.,  58.,  59.,  60.,  61.,  62.,  63.,  64.,  65.,  66.,\n",
       "        67.,  68.,  69.,  70.,  71.,  72.,  73.,  74.,  75.,  76.,  77.,\n",
       "        78.,  79.,  80.,  81.,  82.,  83.,  84.,  85.,  86.,  87.,  88.,\n",
       "        89.,  90.,  91.,  92.,  93.,  94.,  95.,  96.,  97.,  98.,  99.,\n",
       "       100., 101., 102., 103., 104., 105., 106., 107., 108., 109., 110.,\n",
       "       111., 112., 113., 114., 115., 116., 117., 118., 119., 120., 121.,\n",
       "       122., 123., 124., 125., 126., 127., 129., 130., 131., 132., 135.,\n",
       "       136., 137., 140., 142., 143., 144., 145., 147., 148., 150., 155.,\n",
       "       156., 160., 163., 166., 167., 170., 172., 173., 177., 183., 186.,\n",
       "       191., 193., 202., 205., 206., 207., 210., 215., 216., 223., 225.,\n",
       "       235., 244., 248., 250., 254., 255., 256., 260., 268., 270., 274.,\n",
       "       292., 294., 297., 320., 325., 332., 348., 368., 370., 386., 394.,\n",
       "        nan])"
      ]
     },
     "execution_count": 21,
     "metadata": {},
     "output_type": "execute_result"
    }
   ],
   "source": [
    "glu_h.unique()"
   ]
  },
  {
   "cell_type": "markdown",
   "id": "bb7154b1",
   "metadata": {
    "papermill": {
     "duration": 0.018843,
     "end_time": "2023-05-18T16:18:02.638436",
     "exception": false,
     "start_time": "2023-05-18T16:18:02.619593",
     "status": "completed"
    },
    "tags": []
   },
   "source": [
    "2). Write a python function that takes as input parameters two lists of data, x and y axis labels and a plot title and performs the following operations:\n",
    "\n",
    "1. Computes the mean and standard deviation for each data set.\n",
    "2. Plots the Normal shaped curve for each data set on a single plot.\n",
    "3. Draw vertical dashed lines on each plot to show where the mean and plus/minus one standard deviation is located.\n",
    "4. Computes and displays the K factor between the two data sets on plot."
   ]
  },
  {
   "cell_type": "code",
   "execution_count": 22,
   "id": "ff8963cd",
   "metadata": {
    "execution": {
     "iopub.execute_input": "2023-05-18T16:18:02.679907Z",
     "iopub.status.busy": "2023-05-18T16:18:02.678560Z",
     "iopub.status.idle": "2023-05-18T16:18:02.995582Z",
     "shell.execute_reply": "2023-05-18T16:18:02.993961Z"
    },
    "papermill": {
     "duration": 0.341862,
     "end_time": "2023-05-18T16:18:02.998906",
     "exception": false,
     "start_time": "2023-05-18T16:18:02.657044",
     "status": "completed"
    },
    "tags": []
   },
   "outputs": [
    {
     "data": {
      "image/png": "[encoded data removed]",
      "text/plain": [
       "<Figure size 640x480 with 1 Axes>"
      ]
     },
     "metadata": {},
     "output_type": "display_data"
    }
   ],
   "source": [
    "def k_factor(m1, m2, s1, s2):\n",
    "    value = (abs(m2-m1)) / (((1/2)*(s2**2 + s1**2))**(1/2))\n",
    "    return value\n",
    "\n",
    "def gauss_compare(data1, data2, x_label, title, xmin, xmax):\n",
    "    set1_mean = (data1.sum())/len(data1)\n",
    "    set1_standdev = math.sqrt((((data1 - set1_mean)**2).sum())/len(data1))\n",
    "    \n",
    "    set2_mean = (data2.sum())/len(data2)\n",
    "    set2_standdev = math.sqrt((((data2 - set2_mean)**2).sum())/len(data2))\n",
    "    \n",
    "    gauss_1 = gauss(data1, set1_mean, set1_standdev)\n",
    "    gauss_2 = gauss(data2, set2_mean, set2_standdev)\n",
    "    \n",
    "    plt.plot(data1, gauss_1, color=\"green\")\n",
    "    plt.plot([set1_mean, set1_mean], [0, gauss(set1_mean, set1_mean, set1_standdev)], color=\"green\", linestyle=\"--\")\n",
    "    plt.plot([set1_mean-set1_standdev, set1_mean-set1_standdev], [0, gauss(set1_mean-set1_standdev, set1_mean, set1_standdev)], color=\"green\", linestyle=\"--\")\n",
    "    plt.plot([set1_mean+set1_standdev, set1_mean+set1_standdev], [0, gauss(set1_mean+set1_standdev, set1_mean, set1_standdev)], color=\"green\", linestyle=\"--\")\n",
    "    \n",
    "    plt.plot(data2, gauss_2, color=\"red\")\n",
    "    plt.plot([set2_mean, set2_mean], [0, gauss(set2_mean, set2_mean, set2_standdev)], color=\"red\", linestyle=\"--\")\n",
    "    plt.plot([set2_mean-set2_standdev, set2_mean-set2_standdev], [0, gauss(set2_mean-set2_standdev, set2_mean, set2_standdev)], color=\"red\", linestyle=\"--\")\n",
    "    plt.plot([set2_mean+set2_standdev, set2_mean+set2_standdev], [0, gauss(set2_mean+set2_standdev, set2_mean, set2_standdev)], color=\"red\", linestyle=\"--\")\n",
    "    \n",
    "    plt.text(set1_mean, 0, f\"K factor = {(k_factor(set1_mean, set2_mean, set1_standdev, set2_standdev)).round(2)}\")\n",
    "    \n",
    "    plt.xlim([xmin, xmax])\n",
    "    \n",
    "    plt.xlabel(x_label)\n",
    "    plt.title(title)\n",
    "    \n",
    "gauss_compare(glu_h, glu_h[(heart[\"male\"] == 1) & (heart[\"age\"] >= 50) & (heart[\"age\"] <= 75)], \"Glucose\", \"Glucose Level Men Ages 50-75\", 0, 160)"
   ]
  }
 ],
 "metadata": {
  "kernelspec": {
   "display_name": "Python 3",
   "language": "python",
   "name": "python3"
  },
  "language_info": {
   "codemirror_mode": {
    "name": "ipython",
    "version": 3
   },
   "file_extension": ".py",
   "mimetype": "text/x-python",
   "name": "python",
   "nbconvert_exporter": "python",
   "pygments_lexer": "ipython3",
   "version": "3.7.12"
  },
  "papermill": {
   "default_parameters": {},
   "duration": 21.808101,
   "end_time": "2023-05-18T16:18:03.846150",
   "environment_variables": {},
   "exception": null,
   "input_path": "__notebook__.ipynb",
   "output_path": "__notebook__.ipynb",
   "parameters": {},
   "start_time": "2023-05-18T16:17:42.038049",
   "version": "2.4.0"
  }
 },
 "nbformat": 4,
 "nbformat_minor": 5
}
