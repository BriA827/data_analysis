{
 "cells": [
  {
   "cell_type": "code",
   "execution_count": 1,
   "id": "2b148cc5",
   "metadata": {
    "execution": {
     "iopub.execute_input": "2022-12-06T17:01:17.842582Z",
     "iopub.status.busy": "2022-12-06T17:01:17.841801Z",
     "iopub.status.idle": "2022-12-06T17:01:17.852652Z",
     "shell.execute_reply": "2022-12-06T17:01:17.851223Z"
    },
    "papermill": {
     "duration": 0.018884,
     "end_time": "2022-12-06T17:01:17.855670",
     "exception": false,
     "start_time": "2022-12-06T17:01:17.836786",
     "status": "completed"
    },
    "tags": []
   },
   "outputs": [],
   "source": [
    "import math\n",
    "import matplotlib.pyplot as plt\n",
    "import numpy as np"
   ]
  },
  {
   "cell_type": "code",
   "execution_count": 2,
   "id": "f719afca",
   "metadata": {
    "_cell_guid": "b1076dfc-b9ad-4769-8c92-a6c4dae69d19",
    "_uuid": "8f2839f25d086af736a60e9eeb907d3b93b6e0e5",
    "execution": {
     "iopub.execute_input": "2022-12-06T17:01:17.862536Z",
     "iopub.status.busy": "2022-12-06T17:01:17.861870Z",
     "iopub.status.idle": "2022-12-06T17:01:17.886214Z",
     "shell.execute_reply": "2022-12-06T17:01:17.885220Z"
    },
    "papermill": {
     "duration": 0.030471,
     "end_time": "2022-12-06T17:01:17.888690",
     "exception": false,
     "start_time": "2022-12-06T17:01:17.858219",
     "status": "completed"
    },
    "tags": []
   },
   "outputs": [],
   "source": [
    "def correlation(list1, list2):\n",
    "    x_sum = 0\n",
    "    y_sum = 0\n",
    "    e1 = 0\n",
    "    x_sq = 0\n",
    "    y_sq = 0\n",
    "    \n",
    "    for num in range(len(list1)):\n",
    "        x_sum += list1[num]\n",
    "        y_sum += list2[num]\n",
    "        e1+=  list1[num]*list2[num]\n",
    "        x_sq += list1[num]**2\n",
    "        y_sq += list2[num]**2\n",
    "    \n",
    "    e1= e1* len(list1)\n",
    "    \n",
    "    x_sq_sub = (x_sq *len(list1)) - x_sum**2\n",
    "    x_sqed = math.sqrt(x_sq_sub)\n",
    "    \n",
    "    y_sq_sub = (y_sq * len(list2)) - y_sum**2\n",
    "    y_sqed = math.sqrt(y_sq_sub)\n",
    "    \n",
    "    top = e1 - (x_sum * y_sum)\n",
    "    bottom = x_sqed*y_sqed\n",
    "    \n",
    "    corr = top / bottom\n",
    "    \n",
    "    return corr\n",
    "    \n",
    "def least_squares(list1, list2):\n",
    "    x_sq = 0\n",
    "    x_sum = 0\n",
    "    xy_sum = 0\n",
    "    y_sum = 0\n",
    "    \n",
    "    for num in range(len(list1)):\n",
    "        x_sq += list1[num]**2\n",
    "        x_sum += list1[num]\n",
    "        xy_sum += list1[num] * list2[num]\n",
    "        y_sum += list2[num]\n",
    "        \n",
    "    A = [[x_sq, x_sum], [x_sum, len(list1)]]\n",
    "    B = [xy_sum, y_sum]\n",
    "    \n",
    "    array_reg = np.array(A)\n",
    "    array_inverse = np.linalg.inv(array_reg)\n",
    "    answer = np.dot(array_inverse, B)\n",
    "    return answer\n",
    "\n",
    "def scatter_plot(x_list, y_list, color='blue', point='o'):\n",
    "    plt.scatter(x_list, y_list, c=color, marker=point)\n",
    "    plt.show()\n",
    "    \n",
    "def line_graph(x_list, y_list, x_label = None, y_label = None, amount=1, colour='blue', mark=\"o\", line='-'):\n",
    "    '''amount is number of lines on a graph. if the amount is greater than one, submit lists of lists for the other three paramters. ex: amount=1, x_list=[1,2,3] or amount=2, x_list=[[1,2,3],[4,5,6]]'''\n",
    "    if amount >1:\n",
    "        for num in range(0, amount):\n",
    "            plt.plot(x_list[num], y_list[num], color=colour[num], marker=mark[num], linestyle=line[num])\n",
    "    else:\n",
    "        plt.plot(x_list, y_list, color=colour, marker=mark, linestyle=line)\n",
    "    plt.xlabel(x_label)\n",
    "    plt.ylabel(y_label)\n",
    "    plt.show()\n",
    "    \n",
    "def slope_to_points(slope, intercept, point_nums):\n",
    "    list_x = []\n",
    "    list_y = []\n",
    "    for num in point_nums:\n",
    "        list_x.append(num)\n",
    "        y_point = slope * num + intercept\n",
    "        list_y.append(y_point)\n",
    "    return list_x, list_y\n",
    "\n",
    "def mean(data):\n",
    "    sum = 0\n",
    "    for val in data:\n",
    "        sum += val\n",
    "    average = sum/len(data)\n",
    "    return average\n",
    "\n",
    "def variance(data):\n",
    "    sum = 0\n",
    "    for num in data:\n",
    "        sum += (num - mean(data))**2\n",
    "    vari = sum/len(data)\n",
    "    return vari\n",
    "\n",
    "def stand_dev(data):\n",
    "    de = math.sqrt(variance(data))\n",
    "    return de\n",
    "\n",
    "def residuals(x_list, y_list, slope, intercept):\n",
    "    res_list = []\n",
    "\n",
    "    for item in range(0,len(x_list)):\n",
    "        res = y_list[item] - (slope * x_list[item] + intercept)\n",
    "        res_list.append(res)\n",
    "        \n",
    "    res_mean = mean(res_list)\n",
    "    res_deviation = stand_dev(res_list)\n",
    "    \n",
    "    return res_list, res_mean, res_deviation\n",
    "\n",
    "def outlier_finder(x_list, y_list, n, dev_list, mean, deviation):\n",
    "    outliers = []\n",
    "    for num in range(0,len(dev_list)):\n",
    "        if dev_list[num] > mean + n*deviation:\n",
    "            outliers.append(dev_list[num])\n",
    "        elif dev_list[num] < mean - n*deviation:\n",
    "            outliers.append(dev_list[num])\n",
    "        else:\n",
    "            continue\n",
    "    for item in outliers:\n",
    "        x_list.pop(dev_list.index(item))\n",
    "        y_list.pop(dev_list.index(item))\n",
    "        dev_list.remove(item)\n",
    "            \n",
    "    return x_list, y_list\n",
    "\n",
    "def rmse(y_list, least_y):\n",
    "    sum = 0\n",
    "    for num in range(0,len(y_list)):\n",
    "        sum += (y_list[num]-least_y[num])**2\n",
    "    sum = sum/2\n",
    "    final = np.sqrt(sum)\n",
    "    return final"
   ]
  },
  {
   "cell_type": "markdown",
   "id": "055fa4fb",
   "metadata": {
    "papermill": {
     "duration": 0.001896,
     "end_time": "2022-12-06T17:01:17.892983",
     "exception": false,
     "start_time": "2022-12-06T17:01:17.891087",
     "status": "completed"
    },
    "tags": []
   },
   "source": [
    "Write a function that takes as input the coefficients of the least squares fit and the x and y lists\n",
    "used for the fit. The function should compute the mean and standard deviation for the residuals to the\n",
    "least squares fit. The function should return a list of the residuals, and the residuals mean and standard\n",
    "deviation.\n",
    "\n",
    "Using the outputs from the above function and a user input number of standard deviations, write\n",
    "a function that will identify any outliers in the data. If there are outliers present return a list that contains\n",
    "the indices corresponding to the outliers. Use the list of indices to remove the outliers from your data and\n",
    "refit your data then call your modified plotting routine to replot the new data set.\n",
    "\n",
    "Modify the routine you wrote to plot the least squares regression in a previous exercise to also\n",
    "plot error bars based on the statistics you calculated from the residuals including any outliers. Let the user\n",
    "specify the number of standard deviations to be used for the outlier calculation."
   ]
  },
  {
   "cell_type": "markdown",
   "id": "f0ed7c0b",
   "metadata": {
    "papermill": {
     "duration": 0.001858,
     "end_time": "2022-12-06T17:01:17.896913",
     "exception": false,
     "start_time": "2022-12-06T17:01:17.895055",
     "status": "completed"
    },
    "tags": []
   },
   "source": [
    "* residual = each y - the slope * each x + the intercept\n",
    "* residual >< mean +- inputed number (1,2,3) * standard deviation"
   ]
  },
  {
   "cell_type": "code",
   "execution_count": 3,
   "id": "ecdfb90c",
   "metadata": {
    "execution": {
     "iopub.execute_input": "2022-12-06T17:01:17.902625Z",
     "iopub.status.busy": "2022-12-06T17:01:17.902229Z",
     "iopub.status.idle": "2022-12-06T17:01:18.185842Z",
     "shell.execute_reply": "2022-12-06T17:01:18.184873Z"
    },
    "papermill": {
     "duration": 0.289607,
     "end_time": "2022-12-06T17:01:18.188545",
     "exception": false,
     "start_time": "2022-12-06T17:01:17.898938",
     "status": "completed"
    },
    "tags": []
   },
   "outputs": [
    {
     "data": {
      "image/png": "[encoded data removed]",
      "text/plain": [
       "<Figure size 432x288 with 1 Axes>"
      ]
     },
     "metadata": {
      "needs_background": "light"
     },
     "output_type": "display_data"
    },
    {
     "data": {
      "image/png": "[encoded data removed]",
      "text/plain": [
       "<Figure size 432x288 with 1 Axes>"
      ]
     },
     "metadata": {
      "needs_background": "light"
     },
     "output_type": "display_data"
    }
   ],
   "source": [
    "x = [1.0,2.0,4.0,6.0,5.0,6.0,9.0,8.0,11.0,12.0]\n",
    "y = [14.0,10.0,12.0,9.0,8.0,6.0,4.0,3.0,3.0,10.0]\n",
    "\n",
    "confidence = 2\n",
    "\n",
    "data_slope, data_intercept = least_squares(x,y)\n",
    "data_r, data_rmean, data_rdev = residuals(x,y,data_slope, data_intercept)\n",
    "new_x, new_y = outlier_finder(x,y,confidence,data_r, data_rmean, data_rdev)\n",
    "\n",
    "least_line_x, least_line_y = slope_to_points(data_slope, data_intercept, x)\n",
    "\n",
    "ubx, uby = slope_to_points(data_slope, data_intercept + (data_rmean + confidence * data_rdev), new_x)\n",
    "lbx, lby = slope_to_points(data_slope, data_intercept - (data_rmean + confidence * data_rdev), new_x)\n",
    "\n",
    "\n",
    "fit_slope, fit_intercept = least_squares(new_x, new_y)\n",
    "fit_data_r, fit_data_rmean, fit_data_rdev = residuals(new_x,new_y,fit_slope, fit_intercept)\n",
    "fit_xs, fit_ys = slope_to_points(fit_slope, fit_intercept, new_x)\n",
    "fit_ubx, fit_uby = slope_to_points(fit_slope, fit_intercept + (fit_data_rmean + confidence * fit_data_rdev), new_x)\n",
    "fit_lbx, fit_lby = slope_to_points(fit_slope, fit_intercept - (fit_data_rmean + confidence * fit_data_rdev), new_x)\n",
    "\n",
    "line_graph([x,least_line_x, ubx, lbx], [y,least_line_y, uby, lby], x_label = \"X Data\", y_label = \"Y Data\", amount=4, colour=[\"green\", \"blue\", \"red\", \"red\"], mark=[\"*\", \"\", \"\", \"\"], line=[\"\", \"-\", \"--\", \"--\"])\n",
    "line_graph([x,fit_xs, fit_ubx, fit_lbx], [y,fit_ys, fit_uby, fit_lby], x_label = \"Fit X Data\", y_label = \"FiT Y Data\", amount=4, colour=[\"green\", \"blue\", \"red\", \"red\"], mark=[\"*\", \"\", \"\", \"\"], line=[\"\", \"-\", \"--\", \"--\"])"
   ]
  },
  {
   "cell_type": "code",
   "execution_count": 4,
   "id": "e6f6d21d",
   "metadata": {
    "execution": {
     "iopub.execute_input": "2022-12-06T17:01:18.195322Z",
     "iopub.status.busy": "2022-12-06T17:01:18.195003Z",
     "iopub.status.idle": "2022-12-06T17:01:18.200184Z",
     "shell.execute_reply": "2022-12-06T17:01:18.199332Z"
    },
    "papermill": {
     "duration": 0.011343,
     "end_time": "2022-12-06T17:01:18.202706",
     "exception": false,
     "start_time": "2022-12-06T17:01:18.191363",
     "status": "completed"
    },
    "tags": []
   },
   "outputs": [
    {
     "name": "stdout",
     "output_type": "stream",
     "text": [
      "-0.6807432432432439 -1.1210106382978715\n",
      "\n",
      "3.240267752267238 4.532021246799961\n"
     ]
    }
   ],
   "source": [
    "print(data_slope, fit_slope)\n",
    "print()\n",
    "rmse_data = rmse(new_y, fit_ys)\n",
    "rmse_data_old = rmse(y, least_line_y)\n",
    "print(rmse_data, rmse_data_old)"
   ]
  }
 ],
 "metadata": {
  "kernelspec": {
   "display_name": "Python 3",
   "language": "python",
   "name": "python3"
  },
  "language_info": {
   "codemirror_mode": {
    "name": "ipython",
    "version": 3
   },
   "file_extension": ".py",
   "mimetype": "text/x-python",
   "name": "python",
   "nbconvert_exporter": "python",
   "pygments_lexer": "ipython3",
   "version": "3.7.12"
  },
  "papermill": {
   "default_parameters": {},
   "duration": 8.73185,
   "end_time": "2022-12-06T17:01:18.930141",
   "environment_variables": {},
   "exception": null,
   "input_path": "__notebook__.ipynb",
   "output_path": "__notebook__.ipynb",
   "parameters": {},
   "start_time": "2022-12-06T17:01:10.198291",
   "version": "2.3.4"
  }
 },
 "nbformat": 4,
 "nbformat_minor": 5
}
