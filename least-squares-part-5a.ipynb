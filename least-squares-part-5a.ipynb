{
 "cells": [
  {
   "cell_type": "code",
   "execution_count": 1,
   "id": "f5a55cd5",
   "metadata": {
    "_cell_guid": "b1076dfc-b9ad-4769-8c92-a6c4dae69d19",
    "_uuid": "8f2839f25d086af736a60e9eeb907d3b93b6e0e5",
    "execution": {
     "iopub.execute_input": "2023-01-04T17:04:24.322430Z",
     "iopub.status.busy": "2023-01-04T17:04:24.321816Z",
     "iopub.status.idle": "2023-01-04T17:04:24.334632Z",
     "shell.execute_reply": "2023-01-04T17:04:24.333651Z"
    },
    "papermill": {
     "duration": 0.024409,
     "end_time": "2023-01-04T17:04:24.337572",
     "exception": false,
     "start_time": "2023-01-04T17:04:24.313163",
     "status": "completed"
    },
    "tags": []
   },
   "outputs": [],
   "source": [
    "import pandas as pd\n",
    "import math\n",
    "import numpy as np\n",
    "import matplotlib.pyplot as plt"
   ]
  },
  {
   "cell_type": "markdown",
   "id": "bd9b2e11",
   "metadata": {
    "papermill": {
     "duration": 0.004692,
     "end_time": "2023-01-04T17:04:24.347675",
     "exception": false,
     "start_time": "2023-01-04T17:04:24.342983",
     "status": "completed"
    },
    "tags": []
   },
   "source": [
    "Write a function that takes as input two lists of numeric data and computes the least squares coefficients for a quadratic fit of the data. You will need to form the 3X3 matrix and the 3X1 column vector shown and on the previous slide. Use the same function that you used before when performing a linear least squares fit to invert the matrix and multiple the column vector. Use the data below to test your function."
   ]
  },
  {
   "cell_type": "code",
   "execution_count": 2,
   "id": "68770454",
   "metadata": {
    "execution": {
     "iopub.execute_input": "2023-01-04T17:04:24.360075Z",
     "iopub.status.busy": "2023-01-04T17:04:24.359422Z",
     "iopub.status.idle": "2023-01-04T17:04:24.365583Z",
     "shell.execute_reply": "2023-01-04T17:04:24.364411Z"
    },
    "papermill": {
     "duration": 0.015715,
     "end_time": "2023-01-04T17:04:24.368525",
     "exception": false,
     "start_time": "2023-01-04T17:04:24.352810",
     "status": "completed"
    },
    "tags": []
   },
   "outputs": [],
   "source": [
    "xlist1 =[-1.0,0.0,1.0,2.0,3.0,4.0,5.0,6.0]\n",
    "ylist1 = [10.0,6.0,2.0,1.0,0.0,2.0,4.0,7.0]\n",
    "\n",
    "x_ar = np.array(xlist1)\n",
    "y_ar = np.array(ylist1)"
   ]
  },
  {
   "cell_type": "code",
   "execution_count": 3,
   "id": "df9af747",
   "metadata": {
    "execution": {
     "iopub.execute_input": "2023-01-04T17:04:24.380470Z",
     "iopub.status.busy": "2023-01-04T17:04:24.380075Z",
     "iopub.status.idle": "2023-01-04T17:04:24.407775Z",
     "shell.execute_reply": "2023-01-04T17:04:24.406151Z"
    },
    "papermill": {
     "duration": 0.036726,
     "end_time": "2023-01-04T17:04:24.410219",
     "exception": false,
     "start_time": "2023-01-04T17:04:24.373493",
     "status": "completed"
    },
    "tags": []
   },
   "outputs": [],
   "source": [
    "def least_line(x, y):\n",
    "    x_sq = (x**2).sum()\n",
    "    x_sum = x.sum()\n",
    "    n = len(x)\n",
    "    sum_xy = (x*y).sum()\n",
    "    y_sum = y.sum()\n",
    "    \n",
    "    arr1 = [[x_sq, x_sum], [x_sum, n]]\n",
    "    arr2 = [sum_xy, y_sum]\n",
    "    \n",
    "    answer = np.linalg.solve(arr1, arr2)\n",
    "    return answer\n",
    "\n",
    "def least_quad(x, y):\n",
    "    x_4 = (x**4).sum()\n",
    "    x_3 = (x**3).sum()\n",
    "    x_sq = (x**2).sum()\n",
    "    x_sum = x.sum()\n",
    "    n = len(x)\n",
    "    sum_xy = (x*y).sum()\n",
    "    sum_sq = ((x**2)*y).sum()\n",
    "    y_sum = y.sum()\n",
    "    \n",
    "    arr1 = [[x_4, x_3,x_sq], [x_3,x_sq,x_sum],[x_sq,x_sum,n]]\n",
    "    arr2 = [sum_sq, sum_xy, y_sum]\n",
    "    \n",
    "    answer = np.linalg.solve(arr1, arr2)\n",
    "    return answer\n",
    "\n",
    "def slope_to_points(slope, intercept, point_nums):\n",
    "    list_x = []\n",
    "    list_y = []\n",
    "    for num in point_nums:\n",
    "        list_x.append(num)\n",
    "        y_point = slope * num + intercept\n",
    "        list_y.append(y_point)\n",
    "    return list_x, list_y\n",
    "\n",
    "def mean(data):\n",
    "    sum = 0\n",
    "    for val in data:\n",
    "        sum += val\n",
    "    average = sum/len(data)\n",
    "    return average\n",
    "\n",
    "def variance(data):\n",
    "    sum = 0\n",
    "    for num in data:\n",
    "        sum += (num - mean(data))**2\n",
    "    vari = sum/len(data)\n",
    "    return vari\n",
    "\n",
    "def stand_dev(data):\n",
    "    de = math.sqrt(variance(data))\n",
    "    return de\n",
    "\n",
    "def residuals(x_list, y_list, slope, intercept):\n",
    "    res_list = []\n",
    "\n",
    "    for item in range(0,len(x_list)):\n",
    "        res = y_list[item] - (slope * x_list[item] + intercept)\n",
    "        res_list.append(res)\n",
    "        \n",
    "    res_mean = mean(res_list)\n",
    "    res_deviation = stand_dev(res_list)\n",
    "    \n",
    "    return res_list, res_mean, res_deviation\n",
    "\n",
    "def rmse(y_list, least_y):\n",
    "    sum = 0\n",
    "    for num in range(0,len(least_y)):\n",
    "        sum += (y_list[num]-least_y[num])**2\n",
    "    sum = sum/2\n",
    "    final = np.sqrt(sum)\n",
    "    return final\n",
    "\n",
    "def line_graph(x_list, y_list, x_label = None, y_label = None, amount=1, colour='blue', mark=\"o\", line='-'):\n",
    "    '''amount is number of lines on a graph. if the amount is greater than one, submit lists of lists for the other three paramters. ex: amount=1, x_list=[1,2,3] or amount=2, x_list=[[1,2,3],[4,5,6]]'''\n",
    "    if amount >1:\n",
    "        for num in range(0, amount):\n",
    "            plt.plot(x_list[num], y_list[num], color=colour[num], marker=mark[num], linestyle=line[num])\n",
    "    else:\n",
    "        plt.plot(x_list, y_list, color=colour, marker=mark, linestyle=line)\n",
    "    plt.xlabel(x_label)\n",
    "    plt.ylabel(y_label)\n",
    "    plt.show()"
   ]
  },
  {
   "cell_type": "code",
   "execution_count": 4,
   "id": "5f59f5c9",
   "metadata": {
    "execution": {
     "iopub.execute_input": "2023-01-04T17:04:24.422204Z",
     "iopub.status.busy": "2023-01-04T17:04:24.421670Z",
     "iopub.status.idle": "2023-01-04T17:04:24.433453Z",
     "shell.execute_reply": "2023-01-04T17:04:24.431767Z"
    },
    "papermill": {
     "duration": 0.022687,
     "end_time": "2023-01-04T17:04:24.437843",
     "exception": false,
     "start_time": "2023-01-04T17:04:24.415156",
     "status": "completed"
    },
    "tags": []
   },
   "outputs": [
    {
     "name": "stdout",
     "output_type": "stream",
     "text": [
      "0.6666666666666662 -3.7142857142857117 5.619047619047618\n"
     ]
    }
   ],
   "source": [
    "x2,xcon, con = least_quad(x_ar,y_ar)\n",
    "print(x2,xcon, con)"
   ]
  },
  {
   "cell_type": "markdown",
   "id": "679f6b6f",
   "metadata": {
    "papermill": {
     "duration": 0.004718,
     "end_time": "2023-01-04T17:04:24.448467",
     "exception": false,
     "start_time": "2023-01-04T17:04:24.443749",
     "status": "completed"
    },
    "tags": []
   },
   "source": [
    "Write a function that plots the set of points used for the fit, the least squares fit, and the error bars based on the fit residuals. Use the data below to test your code. Approximate values for the least squares quadratic coefficients and a figure showing what the plot should look like are provided below.\n",
    "* y = ax^2 + bx + c"
   ]
  },
  {
   "cell_type": "code",
   "execution_count": 5,
   "id": "0cdc786c",
   "metadata": {
    "execution": {
     "iopub.execute_input": "2023-01-04T17:04:24.460527Z",
     "iopub.status.busy": "2023-01-04T17:04:24.460007Z",
     "iopub.status.idle": "2023-01-04T17:04:24.467337Z",
     "shell.execute_reply": "2023-01-04T17:04:24.465946Z"
    },
    "papermill": {
     "duration": 0.016316,
     "end_time": "2023-01-04T17:04:24.469847",
     "exception": false,
     "start_time": "2023-01-04T17:04:24.453531",
     "status": "completed"
    },
    "tags": []
   },
   "outputs": [],
   "source": [
    "def quad_line(a,b,c,points):\n",
    "    list_x = []\n",
    "    list_y = []\n",
    "    for num in points:\n",
    "        list_x.append(num)\n",
    "        y_point = (a*(num**2)) + (b*num) + c\n",
    "        list_y.append(y_point)\n",
    "    return list_x, list_y"
   ]
  },
  {
   "cell_type": "code",
   "execution_count": 6,
   "id": "cf11ff09",
   "metadata": {
    "execution": {
     "iopub.execute_input": "2023-01-04T17:04:24.481820Z",
     "iopub.status.busy": "2023-01-04T17:04:24.481312Z",
     "iopub.status.idle": "2023-01-04T17:04:24.488664Z",
     "shell.execute_reply": "2023-01-04T17:04:24.487113Z"
    },
    "papermill": {
     "duration": 0.01706,
     "end_time": "2023-01-04T17:04:24.491814",
     "exception": false,
     "start_time": "2023-01-04T17:04:24.474754",
     "status": "completed"
    },
    "tags": []
   },
   "outputs": [
    {
     "name": "stdout",
     "output_type": "stream",
     "text": [
      "[-1.0, 0.0, 1.0, 2.0, 3.0, 4.0, 5.0, 6.0] [9.999999999999996, 5.619047619047618, 2.571428571428572, 0.8571428571428585, 0.47619047619047805, 1.4285714285714297, 3.7142857142857126, 7.3333333333333295]\n"
     ]
    }
   ],
   "source": [
    "xes, yes = quad_line(x2,xcon, con, xlist1)\n",
    "print(xes, yes)"
   ]
  },
  {
   "cell_type": "code",
   "execution_count": 7,
   "id": "24f09786",
   "metadata": {
    "execution": {
     "iopub.execute_input": "2023-01-04T17:04:24.504726Z",
     "iopub.status.busy": "2023-01-04T17:04:24.504248Z",
     "iopub.status.idle": "2023-01-04T17:04:24.764456Z",
     "shell.execute_reply": "2023-01-04T17:04:24.762960Z"
    },
    "papermill": {
     "duration": 0.269916,
     "end_time": "2023-01-04T17:04:24.767361",
     "exception": false,
     "start_time": "2023-01-04T17:04:24.497445",
     "status": "completed"
    },
    "tags": []
   },
   "outputs": [
    {
     "data": {
      "image/png": "[encoded data removed]",
      "text/plain": [
       "<Figure size 432x288 with 1 Axes>"
      ]
     },
     "metadata": {
      "needs_background": "light"
     },
     "output_type": "display_data"
    }
   ],
   "source": [
    "confidence = 1\n",
    "\n",
    "res, resmean, resdev = residuals(xes,yes,(x2 + xcon), con)\n",
    "\n",
    "ubx, uby = quad_line(x2, xcon, con + (resmean + confidence * resdev), xlist1)\n",
    "lbx, lby = quad_line(x2, xcon, con - (resmean + confidence * resdev), xlist1)\n",
    "\n",
    "line_graph([xlist1, xes, ubx, lbx], [ylist1, yes, uby, lby], x_label = \"X data\", y_label = \"Y data\", amount=4, colour=['green', 'blue', 'red', 'red'], mark=['*', \"\",\"\", ''], line=['', '-', '--', '--'])"
   ]
  },
  {
   "cell_type": "markdown",
   "id": "153cb805",
   "metadata": {
    "papermill": {
     "duration": 0.00507,
     "end_time": "2023-01-04T17:04:24.777992",
     "exception": false,
     "start_time": "2023-01-04T17:04:24.772922",
     "status": "completed"
    },
    "tags": []
   },
   "source": [
    "Exercise 5b   ->   Write a function that takes as input three lists of numeric data, one each for x1, x2, and y, and\n",
    "computes the least squares coefficients for a bilinear fit of the data."
   ]
  },
  {
   "cell_type": "markdown",
   "id": "2bba820c",
   "metadata": {
    "papermill": {
     "duration": 0.004869,
     "end_time": "2023-01-04T17:04:24.788240",
     "exception": false,
     "start_time": "2023-01-04T17:04:24.783371",
     "status": "completed"
    },
    "tags": []
   },
   "source": [
    "Write a function that takes as input three lists of numeric data, one each for x1, x2, and y, and computes the least squares coefficients for a bilinear fit of the data. You will need to form the 3X3 matrix and the 3X1 column vector shown and on the previous slide. Use the same function that you used before when performing a linear least squares fit to invert the matrix and multiple the column vector. Use the data below to test your function."
   ]
  },
  {
   "cell_type": "code",
   "execution_count": 8,
   "id": "551d97d2",
   "metadata": {
    "execution": {
     "iopub.execute_input": "2023-01-04T17:04:24.800835Z",
     "iopub.status.busy": "2023-01-04T17:04:24.800347Z",
     "iopub.status.idle": "2023-01-04T17:04:24.807928Z",
     "shell.execute_reply": "2023-01-04T17:04:24.806661Z"
    },
    "papermill": {
     "duration": 0.016853,
     "end_time": "2023-01-04T17:04:24.810343",
     "exception": false,
     "start_time": "2023-01-04T17:04:24.793490",
     "status": "completed"
    },
    "tags": []
   },
   "outputs": [],
   "source": [
    "x1 = [-1.2 , 0.2 , 1.0 , 2.5 , 4.0 , 5.6]\n",
    "x2 = [-2.3 , 1.0 , 3.5 , 4.1 , 7.4 , 6.1]\n",
    "y1= [-6.0 , 9.0 , 20.0 , 27.0 , 45.0 , 44.0 ]\n",
    "\n",
    "x1_ar = np.array(x1)\n",
    "x2_ar = np.array(x2)\n",
    "y1_ar = np.array(y1)"
   ]
  },
  {
   "cell_type": "code",
   "execution_count": 9,
   "id": "25dda30f",
   "metadata": {
    "execution": {
     "iopub.execute_input": "2023-01-04T17:04:24.823631Z",
     "iopub.status.busy": "2023-01-04T17:04:24.823189Z",
     "iopub.status.idle": "2023-01-04T17:04:24.831224Z",
     "shell.execute_reply": "2023-01-04T17:04:24.830048Z"
    },
    "papermill": {
     "duration": 0.017617,
     "end_time": "2023-01-04T17:04:24.833646",
     "exception": false,
     "start_time": "2023-01-04T17:04:24.816029",
     "status": "completed"
    },
    "tags": []
   },
   "outputs": [],
   "source": [
    "def least_quad_3(x, x_two, y):\n",
    "    x1_sq = (x**2).sum()\n",
    "    x1_2_sum = (x * x_two).sum()\n",
    "    x2_sq = (x_two**2).sum()\n",
    "    sum_x = x.sum()\n",
    "    sum_x2 = x_two.sum()\n",
    "    n = len(x)\n",
    "    sum_xy = (x*y).sum()\n",
    "    sum_x2y = (x_two * y).sum()\n",
    "    y_sum = y.sum()\n",
    "    \n",
    "    arr1 = [[x1_sq, x1_2_sum,sum_x], [x1_2_sum,x2_sq,sum_x2],[sum_x,sum_x2,n]]\n",
    "    arr2 = [sum_xy, sum_x2y, y_sum]\n",
    "    \n",
    "    answer = np.linalg.solve(arr1, arr2)\n",
    "    return answer"
   ]
  },
  {
   "cell_type": "code",
   "execution_count": 10,
   "id": "597d7f1f",
   "metadata": {
    "execution": {
     "iopub.execute_input": "2023-01-04T17:04:24.847232Z",
     "iopub.status.busy": "2023-01-04T17:04:24.846825Z",
     "iopub.status.idle": "2023-01-04T17:04:24.853001Z",
     "shell.execute_reply": "2023-01-04T17:04:24.851869Z"
    },
    "papermill": {
     "duration": 0.01563,
     "end_time": "2023-01-04T17:04:24.855268",
     "exception": false,
     "start_time": "2023-01-04T17:04:24.839638",
     "status": "completed"
    },
    "tags": []
   },
   "outputs": [
    {
     "name": "stdout",
     "output_type": "stream",
     "text": [
      "3.120770372792129 3.5444331895289944 5.176483556090194\n"
     ]
    }
   ],
   "source": [
    "co_x, co_x2, co_con = least_quad_3(x1_ar, x2_ar, y1_ar)\n",
    "print(co_x, co_x2, co_con)"
   ]
  },
  {
   "cell_type": "markdown",
   "id": "0489e182",
   "metadata": {
    "papermill": {
     "duration": 0.006741,
     "end_time": "2023-01-04T17:04:24.867719",
     "exception": false,
     "start_time": "2023-01-04T17:04:24.860978",
     "status": "completed"
    },
    "tags": []
   },
   "source": [
    "After you have finished the above exercise and verified that your code is correct, go and back and try\n",
    "constructing a bi-linear fit to the baseball winning percentage that uses both your best correlating hitting and\n",
    "pitching estimators. Does the bi-linear fit give a better result ? Use the RMS and R2 statistics to support your conclusion."
   ]
  },
  {
   "cell_type": "code",
   "execution_count": 11,
   "id": "f85fc1ce",
   "metadata": {
    "execution": {
     "iopub.execute_input": "2023-01-04T17:04:24.880719Z",
     "iopub.status.busy": "2023-01-04T17:04:24.880311Z",
     "iopub.status.idle": "2023-01-04T17:04:24.949946Z",
     "shell.execute_reply": "2023-01-04T17:04:24.948575Z"
    },
    "papermill": {
     "duration": 0.07938,
     "end_time": "2023-01-04T17:04:24.952756",
     "exception": false,
     "start_time": "2023-01-04T17:04:24.873376",
     "status": "completed"
    },
    "tags": []
   },
   "outputs": [
    {
     "data": {
      "text/html": [
       "<div>\n",
       "<style scoped>\n",
       "    .dataframe tbody tr th:only-of-type {\n",
       "        vertical-align: middle;\n",
       "    }\n",
       "\n",
       "    .dataframe tbody tr th {\n",
       "        vertical-align: top;\n",
       "    }\n",
       "\n",
       "    .dataframe thead th {\n",
       "        text-align: right;\n",
       "    }\n",
       "</style>\n",
       "<table border=\"1\" class=\"dataframe\">\n",
       "  <thead>\n",
       "    <tr style=\"text-align: right;\">\n",
       "      <th></th>\n",
       "      <th>#</th>\n",
       "      <th>Team</th>\n",
       "      <th>G</th>\n",
       "      <th>PA</th>\n",
       "      <th>AB</th>\n",
       "      <th>R</th>\n",
       "      <th>H</th>\n",
       "      <th>2B</th>\n",
       "      <th>3B</th>\n",
       "      <th>HR</th>\n",
       "      <th>RBI</th>\n",
       "      <th>SB</th>\n",
       "      <th>CS</th>\n",
       "      <th>SO</th>\n",
       "      <th>BB</th>\n",
       "      <th>AVG</th>\n",
       "      <th>OBP</th>\n",
       "      <th>SLG</th>\n",
       "      <th>OPS</th>\n",
       "      <th>WPCT</th>\n",
       "    </tr>\n",
       "  </thead>\n",
       "  <tbody>\n",
       "    <tr>\n",
       "      <th>11</th>\n",
       "      <td>12</td>\n",
       "      <td>Orioles_Baltimore</td>\n",
       "      <td>162</td>\n",
       "      <td>6034</td>\n",
       "      <td>5507</td>\n",
       "      <td>622</td>\n",
       "      <td>1317</td>\n",
       "      <td>242</td>\n",
       "      <td>15</td>\n",
       "      <td>188</td>\n",
       "      <td>593</td>\n",
       "      <td>81</td>\n",
       "      <td>22</td>\n",
       "      <td>1412</td>\n",
       "      <td>403</td>\n",
       "      <td>0.239</td>\n",
       "      <td>0.298</td>\n",
       "      <td>0.391</td>\n",
       "      <td>0.689</td>\n",
       "      <td>0.290</td>\n",
       "    </tr>\n",
       "    <tr>\n",
       "      <th>5</th>\n",
       "      <td>6</td>\n",
       "      <td>Royals_Kansas_City</td>\n",
       "      <td>162</td>\n",
       "      <td>6063</td>\n",
       "      <td>5505</td>\n",
       "      <td>638</td>\n",
       "      <td>1350</td>\n",
       "      <td>283</td>\n",
       "      <td>29</td>\n",
       "      <td>155</td>\n",
       "      <td>606</td>\n",
       "      <td>117</td>\n",
       "      <td>38</td>\n",
       "      <td>1310</td>\n",
       "      <td>414</td>\n",
       "      <td>0.245</td>\n",
       "      <td>0.305</td>\n",
       "      <td>0.392</td>\n",
       "      <td>0.697</td>\n",
       "      <td>0.358</td>\n",
       "    </tr>\n",
       "    <tr>\n",
       "      <th>6</th>\n",
       "      <td>7</td>\n",
       "      <td>White_Sox_Chicago</td>\n",
       "      <td>162</td>\n",
       "      <td>6071</td>\n",
       "      <td>5523</td>\n",
       "      <td>656</td>\n",
       "      <td>1332</td>\n",
       "      <td>259</td>\n",
       "      <td>40</td>\n",
       "      <td>182</td>\n",
       "      <td>639</td>\n",
       "      <td>98</td>\n",
       "      <td>41</td>\n",
       "      <td>1594</td>\n",
       "      <td>407</td>\n",
       "      <td>0.241</td>\n",
       "      <td>0.302</td>\n",
       "      <td>0.401</td>\n",
       "      <td>0.703</td>\n",
       "      <td>0.383</td>\n",
       "    </tr>\n",
       "    <tr>\n",
       "      <th>28</th>\n",
       "      <td>29</td>\n",
       "      <td>Marlins_Miami</td>\n",
       "      <td>161</td>\n",
       "      <td>6083</td>\n",
       "      <td>5488</td>\n",
       "      <td>589</td>\n",
       "      <td>1303</td>\n",
       "      <td>222</td>\n",
       "      <td>24</td>\n",
       "      <td>128</td>\n",
       "      <td>554</td>\n",
       "      <td>45</td>\n",
       "      <td>31</td>\n",
       "      <td>1384</td>\n",
       "      <td>429</td>\n",
       "      <td>0.237</td>\n",
       "      <td>0.303</td>\n",
       "      <td>0.357</td>\n",
       "      <td>0.660</td>\n",
       "      <td>0.391</td>\n",
       "    </tr>\n",
       "    <tr>\n",
       "      <th>20</th>\n",
       "      <td>21</td>\n",
       "      <td>Tigers_Detroit</td>\n",
       "      <td>162</td>\n",
       "      <td>6029</td>\n",
       "      <td>5494</td>\n",
       "      <td>630</td>\n",
       "      <td>1326</td>\n",
       "      <td>284</td>\n",
       "      <td>35</td>\n",
       "      <td>135</td>\n",
       "      <td>597</td>\n",
       "      <td>70</td>\n",
       "      <td>30</td>\n",
       "      <td>1341</td>\n",
       "      <td>410</td>\n",
       "      <td>0.241</td>\n",
       "      <td>0.300</td>\n",
       "      <td>0.380</td>\n",
       "      <td>0.680</td>\n",
       "      <td>0.395</td>\n",
       "    </tr>\n",
       "  </tbody>\n",
       "</table>\n",
       "</div>"
      ],
      "text/plain": [
       "     #                Team    G    PA    AB    R     H   2B  3B   HR  RBI  \\\n",
       "11  12   Orioles_Baltimore  162  6034  5507  622  1317  242  15  188  593   \n",
       "5    6  Royals_Kansas_City  162  6063  5505  638  1350  283  29  155  606   \n",
       "6    7   White_Sox_Chicago  162  6071  5523  656  1332  259  40  182  639   \n",
       "28  29       Marlins_Miami  161  6083  5488  589  1303  222  24  128  554   \n",
       "20  21      Tigers_Detroit  162  6029  5494  630  1326  284  35  135  597   \n",
       "\n",
       "     SB  CS    SO   BB    AVG    OBP    SLG    OPS   WPCT  \n",
       "11   81  22  1412  403  0.239  0.298  0.391  0.689  0.290  \n",
       "5   117  38  1310  414  0.245  0.305  0.392  0.697  0.358  \n",
       "6    98  41  1594  407  0.241  0.302  0.401  0.703  0.383  \n",
       "28   45  31  1384  429  0.237  0.303  0.357  0.660  0.391  \n",
       "20   70  30  1341  410  0.241  0.300  0.380  0.680  0.395  "
      ]
     },
     "execution_count": 11,
     "metadata": {},
     "output_type": "execute_result"
    }
   ],
   "source": [
    "path_pitch = \"/kaggle/input/pitching/2018_MLB_Pitching_Stats_II.txt\"\n",
    "pitch=pd.read_csv(path_pitch, delim_whitespace = True)\n",
    "pitch.sort_values(\"WPCT\", inplace=True)\n",
    "\n",
    "path_hit = \"/kaggle/input/hitting/2018_MLB_Hitting_Stats.txt\"\n",
    "hitting = pd.read_csv(path_hit, delim_whitespace=True)\n",
    "hitting.sort_values(\"WPCT\", inplace=True)\n",
    "hitting.head()"
   ]
  },
  {
   "cell_type": "code",
   "execution_count": 12,
   "id": "5127beee",
   "metadata": {
    "execution": {
     "iopub.execute_input": "2023-01-04T17:04:24.966544Z",
     "iopub.status.busy": "2023-01-04T17:04:24.966049Z",
     "iopub.status.idle": "2023-01-04T17:04:24.992504Z",
     "shell.execute_reply": "2023-01-04T17:04:24.991152Z"
    },
    "papermill": {
     "duration": 0.036504,
     "end_time": "2023-01-04T17:04:24.995175",
     "exception": false,
     "start_time": "2023-01-04T17:04:24.958671",
     "status": "completed"
    },
    "tags": []
   },
   "outputs": [
    {
     "data": {
      "text/html": [
       "<div>\n",
       "<style scoped>\n",
       "    .dataframe tbody tr th:only-of-type {\n",
       "        vertical-align: middle;\n",
       "    }\n",
       "\n",
       "    .dataframe tbody tr th {\n",
       "        vertical-align: top;\n",
       "    }\n",
       "\n",
       "    .dataframe thead th {\n",
       "        text-align: right;\n",
       "    }\n",
       "</style>\n",
       "<table border=\"1\" class=\"dataframe\">\n",
       "  <thead>\n",
       "    <tr style=\"text-align: right;\">\n",
       "      <th></th>\n",
       "      <th>#</th>\n",
       "      <th>Team</th>\n",
       "      <th>G</th>\n",
       "      <th>IP</th>\n",
       "      <th>H</th>\n",
       "      <th>ER</th>\n",
       "      <th>HR</th>\n",
       "      <th>BB</th>\n",
       "      <th>SO</th>\n",
       "      <th>WHIP</th>\n",
       "      <th>H/9</th>\n",
       "      <th>BB/9</th>\n",
       "      <th>HR/9</th>\n",
       "      <th>SO/9</th>\n",
       "      <th>SO/BB</th>\n",
       "      <th>GB/FB</th>\n",
       "      <th>HR/FB</th>\n",
       "      <th>ERC</th>\n",
       "      <th>ERA</th>\n",
       "      <th>WPCT</th>\n",
       "    </tr>\n",
       "  </thead>\n",
       "  <tbody>\n",
       "    <tr>\n",
       "      <th>0</th>\n",
       "      <td>1</td>\n",
       "      <td>Orioles_Baltimore</td>\n",
       "      <td>162</td>\n",
       "      <td>1431.0</td>\n",
       "      <td>1552</td>\n",
       "      <td>825</td>\n",
       "      <td>234</td>\n",
       "      <td>589</td>\n",
       "      <td>1203</td>\n",
       "      <td>1.50</td>\n",
       "      <td>9.8</td>\n",
       "      <td>3.7</td>\n",
       "      <td>1.5</td>\n",
       "      <td>7.6</td>\n",
       "      <td>2.15</td>\n",
       "      <td>1.83</td>\n",
       "      <td>0.222</td>\n",
       "      <td>5.26</td>\n",
       "      <td>5.19</td>\n",
       "      <td>0.290</td>\n",
       "    </tr>\n",
       "    <tr>\n",
       "      <th>1</th>\n",
       "      <td>2</td>\n",
       "      <td>Royals_Kansas_City</td>\n",
       "      <td>162</td>\n",
       "      <td>1432.0</td>\n",
       "      <td>1542</td>\n",
       "      <td>787</td>\n",
       "      <td>205</td>\n",
       "      <td>549</td>\n",
       "      <td>1157</td>\n",
       "      <td>1.46</td>\n",
       "      <td>9.7</td>\n",
       "      <td>3.5</td>\n",
       "      <td>1.3</td>\n",
       "      <td>7.3</td>\n",
       "      <td>2.22</td>\n",
       "      <td>1.90</td>\n",
       "      <td>0.196</td>\n",
       "      <td>4.89</td>\n",
       "      <td>4.95</td>\n",
       "      <td>0.358</td>\n",
       "    </tr>\n",
       "    <tr>\n",
       "      <th>8</th>\n",
       "      <td>9</td>\n",
       "      <td>White_Sox_Chicago</td>\n",
       "      <td>162</td>\n",
       "      <td>1437.0</td>\n",
       "      <td>1404</td>\n",
       "      <td>774</td>\n",
       "      <td>196</td>\n",
       "      <td>653</td>\n",
       "      <td>1259</td>\n",
       "      <td>1.43</td>\n",
       "      <td>8.8</td>\n",
       "      <td>4.1</td>\n",
       "      <td>1.2</td>\n",
       "      <td>7.9</td>\n",
       "      <td>2.01</td>\n",
       "      <td>1.66</td>\n",
       "      <td>0.181</td>\n",
       "      <td>4.63</td>\n",
       "      <td>4.85</td>\n",
       "      <td>0.383</td>\n",
       "    </tr>\n",
       "    <tr>\n",
       "      <th>10</th>\n",
       "      <td>11</td>\n",
       "      <td>Marlins_Miami</td>\n",
       "      <td>161</td>\n",
       "      <td>1442.0</td>\n",
       "      <td>1388</td>\n",
       "      <td>763</td>\n",
       "      <td>192</td>\n",
       "      <td>605</td>\n",
       "      <td>1249</td>\n",
       "      <td>1.38</td>\n",
       "      <td>8.7</td>\n",
       "      <td>3.8</td>\n",
       "      <td>1.2</td>\n",
       "      <td>7.8</td>\n",
       "      <td>2.35</td>\n",
       "      <td>1.71</td>\n",
       "      <td>0.181</td>\n",
       "      <td>4.31</td>\n",
       "      <td>4.76</td>\n",
       "      <td>0.391</td>\n",
       "    </tr>\n",
       "    <tr>\n",
       "      <th>7</th>\n",
       "      <td>8</td>\n",
       "      <td>Tigers_Detroit</td>\n",
       "      <td>162</td>\n",
       "      <td>1425.1</td>\n",
       "      <td>1423</td>\n",
       "      <td>728</td>\n",
       "      <td>216</td>\n",
       "      <td>491</td>\n",
       "      <td>1215</td>\n",
       "      <td>1.34</td>\n",
       "      <td>9.0</td>\n",
       "      <td>3.1</td>\n",
       "      <td>1.4</td>\n",
       "      <td>7.7</td>\n",
       "      <td>2.58</td>\n",
       "      <td>1.60</td>\n",
       "      <td>0.194</td>\n",
       "      <td>4.35</td>\n",
       "      <td>4.60</td>\n",
       "      <td>0.395</td>\n",
       "    </tr>\n",
       "  </tbody>\n",
       "</table>\n",
       "</div>"
      ],
      "text/plain": [
       "     #                Team    G      IP     H   ER   HR   BB    SO  WHIP  H/9  \\\n",
       "0    1   Orioles_Baltimore  162  1431.0  1552  825  234  589  1203  1.50  9.8   \n",
       "1    2  Royals_Kansas_City  162  1432.0  1542  787  205  549  1157  1.46  9.7   \n",
       "8    9   White_Sox_Chicago  162  1437.0  1404  774  196  653  1259  1.43  8.8   \n",
       "10  11       Marlins_Miami  161  1442.0  1388  763  192  605  1249  1.38  8.7   \n",
       "7    8      Tigers_Detroit  162  1425.1  1423  728  216  491  1215  1.34  9.0   \n",
       "\n",
       "    BB/9  HR/9  SO/9  SO/BB  GB/FB  HR/FB   ERC   ERA   WPCT  \n",
       "0    3.7   1.5   7.6   2.15   1.83  0.222  5.26  5.19  0.290  \n",
       "1    3.5   1.3   7.3   2.22   1.90  0.196  4.89  4.95  0.358  \n",
       "8    4.1   1.2   7.9   2.01   1.66  0.181  4.63  4.85  0.383  \n",
       "10   3.8   1.2   7.8   2.35   1.71  0.181  4.31  4.76  0.391  \n",
       "7    3.1   1.4   7.7   2.58   1.60  0.194  4.35  4.60  0.395  "
      ]
     },
     "execution_count": 12,
     "metadata": {},
     "output_type": "execute_result"
    }
   ],
   "source": [
    "pitch.head()"
   ]
  },
  {
   "cell_type": "code",
   "execution_count": 13,
   "id": "5579ce91",
   "metadata": {
    "execution": {
     "iopub.execute_input": "2023-01-04T17:04:25.011433Z",
     "iopub.status.busy": "2023-01-04T17:04:25.010933Z",
     "iopub.status.idle": "2023-01-04T17:04:25.030046Z",
     "shell.execute_reply": "2023-01-04T17:04:25.028436Z"
    },
    "papermill": {
     "duration": 0.031583,
     "end_time": "2023-01-04T17:04:25.033167",
     "exception": false,
     "start_time": "2023-01-04T17:04:25.001584",
     "status": "completed"
    },
    "tags": []
   },
   "outputs": [
    {
     "name": "stdout",
     "output_type": "stream",
     "text": [
      "3.120770372792129 3.5444331895289944 5.176483556090194\n",
      "2.7790308303764393 0.5134866372617151\n"
     ]
    }
   ],
   "source": [
    "co_so, co_rbi, co_win = least_quad_3(pitch[\"SO\"], hitting[\"RBI\"], hitting[\"WPCT\"])\n",
    "\n",
    "pitch_x, pitch_y = slope_to_points(co_so, co_win, pitch[\"SO\"]) \n",
    "err_pitch = rmse(hitting[\"WPCT\"], pitch_y) #way bigger error than before, .2 -> 2.7\n",
    "\n",
    "hit_x, hit_y = slope_to_points(co_rbi, co_win, hitting[\"RBI\"])\n",
    "err_hit = rmse(hitting[\"WPCT\"], hit_y) #bigger error too, .3 -> .5\n",
    "\n",
    "print(co_x, co_x2, co_con) #the pitch coefficient is still less than the hitting coefficient\n",
    "print(err_pitch, err_hit)"
   ]
  }
 ],
 "metadata": {
  "kernelspec": {
   "display_name": "Python 3",
   "language": "python",
   "name": "python3"
  },
  "language_info": {
   "codemirror_mode": {
    "name": "ipython",
    "version": 3
   },
   "file_extension": ".py",
   "mimetype": "text/x-python",
   "name": "python",
   "nbconvert_exporter": "python",
   "pygments_lexer": "ipython3",
   "version": "3.7.12"
  },
  "papermill": {
   "default_parameters": {},
   "duration": 11.108565,
   "end_time": "2023-01-04T17:04:25.965182",
   "environment_variables": {},
   "exception": null,
   "input_path": "__notebook__.ipynb",
   "output_path": "__notebook__.ipynb",
   "parameters": {},
   "start_time": "2023-01-04T17:04:14.856617",
   "version": "2.3.4"
  }
 },
 "nbformat": 4,
 "nbformat_minor": 5
}
