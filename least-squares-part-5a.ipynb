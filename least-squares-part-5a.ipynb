{
 "cells": [
  {
   "cell_type": "code",
   "execution_count": 1,
   "id": "99234d18",
   "metadata": {
    "_cell_guid": "b1076dfc-b9ad-4769-8c92-a6c4dae69d19",
    "_uuid": "8f2839f25d086af736a60e9eeb907d3b93b6e0e5",
    "execution": {
     "iopub.execute_input": "2022-12-22T02:33:44.337248Z",
     "iopub.status.busy": "2022-12-22T02:33:44.336571Z",
     "iopub.status.idle": "2022-12-22T02:33:44.348440Z",
     "shell.execute_reply": "2022-12-22T02:33:44.347147Z"
    },
    "papermill": {
     "duration": 0.020913,
     "end_time": "2022-12-22T02:33:44.351291",
     "exception": false,
     "start_time": "2022-12-22T02:33:44.330378",
     "status": "completed"
    },
    "tags": []
   },
   "outputs": [],
   "source": [
    "import pandas as pd\n",
    "import math\n",
    "import numpy as np\n",
    "import matplotlib.pyplot as plt"
   ]
  },
  {
   "cell_type": "markdown",
   "id": "80194d59",
   "metadata": {
    "papermill": {
     "duration": 0.003424,
     "end_time": "2022-12-22T02:33:44.358351",
     "exception": false,
     "start_time": "2022-12-22T02:33:44.354927",
     "status": "completed"
    },
    "tags": []
   },
   "source": [
    "Write a function that takes as input two lists of numeric data and computes the least squares coefficients for a quadratic fit of the data. You will need to form the 3X3 matrix and the 3X1 column vector shown and on the previous slide. Use the same function that you used before when performing a linear least squares fit to invert the matrix and multiple the column vector. Use the data below to test your function."
   ]
  },
  {
   "cell_type": "code",
   "execution_count": 2,
   "id": "b7d347e4",
   "metadata": {
    "execution": {
     "iopub.execute_input": "2022-12-22T02:33:44.367749Z",
     "iopub.status.busy": "2022-12-22T02:33:44.367274Z",
     "iopub.status.idle": "2022-12-22T02:33:44.373879Z",
     "shell.execute_reply": "2022-12-22T02:33:44.372809Z"
    },
    "papermill": {
     "duration": 0.014704,
     "end_time": "2022-12-22T02:33:44.376712",
     "exception": false,
     "start_time": "2022-12-22T02:33:44.362008",
     "status": "completed"
    },
    "tags": []
   },
   "outputs": [],
   "source": [
    "xlist1 =[-1.0,0.0,1.0,2.0,3.0,4.0,5.0,6.0]\n",
    "ylist1 = [10.0,6.0,2.0,1.0,0.0,2.0,4.0,7.0]\n",
    "\n",
    "x_ar = np.array(xlist1)\n",
    "y_ar = np.array(ylist1)"
   ]
  },
  {
   "cell_type": "code",
   "execution_count": 3,
   "id": "d90323d5",
   "metadata": {
    "execution": {
     "iopub.execute_input": "2022-12-22T02:33:44.385452Z",
     "iopub.status.busy": "2022-12-22T02:33:44.385026Z",
     "iopub.status.idle": "2022-12-22T02:33:44.411369Z",
     "shell.execute_reply": "2022-12-22T02:33:44.410138Z"
    },
    "papermill": {
     "duration": 0.034217,
     "end_time": "2022-12-22T02:33:44.414295",
     "exception": false,
     "start_time": "2022-12-22T02:33:44.380078",
     "status": "completed"
    },
    "tags": []
   },
   "outputs": [],
   "source": [
    "def least_line(x, y):\n",
    "    x_sq = (x**2).sum()\n",
    "    x_sum = x.sum()\n",
    "    n = len(x)\n",
    "    sum_xy = (x*y).sum()\n",
    "    y_sum = y.sum()\n",
    "    \n",
    "    arr1 = [[x_sq, x_sum], [x_sum, n]]\n",
    "    arr2 = [sum_xy, y_sum]\n",
    "    \n",
    "    answer = np.linalg.solve(arr1, arr2)\n",
    "    return answer\n",
    "\n",
    "def least_quad(x, y):\n",
    "    x_4 = (x**4).sum()\n",
    "    x_3 = (x**3).sum()\n",
    "    x_sq = (x**2).sum()\n",
    "    x_sum = x.sum()\n",
    "    n = len(x)\n",
    "    sum_xy = (x*y).sum()\n",
    "    sum_sq = ((x**2)*y).sum()\n",
    "    y_sum = y.sum()\n",
    "    \n",
    "    arr1 = [[x_4, x_3,x_sq], [x_3,x_sq,x_sum],[x_sq,x_sum,n]]\n",
    "    arr2 = [sum_sq, sum_xy, y_sum]\n",
    "    \n",
    "    answer = np.linalg.solve(arr1, arr2)\n",
    "    return answer\n",
    "\n",
    "def slope_to_points(slope, intercept, point_nums):\n",
    "    list_x = []\n",
    "    list_y = []\n",
    "    for num in point_nums:\n",
    "        list_x.append(num)\n",
    "        y_point = slope * num + intercept\n",
    "        list_y.append(y_point)\n",
    "    return list_x, list_y\n",
    "\n",
    "def mean(data):\n",
    "    sum = 0\n",
    "    for val in data:\n",
    "        sum += val\n",
    "    average = sum/len(data)\n",
    "    return average\n",
    "\n",
    "def variance(data):\n",
    "    sum = 0\n",
    "    for num in data:\n",
    "        sum += (num - mean(data))**2\n",
    "    vari = sum/len(data)\n",
    "    return vari\n",
    "\n",
    "def stand_dev(data):\n",
    "    de = math.sqrt(variance(data))\n",
    "    return de\n",
    "\n",
    "def residuals(x_list, y_list, slope, intercept):\n",
    "    res_list = []\n",
    "\n",
    "    for item in range(0,len(x_list)):\n",
    "        res = y_list[item] - (slope * x_list[item] + intercept)\n",
    "        res_list.append(res)\n",
    "        \n",
    "    res_mean = mean(res_list)\n",
    "    res_deviation = stand_dev(res_list)\n",
    "    \n",
    "    return res_list, res_mean, res_deviation\n",
    "\n",
    "def line_graph(x_list, y_list, x_label = None, y_label = None, amount=1, colour='blue', mark=\"o\", line='-'):\n",
    "    '''amount is number of lines on a graph. if the amount is greater than one, submit lists of lists for the other three paramters. ex: amount=1, x_list=[1,2,3] or amount=2, x_list=[[1,2,3],[4,5,6]]'''\n",
    "    if amount >1:\n",
    "        for num in range(0, amount):\n",
    "            plt.plot(x_list[num], y_list[num], color=colour[num], marker=mark[num], linestyle=line[num])\n",
    "    else:\n",
    "        plt.plot(x_list, y_list, color=colour, marker=mark, linestyle=line)\n",
    "    plt.xlabel(x_label)\n",
    "    plt.ylabel(y_label)\n",
    "    plt.show()"
   ]
  },
  {
   "cell_type": "code",
   "execution_count": 4,
   "id": "d3be788e",
   "metadata": {
    "execution": {
     "iopub.execute_input": "2022-12-22T02:33:44.423142Z",
     "iopub.status.busy": "2022-12-22T02:33:44.422731Z",
     "iopub.status.idle": "2022-12-22T02:33:44.431948Z",
     "shell.execute_reply": "2022-12-22T02:33:44.430748Z"
    },
    "papermill": {
     "duration": 0.018034,
     "end_time": "2022-12-22T02:33:44.435870",
     "exception": false,
     "start_time": "2022-12-22T02:33:44.417836",
     "status": "completed"
    },
    "tags": []
   },
   "outputs": [
    {
     "name": "stdout",
     "output_type": "stream",
     "text": [
      "0.6666666666666662 -3.7142857142857117 5.619047619047618\n"
     ]
    }
   ],
   "source": [
    "x2,xcon, con = least_quad(x_ar,y_ar)\n",
    "print(x2,xcon, con)"
   ]
  },
  {
   "cell_type": "markdown",
   "id": "33b3b571",
   "metadata": {
    "papermill": {
     "duration": 0.003011,
     "end_time": "2022-12-22T02:33:44.442508",
     "exception": false,
     "start_time": "2022-12-22T02:33:44.439497",
     "status": "completed"
    },
    "tags": []
   },
   "source": [
    "Write a function that plots the set of points used for the fit, the least squares fit, and the error bars based on the fit residuals. Use the data below to test your code. Approximate values for the least squares quadratic coefficients and a figure showing what the plot should look like are provided below.\n",
    "* y = ax^2 + bx + c"
   ]
  },
  {
   "cell_type": "code",
   "execution_count": 5,
   "id": "594aec22",
   "metadata": {
    "execution": {
     "iopub.execute_input": "2022-12-22T02:33:44.451120Z",
     "iopub.status.busy": "2022-12-22T02:33:44.450372Z",
     "iopub.status.idle": "2022-12-22T02:33:44.457491Z",
     "shell.execute_reply": "2022-12-22T02:33:44.456178Z"
    },
    "papermill": {
     "duration": 0.014781,
     "end_time": "2022-12-22T02:33:44.460488",
     "exception": false,
     "start_time": "2022-12-22T02:33:44.445707",
     "status": "completed"
    },
    "tags": []
   },
   "outputs": [],
   "source": [
    "def quad_line(a,b,c,points):\n",
    "    list_x = []\n",
    "    list_y = []\n",
    "    for num in points:\n",
    "        list_x.append(num)\n",
    "        y_point = (a*(num**2)) + (b*num) + c\n",
    "        list_y.append(y_point)\n",
    "    return list_x, list_y"
   ]
  },
  {
   "cell_type": "code",
   "execution_count": 6,
   "id": "5b1df2f5",
   "metadata": {
    "execution": {
     "iopub.execute_input": "2022-12-22T02:33:44.468954Z",
     "iopub.status.busy": "2022-12-22T02:33:44.468538Z",
     "iopub.status.idle": "2022-12-22T02:33:44.474501Z",
     "shell.execute_reply": "2022-12-22T02:33:44.473196Z"
    },
    "papermill": {
     "duration": 0.013347,
     "end_time": "2022-12-22T02:33:44.477187",
     "exception": false,
     "start_time": "2022-12-22T02:33:44.463840",
     "status": "completed"
    },
    "tags": []
   },
   "outputs": [
    {
     "name": "stdout",
     "output_type": "stream",
     "text": [
      "[-1.0, 0.0, 1.0, 2.0, 3.0, 4.0, 5.0, 6.0] [9.999999999999996, 5.619047619047618, 2.571428571428572, 0.8571428571428585, 0.47619047619047805, 1.4285714285714297, 3.7142857142857126, 7.3333333333333295]\n"
     ]
    }
   ],
   "source": [
    "xes, yes = quad_line(x2,xcon, con, xlist1)\n",
    "print(xes, yes)"
   ]
  },
  {
   "cell_type": "code",
   "execution_count": 7,
   "id": "119b2514",
   "metadata": {
    "execution": {
     "iopub.execute_input": "2022-12-22T02:33:44.486072Z",
     "iopub.status.busy": "2022-12-22T02:33:44.485622Z",
     "iopub.status.idle": "2022-12-22T02:33:44.757926Z",
     "shell.execute_reply": "2022-12-22T02:33:44.756665Z"
    },
    "papermill": {
     "duration": 0.280054,
     "end_time": "2022-12-22T02:33:44.760860",
     "exception": false,
     "start_time": "2022-12-22T02:33:44.480806",
     "status": "completed"
    },
    "tags": []
   },
   "outputs": [
    {
     "data": {
      "image/png": "[encoded data removed]",
      "text/plain": [
       "<Figure size 432x288 with 1 Axes>"
      ]
     },
     "metadata": {
      "needs_background": "light"
     },
     "output_type": "display_data"
    }
   ],
   "source": [
    "confidence = 1\n",
    "\n",
    "res, resmean, resdev = residuals(xes,yes,(x2 + xcon), con)\n",
    "\n",
    "ubx, uby = quad_line(x2, xcon, con + (resmean + confidence * resdev), xlist1)\n",
    "lbx, lby = quad_line(x2, xcon, con - (resmean + confidence * resdev), xlist1)\n",
    "\n",
    "line_graph([xlist1, xes, ubx, lbx], [ylist1, yes, uby, lby], x_label = \"X data\", y_label = \"Y data\", amount=4, colour=['green', 'blue', 'red', 'red'], mark=['*', \"\",\"\", ''], line=['', '-', '--', '--'])"
   ]
  }
 ],
 "metadata": {
  "kernelspec": {
   "display_name": "Python 3",
   "language": "python",
   "name": "python3"
  },
  "language_info": {
   "codemirror_mode": {
    "name": "ipython",
    "version": 3
   },
   "file_extension": ".py",
   "mimetype": "text/x-python",
   "name": "python",
   "nbconvert_exporter": "python",
   "pygments_lexer": "ipython3",
   "version": "3.7.12"
  },
  "papermill": {
   "default_parameters": {},
   "duration": 10.789832,
   "end_time": "2022-12-22T02:33:45.487113",
   "environment_variables": {},
   "exception": null,
   "input_path": "__notebook__.ipynb",
   "output_path": "__notebook__.ipynb",
   "parameters": {},
   "start_time": "2022-12-22T02:33:34.697281",
   "version": "2.3.4"
  }
 },
 "nbformat": 4,
 "nbformat_minor": 5
}
