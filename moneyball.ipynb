{
 "cells": [
  {
   "cell_type": "markdown",
   "id": "ef02ae96",
   "metadata": {
    "_cell_guid": "b1076dfc-b9ad-4769-8c92-a6c4dae69d19",
    "_uuid": "8f2839f25d086af736a60e9eeb907d3b93b6e0e5",
    "papermill": {
     "duration": 0.00471,
     "end_time": "2022-12-14T17:04:45.210360",
     "exception": false,
     "start_time": "2022-12-14T17:04:45.205650",
     "status": "completed"
    },
    "tags": []
   },
   "source": [
    "* Moneyball – The Portland Sea Dogs have awarded the venerable firm of Girsch &\n",
    "Rosenthal Data Analytics, a contract to determine which is the most important baseball\n",
    "statistic to determine how successful a team will be. As an employee of the firm you will\n",
    "perform the following analysis and gather your results into a presentation to be given to the\n",
    "Sea Dog’s management.\n",
    "\n",
    "* 1). Using the data file for an MLB team’s hitting statistics determine the correlation\n",
    "coefficient for each of the following On Base Percentage (OBP) , Slugging Percentage (SLG) ,\n",
    "Batting Average (AVG), Runs Batted In (RBI) with Winning Percentage (WPCT). Using the data\n",
    "file for MLB team’s pitching statistics determine the correlation coefficient for each of the\n",
    "following Earned Run Average (ERA) , Number of Strikeouts (SO) , Runs given up (R), Home\n",
    "Runs Given UP (HR) with Winning Percentage (WPCT). Put all your results into a table\n",
    "\n",
    "* 2). Using the batting statistic with the highest correlation to winning percentage make a least\n",
    "squares linear model to predict winning percentage from this statistic. Do the same for the\n",
    "pitching statistic with the highest correlation. Produce plots showing the raw data, the least\n",
    "squares line for each of the fits and the two s error bars. Remove any outliers that may occur\n",
    "and refit the data. Test for outliers at the 95% level (n = 2)\n",
    "\n",
    "* 3). Compute the RMSE for each of the fits.\n",
    "\n",
    "* 4). Make a final argument in your presentation for whether hitting or pitching is the most\n",
    "important"
   ]
  },
  {
   "cell_type": "code",
   "execution_count": 1,
   "id": "cc7d4c05",
   "metadata": {
    "execution": {
     "iopub.execute_input": "2022-12-14T17:04:45.219873Z",
     "iopub.status.busy": "2022-12-14T17:04:45.219392Z",
     "iopub.status.idle": "2022-12-14T17:04:46.367008Z",
     "shell.execute_reply": "2022-12-14T17:04:46.365872Z"
    },
    "papermill": {
     "duration": 1.155817,
     "end_time": "2022-12-14T17:04:46.369965",
     "exception": false,
     "start_time": "2022-12-14T17:04:45.214148",
     "status": "completed"
    },
    "tags": []
   },
   "outputs": [],
   "source": [
    "import seaborn as sb\n",
    "import pandas as pd\n",
    "import numpy as np\n",
    "import math\n",
    "import matplotlib.pyplot as plt"
   ]
  },
  {
   "cell_type": "code",
   "execution_count": 2,
   "id": "475bf05c",
   "metadata": {
    "execution": {
     "iopub.execute_input": "2022-12-14T17:04:46.379964Z",
     "iopub.status.busy": "2022-12-14T17:04:46.378756Z",
     "iopub.status.idle": "2022-12-14T17:04:46.407026Z",
     "shell.execute_reply": "2022-12-14T17:04:46.405840Z"
    },
    "papermill": {
     "duration": 0.036104,
     "end_time": "2022-12-14T17:04:46.409729",
     "exception": false,
     "start_time": "2022-12-14T17:04:46.373625",
     "status": "completed"
    },
    "tags": []
   },
   "outputs": [],
   "source": [
    "def mean(data):\n",
    "    sum = 0\n",
    "    for val in data:\n",
    "        sum += val\n",
    "    average = sum/len(data)\n",
    "    return average\n",
    "\n",
    "def variance(data):\n",
    "    sum = 0\n",
    "    for num in data:\n",
    "        sum += (num - mean(data))**2\n",
    "    vari = sum/len(data)\n",
    "    return vari\n",
    "\n",
    "def stand_dev(data):\n",
    "    de = math.sqrt(variance(data))\n",
    "    return de\n",
    "\n",
    "def correlation_array(array1, array2):\n",
    "    x_sum = np.sum(array1)\n",
    "    y_sum = np.sum(array2)\n",
    "    e1 = np.sum(np.multiply(array1, array2))\n",
    "    x_sq = np.sum(np.power(array1, 2))\n",
    "    y_sq = np.sum(np.power(array2,2))\n",
    "    \n",
    "    e1 = e1*len(array1)\n",
    "\n",
    "    x_sq_sub = (x_sq *len(array1)) - x_sum**2\n",
    "    x_sqed = math.sqrt(x_sq_sub)\n",
    "    \n",
    "    y_sq_sub = (y_sq * len(array2)) - y_sum**2\n",
    "    y_sqed = math.sqrt(y_sq_sub)\n",
    "    \n",
    "    top = e1 - (x_sum * y_sum)\n",
    "    bottom = x_sqed*y_sqed\n",
    "    \n",
    "    corr = top / bottom\n",
    "    \n",
    "    return corr\n",
    "\n",
    "def least_squares_array(array1, array2):\n",
    "    x_sq = np.sum(np.power(array1, 2))\n",
    "    x_sum = np.sum(array1)\n",
    "    xy_sum = np.sum(np.multiply(array1, array2))\n",
    "    y_sum = np.sum(array2)\n",
    "    \n",
    "    array_reg = np.array([[x_sq, x_sum], [x_sum, len(array1)]])\n",
    "    array_2 = np.array([xy_sum, y_sum])\n",
    "    array_inverse = np.linalg.inv(array_reg)\n",
    "    answer = np.dot(array_inverse, array_2)\n",
    "    return answer\n",
    "\n",
    "def line_graph(x_list, y_list, x_label = None, y_label = None, amount=1, colour='blue', mark=\"o\", line='-'):\n",
    "    '''amount is number of lines on a graph. if the amount is greater than one, submit lists of lists for the other three paramters. ex: amount=1, x_list=[1,2,3] or amount=2, x_list=[[1,2,3],[4,5,6]]'''\n",
    "    if amount >1:\n",
    "        for num in range(0, amount):\n",
    "            plt.plot(x_list[num], y_list[num], color=colour[num], marker=mark[num], linestyle=line[num])\n",
    "    else:\n",
    "        plt.plot(x_list, y_list, color=colour, marker=mark, linestyle=line)\n",
    "    plt.xlabel(x_label)\n",
    "    plt.ylabel(y_label)\n",
    "    plt.show()\n",
    "    \n",
    "def slope_to_points(slope, intercept, point_nums):\n",
    "    list_x = []\n",
    "    list_y = []\n",
    "    for num in point_nums:\n",
    "        list_x.append(num)\n",
    "        y_point = slope * num + intercept\n",
    "        list_y.append(y_point)\n",
    "    return list_x, list_y\n",
    "\n",
    "def residuals(x_list, y_list, slope, intercept):\n",
    "    res_list = []\n",
    "\n",
    "    for item in range(0,len(x_list)):\n",
    "        res = y_list.iloc[item] - (slope * x_list.iloc[item] + intercept)\n",
    "        res_list.append(res)\n",
    "        \n",
    "    res_mean = mean(res_list)\n",
    "    res_deviation = stand_dev(res_list)\n",
    "    \n",
    "    return res_list, res_mean, res_deviation\n",
    "\n",
    "def outlier_finder(x, y, n, dev_list, mean, deviation):\n",
    "    outliers = []\n",
    "    for num in range(0,len(dev_list)):\n",
    "        if dev_list[num] > mean + n*deviation:\n",
    "            outliers.append(dev_list[num])\n",
    "        elif dev_list[num] < mean - n*deviation:\n",
    "            outliers.append(dev_list[num])\n",
    "        else:\n",
    "            continue\n",
    "    for item in outliers:\n",
    "        x.drop(dev_list.index(item), axis=0)\n",
    "        y.drop(dev_list.index(item), axis=0)\n",
    "        dev_list.remove(item)\n",
    "            \n",
    "    return x, y\n",
    "\n",
    "def rmse(y, least_y):\n",
    "    sum = 0\n",
    "    for num in range(0,len(y)):\n",
    "        sum += (y.iloc[num]-least_y[num])**2\n",
    "    sum = sum/2\n",
    "    final = np.sqrt(sum)\n",
    "    return final\n",
    "\n",
    "def old_vs_new_plot(x, y, x_title, y_title):\n",
    "    data_slope, data_intercept = least_squares_array(x,y)\n",
    "    data_r, data_rmean, data_rdev = residuals(x,y,data_slope, data_intercept)\n",
    "    new_x, new_y = outlier_finder(x,y,confidence,data_r, data_rmean, data_rdev)\n",
    "\n",
    "    fit_slope, fit_intercept = least_squares_array(new_x, new_y)\n",
    "    fit_data_r, fit_data_rmean, fit_data_rdev = residuals(new_x,new_y,fit_slope, fit_intercept)\n",
    "    fit_xs, fit_ys = slope_to_points(fit_slope, fit_intercept, new_x)\n",
    "    fit_ubx, fit_uby = slope_to_points(fit_slope, fit_intercept + (fit_data_rmean + confidence * fit_data_rdev), new_x)\n",
    "    fit_lbx, fit_lby = slope_to_points(fit_slope, fit_intercept - (fit_data_rmean + confidence * fit_data_rdev), new_x)\n",
    "\n",
    "    error = rmse(y, fit_ys)\n",
    "    \n",
    "    line_graph([x,fit_xs, fit_ubx, fit_lbx], [y,fit_ys, fit_uby, fit_lby], x_label = x_title, y_label = y_title, amount=4, colour=[\"green\", \"blue\", \"red\", \"red\"], mark=[\"*\", \"\", \"\", \"\"], line=[\"\", \"-\", \"--\", \"--\"])\n",
    "    return error"
   ]
  },
  {
   "cell_type": "code",
   "execution_count": 3,
   "id": "07c7812a",
   "metadata": {
    "execution": {
     "iopub.execute_input": "2022-12-14T17:04:46.419036Z",
     "iopub.status.busy": "2022-12-14T17:04:46.418622Z",
     "iopub.status.idle": "2022-12-14T17:04:46.469054Z",
     "shell.execute_reply": "2022-12-14T17:04:46.467813Z"
    },
    "papermill": {
     "duration": 0.058912,
     "end_time": "2022-12-14T17:04:46.472462",
     "exception": false,
     "start_time": "2022-12-14T17:04:46.413550",
     "status": "completed"
    },
    "tags": []
   },
   "outputs": [
    {
     "data": {
      "text/html": [
       "<div>\n",
       "<style scoped>\n",
       "    .dataframe tbody tr th:only-of-type {\n",
       "        vertical-align: middle;\n",
       "    }\n",
       "\n",
       "    .dataframe tbody tr th {\n",
       "        vertical-align: top;\n",
       "    }\n",
       "\n",
       "    .dataframe thead th {\n",
       "        text-align: right;\n",
       "    }\n",
       "</style>\n",
       "<table border=\"1\" class=\"dataframe\">\n",
       "  <thead>\n",
       "    <tr style=\"text-align: right;\">\n",
       "      <th></th>\n",
       "      <th>#</th>\n",
       "      <th>Team</th>\n",
       "      <th>G</th>\n",
       "      <th>PA</th>\n",
       "      <th>AB</th>\n",
       "      <th>R</th>\n",
       "      <th>H</th>\n",
       "      <th>2B</th>\n",
       "      <th>3B</th>\n",
       "      <th>HR</th>\n",
       "      <th>RBI</th>\n",
       "      <th>SB</th>\n",
       "      <th>CS</th>\n",
       "      <th>SO</th>\n",
       "      <th>BB</th>\n",
       "      <th>AVG</th>\n",
       "      <th>OBP</th>\n",
       "      <th>SLG</th>\n",
       "      <th>OPS</th>\n",
       "      <th>WPCT</th>\n",
       "    </tr>\n",
       "  </thead>\n",
       "  <tbody>\n",
       "    <tr>\n",
       "      <th>0</th>\n",
       "      <td>1</td>\n",
       "      <td>Indians_Cleveland</td>\n",
       "      <td>162</td>\n",
       "      <td>6300</td>\n",
       "      <td>5595</td>\n",
       "      <td>818</td>\n",
       "      <td>1447</td>\n",
       "      <td>297</td>\n",
       "      <td>19</td>\n",
       "      <td>216</td>\n",
       "      <td>786</td>\n",
       "      <td>135</td>\n",
       "      <td>36</td>\n",
       "      <td>1189</td>\n",
       "      <td>522</td>\n",
       "      <td>0.259</td>\n",
       "      <td>0.332</td>\n",
       "      <td>0.434</td>\n",
       "      <td>0.766</td>\n",
       "      <td>0.562</td>\n",
       "    </tr>\n",
       "    <tr>\n",
       "      <th>1</th>\n",
       "      <td>2</td>\n",
       "      <td>Rays_Tampa_Bay</td>\n",
       "      <td>162</td>\n",
       "      <td>6195</td>\n",
       "      <td>5475</td>\n",
       "      <td>716</td>\n",
       "      <td>1415</td>\n",
       "      <td>274</td>\n",
       "      <td>43</td>\n",
       "      <td>150</td>\n",
       "      <td>664</td>\n",
       "      <td>128</td>\n",
       "      <td>51</td>\n",
       "      <td>1388</td>\n",
       "      <td>523</td>\n",
       "      <td>0.258</td>\n",
       "      <td>0.333</td>\n",
       "      <td>0.406</td>\n",
       "      <td>0.739</td>\n",
       "      <td>0.556</td>\n",
       "    </tr>\n",
       "    <tr>\n",
       "      <th>2</th>\n",
       "      <td>3</td>\n",
       "      <td>Red_Sox_Boston</td>\n",
       "      <td>162</td>\n",
       "      <td>6302</td>\n",
       "      <td>5623</td>\n",
       "      <td>876</td>\n",
       "      <td>1509</td>\n",
       "      <td>355</td>\n",
       "      <td>31</td>\n",
       "      <td>208</td>\n",
       "      <td>829</td>\n",
       "      <td>125</td>\n",
       "      <td>31</td>\n",
       "      <td>1253</td>\n",
       "      <td>531</td>\n",
       "      <td>0.268</td>\n",
       "      <td>0.339</td>\n",
       "      <td>0.453</td>\n",
       "      <td>0.792</td>\n",
       "      <td>0.667</td>\n",
       "    </tr>\n",
       "    <tr>\n",
       "      <th>3</th>\n",
       "      <td>4</td>\n",
       "      <td>Brewers_Milwaukee</td>\n",
       "      <td>163</td>\n",
       "      <td>6210</td>\n",
       "      <td>5542</td>\n",
       "      <td>754</td>\n",
       "      <td>1398</td>\n",
       "      <td>252</td>\n",
       "      <td>24</td>\n",
       "      <td>218</td>\n",
       "      <td>711</td>\n",
       "      <td>124</td>\n",
       "      <td>32</td>\n",
       "      <td>1458</td>\n",
       "      <td>505</td>\n",
       "      <td>0.252</td>\n",
       "      <td>0.323</td>\n",
       "      <td>0.424</td>\n",
       "      <td>0.747</td>\n",
       "      <td>0.589</td>\n",
       "    </tr>\n",
       "    <tr>\n",
       "      <th>4</th>\n",
       "      <td>5</td>\n",
       "      <td>Nationals_Washington</td>\n",
       "      <td>162</td>\n",
       "      <td>6288</td>\n",
       "      <td>5517</td>\n",
       "      <td>771</td>\n",
       "      <td>1402</td>\n",
       "      <td>284</td>\n",
       "      <td>25</td>\n",
       "      <td>191</td>\n",
       "      <td>737</td>\n",
       "      <td>119</td>\n",
       "      <td>33</td>\n",
       "      <td>1289</td>\n",
       "      <td>575</td>\n",
       "      <td>0.254</td>\n",
       "      <td>0.335</td>\n",
       "      <td>0.419</td>\n",
       "      <td>0.754</td>\n",
       "      <td>0.506</td>\n",
       "    </tr>\n",
       "  </tbody>\n",
       "</table>\n",
       "</div>"
      ],
      "text/plain": [
       "   #                  Team    G    PA    AB    R     H   2B  3B   HR  RBI  \\\n",
       "0  1     Indians_Cleveland  162  6300  5595  818  1447  297  19  216  786   \n",
       "1  2        Rays_Tampa_Bay  162  6195  5475  716  1415  274  43  150  664   \n",
       "2  3        Red_Sox_Boston  162  6302  5623  876  1509  355  31  208  829   \n",
       "3  4     Brewers_Milwaukee  163  6210  5542  754  1398  252  24  218  711   \n",
       "4  5  Nationals_Washington  162  6288  5517  771  1402  284  25  191  737   \n",
       "\n",
       "    SB  CS    SO   BB    AVG    OBP    SLG    OPS   WPCT  \n",
       "0  135  36  1189  522  0.259  0.332  0.434  0.766  0.562  \n",
       "1  128  51  1388  523  0.258  0.333  0.406  0.739  0.556  \n",
       "2  125  31  1253  531  0.268  0.339  0.453  0.792  0.667  \n",
       "3  124  32  1458  505  0.252  0.323  0.424  0.747  0.589  \n",
       "4  119  33  1289  575  0.254  0.335  0.419  0.754  0.506  "
      ]
     },
     "execution_count": 3,
     "metadata": {},
     "output_type": "execute_result"
    }
   ],
   "source": [
    "path_pitch = \"/kaggle/input/pitching/2018_MLB_Pitching_Stats_II.txt\"\n",
    "pitch=pd.read_csv(path_pitch, delim_whitespace = True)\n",
    "\n",
    "\n",
    "path_hit = \"/kaggle/input/hitting/2018_MLB_Hitting_Stats.txt\"\n",
    "hitting = pd.read_csv(path_hit, delim_whitespace=True)\n",
    "hitting.head()"
   ]
  },
  {
   "cell_type": "code",
   "execution_count": 4,
   "id": "54f1883b",
   "metadata": {
    "execution": {
     "iopub.execute_input": "2022-12-14T17:04:46.482471Z",
     "iopub.status.busy": "2022-12-14T17:04:46.481612Z",
     "iopub.status.idle": "2022-12-14T17:04:46.506513Z",
     "shell.execute_reply": "2022-12-14T17:04:46.505362Z"
    },
    "papermill": {
     "duration": 0.032476,
     "end_time": "2022-12-14T17:04:46.508915",
     "exception": false,
     "start_time": "2022-12-14T17:04:46.476439",
     "status": "completed"
    },
    "tags": []
   },
   "outputs": [
    {
     "data": {
      "text/html": [
       "<div>\n",
       "<style scoped>\n",
       "    .dataframe tbody tr th:only-of-type {\n",
       "        vertical-align: middle;\n",
       "    }\n",
       "\n",
       "    .dataframe tbody tr th {\n",
       "        vertical-align: top;\n",
       "    }\n",
       "\n",
       "    .dataframe thead th {\n",
       "        text-align: right;\n",
       "    }\n",
       "</style>\n",
       "<table border=\"1\" class=\"dataframe\">\n",
       "  <thead>\n",
       "    <tr style=\"text-align: right;\">\n",
       "      <th></th>\n",
       "      <th>#</th>\n",
       "      <th>Team</th>\n",
       "      <th>G</th>\n",
       "      <th>IP</th>\n",
       "      <th>H</th>\n",
       "      <th>ER</th>\n",
       "      <th>HR</th>\n",
       "      <th>BB</th>\n",
       "      <th>SO</th>\n",
       "      <th>WHIP</th>\n",
       "      <th>H/9</th>\n",
       "      <th>BB/9</th>\n",
       "      <th>HR/9</th>\n",
       "      <th>SO/9</th>\n",
       "      <th>SO/BB</th>\n",
       "      <th>GB/FB</th>\n",
       "      <th>HR/FB</th>\n",
       "      <th>ERC</th>\n",
       "      <th>ERA</th>\n",
       "      <th>WPCT</th>\n",
       "    </tr>\n",
       "  </thead>\n",
       "  <tbody>\n",
       "    <tr>\n",
       "      <th>0</th>\n",
       "      <td>1</td>\n",
       "      <td>Orioles_Baltimore</td>\n",
       "      <td>162</td>\n",
       "      <td>1431.0</td>\n",
       "      <td>1552</td>\n",
       "      <td>825</td>\n",
       "      <td>234</td>\n",
       "      <td>589</td>\n",
       "      <td>1203</td>\n",
       "      <td>1.50</td>\n",
       "      <td>9.8</td>\n",
       "      <td>3.7</td>\n",
       "      <td>1.5</td>\n",
       "      <td>7.6</td>\n",
       "      <td>2.15</td>\n",
       "      <td>1.83</td>\n",
       "      <td>0.222</td>\n",
       "      <td>5.26</td>\n",
       "      <td>5.19</td>\n",
       "      <td>0.290</td>\n",
       "    </tr>\n",
       "    <tr>\n",
       "      <th>1</th>\n",
       "      <td>2</td>\n",
       "      <td>Royals_Kansas_City</td>\n",
       "      <td>162</td>\n",
       "      <td>1432.0</td>\n",
       "      <td>1542</td>\n",
       "      <td>787</td>\n",
       "      <td>205</td>\n",
       "      <td>549</td>\n",
       "      <td>1157</td>\n",
       "      <td>1.46</td>\n",
       "      <td>9.7</td>\n",
       "      <td>3.5</td>\n",
       "      <td>1.3</td>\n",
       "      <td>7.3</td>\n",
       "      <td>2.22</td>\n",
       "      <td>1.90</td>\n",
       "      <td>0.196</td>\n",
       "      <td>4.89</td>\n",
       "      <td>4.95</td>\n",
       "      <td>0.358</td>\n",
       "    </tr>\n",
       "    <tr>\n",
       "      <th>2</th>\n",
       "      <td>3</td>\n",
       "      <td>Rangers_Texas</td>\n",
       "      <td>162</td>\n",
       "      <td>1431.0</td>\n",
       "      <td>1516</td>\n",
       "      <td>783</td>\n",
       "      <td>222</td>\n",
       "      <td>491</td>\n",
       "      <td>1121</td>\n",
       "      <td>1.40</td>\n",
       "      <td>9.5</td>\n",
       "      <td>3.1</td>\n",
       "      <td>1.4</td>\n",
       "      <td>7.0</td>\n",
       "      <td>2.40</td>\n",
       "      <td>1.86</td>\n",
       "      <td>0.207</td>\n",
       "      <td>4.77</td>\n",
       "      <td>4.93</td>\n",
       "      <td>0.414</td>\n",
       "    </tr>\n",
       "    <tr>\n",
       "      <th>3</th>\n",
       "      <td>4</td>\n",
       "      <td>Reds_Cincinnati</td>\n",
       "      <td>162</td>\n",
       "      <td>1441.0</td>\n",
       "      <td>1491</td>\n",
       "      <td>745</td>\n",
       "      <td>228</td>\n",
       "      <td>532</td>\n",
       "      <td>1258</td>\n",
       "      <td>1.40</td>\n",
       "      <td>9.3</td>\n",
       "      <td>3.3</td>\n",
       "      <td>1.4</td>\n",
       "      <td>7.9</td>\n",
       "      <td>2.67</td>\n",
       "      <td>2.08</td>\n",
       "      <td>0.232</td>\n",
       "      <td>4.63</td>\n",
       "      <td>4.65</td>\n",
       "      <td>0.414</td>\n",
       "    </tr>\n",
       "    <tr>\n",
       "      <th>4</th>\n",
       "      <td>5</td>\n",
       "      <td>Blue_Jays_Toronto</td>\n",
       "      <td>162</td>\n",
       "      <td>1433.2</td>\n",
       "      <td>1476</td>\n",
       "      <td>773</td>\n",
       "      <td>208</td>\n",
       "      <td>551</td>\n",
       "      <td>1298</td>\n",
       "      <td>1.41</td>\n",
       "      <td>9.3</td>\n",
       "      <td>3.5</td>\n",
       "      <td>1.3</td>\n",
       "      <td>8.1</td>\n",
       "      <td>2.44</td>\n",
       "      <td>1.76</td>\n",
       "      <td>0.193</td>\n",
       "      <td>4.67</td>\n",
       "      <td>4.85</td>\n",
       "      <td>0.451</td>\n",
       "    </tr>\n",
       "  </tbody>\n",
       "</table>\n",
       "</div>"
      ],
      "text/plain": [
       "   #                Team    G      IP     H   ER   HR   BB    SO  WHIP  H/9  \\\n",
       "0  1   Orioles_Baltimore  162  1431.0  1552  825  234  589  1203  1.50  9.8   \n",
       "1  2  Royals_Kansas_City  162  1432.0  1542  787  205  549  1157  1.46  9.7   \n",
       "2  3       Rangers_Texas  162  1431.0  1516  783  222  491  1121  1.40  9.5   \n",
       "3  4     Reds_Cincinnati  162  1441.0  1491  745  228  532  1258  1.40  9.3   \n",
       "4  5   Blue_Jays_Toronto  162  1433.2  1476  773  208  551  1298  1.41  9.3   \n",
       "\n",
       "   BB/9  HR/9  SO/9  SO/BB  GB/FB  HR/FB   ERC   ERA   WPCT  \n",
       "0   3.7   1.5   7.6   2.15   1.83  0.222  5.26  5.19  0.290  \n",
       "1   3.5   1.3   7.3   2.22   1.90  0.196  4.89  4.95  0.358  \n",
       "2   3.1   1.4   7.0   2.40   1.86  0.207  4.77  4.93  0.414  \n",
       "3   3.3   1.4   7.9   2.67   2.08  0.232  4.63  4.65  0.414  \n",
       "4   3.5   1.3   8.1   2.44   1.76  0.193  4.67  4.85  0.451  "
      ]
     },
     "execution_count": 4,
     "metadata": {},
     "output_type": "execute_result"
    }
   ],
   "source": [
    "pitch.head()"
   ]
  },
  {
   "cell_type": "code",
   "execution_count": 5,
   "id": "7f760b51",
   "metadata": {
    "execution": {
     "iopub.execute_input": "2022-12-14T17:04:46.519505Z",
     "iopub.status.busy": "2022-12-14T17:04:46.518700Z",
     "iopub.status.idle": "2022-12-14T17:04:46.549226Z",
     "shell.execute_reply": "2022-12-14T17:04:46.547982Z"
    },
    "papermill": {
     "duration": 0.03859,
     "end_time": "2022-12-14T17:04:46.551755",
     "exception": false,
     "start_time": "2022-12-14T17:04:46.513165",
     "status": "completed"
    },
    "tags": []
   },
   "outputs": [
    {
     "data": {
      "text/html": [
       "<div>\n",
       "<style scoped>\n",
       "    .dataframe tbody tr th:only-of-type {\n",
       "        vertical-align: middle;\n",
       "    }\n",
       "\n",
       "    .dataframe tbody tr th {\n",
       "        vertical-align: top;\n",
       "    }\n",
       "\n",
       "    .dataframe thead th {\n",
       "        text-align: right;\n",
       "    }\n",
       "</style>\n",
       "<table border=\"1\" class=\"dataframe\">\n",
       "  <thead>\n",
       "    <tr style=\"text-align: right;\">\n",
       "      <th></th>\n",
       "      <th></th>\n",
       "      <th>ERA</th>\n",
       "      <th>SO</th>\n",
       "      <th>ER</th>\n",
       "      <th>HR</th>\n",
       "    </tr>\n",
       "  </thead>\n",
       "  <tbody>\n",
       "    <tr>\n",
       "      <th>0</th>\n",
       "      <td>Pitching</td>\n",
       "      <td>-0.875797</td>\n",
       "      <td>0.736197</td>\n",
       "      <td>-0.874808</td>\n",
       "      <td>-0.656634</td>\n",
       "    </tr>\n",
       "  </tbody>\n",
       "</table>\n",
       "</div>"
      ],
      "text/plain": [
       "                  ERA        SO        ER        HR\n",
       "0  Pitching -0.875797  0.736197 -0.874808 -0.656634"
      ]
     },
     "execution_count": 5,
     "metadata": {},
     "output_type": "execute_result"
    }
   ],
   "source": [
    "#On Base Percentage (OBP) , Slugging Percentage (SLG) , Batting Average (AVG), Runs Batted In (RBI) with Winning Percentage (WPCT)\n",
    "hit_columns = [\"OBP\", \"SLG\", \"AVG\", \"RBI\"]\n",
    "hit_dict = {\"\":[\"Hitting\"]}\n",
    "for column in hit_columns:\n",
    "    hit_dict[column]=(correlation_array(hitting[column],hitting[\"WPCT\"]))\n",
    "hit_pd = pd.DataFrame.from_dict(hit_dict)\n",
    "\n",
    "#Earned Run Average (ERA) , Number of Strikeouts (SO) , Runs given up (R), Home Runs Given UP (HR) with Winning Percentage (WPCT)\n",
    "pitch_columns = [\"ERA\", \"SO\", \"ER\", \"HR\"]\n",
    "pitch_dict = {\"\":[\"Pitching\"]}\n",
    "for column in pitch_columns:\n",
    "    pitch_dict[column]=(correlation_array(pitch[column],pitch[\"WPCT\"]))\n",
    "pitch_pd = pd.DataFrame.from_dict(pitch_dict)\n",
    "pitch_pd"
   ]
  },
  {
   "cell_type": "code",
   "execution_count": 6,
   "id": "9acba12e",
   "metadata": {
    "execution": {
     "iopub.execute_input": "2022-12-14T17:04:46.563072Z",
     "iopub.status.busy": "2022-12-14T17:04:46.562174Z",
     "iopub.status.idle": "2022-12-14T17:04:46.575528Z",
     "shell.execute_reply": "2022-12-14T17:04:46.574397Z"
    },
    "papermill": {
     "duration": 0.021553,
     "end_time": "2022-12-14T17:04:46.577963",
     "exception": false,
     "start_time": "2022-12-14T17:04:46.556410",
     "status": "completed"
    },
    "tags": []
   },
   "outputs": [
    {
     "data": {
      "text/html": [
       "<div>\n",
       "<style scoped>\n",
       "    .dataframe tbody tr th:only-of-type {\n",
       "        vertical-align: middle;\n",
       "    }\n",
       "\n",
       "    .dataframe tbody tr th {\n",
       "        vertical-align: top;\n",
       "    }\n",
       "\n",
       "    .dataframe thead th {\n",
       "        text-align: right;\n",
       "    }\n",
       "</style>\n",
       "<table border=\"1\" class=\"dataframe\">\n",
       "  <thead>\n",
       "    <tr style=\"text-align: right;\">\n",
       "      <th></th>\n",
       "      <th></th>\n",
       "      <th>OBP</th>\n",
       "      <th>SLG</th>\n",
       "      <th>AVG</th>\n",
       "      <th>RBI</th>\n",
       "    </tr>\n",
       "  </thead>\n",
       "  <tbody>\n",
       "    <tr>\n",
       "      <th>0</th>\n",
       "      <td>Hitting</td>\n",
       "      <td>0.798343</td>\n",
       "      <td>0.749826</td>\n",
       "      <td>0.68859</td>\n",
       "      <td>0.823533</td>\n",
       "    </tr>\n",
       "  </tbody>\n",
       "</table>\n",
       "</div>"
      ],
      "text/plain": [
       "                 OBP       SLG      AVG       RBI\n",
       "0  Hitting  0.798343  0.749826  0.68859  0.823533"
      ]
     },
     "execution_count": 6,
     "metadata": {},
     "output_type": "execute_result"
    }
   ],
   "source": [
    "hit_pd\n",
    "#pitch_pd and hit_pd are the correlations for each column title vs win percentage"
   ]
  },
  {
   "cell_type": "code",
   "execution_count": 7,
   "id": "b64abaed",
   "metadata": {
    "execution": {
     "iopub.execute_input": "2022-12-14T17:04:46.589223Z",
     "iopub.status.busy": "2022-12-14T17:04:46.588322Z",
     "iopub.status.idle": "2022-12-14T17:04:47.005087Z",
     "shell.execute_reply": "2022-12-14T17:04:47.002898Z"
    },
    "papermill": {
     "duration": 0.426071,
     "end_time": "2022-12-14T17:04:47.008539",
     "exception": false,
     "start_time": "2022-12-14T17:04:46.582468",
     "status": "completed"
    },
    "tags": []
   },
   "outputs": [
    {
     "data": {
      "image/png": "[encoded data removed]",
      "text/plain": [
       "<Figure size 432x288 with 1 Axes>"
      ]
     },
     "metadata": {
      "needs_background": "light"
     },
     "output_type": "display_data"
    },
    {
     "data": {
      "image/png": "[encoded data removed]",
      "text/plain": [
       "<Figure size 432x288 with 1 Axes>"
      ]
     },
     "metadata": {
      "needs_background": "light"
     },
     "output_type": "display_data"
    },
    {
     "name": "stdout",
     "output_type": "stream",
     "text": [
      "0.19520284406359478\n",
      "0.23288260227162635\n"
     ]
    }
   ],
   "source": [
    "confidence = 2\n",
    "\n",
    "#hit\n",
    "hit_er = old_vs_new_plot(hitting[\"RBI\"], hitting[\"WPCT\"], \"Runs Batted In\", \"Winning Percentage\")\n",
    "#pitch\n",
    "pitch_er = old_vs_new_plot(pitch[\"SO\"], pitch[\"WPCT\"], \"Number of Strikeouts\", \"Winning Percentage\")\n",
    "print(f\"{hit_er}\\n{pitch_er}\")"
   ]
  },
  {
   "cell_type": "code",
   "execution_count": 8,
   "id": "05e4c304",
   "metadata": {
    "execution": {
     "iopub.execute_input": "2022-12-14T17:04:47.022112Z",
     "iopub.status.busy": "2022-12-14T17:04:47.021700Z",
     "iopub.status.idle": "2022-12-14T17:04:47.289348Z",
     "shell.execute_reply": "2022-12-14T17:04:47.288037Z"
    },
    "papermill": {
     "duration": 0.277444,
     "end_time": "2022-12-14T17:04:47.292241",
     "exception": false,
     "start_time": "2022-12-14T17:04:47.014797",
     "status": "completed"
    },
    "tags": []
   },
   "outputs": [
    {
     "data": {
      "text/plain": [
       "<AxesSubplot:>"
      ]
     },
     "execution_count": 8,
     "metadata": {},
     "output_type": "execute_result"
    },
    {
     "data": {
      "image/png": "[encoded data removed]",
      "text/plain": [
       "<Figure size 432x288 with 2 Axes>"
      ]
     },
     "metadata": {
      "needs_background": "light"
     },
     "output_type": "display_data"
    }
   ],
   "source": [
    "sb.heatmap((hit_pd.drop([\"\"], axis=1)),  annot=True, yticklabels=hit_pd[''])"
   ]
  },
  {
   "cell_type": "code",
   "execution_count": 9,
   "id": "c5b408de",
   "metadata": {
    "execution": {
     "iopub.execute_input": "2022-12-14T17:04:47.306184Z",
     "iopub.status.busy": "2022-12-14T17:04:47.305044Z",
     "iopub.status.idle": "2022-12-14T17:04:47.565044Z",
     "shell.execute_reply": "2022-12-14T17:04:47.563477Z"
    },
    "papermill": {
     "duration": 0.26986,
     "end_time": "2022-12-14T17:04:47.567832",
     "exception": false,
     "start_time": "2022-12-14T17:04:47.297972",
     "status": "completed"
    },
    "tags": []
   },
   "outputs": [
    {
     "data": {
      "text/plain": [
       "<AxesSubplot:>"
      ]
     },
     "execution_count": 9,
     "metadata": {},
     "output_type": "execute_result"
    },
    {
     "data": {
      "image/png": "[encoded data removed]",
      "text/plain": [
       "<Figure size 432x288 with 2 Axes>"
      ]
     },
     "metadata": {
      "needs_background": "light"
     },
     "output_type": "display_data"
    }
   ],
   "source": [
    "sb.heatmap((pitch_pd.drop([\"\"], axis=1)),  annot=True, yticklabels=pitch_pd[''])"
   ]
  }
 ],
 "metadata": {
  "kernelspec": {
   "display_name": "Python 3",
   "language": "python",
   "name": "python3"
  },
  "language_info": {
   "codemirror_mode": {
    "name": "ipython",
    "version": 3
   },
   "file_extension": ".py",
   "mimetype": "text/x-python",
   "name": "python",
   "nbconvert_exporter": "python",
   "pygments_lexer": "ipython3",
   "version": "3.7.12"
  },
  "papermill": {
   "default_parameters": {},
   "duration": 13.643257,
   "end_time": "2022-12-14T17:04:48.296754",
   "environment_variables": {},
   "exception": null,
   "input_path": "__notebook__.ipynb",
   "output_path": "__notebook__.ipynb",
   "parameters": {},
   "start_time": "2022-12-14T17:04:34.653497",
   "version": "2.3.4"
  }
 },
 "nbformat": 4,
 "nbformat_minor": 5
}
