{
 "cells": [
  {
   "cell_type": "markdown",
   "id": "a7e3c371",
   "metadata": {
    "_cell_guid": "b1076dfc-b9ad-4769-8c92-a6c4dae69d19",
    "_uuid": "8f2839f25d086af736a60e9eeb907d3b93b6e0e5",
    "papermill": {
     "duration": 0.003995,
     "end_time": "2023-01-04T17:07:03.725090",
     "exception": false,
     "start_time": "2023-01-04T17:07:03.721095",
     "status": "completed"
    },
    "tags": []
   },
   "source": [
    "* Moneyball – The Portland Sea Dogs have awarded the venerable firm of Girsch &\n",
    "Rosenthal Data Analytics, a contract to determine which is the most important baseball\n",
    "statistic to determine how successful a team will be. As an employee of the firm you will\n",
    "perform the following analysis and gather your results into a presentation to be given to the\n",
    "Sea Dog’s management.\n",
    "\n",
    "* 1). Using the data file for an MLB team’s hitting statistics determine the correlation\n",
    "coefficient for each of the following On Base Percentage (OBP) , Slugging Percentage (SLG) ,\n",
    "Batting Average (AVG), Runs Batted In (RBI) with Winning Percentage (WPCT). Using the data\n",
    "file for MLB team’s pitching statistics determine the correlation coefficient for each of the\n",
    "following Earned Run Average (ERA) , Number of Strikeouts (SO) , Runs given up (R), Home\n",
    "Runs Given UP (HR) with Winning Percentage (WPCT). Put all your results into a table\n",
    "\n",
    "* 2). Using the batting statistic with the highest correlation to winning percentage make a least\n",
    "squares linear model to predict winning percentage from this statistic. Do the same for the\n",
    "pitching statistic with the highest correlation. Produce plots showing the raw data, the least\n",
    "squares line for each of the fits and the two s error bars. Remove any outliers that may occur\n",
    "and refit the data. Test for outliers at the 95% level (n = 2)\n",
    "\n",
    "* 3). Compute the RMSE for each of the fits.\n",
    "\n",
    "* 4). Make a final argument in your presentation for whether hitting or pitching is the most\n",
    "important"
   ]
  },
  {
   "cell_type": "code",
   "execution_count": 1,
   "id": "39dca950",
   "metadata": {
    "execution": {
     "iopub.execute_input": "2023-01-04T17:07:03.732777Z",
     "iopub.status.busy": "2023-01-04T17:07:03.732389Z",
     "iopub.status.idle": "2023-01-04T17:07:04.556364Z",
     "shell.execute_reply": "2023-01-04T17:07:04.555402Z"
    },
    "papermill": {
     "duration": 0.830663,
     "end_time": "2023-01-04T17:07:04.558784",
     "exception": false,
     "start_time": "2023-01-04T17:07:03.728121",
     "status": "completed"
    },
    "tags": []
   },
   "outputs": [],
   "source": [
    "import seaborn as sb\n",
    "import pandas as pd\n",
    "import numpy as np\n",
    "import math\n",
    "import matplotlib.pyplot as plt"
   ]
  },
  {
   "cell_type": "code",
   "execution_count": 2,
   "id": "25a1f93d",
   "metadata": {
    "execution": {
     "iopub.execute_input": "2023-01-04T17:07:04.565974Z",
     "iopub.status.busy": "2023-01-04T17:07:04.565644Z",
     "iopub.status.idle": "2023-01-04T17:07:04.588781Z",
     "shell.execute_reply": "2023-01-04T17:07:04.587834Z"
    },
    "papermill": {
     "duration": 0.028757,
     "end_time": "2023-01-04T17:07:04.590548",
     "exception": false,
     "start_time": "2023-01-04T17:07:04.561791",
     "status": "completed"
    },
    "tags": []
   },
   "outputs": [],
   "source": [
    "def mean(data):\n",
    "    sum = 0\n",
    "    for val in data:\n",
    "        sum += val\n",
    "    average = sum/len(data)\n",
    "    return average\n",
    "\n",
    "def variance(data):\n",
    "    sum = 0\n",
    "    for num in data:\n",
    "        sum += (num - mean(data))**2\n",
    "    vari = sum/len(data)\n",
    "    return vari\n",
    "\n",
    "def stand_dev(data):\n",
    "    de = math.sqrt(variance(data))\n",
    "    return de\n",
    "\n",
    "def correlation_array(array1, array2):\n",
    "    x_sum = np.sum(array1)\n",
    "    y_sum = np.sum(array2)\n",
    "    e1 = np.sum(np.multiply(array1, array2))\n",
    "    x_sq = np.sum(np.power(array1, 2))\n",
    "    y_sq = np.sum(np.power(array2,2))\n",
    "    \n",
    "    e1 = e1*len(array1)\n",
    "\n",
    "    x_sq_sub = (x_sq *len(array1)) - x_sum**2\n",
    "    x_sqed = math.sqrt(x_sq_sub)\n",
    "    \n",
    "    y_sq_sub = (y_sq * len(array2)) - y_sum**2\n",
    "    y_sqed = math.sqrt(y_sq_sub)\n",
    "    \n",
    "    top = e1 - (x_sum * y_sum)\n",
    "    bottom = x_sqed*y_sqed\n",
    "    \n",
    "    corr = top / bottom\n",
    "    \n",
    "    return corr\n",
    "\n",
    "def least_squares_array(array1, array2):\n",
    "    x_sq = np.sum(np.power(array1, 2))\n",
    "    x_sum = np.sum(array1)\n",
    "    xy_sum = np.sum(np.multiply(array1, array2))\n",
    "    y_sum = np.sum(array2)\n",
    "    \n",
    "    array_reg = np.array([[x_sq, x_sum], [x_sum, len(array1)]])\n",
    "    array_2 = np.array([xy_sum, y_sum])\n",
    "    array_inverse = np.linalg.inv(array_reg)\n",
    "    answer = np.dot(array_inverse, array_2)\n",
    "    return answer\n",
    "\n",
    "def line_graph(x_list, y_list, x_label = None, y_label = None, amount=1, colour='blue', mark=\"o\", line='-'):\n",
    "    '''amount is number of lines on a graph. if the amount is greater than one, submit lists of lists for the other three paramters. ex: amount=1, x_list=[1,2,3] or amount=2, x_list=[[1,2,3],[4,5,6]]'''\n",
    "    if amount >1:\n",
    "        for num in range(0, amount):\n",
    "            plt.plot(x_list[num], y_list[num], color=colour[num], marker=mark[num], linestyle=line[num])\n",
    "    else:\n",
    "        plt.plot(x_list, y_list, color=colour, marker=mark, linestyle=line)\n",
    "    plt.xlabel(x_label)\n",
    "    plt.ylabel(y_label)\n",
    "    plt.show()\n",
    "    \n",
    "def slope_to_points(slope, intercept, point_nums):\n",
    "    list_x = []\n",
    "    list_y = []\n",
    "    for num in point_nums:\n",
    "        list_x.append(num)\n",
    "        y_point = slope * num + intercept\n",
    "        list_y.append(y_point)\n",
    "    return list_x, list_y\n",
    "\n",
    "def residuals(x_list, y_list, slope, intercept):\n",
    "    res_list = []\n",
    "\n",
    "    for item in range(0,len(x_list)):\n",
    "        res = y_list[item] - (slope * x_list[item] + intercept)\n",
    "        res_list.append(res)\n",
    "        \n",
    "    res_mean = mean(res_list)\n",
    "    res_deviation = stand_dev(res_list)\n",
    "    \n",
    "    return res_list, res_mean, res_deviation\n",
    "\n",
    "def outlier_finder(x_list, y_list, n, dev_list, mean, deviation):\n",
    "    outliers = []\n",
    "    for num in range(0,len(dev_list)):\n",
    "        if dev_list[num] > mean + n*deviation:\n",
    "            outliers.append(dev_list[num])\n",
    "        elif dev_list[num] < mean - n*deviation:\n",
    "            outliers.append(dev_list[num])\n",
    "        else:\n",
    "            continue\n",
    "    for item in outliers:\n",
    "        x_list.pop(dev_list.index(item))\n",
    "        y_list.pop(dev_list.index(item))\n",
    "        dev_list.remove(item)\n",
    "            \n",
    "    return x_list, y_list\n",
    "\n",
    "def rmse(y_list, least_y):\n",
    "    sum = 0\n",
    "    for num in range(0,len(least_y)):\n",
    "        sum += (y_list[num]-least_y[num])**2\n",
    "    sum = sum/2\n",
    "    final = np.sqrt(sum)\n",
    "    return final\n",
    "\n",
    "def old_vs_new_plot(x, y, x_title, y_title, confidence):\n",
    "    data_slope, data_intercept = least_squares_array(x,y)\n",
    "    data_r, data_rmean, data_rdev = residuals(x.values.tolist(),y.values.tolist(),data_slope, data_intercept)\n",
    "    new_x, new_y = outlier_finder(x.values.tolist(),y.values.tolist(),confidence,data_r, data_rmean, data_rdev)\n",
    "\n",
    "    fit_slope, fit_intercept = least_squares_array(new_x, new_y)\n",
    "    fit_data_r, fit_data_rmean, fit_data_rdev = residuals(new_x,new_y,fit_slope, fit_intercept)\n",
    "    fit_xs, fit_ys = slope_to_points(fit_slope, fit_intercept, new_x)\n",
    "    fit_ubx, fit_uby = slope_to_points(fit_slope, fit_intercept + (fit_data_rmean + confidence * fit_data_rdev), new_x)\n",
    "    fit_lbx, fit_lby = slope_to_points(fit_slope, fit_intercept - (fit_data_rmean + confidence * fit_data_rdev), new_x)\n",
    "\n",
    "    error = rmse(y.values.tolist(), fit_ys)\n",
    "    print(fit_slope, fit_intercept)\n",
    "    \n",
    "    line_graph([x,fit_xs, fit_ubx, fit_lbx], [y,fit_ys, fit_uby, fit_lby], x_label = x_title, y_label = y_title, amount=4, colour=[\"green\", \"blue\", \"red\", \"red\"], mark=[\"*\", \"\", \"\", \"\"], line=[\"\", \"-\", \"--\", \"--\"])\n",
    "    return error"
   ]
  },
  {
   "cell_type": "code",
   "execution_count": 3,
   "id": "95029f86",
   "metadata": {
    "execution": {
     "iopub.execute_input": "2023-01-04T17:07:04.598033Z",
     "iopub.status.busy": "2023-01-04T17:07:04.597653Z",
     "iopub.status.idle": "2023-01-04T17:07:04.646978Z",
     "shell.execute_reply": "2023-01-04T17:07:04.645971Z"
    },
    "papermill": {
     "duration": 0.055565,
     "end_time": "2023-01-04T17:07:04.649076",
     "exception": false,
     "start_time": "2023-01-04T17:07:04.593511",
     "status": "completed"
    },
    "tags": []
   },
   "outputs": [
    {
     "data": {
      "text/html": [
       "<div>\n",
       "<style scoped>\n",
       "    .dataframe tbody tr th:only-of-type {\n",
       "        vertical-align: middle;\n",
       "    }\n",
       "\n",
       "    .dataframe tbody tr th {\n",
       "        vertical-align: top;\n",
       "    }\n",
       "\n",
       "    .dataframe thead th {\n",
       "        text-align: right;\n",
       "    }\n",
       "</style>\n",
       "<table border=\"1\" class=\"dataframe\">\n",
       "  <thead>\n",
       "    <tr style=\"text-align: right;\">\n",
       "      <th></th>\n",
       "      <th>#</th>\n",
       "      <th>Team</th>\n",
       "      <th>G</th>\n",
       "      <th>PA</th>\n",
       "      <th>AB</th>\n",
       "      <th>R</th>\n",
       "      <th>H</th>\n",
       "      <th>2B</th>\n",
       "      <th>3B</th>\n",
       "      <th>HR</th>\n",
       "      <th>RBI</th>\n",
       "      <th>SB</th>\n",
       "      <th>CS</th>\n",
       "      <th>SO</th>\n",
       "      <th>BB</th>\n",
       "      <th>AVG</th>\n",
       "      <th>OBP</th>\n",
       "      <th>SLG</th>\n",
       "      <th>OPS</th>\n",
       "      <th>WPCT</th>\n",
       "    </tr>\n",
       "  </thead>\n",
       "  <tbody>\n",
       "    <tr>\n",
       "      <th>11</th>\n",
       "      <td>12</td>\n",
       "      <td>Orioles_Baltimore</td>\n",
       "      <td>162</td>\n",
       "      <td>6034</td>\n",
       "      <td>5507</td>\n",
       "      <td>622</td>\n",
       "      <td>1317</td>\n",
       "      <td>242</td>\n",
       "      <td>15</td>\n",
       "      <td>188</td>\n",
       "      <td>593</td>\n",
       "      <td>81</td>\n",
       "      <td>22</td>\n",
       "      <td>1412</td>\n",
       "      <td>403</td>\n",
       "      <td>0.239</td>\n",
       "      <td>0.298</td>\n",
       "      <td>0.391</td>\n",
       "      <td>0.689</td>\n",
       "      <td>0.290</td>\n",
       "    </tr>\n",
       "    <tr>\n",
       "      <th>5</th>\n",
       "      <td>6</td>\n",
       "      <td>Royals_Kansas_City</td>\n",
       "      <td>162</td>\n",
       "      <td>6063</td>\n",
       "      <td>5505</td>\n",
       "      <td>638</td>\n",
       "      <td>1350</td>\n",
       "      <td>283</td>\n",
       "      <td>29</td>\n",
       "      <td>155</td>\n",
       "      <td>606</td>\n",
       "      <td>117</td>\n",
       "      <td>38</td>\n",
       "      <td>1310</td>\n",
       "      <td>414</td>\n",
       "      <td>0.245</td>\n",
       "      <td>0.305</td>\n",
       "      <td>0.392</td>\n",
       "      <td>0.697</td>\n",
       "      <td>0.358</td>\n",
       "    </tr>\n",
       "    <tr>\n",
       "      <th>6</th>\n",
       "      <td>7</td>\n",
       "      <td>White_Sox_Chicago</td>\n",
       "      <td>162</td>\n",
       "      <td>6071</td>\n",
       "      <td>5523</td>\n",
       "      <td>656</td>\n",
       "      <td>1332</td>\n",
       "      <td>259</td>\n",
       "      <td>40</td>\n",
       "      <td>182</td>\n",
       "      <td>639</td>\n",
       "      <td>98</td>\n",
       "      <td>41</td>\n",
       "      <td>1594</td>\n",
       "      <td>407</td>\n",
       "      <td>0.241</td>\n",
       "      <td>0.302</td>\n",
       "      <td>0.401</td>\n",
       "      <td>0.703</td>\n",
       "      <td>0.383</td>\n",
       "    </tr>\n",
       "    <tr>\n",
       "      <th>28</th>\n",
       "      <td>29</td>\n",
       "      <td>Marlins_Miami</td>\n",
       "      <td>161</td>\n",
       "      <td>6083</td>\n",
       "      <td>5488</td>\n",
       "      <td>589</td>\n",
       "      <td>1303</td>\n",
       "      <td>222</td>\n",
       "      <td>24</td>\n",
       "      <td>128</td>\n",
       "      <td>554</td>\n",
       "      <td>45</td>\n",
       "      <td>31</td>\n",
       "      <td>1384</td>\n",
       "      <td>429</td>\n",
       "      <td>0.237</td>\n",
       "      <td>0.303</td>\n",
       "      <td>0.357</td>\n",
       "      <td>0.660</td>\n",
       "      <td>0.391</td>\n",
       "    </tr>\n",
       "    <tr>\n",
       "      <th>20</th>\n",
       "      <td>21</td>\n",
       "      <td>Tigers_Detroit</td>\n",
       "      <td>162</td>\n",
       "      <td>6029</td>\n",
       "      <td>5494</td>\n",
       "      <td>630</td>\n",
       "      <td>1326</td>\n",
       "      <td>284</td>\n",
       "      <td>35</td>\n",
       "      <td>135</td>\n",
       "      <td>597</td>\n",
       "      <td>70</td>\n",
       "      <td>30</td>\n",
       "      <td>1341</td>\n",
       "      <td>410</td>\n",
       "      <td>0.241</td>\n",
       "      <td>0.300</td>\n",
       "      <td>0.380</td>\n",
       "      <td>0.680</td>\n",
       "      <td>0.395</td>\n",
       "    </tr>\n",
       "  </tbody>\n",
       "</table>\n",
       "</div>"
      ],
      "text/plain": [
       "     #                Team    G    PA    AB    R     H   2B  3B   HR  RBI  \\\n",
       "11  12   Orioles_Baltimore  162  6034  5507  622  1317  242  15  188  593   \n",
       "5    6  Royals_Kansas_City  162  6063  5505  638  1350  283  29  155  606   \n",
       "6    7   White_Sox_Chicago  162  6071  5523  656  1332  259  40  182  639   \n",
       "28  29       Marlins_Miami  161  6083  5488  589  1303  222  24  128  554   \n",
       "20  21      Tigers_Detroit  162  6029  5494  630  1326  284  35  135  597   \n",
       "\n",
       "     SB  CS    SO   BB    AVG    OBP    SLG    OPS   WPCT  \n",
       "11   81  22  1412  403  0.239  0.298  0.391  0.689  0.290  \n",
       "5   117  38  1310  414  0.245  0.305  0.392  0.697  0.358  \n",
       "6    98  41  1594  407  0.241  0.302  0.401  0.703  0.383  \n",
       "28   45  31  1384  429  0.237  0.303  0.357  0.660  0.391  \n",
       "20   70  30  1341  410  0.241  0.300  0.380  0.680  0.395  "
      ]
     },
     "execution_count": 3,
     "metadata": {},
     "output_type": "execute_result"
    }
   ],
   "source": [
    "path_pitch = \"/kaggle/input/pitching/2018_MLB_Pitching_Stats_II.txt\"\n",
    "pitch=pd.read_csv(path_pitch, delim_whitespace = True)\n",
    "pitch.sort_values(\"WPCT\", inplace=True)\n",
    "\n",
    "path_hit = \"/kaggle/input/hitting/2018_MLB_Hitting_Stats.txt\"\n",
    "hitting = pd.read_csv(path_hit, delim_whitespace=True)\n",
    "hitting.sort_values(\"WPCT\", inplace=True)\n",
    "hitting.head()"
   ]
  },
  {
   "cell_type": "code",
   "execution_count": 4,
   "id": "9728031f",
   "metadata": {
    "execution": {
     "iopub.execute_input": "2023-01-04T17:07:04.656702Z",
     "iopub.status.busy": "2023-01-04T17:07:04.656378Z",
     "iopub.status.idle": "2023-01-04T17:07:04.677962Z",
     "shell.execute_reply": "2023-01-04T17:07:04.677117Z"
    },
    "papermill": {
     "duration": 0.027784,
     "end_time": "2023-01-04T17:07:04.680107",
     "exception": false,
     "start_time": "2023-01-04T17:07:04.652323",
     "status": "completed"
    },
    "tags": []
   },
   "outputs": [
    {
     "data": {
      "text/html": [
       "<div>\n",
       "<style scoped>\n",
       "    .dataframe tbody tr th:only-of-type {\n",
       "        vertical-align: middle;\n",
       "    }\n",
       "\n",
       "    .dataframe tbody tr th {\n",
       "        vertical-align: top;\n",
       "    }\n",
       "\n",
       "    .dataframe thead th {\n",
       "        text-align: right;\n",
       "    }\n",
       "</style>\n",
       "<table border=\"1\" class=\"dataframe\">\n",
       "  <thead>\n",
       "    <tr style=\"text-align: right;\">\n",
       "      <th></th>\n",
       "      <th>#</th>\n",
       "      <th>Team</th>\n",
       "      <th>G</th>\n",
       "      <th>IP</th>\n",
       "      <th>H</th>\n",
       "      <th>ER</th>\n",
       "      <th>HR</th>\n",
       "      <th>BB</th>\n",
       "      <th>SO</th>\n",
       "      <th>WHIP</th>\n",
       "      <th>H/9</th>\n",
       "      <th>BB/9</th>\n",
       "      <th>HR/9</th>\n",
       "      <th>SO/9</th>\n",
       "      <th>SO/BB</th>\n",
       "      <th>GB/FB</th>\n",
       "      <th>HR/FB</th>\n",
       "      <th>ERC</th>\n",
       "      <th>ERA</th>\n",
       "      <th>WPCT</th>\n",
       "    </tr>\n",
       "  </thead>\n",
       "  <tbody>\n",
       "    <tr>\n",
       "      <th>0</th>\n",
       "      <td>1</td>\n",
       "      <td>Orioles_Baltimore</td>\n",
       "      <td>162</td>\n",
       "      <td>1431.0</td>\n",
       "      <td>1552</td>\n",
       "      <td>825</td>\n",
       "      <td>234</td>\n",
       "      <td>589</td>\n",
       "      <td>1203</td>\n",
       "      <td>1.50</td>\n",
       "      <td>9.8</td>\n",
       "      <td>3.7</td>\n",
       "      <td>1.5</td>\n",
       "      <td>7.6</td>\n",
       "      <td>2.15</td>\n",
       "      <td>1.83</td>\n",
       "      <td>0.222</td>\n",
       "      <td>5.26</td>\n",
       "      <td>5.19</td>\n",
       "      <td>0.290</td>\n",
       "    </tr>\n",
       "    <tr>\n",
       "      <th>1</th>\n",
       "      <td>2</td>\n",
       "      <td>Royals_Kansas_City</td>\n",
       "      <td>162</td>\n",
       "      <td>1432.0</td>\n",
       "      <td>1542</td>\n",
       "      <td>787</td>\n",
       "      <td>205</td>\n",
       "      <td>549</td>\n",
       "      <td>1157</td>\n",
       "      <td>1.46</td>\n",
       "      <td>9.7</td>\n",
       "      <td>3.5</td>\n",
       "      <td>1.3</td>\n",
       "      <td>7.3</td>\n",
       "      <td>2.22</td>\n",
       "      <td>1.90</td>\n",
       "      <td>0.196</td>\n",
       "      <td>4.89</td>\n",
       "      <td>4.95</td>\n",
       "      <td>0.358</td>\n",
       "    </tr>\n",
       "    <tr>\n",
       "      <th>8</th>\n",
       "      <td>9</td>\n",
       "      <td>White_Sox_Chicago</td>\n",
       "      <td>162</td>\n",
       "      <td>1437.0</td>\n",
       "      <td>1404</td>\n",
       "      <td>774</td>\n",
       "      <td>196</td>\n",
       "      <td>653</td>\n",
       "      <td>1259</td>\n",
       "      <td>1.43</td>\n",
       "      <td>8.8</td>\n",
       "      <td>4.1</td>\n",
       "      <td>1.2</td>\n",
       "      <td>7.9</td>\n",
       "      <td>2.01</td>\n",
       "      <td>1.66</td>\n",
       "      <td>0.181</td>\n",
       "      <td>4.63</td>\n",
       "      <td>4.85</td>\n",
       "      <td>0.383</td>\n",
       "    </tr>\n",
       "    <tr>\n",
       "      <th>10</th>\n",
       "      <td>11</td>\n",
       "      <td>Marlins_Miami</td>\n",
       "      <td>161</td>\n",
       "      <td>1442.0</td>\n",
       "      <td>1388</td>\n",
       "      <td>763</td>\n",
       "      <td>192</td>\n",
       "      <td>605</td>\n",
       "      <td>1249</td>\n",
       "      <td>1.38</td>\n",
       "      <td>8.7</td>\n",
       "      <td>3.8</td>\n",
       "      <td>1.2</td>\n",
       "      <td>7.8</td>\n",
       "      <td>2.35</td>\n",
       "      <td>1.71</td>\n",
       "      <td>0.181</td>\n",
       "      <td>4.31</td>\n",
       "      <td>4.76</td>\n",
       "      <td>0.391</td>\n",
       "    </tr>\n",
       "    <tr>\n",
       "      <th>7</th>\n",
       "      <td>8</td>\n",
       "      <td>Tigers_Detroit</td>\n",
       "      <td>162</td>\n",
       "      <td>1425.1</td>\n",
       "      <td>1423</td>\n",
       "      <td>728</td>\n",
       "      <td>216</td>\n",
       "      <td>491</td>\n",
       "      <td>1215</td>\n",
       "      <td>1.34</td>\n",
       "      <td>9.0</td>\n",
       "      <td>3.1</td>\n",
       "      <td>1.4</td>\n",
       "      <td>7.7</td>\n",
       "      <td>2.58</td>\n",
       "      <td>1.60</td>\n",
       "      <td>0.194</td>\n",
       "      <td>4.35</td>\n",
       "      <td>4.60</td>\n",
       "      <td>0.395</td>\n",
       "    </tr>\n",
       "  </tbody>\n",
       "</table>\n",
       "</div>"
      ],
      "text/plain": [
       "     #                Team    G      IP     H   ER   HR   BB    SO  WHIP  H/9  \\\n",
       "0    1   Orioles_Baltimore  162  1431.0  1552  825  234  589  1203  1.50  9.8   \n",
       "1    2  Royals_Kansas_City  162  1432.0  1542  787  205  549  1157  1.46  9.7   \n",
       "8    9   White_Sox_Chicago  162  1437.0  1404  774  196  653  1259  1.43  8.8   \n",
       "10  11       Marlins_Miami  161  1442.0  1388  763  192  605  1249  1.38  8.7   \n",
       "7    8      Tigers_Detroit  162  1425.1  1423  728  216  491  1215  1.34  9.0   \n",
       "\n",
       "    BB/9  HR/9  SO/9  SO/BB  GB/FB  HR/FB   ERC   ERA   WPCT  \n",
       "0    3.7   1.5   7.6   2.15   1.83  0.222  5.26  5.19  0.290  \n",
       "1    3.5   1.3   7.3   2.22   1.90  0.196  4.89  4.95  0.358  \n",
       "8    4.1   1.2   7.9   2.01   1.66  0.181  4.63  4.85  0.383  \n",
       "10   3.8   1.2   7.8   2.35   1.71  0.181  4.31  4.76  0.391  \n",
       "7    3.1   1.4   7.7   2.58   1.60  0.194  4.35  4.60  0.395  "
      ]
     },
     "execution_count": 4,
     "metadata": {},
     "output_type": "execute_result"
    }
   ],
   "source": [
    "pitch.head()"
   ]
  },
  {
   "cell_type": "code",
   "execution_count": 5,
   "id": "660ae3ab",
   "metadata": {
    "execution": {
     "iopub.execute_input": "2023-01-04T17:07:04.689412Z",
     "iopub.status.busy": "2023-01-04T17:07:04.688338Z",
     "iopub.status.idle": "2023-01-04T17:07:04.709458Z",
     "shell.execute_reply": "2023-01-04T17:07:04.708072Z"
    },
    "papermill": {
     "duration": 0.027915,
     "end_time": "2023-01-04T17:07:04.711672",
     "exception": false,
     "start_time": "2023-01-04T17:07:04.683757",
     "status": "completed"
    },
    "tags": []
   },
   "outputs": [
    {
     "data": {
      "text/html": [
       "<div>\n",
       "<style scoped>\n",
       "    .dataframe tbody tr th:only-of-type {\n",
       "        vertical-align: middle;\n",
       "    }\n",
       "\n",
       "    .dataframe tbody tr th {\n",
       "        vertical-align: top;\n",
       "    }\n",
       "\n",
       "    .dataframe thead th {\n",
       "        text-align: right;\n",
       "    }\n",
       "</style>\n",
       "<table border=\"1\" class=\"dataframe\">\n",
       "  <thead>\n",
       "    <tr style=\"text-align: right;\">\n",
       "      <th></th>\n",
       "      <th></th>\n",
       "      <th>ERA</th>\n",
       "      <th>SO</th>\n",
       "      <th>ER</th>\n",
       "      <th>HR</th>\n",
       "    </tr>\n",
       "  </thead>\n",
       "  <tbody>\n",
       "    <tr>\n",
       "      <th>0</th>\n",
       "      <td>Pitching</td>\n",
       "      <td>-0.875797</td>\n",
       "      <td>0.736197</td>\n",
       "      <td>-0.874808</td>\n",
       "      <td>-0.656634</td>\n",
       "    </tr>\n",
       "  </tbody>\n",
       "</table>\n",
       "</div>"
      ],
      "text/plain": [
       "                  ERA        SO        ER        HR\n",
       "0  Pitching -0.875797  0.736197 -0.874808 -0.656634"
      ]
     },
     "execution_count": 5,
     "metadata": {},
     "output_type": "execute_result"
    }
   ],
   "source": [
    "#On Base Percentage (OBP) , Slugging Percentage (SLG) , Batting Average (AVG), Runs Batted In (RBI) with Winning Percentage (WPCT)\n",
    "hit_columns = [\"OBP\", \"SLG\", \"AVG\", \"RBI\"]\n",
    "hit_dict = {\"\":[\"Hitting\"]}\n",
    "for column in hit_columns:\n",
    "    hit_dict[column]=(correlation_array(hitting[column],hitting[\"WPCT\"]))\n",
    "hit_pd = pd.DataFrame.from_dict(hit_dict)\n",
    "\n",
    "#Earned Run Average (ERA) , Number of Strikeouts (SO) , Runs given up (R), Home Runs Given UP (HR) with Winning Percentage (WPCT)\n",
    "pitch_columns = [\"ERA\", \"SO\", \"ER\", \"HR\"]\n",
    "pitch_dict = {\"\":[\"Pitching\"]}\n",
    "for column in pitch_columns:\n",
    "    pitch_dict[column]=(correlation_array(pitch[column],pitch[\"WPCT\"]))\n",
    "pitch_pd = pd.DataFrame.from_dict(pitch_dict)\n",
    "pitch_pd"
   ]
  },
  {
   "cell_type": "code",
   "execution_count": 6,
   "id": "7818e5f6",
   "metadata": {
    "execution": {
     "iopub.execute_input": "2023-01-04T17:07:04.721322Z",
     "iopub.status.busy": "2023-01-04T17:07:04.720198Z",
     "iopub.status.idle": "2023-01-04T17:07:04.731822Z",
     "shell.execute_reply": "2023-01-04T17:07:04.730989Z"
    },
    "papermill": {
     "duration": 0.01811,
     "end_time": "2023-01-04T17:07:04.733616",
     "exception": false,
     "start_time": "2023-01-04T17:07:04.715506",
     "status": "completed"
    },
    "tags": []
   },
   "outputs": [
    {
     "data": {
      "text/html": [
       "<div>\n",
       "<style scoped>\n",
       "    .dataframe tbody tr th:only-of-type {\n",
       "        vertical-align: middle;\n",
       "    }\n",
       "\n",
       "    .dataframe tbody tr th {\n",
       "        vertical-align: top;\n",
       "    }\n",
       "\n",
       "    .dataframe thead th {\n",
       "        text-align: right;\n",
       "    }\n",
       "</style>\n",
       "<table border=\"1\" class=\"dataframe\">\n",
       "  <thead>\n",
       "    <tr style=\"text-align: right;\">\n",
       "      <th></th>\n",
       "      <th></th>\n",
       "      <th>OBP</th>\n",
       "      <th>SLG</th>\n",
       "      <th>AVG</th>\n",
       "      <th>RBI</th>\n",
       "    </tr>\n",
       "  </thead>\n",
       "  <tbody>\n",
       "    <tr>\n",
       "      <th>0</th>\n",
       "      <td>Hitting</td>\n",
       "      <td>0.798343</td>\n",
       "      <td>0.749826</td>\n",
       "      <td>0.68859</td>\n",
       "      <td>0.823533</td>\n",
       "    </tr>\n",
       "  </tbody>\n",
       "</table>\n",
       "</div>"
      ],
      "text/plain": [
       "                 OBP       SLG      AVG       RBI\n",
       "0  Hitting  0.798343  0.749826  0.68859  0.823533"
      ]
     },
     "execution_count": 6,
     "metadata": {},
     "output_type": "execute_result"
    }
   ],
   "source": [
    "hit_pd\n",
    "#pitch_pd and hit_pd are the correlations for each column title vs win percentage"
   ]
  },
  {
   "cell_type": "code",
   "execution_count": 7,
   "id": "45858572",
   "metadata": {
    "execution": {
     "iopub.execute_input": "2023-01-04T17:07:04.743007Z",
     "iopub.status.busy": "2023-01-04T17:07:04.742093Z",
     "iopub.status.idle": "2023-01-04T17:07:04.989923Z",
     "shell.execute_reply": "2023-01-04T17:07:04.989047Z"
    },
    "papermill": {
     "duration": 0.255479,
     "end_time": "2023-01-04T17:07:04.992965",
     "exception": false,
     "start_time": "2023-01-04T17:07:04.737486",
     "status": "completed"
    },
    "tags": []
   },
   "outputs": [
    {
     "name": "stdout",
     "output_type": "stream",
     "text": [
      "0.0009520148358431874 -0.14981630723205086\n"
     ]
    },
    {
     "data": {
      "image/png": "[encoded data removed]",
      "text/plain": [
       "<Figure size 432x288 with 1 Axes>"
      ]
     },
     "metadata": {
      "needs_background": "light"
     },
     "output_type": "display_data"
    },
    {
     "name": "stdout",
     "output_type": "stream",
     "text": [
      "0.000487839066297964 -0.17153775297045826\n"
     ]
    },
    {
     "data": {
      "image/png": "[encoded data removed]",
      "text/plain": [
       "<Figure size 432x288 with 1 Axes>"
      ]
     },
     "metadata": {
      "needs_background": "light"
     },
     "output_type": "display_data"
    },
    {
     "name": "stdout",
     "output_type": "stream",
     "text": [
      "0.1961390327965118\n",
      "0.19689790965978524\n"
     ]
    }
   ],
   "source": [
    "con = 2\n",
    "\n",
    "#hit\n",
    "hit_er = old_vs_new_plot(hitting[\"RBI\"], hitting[\"WPCT\"], \"Runs Batted In\", \"Winning Percentage\", con)\n",
    "#pitch\n",
    "pitch_er = old_vs_new_plot(pitch[\"SO\"], pitch[\"WPCT\"], \"Number of Strikeouts\", \"Winning Percentage\", con)\n",
    "print(f\"{hit_er}\\n{pitch_er}\") #rmse values"
   ]
  },
  {
   "cell_type": "code",
   "execution_count": 8,
   "id": "463849fe",
   "metadata": {
    "execution": {
     "iopub.execute_input": "2023-01-04T17:07:05.003433Z",
     "iopub.status.busy": "2023-01-04T17:07:05.003057Z",
     "iopub.status.idle": "2023-01-04T17:07:05.188977Z",
     "shell.execute_reply": "2023-01-04T17:07:05.188097Z"
    },
    "papermill": {
     "duration": 0.193289,
     "end_time": "2023-01-04T17:07:05.190923",
     "exception": false,
     "start_time": "2023-01-04T17:07:04.997634",
     "status": "completed"
    },
    "tags": []
   },
   "outputs": [
    {
     "data": {
      "text/plain": [
       "<AxesSubplot:>"
      ]
     },
     "execution_count": 8,
     "metadata": {},
     "output_type": "execute_result"
    },
    {
     "data": {
      "image/png": "[encoded data removed]",
      "text/plain": [
       "<Figure size 432x288 with 2 Axes>"
      ]
     },
     "metadata": {
      "needs_background": "light"
     },
     "output_type": "display_data"
    }
   ],
   "source": [
    "sb.heatmap((hit_pd.drop([\"\"], axis=1)),  annot=True, yticklabels=hit_pd[''])"
   ]
  },
  {
   "cell_type": "code",
   "execution_count": 9,
   "id": "72b1c5c8",
   "metadata": {
    "execution": {
     "iopub.execute_input": "2023-01-04T17:07:05.201444Z",
     "iopub.status.busy": "2023-01-04T17:07:05.201145Z",
     "iopub.status.idle": "2023-01-04T17:07:05.387241Z",
     "shell.execute_reply": "2023-01-04T17:07:05.385587Z"
    },
    "papermill": {
     "duration": 0.193424,
     "end_time": "2023-01-04T17:07:05.389122",
     "exception": false,
     "start_time": "2023-01-04T17:07:05.195698",
     "status": "completed"
    },
    "tags": []
   },
   "outputs": [
    {
     "data": {
      "text/plain": [
       "<AxesSubplot:>"
      ]
     },
     "execution_count": 9,
     "metadata": {},
     "output_type": "execute_result"
    },
    {
     "data": {
      "image/png": "[encoded data removed]",
      "text/plain": [
       "<Figure size 432x288 with 2 Axes>"
      ]
     },
     "metadata": {
      "needs_background": "light"
     },
     "output_type": "display_data"
    }
   ],
   "source": [
    "sb.heatmap((pitch_pd.drop([\"\"], axis=1)),  annot=True, yticklabels=pitch_pd[''])"
   ]
  }
 ],
 "metadata": {
  "kernelspec": {
   "display_name": "Python 3",
   "language": "python",
   "name": "python3"
  },
  "language_info": {
   "codemirror_mode": {
    "name": "ipython",
    "version": 3
   },
   "file_extension": ".py",
   "mimetype": "text/x-python",
   "name": "python",
   "nbconvert_exporter": "python",
   "pygments_lexer": "ipython3",
   "version": "3.7.12"
  },
  "papermill": {
   "default_parameters": {},
   "duration": 11.957598,
   "end_time": "2023-01-04T17:07:08.868703",
   "environment_variables": {},
   "exception": null,
   "input_path": "__notebook__.ipynb",
   "output_path": "__notebook__.ipynb",
   "parameters": {},
   "start_time": "2023-01-04T17:06:56.911105",
   "version": "2.3.4"
  }
 },
 "nbformat": 4,
 "nbformat_minor": 5
}
