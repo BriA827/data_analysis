{
 "cells": [
  {
   "cell_type": "markdown",
   "id": "82c32dec",
   "metadata": {
    "id": "view-in-github",
    "papermill": {
     "duration": 0.008615,
     "end_time": "2022-10-21T15:30:19.254664",
     "exception": false,
     "start_time": "2022-10-21T15:30:19.246049",
     "status": "completed"
    },
    "tags": []
   },
   "source": [
    "<a href=\"https://colab.research.google.com/github/bobg207/BulldogCompSci/blob/master/pandas_weather_plots.ipynb\" target=\"_parent\"><img src=\"https://colab.research.google.com/assets/colab-badge.svg\" alt=\"Open In Colab\"/></a>"
   ]
  },
  {
   "cell_type": "markdown",
   "id": "2143a50c",
   "metadata": {
    "id": "SpoKEUEfAJvR",
    "papermill": {
     "duration": 0.006793,
     "end_time": "2022-10-21T15:30:19.268810",
     "exception": false,
     "start_time": "2022-10-21T15:30:19.262017",
     "status": "completed"
    },
    "tags": []
   },
   "source": [
    "# Mount the drive\n",
    "\n",
    "The path to drive is '/content/drive'"
   ]
  },
  {
   "cell_type": "code",
   "execution_count": 1,
   "id": "5f321ad9",
   "metadata": {
    "execution": {
     "iopub.execute_input": "2022-10-21T15:30:19.284842Z",
     "iopub.status.busy": "2022-10-21T15:30:19.284281Z",
     "iopub.status.idle": "2022-10-21T15:30:19.289618Z",
     "shell.execute_reply": "2022-10-21T15:30:19.288708Z"
    },
    "id": "5ydUeyqjDVan",
    "outputId": "b16e48c7-19cb-4499-f2a9-0bb6a7810b65",
    "papermill": {
     "duration": 0.016229,
     "end_time": "2022-10-21T15:30:19.291869",
     "exception": false,
     "start_time": "2022-10-21T15:30:19.275640",
     "status": "completed"
    },
    "tags": []
   },
   "outputs": [],
   "source": [
    "# from google.colab import drive\n",
    "# drive.mount('/content/drive')"
   ]
  },
  {
   "cell_type": "markdown",
   "id": "955e8e7d",
   "metadata": {
    "id": "d9fG6mX3AQmq",
    "papermill": {
     "duration": 0.006387,
     "end_time": "2022-10-21T15:30:19.305127",
     "exception": false,
     "start_time": "2022-10-21T15:30:19.298740",
     "status": "completed"
    },
    "tags": []
   },
   "source": [
    "# Display the contents of the folder where the data exists\n",
    "\n",
    "Use `!ls` followed by the path to the folder containg the data file.  Be sure to escape `\\` any special characters, like spaces, that might be part of a folder name. The path to the folder begins with the path used above and ends with `/*.txt`. This will display all (`*`) files, with extension `.txt` that are in the location provided by the path.\n",
    "\n",
    "ex: `!ls content/drive/My\\ Drive/ColabNBs/*.txt`\n",
    "\n",
    "Notice the escaped space between \"My\" and \"Drive\".  Also when doing this the path is NOT in quotes, the language here is not Python but Command Line and as such does not require the path to be a string."
   ]
  },
  {
   "cell_type": "code",
   "execution_count": 2,
   "id": "d4728060",
   "metadata": {
    "execution": {
     "iopub.execute_input": "2022-10-21T15:30:19.321037Z",
     "iopub.status.busy": "2022-10-21T15:30:19.319882Z",
     "iopub.status.idle": "2022-10-21T15:30:19.324754Z",
     "shell.execute_reply": "2022-10-21T15:30:19.323986Z"
    },
    "id": "XlEiovK2DtLm",
    "outputId": "913f1abe-505f-4adc-fc33-871861494405",
    "papermill": {
     "duration": 0.01536,
     "end_time": "2022-10-21T15:30:19.327119",
     "exception": false,
     "start_time": "2022-10-21T15:30:19.311759",
     "status": "completed"
    },
    "tags": []
   },
   "outputs": [],
   "source": [
    "# !ls /content/drive/My\\ Drive/Colab\\ Notebooks/*.txt"
   ]
  },
  {
   "cell_type": "markdown",
   "id": "da262081",
   "metadata": {
    "id": "ICPlcarrBVMj",
    "papermill": {
     "duration": 0.007157,
     "end_time": "2022-10-21T15:30:19.341552",
     "exception": false,
     "start_time": "2022-10-21T15:30:19.334395",
     "status": "completed"
    },
    "tags": []
   },
   "source": [
    "# Create a convert_temp function\n",
    "\n",
    "The temperatures, in the data, are in degrees Celsius and mulitplied by 10 so there are no decimals in the data.  Create a function to convert a given temp to a temp in degrees Fahrenheit, rounded to one decimal place.\n",
    "\n"
   ]
  },
  {
   "cell_type": "code",
   "execution_count": 3,
   "id": "3b08756d",
   "metadata": {
    "execution": {
     "iopub.execute_input": "2022-10-21T15:30:19.358149Z",
     "iopub.status.busy": "2022-10-21T15:30:19.356883Z",
     "iopub.status.idle": "2022-10-21T15:30:19.366757Z",
     "shell.execute_reply": "2022-10-21T15:30:19.365920Z"
    },
    "id": "Qm2pvMtjFCXf",
    "papermill": {
     "duration": 0.020531,
     "end_time": "2022-10-21T15:30:19.369011",
     "exception": false,
     "start_time": "2022-10-21T15:30:19.348480",
     "status": "completed"
    },
    "tags": []
   },
   "outputs": [],
   "source": [
    "def temp_convert(temp):\n",
    "    convert_decimal = int(temp)/10\n",
    "    convert_temp = round(convert_decimal* (9/5) +32, 1)\n",
    "    return convert_temp\n"
   ]
  },
  {
   "cell_type": "markdown",
   "id": "9820a7d8",
   "metadata": {
    "id": "-ywZsDIFG6DG",
    "papermill": {
     "duration": 0.006542,
     "end_time": "2022-10-21T15:30:19.382278",
     "exception": false,
     "start_time": "2022-10-21T15:30:19.375736",
     "status": "completed"
    },
    "tags": []
   },
   "source": [
    "# Read the data from the file\n",
    "\n",
    "Create the path (should be the one use above, with the specific file that you will read from).\n",
    "\n",
    "Use this path to read the dat from the file.  Decide how you will do this and what format would you like the data returned as.\n",
    "\n",
    "Spend some time looking at the data and deciding how you will \"clean\" the data.  \n",
    "\n",
    "1.   Which columns of data are of interest and wich will be ignored\n",
    "2.   What are the data types currently and what do you want them to be\n",
    "3.   What data do you want and how will you store the data you choose\n",
    "4.   How will you convert the data that needs changing\n",
    "5.   Is there any missing or unusual data? How will you handle this?\n",
    "6.   Other?"
   ]
  },
  {
   "cell_type": "code",
   "execution_count": 4,
   "id": "96791494",
   "metadata": {
    "execution": {
     "iopub.execute_input": "2022-10-21T15:30:19.398215Z",
     "iopub.status.busy": "2022-10-21T15:30:19.397481Z",
     "iopub.status.idle": "2022-10-21T15:30:19.410687Z",
     "shell.execute_reply": "2022-10-21T15:30:19.409709Z"
    },
    "id": "ZUR4ETRcG6tW",
    "papermill": {
     "duration": 0.024532,
     "end_time": "2022-10-21T15:30:19.413481",
     "exception": false,
     "start_time": "2022-10-21T15:30:19.388949",
     "status": "completed"
    },
    "tags": []
   },
   "outputs": [],
   "source": [
    "# path = '/content/drive/My Drive/Colab Notebooks/PortlandWeather2013b.txt'\n",
    "\n",
    "# with open(path) as file:\n",
    "#     data_list = file.readlines()\n",
    "\n",
    "# data_list\n",
    "path = '../input/portland-weather/PortlandWeather2013b.txt'\n",
    "\n",
    "with open(path) as f:\n",
    "    file = f.readlines()\n",
    "    \n"
   ]
  },
  {
   "cell_type": "markdown",
   "id": "d7f3405f",
   "metadata": {
    "id": "Ht_wS5lLHQ3g",
    "papermill": {
     "duration": 0.006588,
     "end_time": "2022-10-21T15:30:19.427372",
     "exception": false,
     "start_time": "2022-10-21T15:30:19.420784",
     "status": "completed"
    },
    "tags": []
   },
   "source": [
    "# Create a Python dictionary with the weather data\n",
    "\n",
    "Copy/Paste your code from the previous NB"
   ]
  },
  {
   "cell_type": "code",
   "execution_count": 5,
   "id": "1be9f7ca",
   "metadata": {
    "execution": {
     "iopub.execute_input": "2022-10-21T15:30:19.443550Z",
     "iopub.status.busy": "2022-10-21T15:30:19.443044Z",
     "iopub.status.idle": "2022-10-21T15:30:19.453017Z",
     "shell.execute_reply": "2022-10-21T15:30:19.452107Z"
    },
    "id": "x0aT8LptHRng",
    "papermill": {
     "duration": 0.02091,
     "end_time": "2022-10-21T15:30:19.455247",
     "exception": false,
     "start_time": "2022-10-21T15:30:19.434337",
     "status": "completed"
    },
    "tags": []
   },
   "outputs": [],
   "source": [
    "dict = {\"date\":[], \"min_temp\":[], \"max_temp\":[]}\n",
    "the_list = []\n",
    "    \n",
    "for num in range(2):\n",
    "    file.pop(0)\n",
    "\n",
    "for item in file:\n",
    "    item_list = item.split()\n",
    "    the_list.append(item_list)\n",
    "    \n",
    "for i in range(len(the_list)) :\n",
    "    min_cel = int(the_list[i][6])\n",
    "    min = temp_convert(min_cel)\n",
    "    \n",
    "    max_cel = int(the_list[i][5])\n",
    "    max = temp_convert(max_cel)\n",
    "    \n",
    "    dict[\"date\"].append(the_list[i][1])\n",
    "    dict[\"min_temp\"].append(min)\n",
    "    dict[\"max_temp\"].append(max)"
   ]
  },
  {
   "cell_type": "markdown",
   "id": "40f5a657",
   "metadata": {
    "id": "qN-dIlIPvpB_",
    "papermill": {
     "duration": 0.006121,
     "end_time": "2022-10-21T15:30:19.469400",
     "exception": false,
     "start_time": "2022-10-21T15:30:19.463279",
     "status": "completed"
    },
    "tags": []
   },
   "source": [
    "# Pandas"
   ]
  },
  {
   "cell_type": "markdown",
   "id": "a5bbc62c",
   "metadata": {
    "id": "8DDcf3h9vwIW",
    "papermill": {
     "duration": 0.006215,
     "end_time": "2022-10-21T15:30:19.481992",
     "exception": false,
     "start_time": "2022-10-21T15:30:19.475777",
     "status": "completed"
    },
    "tags": []
   },
   "source": [
    "## Create a Dataframe using the weather dictionary"
   ]
  },
  {
   "cell_type": "code",
   "execution_count": 6,
   "id": "7a333513",
   "metadata": {
    "execution": {
     "iopub.execute_input": "2022-10-21T15:30:19.497869Z",
     "iopub.status.busy": "2022-10-21T15:30:19.497067Z",
     "iopub.status.idle": "2022-10-21T15:30:19.536354Z",
     "shell.execute_reply": "2022-10-21T15:30:19.535031Z"
    },
    "id": "evrpGqL2v433",
    "papermill": {
     "duration": 0.051168,
     "end_time": "2022-10-21T15:30:19.539809",
     "exception": false,
     "start_time": "2022-10-21T15:30:19.488641",
     "status": "completed"
    },
    "tags": []
   },
   "outputs": [
    {
     "data": {
      "text/html": [
       "<div>\n",
       "<style scoped>\n",
       "    .dataframe tbody tr th:only-of-type {\n",
       "        vertical-align: middle;\n",
       "    }\n",
       "\n",
       "    .dataframe tbody tr th {\n",
       "        vertical-align: top;\n",
       "    }\n",
       "\n",
       "    .dataframe thead th {\n",
       "        text-align: right;\n",
       "    }\n",
       "</style>\n",
       "<table border=\"1\" class=\"dataframe\">\n",
       "  <thead>\n",
       "    <tr style=\"text-align: right;\">\n",
       "      <th></th>\n",
       "      <th>date</th>\n",
       "      <th>min_temp</th>\n",
       "      <th>max_temp</th>\n",
       "    </tr>\n",
       "  </thead>\n",
       "  <tbody>\n",
       "    <tr>\n",
       "      <th>0</th>\n",
       "      <td>20130101</td>\n",
       "      <td>10.9</td>\n",
       "      <td>32.0</td>\n",
       "    </tr>\n",
       "    <tr>\n",
       "      <th>1</th>\n",
       "      <td>20130102</td>\n",
       "      <td>3.0</td>\n",
       "      <td>24.1</td>\n",
       "    </tr>\n",
       "    <tr>\n",
       "      <th>2</th>\n",
       "      <td>20130103</td>\n",
       "      <td>-0.0</td>\n",
       "      <td>23.0</td>\n",
       "    </tr>\n",
       "    <tr>\n",
       "      <th>3</th>\n",
       "      <td>20130104</td>\n",
       "      <td>9.0</td>\n",
       "      <td>34.0</td>\n",
       "    </tr>\n",
       "    <tr>\n",
       "      <th>4</th>\n",
       "      <td>20130105</td>\n",
       "      <td>16.0</td>\n",
       "      <td>36.0</td>\n",
       "    </tr>\n",
       "    <tr>\n",
       "      <th>...</th>\n",
       "      <td>...</td>\n",
       "      <td>...</td>\n",
       "      <td>...</td>\n",
       "    </tr>\n",
       "    <tr>\n",
       "      <th>360</th>\n",
       "      <td>20131227</td>\n",
       "      <td>7.2</td>\n",
       "      <td>32.0</td>\n",
       "    </tr>\n",
       "    <tr>\n",
       "      <th>361</th>\n",
       "      <td>20131228</td>\n",
       "      <td>18.1</td>\n",
       "      <td>37.0</td>\n",
       "    </tr>\n",
       "    <tr>\n",
       "      <th>362</th>\n",
       "      <td>20131229</td>\n",
       "      <td>20.1</td>\n",
       "      <td>35.1</td>\n",
       "    </tr>\n",
       "    <tr>\n",
       "      <th>363</th>\n",
       "      <td>20131230</td>\n",
       "      <td>8.2</td>\n",
       "      <td>35.1</td>\n",
       "    </tr>\n",
       "    <tr>\n",
       "      <th>364</th>\n",
       "      <td>20131231</td>\n",
       "      <td>1.2</td>\n",
       "      <td>13.1</td>\n",
       "    </tr>\n",
       "  </tbody>\n",
       "</table>\n",
       "<p>365 rows × 3 columns</p>\n",
       "</div>"
      ],
      "text/plain": [
       "         date  min_temp  max_temp\n",
       "0    20130101      10.9      32.0\n",
       "1    20130102       3.0      24.1\n",
       "2    20130103      -0.0      23.0\n",
       "3    20130104       9.0      34.0\n",
       "4    20130105      16.0      36.0\n",
       "..        ...       ...       ...\n",
       "360  20131227       7.2      32.0\n",
       "361  20131228      18.1      37.0\n",
       "362  20131229      20.1      35.1\n",
       "363  20131230       8.2      35.1\n",
       "364  20131231       1.2      13.1\n",
       "\n",
       "[365 rows x 3 columns]"
      ]
     },
     "execution_count": 6,
     "metadata": {},
     "output_type": "execute_result"
    }
   ],
   "source": [
    "# create a pandas df\n",
    "import pandas as pd\n",
    "data_df = pd.DataFrame(dict)\n",
    "data_df"
   ]
  },
  {
   "cell_type": "markdown",
   "id": "8811dafa",
   "metadata": {
    "id": "NEKEp72-v-v1",
    "papermill": {
     "duration": 0.006884,
     "end_time": "2022-10-21T15:30:19.553630",
     "exception": false,
     "start_time": "2022-10-21T15:30:19.546746",
     "status": "completed"
    },
    "tags": []
   },
   "source": [
    "## Display the first 5 and last 5 rows"
   ]
  },
  {
   "cell_type": "code",
   "execution_count": 7,
   "id": "e685ed03",
   "metadata": {
    "execution": {
     "iopub.execute_input": "2022-10-21T15:30:19.569690Z",
     "iopub.status.busy": "2022-10-21T15:30:19.569207Z",
     "iopub.status.idle": "2022-10-21T15:30:19.584414Z",
     "shell.execute_reply": "2022-10-21T15:30:19.583094Z"
    },
    "id": "c7nSasz_v82g",
    "papermill": {
     "duration": 0.026689,
     "end_time": "2022-10-21T15:30:19.587179",
     "exception": false,
     "start_time": "2022-10-21T15:30:19.560490",
     "status": "completed"
    },
    "tags": []
   },
   "outputs": [
    {
     "name": "stdout",
     "output_type": "stream",
     "text": [
      "       date  min_temp  max_temp\n",
      "0  20130101      10.9      32.0\n",
      "1  20130102       3.0      24.1\n",
      "2  20130103      -0.0      23.0\n",
      "3  20130104       9.0      34.0\n",
      "4  20130105      16.0      36.0\n",
      "       date  min_temp  max_temp\n",
      "5  20130106      16.0      37.0\n",
      "6  20130107      15.1      30.9\n",
      "7  20130108      12.9      43.0\n",
      "         date  min_temp  max_temp\n",
      "360  20131227       7.2      32.0\n",
      "361  20131228      18.1      37.0\n",
      "362  20131229      20.1      35.1\n",
      "363  20131230       8.2      35.1\n",
      "364  20131231       1.2      13.1\n"
     ]
    }
   ],
   "source": [
    "print(data_df.head())\n",
    "print(data_df[5:8])\n",
    "print(data_df.tail())\n"
   ]
  },
  {
   "cell_type": "markdown",
   "id": "487eace9",
   "metadata": {
    "id": "XzNKS7aywMm3",
    "papermill": {
     "duration": 0.006591,
     "end_time": "2022-10-21T15:30:19.600814",
     "exception": false,
     "start_time": "2022-10-21T15:30:19.594223",
     "status": "completed"
    },
    "tags": []
   },
   "source": [
    "## Display a summary of basic information about your df, in two ways"
   ]
  },
  {
   "cell_type": "code",
   "execution_count": 8,
   "id": "e26fc195",
   "metadata": {
    "execution": {
     "iopub.execute_input": "2022-10-21T15:30:19.616961Z",
     "iopub.status.busy": "2022-10-21T15:30:19.616199Z",
     "iopub.status.idle": "2022-10-21T15:30:19.653493Z",
     "shell.execute_reply": "2022-10-21T15:30:19.652070Z"
    },
    "id": "XQ_qDdLtwvPN",
    "papermill": {
     "duration": 0.04892,
     "end_time": "2022-10-21T15:30:19.656457",
     "exception": false,
     "start_time": "2022-10-21T15:30:19.607537",
     "status": "completed"
    },
    "tags": []
   },
   "outputs": [
    {
     "name": "stdout",
     "output_type": "stream",
     "text": [
      "<class 'pandas.core.frame.DataFrame'>\n",
      "RangeIndex: 365 entries, 0 to 364\n",
      "Data columns (total 3 columns):\n",
      " #   Column    Non-Null Count  Dtype  \n",
      "---  ------    --------------  -----  \n",
      " 0   date      365 non-null    object \n",
      " 1   min_temp  365 non-null    float64\n",
      " 2   max_temp  365 non-null    float64\n",
      "dtypes: float64(2), object(1)\n",
      "memory usage: 8.7+ KB\n",
      "None\n",
      "\n",
      "         min_temp    max_temp\n",
      "count  365.000000  365.000000\n",
      "mean    38.138904   55.941644\n",
      "std     17.374042   18.882167\n",
      "min     -5.800000    8.100000\n",
      "25%     26.200000   39.900000\n",
      "50%     37.000000   57.000000\n",
      "75%     52.000000   71.100000\n",
      "max     73.000000   95.000000\n"
     ]
    }
   ],
   "source": [
    "# df.info() and df.describe()\n",
    "print(data_df.info())\n",
    "print()\n",
    "print(data_df.describe())"
   ]
  },
  {
   "cell_type": "markdown",
   "id": "7de47197",
   "metadata": {
    "id": "a4Xo0_PewuEs",
    "papermill": {
     "duration": 0.006911,
     "end_time": "2022-10-21T15:30:19.670559",
     "exception": false,
     "start_time": "2022-10-21T15:30:19.663648",
     "status": "completed"
    },
    "tags": []
   },
   "source": [
    "## Display the first 3 rows of the max temps columns using 2 different methods. Assign each to a different variable and use print( ) to display."
   ]
  },
  {
   "cell_type": "code",
   "execution_count": 9,
   "id": "c0db5b97",
   "metadata": {
    "execution": {
     "iopub.execute_input": "2022-10-21T15:30:19.686487Z",
     "iopub.status.busy": "2022-10-21T15:30:19.685983Z",
     "iopub.status.idle": "2022-10-21T15:30:19.697502Z",
     "shell.execute_reply": "2022-10-21T15:30:19.696313Z"
    },
    "id": "gC9RsJo3xJ9N",
    "papermill": {
     "duration": 0.022775,
     "end_time": "2022-10-21T15:30:19.700293",
     "exception": false,
     "start_time": "2022-10-21T15:30:19.677518",
     "status": "completed"
    },
    "tags": []
   },
   "outputs": [
    {
     "name": "stdout",
     "output_type": "stream",
     "text": [
      "   max_temp\n",
      "0      32.0\n",
      "1      24.1\n",
      "2      23.0\n",
      "\n",
      "0    32.0\n",
      "1    24.1\n",
      "2    23.0\n",
      "Name: max_temp, dtype: float64\n"
     ]
    }
   ],
   "source": [
    "# df.iloc[[rowstart:rowstop], [col1]] for integer selection; \n",
    "# stop is exclusive due to zero indexing\n",
    "# df.loc[[rowstart:rowstop], [col1]] for label selection; \n",
    "# stop is inclusive\n",
    "\n",
    "ex1 = data_df.loc[:2,[\"max_temp\"]]\n",
    "ex2 = data_df.iloc[:3,2]\n",
    "print(ex1)\n",
    "print()\n",
    "print(ex2)"
   ]
  },
  {
   "cell_type": "markdown",
   "id": "62847a70",
   "metadata": {
    "id": "1AB5oGWFxKlL",
    "papermill": {
     "duration": 0.007388,
     "end_time": "2022-10-21T15:30:19.714937",
     "exception": false,
     "start_time": "2022-10-21T15:30:19.707549",
     "status": "completed"
    },
    "tags": []
   },
   "source": [
    "## ## Display the rows 10, 100, 200, and 365 of the date and min temps columns using 2 different methods. Assign each to a different variable and use print( ) to display."
   ]
  },
  {
   "cell_type": "code",
   "execution_count": 10,
   "id": "7a8ae34b",
   "metadata": {
    "execution": {
     "iopub.execute_input": "2022-10-21T15:30:19.734038Z",
     "iopub.status.busy": "2022-10-21T15:30:19.733578Z",
     "iopub.status.idle": "2022-10-21T15:30:19.747038Z",
     "shell.execute_reply": "2022-10-21T15:30:19.745952Z"
    },
    "id": "ip1IgCTmycji",
    "papermill": {
     "duration": 0.026847,
     "end_time": "2022-10-21T15:30:19.749785",
     "exception": false,
     "start_time": "2022-10-21T15:30:19.722938",
     "status": "completed"
    },
    "tags": []
   },
   "outputs": [
    {
     "name": "stdout",
     "output_type": "stream",
     "text": [
      "         date  min_temp\n",
      "10   20130111      19.0\n",
      "100  20130411      39.9\n",
      "200  20130720      70.0\n",
      "364  20131231       1.2\n",
      "\n",
      "         date  min_temp\n",
      "10   20130111      19.0\n",
      "100  20130411      39.9\n",
      "200  20130720      70.0\n",
      "364  20131231       1.2\n"
     ]
    }
   ],
   "source": [
    "# df.iloc[[row1, row2, ...], [col1, col2, ...]] for integer selection; \n",
    "# stop is exclusive due to zero indexing\n",
    "# df.loc[[row1, row2, ...], [col1, col2, ...]] for label selection; \n",
    "# stop is inclusive\n",
    "\n",
    "examp1 = data_df.loc[[10,100,200,364], [\"date\", \"min_temp\"]]\n",
    "examp2 = data_df.iloc[[10,100,200,364], [0,1]]\n",
    "\n",
    "print(examp1)\n",
    "print()\n",
    "print(examp2)"
   ]
  },
  {
   "cell_type": "markdown",
   "id": "5e9a9815",
   "metadata": {
    "id": "rIs0ZfXPzRu1",
    "papermill": {
     "duration": 0.006809,
     "end_time": "2022-10-21T15:30:19.763545",
     "exception": false,
     "start_time": "2022-10-21T15:30:19.756736",
     "status": "completed"
    },
    "tags": []
   },
   "source": [
    "## Select only the rows where the max temps are greater than 90. Assign this to a variable"
   ]
  },
  {
   "cell_type": "code",
   "execution_count": 11,
   "id": "abdc552b",
   "metadata": {
    "execution": {
     "iopub.execute_input": "2022-10-21T15:30:19.779412Z",
     "iopub.status.busy": "2022-10-21T15:30:19.778748Z",
     "iopub.status.idle": "2022-10-21T15:30:19.787841Z",
     "shell.execute_reply": "2022-10-21T15:30:19.786529Z"
    },
    "id": "0UiFhgIAzTL5",
    "papermill": {
     "duration": 0.020102,
     "end_time": "2022-10-21T15:30:19.790545",
     "exception": false,
     "start_time": "2022-10-21T15:30:19.770443",
     "status": "completed"
    },
    "tags": []
   },
   "outputs": [
    {
     "name": "stdout",
     "output_type": "stream",
     "text": [
      "         date  min_temp  max_temp\n",
      "150  20130531      57.9      91.9\n",
      "174  20130624      66.9      91.9\n",
      "175  20130625      69.1      91.0\n",
      "185  20130705      73.0      93.0\n",
      "195  20130715      70.0      91.0\n",
      "199  20130719      69.1      95.0\n",
      "200  20130720      70.0      91.0\n",
      "253  20130911      61.0      93.0\n"
     ]
    }
   ],
   "source": [
    "# df.loc[df[col] condition]\n",
    "greater_than_90 = data_df.loc[data_df[\"max_temp\"]>90]\n",
    "print(greater_than_90)"
   ]
  },
  {
   "cell_type": "markdown",
   "id": "061ec600",
   "metadata": {
    "id": "0x7IkNYJ1U9q",
    "papermill": {
     "duration": 0.006796,
     "end_time": "2022-10-21T15:30:19.804568",
     "exception": false,
     "start_time": "2022-10-21T15:30:19.797772",
     "status": "completed"
    },
    "tags": []
   },
   "source": [
    "## Using the dataframe (assigned to a variable) from the previous cell, get just the dates where the temperature was greater than 90.  Convert to a Python list."
   ]
  },
  {
   "cell_type": "code",
   "execution_count": 12,
   "id": "6208db1b",
   "metadata": {
    "execution": {
     "iopub.execute_input": "2022-10-21T15:30:19.820374Z",
     "iopub.status.busy": "2022-10-21T15:30:19.819689Z",
     "iopub.status.idle": "2022-10-21T15:30:19.825015Z",
     "shell.execute_reply": "2022-10-21T15:30:19.824144Z"
    },
    "id": "h3MlpDf-17kD",
    "papermill": {
     "duration": 0.015345,
     "end_time": "2022-10-21T15:30:19.826929",
     "exception": false,
     "start_time": "2022-10-21T15:30:19.811584",
     "status": "completed"
    },
    "tags": []
   },
   "outputs": [],
   "source": [
    "# df[col]\n",
    "great_90 = data_df[data_df[\"max_temp\"]>90]"
   ]
  },
  {
   "cell_type": "markdown",
   "id": "c98bd68b",
   "metadata": {
    "id": "eeMvbTq-2dG0",
    "papermill": {
     "duration": 0.006646,
     "end_time": "2022-10-21T15:30:19.840753",
     "exception": false,
     "start_time": "2022-10-21T15:30:19.834107",
     "status": "completed"
    },
    "tags": []
   },
   "source": [
    "## Convert to a Python list"
   ]
  },
  {
   "cell_type": "code",
   "execution_count": 13,
   "id": "93deb60b",
   "metadata": {
    "execution": {
     "iopub.execute_input": "2022-10-21T15:30:19.856224Z",
     "iopub.status.busy": "2022-10-21T15:30:19.855775Z",
     "iopub.status.idle": "2022-10-21T15:30:19.863149Z",
     "shell.execute_reply": "2022-10-21T15:30:19.862017Z"
    },
    "id": "iyJIV9P-2g0s",
    "papermill": {
     "duration": 0.017847,
     "end_time": "2022-10-21T15:30:19.865383",
     "exception": false,
     "start_time": "2022-10-21T15:30:19.847536",
     "status": "completed"
    },
    "tags": []
   },
   "outputs": [
    {
     "data": {
      "text/plain": [
       "[['20130531', 57.9, 91.9],\n",
       " ['20130624', 66.9, 91.9],\n",
       " ['20130625', 69.1, 91.0],\n",
       " ['20130705', 73.0, 93.0],\n",
       " ['20130715', 70.0, 91.0],\n",
       " ['20130719', 69.1, 95.0],\n",
       " ['20130720', 70.0, 91.0],\n",
       " ['20130911', 61.0, 93.0]]"
      ]
     },
     "execution_count": 13,
     "metadata": {},
     "output_type": "execute_result"
    }
   ],
   "source": [
    "# df.tolist()\n",
    "great_90.values.tolist()"
   ]
  },
  {
   "cell_type": "markdown",
   "id": "552d1b9f",
   "metadata": {
    "id": "Lv9Hj1LM23Qt",
    "papermill": {
     "duration": 0.00669,
     "end_time": "2022-10-21T15:30:19.879043",
     "exception": false,
     "start_time": "2022-10-21T15:30:19.872353",
     "status": "completed"
    },
    "tags": []
   },
   "source": [
    "# Plot Weather Data\n",
    "\n",
    "Plot the days of the year where the minimum temperature greater than 40 degrees."
   ]
  },
  {
   "cell_type": "code",
   "execution_count": 14,
   "id": "a84133f4",
   "metadata": {
    "execution": {
     "iopub.execute_input": "2022-10-21T15:30:19.894419Z",
     "iopub.status.busy": "2022-10-21T15:30:19.893995Z",
     "iopub.status.idle": "2022-10-21T15:30:20.260132Z",
     "shell.execute_reply": "2022-10-21T15:30:20.259248Z"
    },
    "id": "ue9u_1xD3vKg",
    "papermill": {
     "duration": 0.376506,
     "end_time": "2022-10-21T15:30:20.262336",
     "exception": false,
     "start_time": "2022-10-21T15:30:19.885830",
     "status": "completed"
    },
    "tags": []
   },
   "outputs": [
    {
     "data": {
      "text/plain": [
       "([0, 1, 2, 3, 4, 5, 6, 7, 8, 9, 10, 11, 12, 13, 14, 15, 16, 17, 18, 19, 20],\n",
       " [Text(0, 0, ''),\n",
       "  Text(0, 0, ''),\n",
       "  Text(0, 0, ''),\n",
       "  Text(0, 0, ''),\n",
       "  Text(0, 0, ''),\n",
       "  Text(0, 0, ''),\n",
       "  Text(0, 0, ''),\n",
       "  Text(0, 0, ''),\n",
       "  Text(0, 0, ''),\n",
       "  Text(0, 0, ''),\n",
       "  Text(0, 0, ''),\n",
       "  Text(0, 0, ''),\n",
       "  Text(0, 0, ''),\n",
       "  Text(0, 0, ''),\n",
       "  Text(0, 0, ''),\n",
       "  Text(0, 0, ''),\n",
       "  Text(0, 0, ''),\n",
       "  Text(0, 0, ''),\n",
       "  Text(0, 0, ''),\n",
       "  Text(0, 0, ''),\n",
       "  Text(0, 0, '')])"
      ]
     },
     "execution_count": 14,
     "metadata": {},
     "output_type": "execute_result"
    },
    {
     "data": {
      "image/png": "[encoded data removed]",
      "text/plain": [
       "<Figure size 432x288 with 1 Axes>"
      ]
     },
     "metadata": {
      "needs_background": "light"
     },
     "output_type": "display_data"
    }
   ],
   "source": [
    "import matplotlib.pyplot as plt\n",
    "tempers = []\n",
    "dates = []\n",
    "vals = data_df[data_df[\"min_temp\"]<10]\n",
    "vals_list = vals.values.tolist()\n",
    "for item in vals_list:\n",
    "    dates.append(item[0])\n",
    "    tempers.append(item[1])\n",
    "    \n",
    "plt.scatter(dates, tempers)\n",
    "plt.xlabel(\"Date\")\n",
    "plt.ylabel(\"Temp\")\n",
    "plt.title(\"Temps less than 10 degrees\")\n",
    "plt.xticks(rotation=80)\n"
   ]
  }
 ],
 "metadata": {
  "kernelspec": {
   "display_name": "Python 3",
   "language": "python",
   "name": "python3"
  },
  "language_info": {
   "codemirror_mode": {
    "name": "ipython",
    "version": 3
   },
   "file_extension": ".py",
   "mimetype": "text/x-python",
   "name": "python",
   "nbconvert_exporter": "python",
   "pygments_lexer": "ipython3",
   "version": "3.7.12"
  },
  "papermill": {
   "default_parameters": {},
   "duration": 10.386752,
   "end_time": "2022-10-21T15:30:20.891275",
   "environment_variables": {},
   "exception": null,
   "input_path": "__notebook__.ipynb",
   "output_path": "__notebook__.ipynb",
   "parameters": {},
   "start_time": "2022-10-21T15:30:10.504523",
   "version": "2.3.4"
  }
 },
 "nbformat": 4,
 "nbformat_minor": 5
}
