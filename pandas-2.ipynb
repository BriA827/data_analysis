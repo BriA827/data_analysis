{
 "cells": [
  {
   "cell_type": "markdown",
   "id": "472dd6c3",
   "metadata": {
    "id": "EwNSvosYaId0",
    "papermill": {
     "duration": 0.009861,
     "end_time": "2022-10-21T15:23:25.051975",
     "exception": false,
     "start_time": "2022-10-21T15:23:25.042114",
     "status": "completed"
    },
    "tags": []
   },
   "source": [
    "# Reading Data from file\n",
    "\n",
    "\n",
    "1.   Load the data file from your Google Drive\n",
    "\n",
    "\n",
    "        from google.colab import drive \n",
    "        drive.mount('/content/drive')\n",
    "        path = '/content/drive/My Drive/Colab Notebooks/PortlandWeather2013b.txt'\n",
    "\n",
    "\n",
    "2.   read the data using the pandas `.read_csv(file_name)` method\n",
    "\n",
    "\n",
    "        wx_df = pd.read_csv(path)\n",
    "\n",
    "\n",
    "3.   If passing in a `.txt` file you'll need to also include the argument - `delim_whitespace = True` -  so that the file is split on whitespace rather than commas (by default)\n",
    "\n",
    "\n",
    "        wx_df = pd.read_csv(path, delim_whitespace = True)\n",
    "\n"
   ]
  },
  {
   "cell_type": "code",
   "execution_count": 1,
   "id": "82c08303",
   "metadata": {
    "execution": {
     "iopub.execute_input": "2022-10-21T15:23:25.071185Z",
     "iopub.status.busy": "2022-10-21T15:23:25.070643Z",
     "iopub.status.idle": "2022-10-21T15:23:25.083160Z",
     "shell.execute_reply": "2022-10-21T15:23:25.081837Z"
    },
    "id": "bFJaUK_PaD6J",
    "papermill": {
     "duration": 0.026019,
     "end_time": "2022-10-21T15:23:25.086990",
     "exception": false,
     "start_time": "2022-10-21T15:23:25.060971",
     "status": "completed"
    },
    "tags": []
   },
   "outputs": [],
   "source": [
    "\n",
    "path = '../input/portland-weather/PortlandWeather2013b.txt'"
   ]
  },
  {
   "cell_type": "code",
   "execution_count": 2,
   "id": "c15bd05e",
   "metadata": {
    "execution": {
     "iopub.execute_input": "2022-10-21T15:23:25.107490Z",
     "iopub.status.busy": "2022-10-21T15:23:25.107085Z",
     "iopub.status.idle": "2022-10-21T15:23:25.173763Z",
     "shell.execute_reply": "2022-10-21T15:23:25.172315Z"
    },
    "id": "kWMNPMUyffRN",
    "papermill": {
     "duration": 0.080581,
     "end_time": "2022-10-21T15:23:25.176879",
     "exception": false,
     "start_time": "2022-10-21T15:23:25.096298",
     "status": "completed"
    },
    "tags": []
   },
   "outputs": [
    {
     "data": {
      "text/html": [
       "<div>\n",
       "<style scoped>\n",
       "    .dataframe tbody tr th:only-of-type {\n",
       "        vertical-align: middle;\n",
       "    }\n",
       "\n",
       "    .dataframe tbody tr th {\n",
       "        vertical-align: top;\n",
       "    }\n",
       "\n",
       "    .dataframe thead th {\n",
       "        text-align: right;\n",
       "    }\n",
       "</style>\n",
       "<table border=\"1\" class=\"dataframe\">\n",
       "  <thead>\n",
       "    <tr style=\"text-align: right;\">\n",
       "      <th></th>\n",
       "      <th>STATION</th>\n",
       "      <th>DATE</th>\n",
       "      <th>PRCP</th>\n",
       "      <th>SNWD</th>\n",
       "      <th>SNOW</th>\n",
       "      <th>TMAX</th>\n",
       "      <th>TMIN</th>\n",
       "    </tr>\n",
       "  </thead>\n",
       "  <tbody>\n",
       "    <tr>\n",
       "      <th>0</th>\n",
       "      <td>-----------------</td>\n",
       "      <td>--------</td>\n",
       "      <td>--------</td>\n",
       "      <td>--------</td>\n",
       "      <td>--------</td>\n",
       "      <td>--------</td>\n",
       "      <td>--------</td>\n",
       "    </tr>\n",
       "    <tr>\n",
       "      <th>1</th>\n",
       "      <td>GHCND:USW00014764</td>\n",
       "      <td>20130101</td>\n",
       "      <td>0</td>\n",
       "      <td>254</td>\n",
       "      <td>0</td>\n",
       "      <td>0</td>\n",
       "      <td>-117</td>\n",
       "    </tr>\n",
       "    <tr>\n",
       "      <th>2</th>\n",
       "      <td>GHCND:USW00014764</td>\n",
       "      <td>20130102</td>\n",
       "      <td>0</td>\n",
       "      <td>254</td>\n",
       "      <td>0</td>\n",
       "      <td>-44</td>\n",
       "      <td>-161</td>\n",
       "    </tr>\n",
       "    <tr>\n",
       "      <th>3</th>\n",
       "      <td>GHCND:USW00014764</td>\n",
       "      <td>20130103</td>\n",
       "      <td>0</td>\n",
       "      <td>229</td>\n",
       "      <td>0</td>\n",
       "      <td>-50</td>\n",
       "      <td>-178</td>\n",
       "    </tr>\n",
       "    <tr>\n",
       "      <th>4</th>\n",
       "      <td>GHCND:USW00014764</td>\n",
       "      <td>20130104</td>\n",
       "      <td>0</td>\n",
       "      <td>229</td>\n",
       "      <td>0</td>\n",
       "      <td>11</td>\n",
       "      <td>-128</td>\n",
       "    </tr>\n",
       "    <tr>\n",
       "      <th>...</th>\n",
       "      <td>...</td>\n",
       "      <td>...</td>\n",
       "      <td>...</td>\n",
       "      <td>...</td>\n",
       "      <td>...</td>\n",
       "      <td>...</td>\n",
       "      <td>...</td>\n",
       "    </tr>\n",
       "    <tr>\n",
       "      <th>361</th>\n",
       "      <td>GHCND:USW00014764</td>\n",
       "      <td>20131227</td>\n",
       "      <td>0</td>\n",
       "      <td>200</td>\n",
       "      <td>0</td>\n",
       "      <td>0</td>\n",
       "      <td>-138</td>\n",
       "    </tr>\n",
       "    <tr>\n",
       "      <th>362</th>\n",
       "      <td>GHCND:USW00014764</td>\n",
       "      <td>20131228</td>\n",
       "      <td>0</td>\n",
       "      <td>200</td>\n",
       "      <td>0</td>\n",
       "      <td>28</td>\n",
       "      <td>-77</td>\n",
       "    </tr>\n",
       "    <tr>\n",
       "      <th>363</th>\n",
       "      <td>GHCND:USW00014764</td>\n",
       "      <td>20131229</td>\n",
       "      <td>221</td>\n",
       "      <td>200</td>\n",
       "      <td>33</td>\n",
       "      <td>17</td>\n",
       "      <td>-66</td>\n",
       "    </tr>\n",
       "    <tr>\n",
       "      <th>364</th>\n",
       "      <td>GHCND:USW00014764</td>\n",
       "      <td>20131230</td>\n",
       "      <td>0</td>\n",
       "      <td>200</td>\n",
       "      <td>0</td>\n",
       "      <td>17</td>\n",
       "      <td>-132</td>\n",
       "    </tr>\n",
       "    <tr>\n",
       "      <th>365</th>\n",
       "      <td>GHCND:USW00014764</td>\n",
       "      <td>20131231</td>\n",
       "      <td>3</td>\n",
       "      <td>-9999</td>\n",
       "      <td>-9999</td>\n",
       "      <td>-105</td>\n",
       "      <td>-171</td>\n",
       "    </tr>\n",
       "  </tbody>\n",
       "</table>\n",
       "<p>366 rows × 7 columns</p>\n",
       "</div>"
      ],
      "text/plain": [
       "               STATION      DATE      PRCP      SNWD      SNOW      TMAX  \\\n",
       "0    -----------------  --------  --------  --------  --------  --------   \n",
       "1    GHCND:USW00014764  20130101         0       254         0         0   \n",
       "2    GHCND:USW00014764  20130102         0       254         0       -44   \n",
       "3    GHCND:USW00014764  20130103         0       229         0       -50   \n",
       "4    GHCND:USW00014764  20130104         0       229         0        11   \n",
       "..                 ...       ...       ...       ...       ...       ...   \n",
       "361  GHCND:USW00014764  20131227         0       200         0         0   \n",
       "362  GHCND:USW00014764  20131228         0       200         0        28   \n",
       "363  GHCND:USW00014764  20131229       221       200        33        17   \n",
       "364  GHCND:USW00014764  20131230         0       200         0        17   \n",
       "365  GHCND:USW00014764  20131231         3     -9999     -9999      -105   \n",
       "\n",
       "         TMIN  \n",
       "0    --------  \n",
       "1        -117  \n",
       "2        -161  \n",
       "3        -178  \n",
       "4        -128  \n",
       "..        ...  \n",
       "361      -138  \n",
       "362       -77  \n",
       "363       -66  \n",
       "364      -132  \n",
       "365      -171  \n",
       "\n",
       "[366 rows x 7 columns]"
      ]
     },
     "execution_count": 2,
     "metadata": {},
     "output_type": "execute_result"
    }
   ],
   "source": [
    "import pandas as pd\n",
    "import matplotlib.pyplot as plt\n",
    "import numpy as np\n",
    "\n",
    "wx_df = pd.read_csv(path, delim_whitespace = True)\n",
    "wx_df"
   ]
  },
  {
   "cell_type": "markdown",
   "id": "ef842f3c",
   "metadata": {
    "id": "g8FFysnRf4x5",
    "papermill": {
     "duration": 0.008003,
     "end_time": "2022-10-21T15:23:25.193230",
     "exception": false,
     "start_time": "2022-10-21T15:23:25.185227",
     "status": "completed"
    },
    "tags": []
   },
   "source": [
    "# Clean Data \n"
   ]
  },
  {
   "cell_type": "markdown",
   "id": "e8bf3d46",
   "metadata": {
    "id": "eC5OseHSiO3h",
    "papermill": {
     "duration": 0.007837,
     "end_time": "2022-10-21T15:23:25.209829",
     "exception": false,
     "start_time": "2022-10-21T15:23:25.201992",
     "status": "completed"
    },
    "tags": []
   },
   "source": [
    "## Data Types\n",
    "Know the data-types contained in the data frame"
   ]
  },
  {
   "cell_type": "code",
   "execution_count": 3,
   "id": "e272a55c",
   "metadata": {
    "execution": {
     "iopub.execute_input": "2022-10-21T15:23:25.230310Z",
     "iopub.status.busy": "2022-10-21T15:23:25.229540Z",
     "iopub.status.idle": "2022-10-21T15:23:25.258584Z",
     "shell.execute_reply": "2022-10-21T15:23:25.256937Z"
    },
    "id": "SpoqDmSIiad_",
    "papermill": {
     "duration": 0.043466,
     "end_time": "2022-10-21T15:23:25.261522",
     "exception": false,
     "start_time": "2022-10-21T15:23:25.218056",
     "status": "completed"
    },
    "tags": []
   },
   "outputs": [
    {
     "name": "stdout",
     "output_type": "stream",
     "text": [
      "<class 'pandas.core.frame.DataFrame'>\n",
      "RangeIndex: 366 entries, 0 to 365\n",
      "Data columns (total 7 columns):\n",
      " #   Column   Non-Null Count  Dtype \n",
      "---  ------   --------------  ----- \n",
      " 0   STATION  366 non-null    object\n",
      " 1   DATE     366 non-null    object\n",
      " 2   PRCP     366 non-null    object\n",
      " 3   SNWD     366 non-null    object\n",
      " 4   SNOW     366 non-null    object\n",
      " 5   TMAX     366 non-null    object\n",
      " 6   TMIN     366 non-null    object\n",
      "dtypes: object(7)\n",
      "memory usage: 20.1+ KB\n"
     ]
    }
   ],
   "source": [
    "# use pandas to display the data-types of the data contained in the dataframe\n",
    "wx_df.info()"
   ]
  },
  {
   "cell_type": "markdown",
   "id": "62416282",
   "metadata": {
    "id": "t2V6TvbUgClT",
    "papermill": {
     "duration": 0.007868,
     "end_time": "2022-10-21T15:23:25.277595",
     "exception": false,
     "start_time": "2022-10-21T15:23:25.269727",
     "status": "completed"
    },
    "tags": []
   },
   "source": [
    "## Column Cleanup\n",
    "\n",
    "\n",
    "1.   Get columns\n",
    "\n",
    "          og_df.columns\n",
    "\n",
    "\n",
    "2.   Change column names\n",
    "        \n",
    "        A. replace all column names with a list\n",
    "              og_df.columns = ['station', 'date', 'prcp', 'snwd', 'snow', 'tmax', 'tmin']    # typing out a list of replacement values\n",
    "\n",
    "              og_df.columns = [col.lower() for col in og_df]   # using list comprehension\n",
    "        C. format names using `.str` method along with `.strip( )` for whitespace removal; `.lower( )` for case changes; `.replace(old, new)` to replace one char for another\n",
    "              og_df.columns = og_df.columns.str.lower()  # change every column name to lower case\n",
    "\n",
    "\n",
    "3.   Delete Columns\n",
    "\n",
    "      temporarily\n",
    "          og_df.drop([col1, col2, ...], axis=1)   # axis = 1 is a reference to columns\n",
    "      \n",
    "      permantly -> add `inplace=True`\n",
    "\n",
    "          og_df.drop([col1, col2, ...], axis=1, inplace = True)\n",
    "      \n",
    "      else -> make a copy of original df then drop the cols of that\n",
    "        \n",
    "          new_df = wx_df.copy()\n",
    "          new_df.drop([col1, col2, ...], axis=1, inplace=True)\n",
    "\n",
    "4.   Add new column\n",
    "\n",
    "          new_df[col_name] = values (must match length of dataframe)\n",
    "\n",
    "5.   Replace indices\n",
    "\n",
    "          new_df.set_index(col_name, inplace=True)\n"
   ]
  },
  {
   "cell_type": "code",
   "execution_count": 4,
   "id": "3e7ed974",
   "metadata": {
    "execution": {
     "iopub.execute_input": "2022-10-21T15:23:25.296486Z",
     "iopub.status.busy": "2022-10-21T15:23:25.295434Z",
     "iopub.status.idle": "2022-10-21T15:23:25.312022Z",
     "shell.execute_reply": "2022-10-21T15:23:25.310331Z"
    },
    "id": "k0x8k4VCf7jy",
    "papermill": {
     "duration": 0.029072,
     "end_time": "2022-10-21T15:23:25.314779",
     "exception": false,
     "start_time": "2022-10-21T15:23:25.285707",
     "status": "completed"
    },
    "tags": []
   },
   "outputs": [
    {
     "data": {
      "text/html": [
       "<div>\n",
       "<style scoped>\n",
       "    .dataframe tbody tr th:only-of-type {\n",
       "        vertical-align: middle;\n",
       "    }\n",
       "\n",
       "    .dataframe tbody tr th {\n",
       "        vertical-align: top;\n",
       "    }\n",
       "\n",
       "    .dataframe thead th {\n",
       "        text-align: right;\n",
       "    }\n",
       "</style>\n",
       "<table border=\"1\" class=\"dataframe\">\n",
       "  <thead>\n",
       "    <tr style=\"text-align: right;\">\n",
       "      <th></th>\n",
       "      <th>date</th>\n",
       "      <th>prcp</th>\n",
       "      <th>snwd</th>\n",
       "      <th>snow</th>\n",
       "      <th>tmax</th>\n",
       "      <th>tmin</th>\n",
       "    </tr>\n",
       "  </thead>\n",
       "  <tbody>\n",
       "    <tr>\n",
       "      <th>0</th>\n",
       "      <td>--------</td>\n",
       "      <td>--------</td>\n",
       "      <td>--------</td>\n",
       "      <td>--------</td>\n",
       "      <td>--------</td>\n",
       "      <td>--------</td>\n",
       "    </tr>\n",
       "    <tr>\n",
       "      <th>1</th>\n",
       "      <td>20130101</td>\n",
       "      <td>0</td>\n",
       "      <td>254</td>\n",
       "      <td>0</td>\n",
       "      <td>0</td>\n",
       "      <td>-117</td>\n",
       "    </tr>\n",
       "    <tr>\n",
       "      <th>2</th>\n",
       "      <td>20130102</td>\n",
       "      <td>0</td>\n",
       "      <td>254</td>\n",
       "      <td>0</td>\n",
       "      <td>-44</td>\n",
       "      <td>-161</td>\n",
       "    </tr>\n",
       "    <tr>\n",
       "      <th>3</th>\n",
       "      <td>20130103</td>\n",
       "      <td>0</td>\n",
       "      <td>229</td>\n",
       "      <td>0</td>\n",
       "      <td>-50</td>\n",
       "      <td>-178</td>\n",
       "    </tr>\n",
       "    <tr>\n",
       "      <th>4</th>\n",
       "      <td>20130104</td>\n",
       "      <td>0</td>\n",
       "      <td>229</td>\n",
       "      <td>0</td>\n",
       "      <td>11</td>\n",
       "      <td>-128</td>\n",
       "    </tr>\n",
       "  </tbody>\n",
       "</table>\n",
       "</div>"
      ],
      "text/plain": [
       "       date      prcp      snwd      snow      tmax      tmin\n",
       "0  --------  --------  --------  --------  --------  --------\n",
       "1  20130101         0       254         0         0      -117\n",
       "2  20130102         0       254         0       -44      -161\n",
       "3  20130103         0       229         0       -50      -178\n",
       "4  20130104         0       229         0        11      -128"
      ]
     },
     "execution_count": 4,
     "metadata": {},
     "output_type": "execute_result"
    }
   ],
   "source": [
    "wx_df.columns = wx_df.columns.str.lower()\n",
    "wx_df.drop(['station'], axis=1, inplace=True)\n",
    "wx_df.head()"
   ]
  },
  {
   "cell_type": "markdown",
   "id": "f87ce2c7",
   "metadata": {
    "id": "16UOzxg8s_xg",
    "papermill": {
     "duration": 0.009115,
     "end_time": "2022-10-21T15:23:25.333250",
     "exception": false,
     "start_time": "2022-10-21T15:23:25.324135",
     "status": "completed"
    },
    "tags": []
   },
   "source": [
    "## Row Cleanup"
   ]
  },
  {
   "cell_type": "markdown",
   "id": "685e0407",
   "metadata": {
    "id": "A21h_snltG-y",
    "papermill": {
     "duration": 0.008175,
     "end_time": "2022-10-21T15:23:25.350905",
     "exception": false,
     "start_time": "2022-10-21T15:23:25.342730",
     "status": "completed"
    },
    "tags": []
   },
   "source": [
    "### Delete Rows\n",
    "\n",
    "Use `.drop( )` on the dataframe with axis 0 (rows)\n",
    "\n",
    "            og_df.drop(row(s), axis=0, inplace=True)\n",
    "\n",
    "When deleting rows the indices for those rows are also deleted.  It may be desirable to reset the indices.\n",
    "\n",
    "\n",
    "A. First make a Pandas series with the values of the indices desired (make sure to import Numpy)\n",
    "\n",
    "            new_indices = pd.Series(np.arange(start, stop)))\n",
    "\n",
    "B. Use `.set_index( )` on the dataframe\n",
    "\n",
    "            og_df.set_index(new_indices, inplace=True)"
   ]
  },
  {
   "cell_type": "code",
   "execution_count": 5,
   "id": "ed676bed",
   "metadata": {
    "execution": {
     "iopub.execute_input": "2022-10-21T15:23:25.370358Z",
     "iopub.status.busy": "2022-10-21T15:23:25.369923Z",
     "iopub.status.idle": "2022-10-21T15:23:25.389237Z",
     "shell.execute_reply": "2022-10-21T15:23:25.387929Z"
    },
    "id": "1ae9y8gAtSfD",
    "papermill": {
     "duration": 0.032605,
     "end_time": "2022-10-21T15:23:25.392319",
     "exception": false,
     "start_time": "2022-10-21T15:23:25.359714",
     "status": "completed"
    },
    "tags": []
   },
   "outputs": [
    {
     "data": {
      "text/html": [
       "<div>\n",
       "<style scoped>\n",
       "    .dataframe tbody tr th:only-of-type {\n",
       "        vertical-align: middle;\n",
       "    }\n",
       "\n",
       "    .dataframe tbody tr th {\n",
       "        vertical-align: top;\n",
       "    }\n",
       "\n",
       "    .dataframe thead th {\n",
       "        text-align: right;\n",
       "    }\n",
       "</style>\n",
       "<table border=\"1\" class=\"dataframe\">\n",
       "  <thead>\n",
       "    <tr style=\"text-align: right;\">\n",
       "      <th></th>\n",
       "      <th>date</th>\n",
       "      <th>prcp</th>\n",
       "      <th>snwd</th>\n",
       "      <th>snow</th>\n",
       "      <th>tmax</th>\n",
       "      <th>tmin</th>\n",
       "    </tr>\n",
       "  </thead>\n",
       "  <tbody>\n",
       "    <tr>\n",
       "      <th>0</th>\n",
       "      <td>20130101</td>\n",
       "      <td>0</td>\n",
       "      <td>254</td>\n",
       "      <td>0</td>\n",
       "      <td>0</td>\n",
       "      <td>-117</td>\n",
       "    </tr>\n",
       "    <tr>\n",
       "      <th>1</th>\n",
       "      <td>20130102</td>\n",
       "      <td>0</td>\n",
       "      <td>254</td>\n",
       "      <td>0</td>\n",
       "      <td>-44</td>\n",
       "      <td>-161</td>\n",
       "    </tr>\n",
       "    <tr>\n",
       "      <th>2</th>\n",
       "      <td>20130103</td>\n",
       "      <td>0</td>\n",
       "      <td>229</td>\n",
       "      <td>0</td>\n",
       "      <td>-50</td>\n",
       "      <td>-178</td>\n",
       "    </tr>\n",
       "    <tr>\n",
       "      <th>3</th>\n",
       "      <td>20130104</td>\n",
       "      <td>0</td>\n",
       "      <td>229</td>\n",
       "      <td>0</td>\n",
       "      <td>11</td>\n",
       "      <td>-128</td>\n",
       "    </tr>\n",
       "    <tr>\n",
       "      <th>4</th>\n",
       "      <td>20130105</td>\n",
       "      <td>0</td>\n",
       "      <td>229</td>\n",
       "      <td>0</td>\n",
       "      <td>22</td>\n",
       "      <td>-89</td>\n",
       "    </tr>\n",
       "  </tbody>\n",
       "</table>\n",
       "</div>"
      ],
      "text/plain": [
       "       date prcp snwd snow tmax  tmin\n",
       "0  20130101    0  254    0    0  -117\n",
       "1  20130102    0  254    0  -44  -161\n",
       "2  20130103    0  229    0  -50  -178\n",
       "3  20130104    0  229    0   11  -128\n",
       "4  20130105    0  229    0   22   -89"
      ]
     },
     "execution_count": 5,
     "metadata": {},
     "output_type": "execute_result"
    }
   ],
   "source": [
    "# drop the first row as it doesn't contain any data, then reset the indices\n",
    "wx_df.drop(0, axis=0, inplace=True)\n",
    "new_indicies = pd.Series(np.arange(0, len(wx_df)))\n",
    "wx_df.set_index(new_indicies, inplace=True)\n",
    "wx_df.head()"
   ]
  },
  {
   "cell_type": "markdown",
   "id": "478824e9",
   "metadata": {
    "id": "NYlIyAb3tTqH",
    "papermill": {
     "duration": 0.009656,
     "end_time": "2022-10-21T15:23:25.411595",
     "exception": false,
     "start_time": "2022-10-21T15:23:25.401939",
     "status": "completed"
    },
    "tags": []
   },
   "source": [
    "### Changing Data"
   ]
  },
  {
   "cell_type": "markdown",
   "id": "c2a6ec58",
   "metadata": {
    "id": "rwpIiUsZ-Brf",
    "papermill": {
     "duration": 0.008833,
     "end_time": "2022-10-21T15:23:25.430743",
     "exception": false,
     "start_time": "2022-10-21T15:23:25.421910",
     "status": "completed"
    },
    "tags": []
   },
   "source": [
    "#### Changing data-types \n",
    "\n",
    "    using `.astype(dtype)`\n",
    "      \n",
    "      og_df[col] = og_df[col].astype(dtype)   # object, int, float"
   ]
  },
  {
   "cell_type": "code",
   "execution_count": 6,
   "id": "8956e22e",
   "metadata": {
    "execution": {
     "iopub.execute_input": "2022-10-21T15:23:25.450562Z",
     "iopub.status.busy": "2022-10-21T15:23:25.449707Z",
     "iopub.status.idle": "2022-10-21T15:23:25.467437Z",
     "shell.execute_reply": "2022-10-21T15:23:25.465853Z"
    },
    "id": "GMnp6kGPursk",
    "papermill": {
     "duration": 0.030925,
     "end_time": "2022-10-21T15:23:25.470294",
     "exception": false,
     "start_time": "2022-10-21T15:23:25.439369",
     "status": "completed"
    },
    "tags": []
   },
   "outputs": [
    {
     "name": "stdout",
     "output_type": "stream",
     "text": [
      "<class 'pandas.core.frame.DataFrame'>\n",
      "Int64Index: 365 entries, 0 to 364\n",
      "Data columns (total 6 columns):\n",
      " #   Column  Non-Null Count  Dtype \n",
      "---  ------  --------------  ----- \n",
      " 0   date    365 non-null    object\n",
      " 1   prcp    365 non-null    object\n",
      " 2   snwd    365 non-null    int32 \n",
      " 3   snow    365 non-null    object\n",
      " 4   tmax    365 non-null    object\n",
      " 5   tmin    365 non-null    object\n",
      "dtypes: int32(1), object(5)\n",
      "memory usage: 18.5+ KB\n"
     ]
    }
   ],
   "source": [
    "# change the data type of snwd column to int32, use .info() to see the change\n",
    "wx_df['snwd'] = wx_df['snwd'].astype('int32')\n",
    "\n",
    "wx_df.info()"
   ]
  },
  {
   "cell_type": "code",
   "execution_count": 7,
   "id": "c80132e6",
   "metadata": {
    "execution": {
     "iopub.execute_input": "2022-10-21T15:23:25.489997Z",
     "iopub.status.busy": "2022-10-21T15:23:25.489569Z",
     "iopub.status.idle": "2022-10-21T15:23:25.508260Z",
     "shell.execute_reply": "2022-10-21T15:23:25.506715Z"
    },
    "id": "IFkCmcvM819M",
    "papermill": {
     "duration": 0.031511,
     "end_time": "2022-10-21T15:23:25.510839",
     "exception": false,
     "start_time": "2022-10-21T15:23:25.479328",
     "status": "completed"
    },
    "tags": []
   },
   "outputs": [
    {
     "name": "stdout",
     "output_type": "stream",
     "text": [
      "<class 'pandas.core.frame.DataFrame'>\n",
      "Int64Index: 365 entries, 0 to 364\n",
      "Data columns (total 6 columns):\n",
      " #   Column  Non-Null Count  Dtype \n",
      "---  ------  --------------  ----- \n",
      " 0   date    365 non-null    object\n",
      " 1   prcp    365 non-null    int32 \n",
      " 2   snwd    365 non-null    int32 \n",
      " 3   snow    365 non-null    int32 \n",
      " 4   tmax    365 non-null    int32 \n",
      " 5   tmin    365 non-null    int32 \n",
      "dtypes: int32(5), object(1)\n",
      "memory usage: 12.8+ KB\n"
     ]
    }
   ],
   "source": [
    "# your turn\n",
    "# change the data types of the other columns\n",
    "# to the appropriate data type\n",
    "wx_df[['prcp', 'snow', 'tmax', 'tmin']] = wx_df[[ 'prcp', 'snow', 'tmax', 'tmin']].astype('int32')\n",
    "wx_df.info()"
   ]
  },
  {
   "cell_type": "markdown",
   "id": "76b78df7",
   "metadata": {
    "id": "4rpHWIDL94Ri",
    "papermill": {
     "duration": 0.008863,
     "end_time": "2022-10-21T15:23:25.528703",
     "exception": false,
     "start_time": "2022-10-21T15:23:25.519840",
     "status": "completed"
    },
    "tags": []
   },
   "source": [
    "#### Changing Data Values (Single Column)\n",
    "\n",
    "Similar to changing data types, you can add any expression to the right side of the = \n",
    "\n",
    "        og_df[col] = a * og_df[col] + b.   # example of random conversion relationship"
   ]
  },
  {
   "cell_type": "code",
   "execution_count": 8,
   "id": "484b4d44",
   "metadata": {
    "execution": {
     "iopub.execute_input": "2022-10-21T15:23:25.550266Z",
     "iopub.status.busy": "2022-10-21T15:23:25.549429Z",
     "iopub.status.idle": "2022-10-21T15:23:25.564752Z",
     "shell.execute_reply": "2022-10-21T15:23:25.563404Z"
    },
    "id": "Mlei3MHCAFnO",
    "papermill": {
     "duration": 0.029744,
     "end_time": "2022-10-21T15:23:25.568180",
     "exception": false,
     "start_time": "2022-10-21T15:23:25.538436",
     "status": "completed"
    },
    "tags": []
   },
   "outputs": [
    {
     "data": {
      "text/html": [
       "<div>\n",
       "<style scoped>\n",
       "    .dataframe tbody tr th:only-of-type {\n",
       "        vertical-align: middle;\n",
       "    }\n",
       "\n",
       "    .dataframe tbody tr th {\n",
       "        vertical-align: top;\n",
       "    }\n",
       "\n",
       "    .dataframe thead th {\n",
       "        text-align: right;\n",
       "    }\n",
       "</style>\n",
       "<table border=\"1\" class=\"dataframe\">\n",
       "  <thead>\n",
       "    <tr style=\"text-align: right;\">\n",
       "      <th></th>\n",
       "      <th>date</th>\n",
       "      <th>prcp</th>\n",
       "      <th>snwd</th>\n",
       "      <th>snow</th>\n",
       "      <th>tmax</th>\n",
       "      <th>tmin</th>\n",
       "    </tr>\n",
       "  </thead>\n",
       "  <tbody>\n",
       "    <tr>\n",
       "      <th>0</th>\n",
       "      <td>20130101</td>\n",
       "      <td>0</td>\n",
       "      <td>10.000000</td>\n",
       "      <td>0</td>\n",
       "      <td>0</td>\n",
       "      <td>-117</td>\n",
       "    </tr>\n",
       "    <tr>\n",
       "      <th>1</th>\n",
       "      <td>20130102</td>\n",
       "      <td>0</td>\n",
       "      <td>10.000000</td>\n",
       "      <td>0</td>\n",
       "      <td>-44</td>\n",
       "      <td>-161</td>\n",
       "    </tr>\n",
       "    <tr>\n",
       "      <th>2</th>\n",
       "      <td>20130103</td>\n",
       "      <td>0</td>\n",
       "      <td>9.015748</td>\n",
       "      <td>0</td>\n",
       "      <td>-50</td>\n",
       "      <td>-178</td>\n",
       "    </tr>\n",
       "    <tr>\n",
       "      <th>3</th>\n",
       "      <td>20130104</td>\n",
       "      <td>0</td>\n",
       "      <td>9.015748</td>\n",
       "      <td>0</td>\n",
       "      <td>11</td>\n",
       "      <td>-128</td>\n",
       "    </tr>\n",
       "    <tr>\n",
       "      <th>4</th>\n",
       "      <td>20130105</td>\n",
       "      <td>0</td>\n",
       "      <td>9.015748</td>\n",
       "      <td>0</td>\n",
       "      <td>22</td>\n",
       "      <td>-89</td>\n",
       "    </tr>\n",
       "  </tbody>\n",
       "</table>\n",
       "</div>"
      ],
      "text/plain": [
       "       date  prcp       snwd  snow  tmax  tmin\n",
       "0  20130101     0  10.000000     0     0  -117\n",
       "1  20130102     0  10.000000     0   -44  -161\n",
       "2  20130103     0   9.015748     0   -50  -178\n",
       "3  20130104     0   9.015748     0    11  -128\n",
       "4  20130105     0   9.015748     0    22   -89"
      ]
     },
     "execution_count": 8,
     "metadata": {},
     "output_type": "execute_result"
    }
   ],
   "source": [
    "# convert snwd to inches -> mm divided by 25.4\n",
    "wx_df['snwd'] = wx_df['snwd']/25.4\n",
    "wx_df.head()"
   ]
  },
  {
   "cell_type": "code",
   "execution_count": 9,
   "id": "2a04b60f",
   "metadata": {
    "execution": {
     "iopub.execute_input": "2022-10-21T15:23:25.589622Z",
     "iopub.status.busy": "2022-10-21T15:23:25.588458Z",
     "iopub.status.idle": "2022-10-21T15:23:25.608324Z",
     "shell.execute_reply": "2022-10-21T15:23:25.607324Z"
    },
    "id": "Y2H7vdnrDAeA",
    "papermill": {
     "duration": 0.032615,
     "end_time": "2022-10-21T15:23:25.610652",
     "exception": false,
     "start_time": "2022-10-21T15:23:25.578037",
     "status": "completed"
    },
    "tags": []
   },
   "outputs": [
    {
     "data": {
      "text/html": [
       "<div>\n",
       "<style scoped>\n",
       "    .dataframe tbody tr th:only-of-type {\n",
       "        vertical-align: middle;\n",
       "    }\n",
       "\n",
       "    .dataframe tbody tr th {\n",
       "        vertical-align: top;\n",
       "    }\n",
       "\n",
       "    .dataframe thead th {\n",
       "        text-align: right;\n",
       "    }\n",
       "</style>\n",
       "<table border=\"1\" class=\"dataframe\">\n",
       "  <thead>\n",
       "    <tr style=\"text-align: right;\">\n",
       "      <th></th>\n",
       "      <th>date</th>\n",
       "      <th>prcp</th>\n",
       "      <th>snwd</th>\n",
       "      <th>snow</th>\n",
       "      <th>tmax</th>\n",
       "      <th>tmin</th>\n",
       "    </tr>\n",
       "  </thead>\n",
       "  <tbody>\n",
       "    <tr>\n",
       "      <th>0</th>\n",
       "      <td>20130101</td>\n",
       "      <td>0.0</td>\n",
       "      <td>10.000000</td>\n",
       "      <td>0.0</td>\n",
       "      <td>0</td>\n",
       "      <td>-117</td>\n",
       "    </tr>\n",
       "    <tr>\n",
       "      <th>1</th>\n",
       "      <td>20130102</td>\n",
       "      <td>0.0</td>\n",
       "      <td>10.000000</td>\n",
       "      <td>0.0</td>\n",
       "      <td>-44</td>\n",
       "      <td>-161</td>\n",
       "    </tr>\n",
       "    <tr>\n",
       "      <th>2</th>\n",
       "      <td>20130103</td>\n",
       "      <td>0.0</td>\n",
       "      <td>9.015748</td>\n",
       "      <td>0.0</td>\n",
       "      <td>-50</td>\n",
       "      <td>-178</td>\n",
       "    </tr>\n",
       "    <tr>\n",
       "      <th>3</th>\n",
       "      <td>20130104</td>\n",
       "      <td>0.0</td>\n",
       "      <td>9.015748</td>\n",
       "      <td>0.0</td>\n",
       "      <td>11</td>\n",
       "      <td>-128</td>\n",
       "    </tr>\n",
       "    <tr>\n",
       "      <th>4</th>\n",
       "      <td>20130105</td>\n",
       "      <td>0.0</td>\n",
       "      <td>9.015748</td>\n",
       "      <td>0.0</td>\n",
       "      <td>22</td>\n",
       "      <td>-89</td>\n",
       "    </tr>\n",
       "  </tbody>\n",
       "</table>\n",
       "</div>"
      ],
      "text/plain": [
       "       date  prcp       snwd  snow  tmax  tmin\n",
       "0  20130101   0.0  10.000000   0.0     0  -117\n",
       "1  20130102   0.0  10.000000   0.0   -44  -161\n",
       "2  20130103   0.0   9.015748   0.0   -50  -178\n",
       "3  20130104   0.0   9.015748   0.0    11  -128\n",
       "4  20130105   0.0   9.015748   0.0    22   -89"
      ]
     },
     "execution_count": 9,
     "metadata": {},
     "output_type": "execute_result"
    }
   ],
   "source": [
    "# your turn\n",
    "# change the snow and prcp columns from mm to inches\n",
    "wx_df[['snow', 'prcp']]= wx_df[['snow', 'prcp']] / 25.4\n",
    "wx_df.head()"
   ]
  },
  {
   "cell_type": "markdown",
   "id": "2a5ccb60",
   "metadata": {
    "id": "4RfugJ8qHZGw",
    "papermill": {
     "duration": 0.00898,
     "end_time": "2022-10-21T15:23:25.629388",
     "exception": false,
     "start_time": "2022-10-21T15:23:25.620408",
     "status": "completed"
    },
    "tags": []
   },
   "source": [
    "#### Changing Data Values (Multiple Columns)\n",
    "\n",
    "Same as single row except notice that the columns to be changed are placed in a list\n",
    "\n",
    "        og_df[[col1, col2, ...]] = a * og_df[[col1, col2, ...]] + b.   # example of random conversion relationship"
   ]
  },
  {
   "cell_type": "code",
   "execution_count": 10,
   "id": "4ad7364f",
   "metadata": {
    "execution": {
     "iopub.execute_input": "2022-10-21T15:23:25.650338Z",
     "iopub.status.busy": "2022-10-21T15:23:25.649867Z",
     "iopub.status.idle": "2022-10-21T15:23:25.670291Z",
     "shell.execute_reply": "2022-10-21T15:23:25.668920Z"
    },
    "id": "LGVoWe6lIA_l",
    "papermill": {
     "duration": 0.034379,
     "end_time": "2022-10-21T15:23:25.673098",
     "exception": false,
     "start_time": "2022-10-21T15:23:25.638719",
     "status": "completed"
    },
    "tags": []
   },
   "outputs": [
    {
     "data": {
      "text/html": [
       "<div>\n",
       "<style scoped>\n",
       "    .dataframe tbody tr th:only-of-type {\n",
       "        vertical-align: middle;\n",
       "    }\n",
       "\n",
       "    .dataframe tbody tr th {\n",
       "        vertical-align: top;\n",
       "    }\n",
       "\n",
       "    .dataframe thead th {\n",
       "        text-align: right;\n",
       "    }\n",
       "</style>\n",
       "<table border=\"1\" class=\"dataframe\">\n",
       "  <thead>\n",
       "    <tr style=\"text-align: right;\">\n",
       "      <th></th>\n",
       "      <th>date</th>\n",
       "      <th>prcp</th>\n",
       "      <th>snwd</th>\n",
       "      <th>snow</th>\n",
       "      <th>tmax</th>\n",
       "      <th>tmin</th>\n",
       "    </tr>\n",
       "  </thead>\n",
       "  <tbody>\n",
       "    <tr>\n",
       "      <th>0</th>\n",
       "      <td>20130101</td>\n",
       "      <td>0.0</td>\n",
       "      <td>10.000000</td>\n",
       "      <td>0.0</td>\n",
       "      <td>32.00</td>\n",
       "      <td>10.94</td>\n",
       "    </tr>\n",
       "    <tr>\n",
       "      <th>1</th>\n",
       "      <td>20130102</td>\n",
       "      <td>0.0</td>\n",
       "      <td>10.000000</td>\n",
       "      <td>0.0</td>\n",
       "      <td>24.08</td>\n",
       "      <td>3.02</td>\n",
       "    </tr>\n",
       "    <tr>\n",
       "      <th>2</th>\n",
       "      <td>20130103</td>\n",
       "      <td>0.0</td>\n",
       "      <td>9.015748</td>\n",
       "      <td>0.0</td>\n",
       "      <td>23.00</td>\n",
       "      <td>-0.04</td>\n",
       "    </tr>\n",
       "    <tr>\n",
       "      <th>3</th>\n",
       "      <td>20130104</td>\n",
       "      <td>0.0</td>\n",
       "      <td>9.015748</td>\n",
       "      <td>0.0</td>\n",
       "      <td>33.98</td>\n",
       "      <td>8.96</td>\n",
       "    </tr>\n",
       "    <tr>\n",
       "      <th>4</th>\n",
       "      <td>20130105</td>\n",
       "      <td>0.0</td>\n",
       "      <td>9.015748</td>\n",
       "      <td>0.0</td>\n",
       "      <td>35.96</td>\n",
       "      <td>15.98</td>\n",
       "    </tr>\n",
       "  </tbody>\n",
       "</table>\n",
       "</div>"
      ],
      "text/plain": [
       "       date  prcp       snwd  snow   tmax   tmin\n",
       "0  20130101   0.0  10.000000   0.0  32.00  10.94\n",
       "1  20130102   0.0  10.000000   0.0  24.08   3.02\n",
       "2  20130103   0.0   9.015748   0.0  23.00  -0.04\n",
       "3  20130104   0.0   9.015748   0.0  33.98   8.96\n",
       "4  20130105   0.0   9.015748   0.0  35.96  15.98"
      ]
     },
     "execution_count": 10,
     "metadata": {},
     "output_type": "execute_result"
    }
   ],
   "source": [
    "# your turn\n",
    "# change the tmax and tmin columns to Fahrenheit\n",
    "wx_df[['tmax', 'tmin']] = wx_df[['tmax', 'tmin']] / 10 * (9/5) +32\n",
    "wx_df.head()"
   ]
  },
  {
   "cell_type": "markdown",
   "id": "b21d84fc",
   "metadata": {
    "id": "w3-EOo851meF",
    "papermill": {
     "duration": 0.009216,
     "end_time": "2022-10-21T15:23:25.692345",
     "exception": false,
     "start_time": "2022-10-21T15:23:25.683129",
     "status": "completed"
    },
    "tags": []
   },
   "source": [
    "#### Changing Data Values (Single Cell)\n",
    "\n"
   ]
  },
  {
   "cell_type": "markdown",
   "id": "612ac9d0",
   "metadata": {
    "id": "B1mABZ9nO0vj",
    "papermill": {
     "duration": 0.009079,
     "end_time": "2022-10-21T15:23:25.711375",
     "exception": false,
     "start_time": "2022-10-21T15:23:25.702296",
     "status": "completed"
    },
    "tags": []
   },
   "source": [
    "## Adding Data"
   ]
  },
  {
   "cell_type": "markdown",
   "id": "9d2a463b",
   "metadata": {
    "id": "_hsL5M3LPFRz",
    "papermill": {
     "duration": 0.009724,
     "end_time": "2022-10-21T15:23:25.731221",
     "exception": false,
     "start_time": "2022-10-21T15:23:25.721497",
     "status": "completed"
    },
    "tags": []
   },
   "source": [
    "#### New column filled with data\n",
    "\n",
    "        og_df[col_name] = value (or expression to calculate a value)"
   ]
  },
  {
   "cell_type": "code",
   "execution_count": 11,
   "id": "64dfd405",
   "metadata": {
    "execution": {
     "iopub.execute_input": "2022-10-21T15:23:25.752619Z",
     "iopub.status.busy": "2022-10-21T15:23:25.751753Z",
     "iopub.status.idle": "2022-10-21T15:23:25.771429Z",
     "shell.execute_reply": "2022-10-21T15:23:25.769774Z"
    },
    "id": "gdZ3ft-s_TiG",
    "papermill": {
     "duration": 0.03393,
     "end_time": "2022-10-21T15:23:25.774503",
     "exception": false,
     "start_time": "2022-10-21T15:23:25.740573",
     "status": "completed"
    },
    "tags": []
   },
   "outputs": [
    {
     "name": "stderr",
     "output_type": "stream",
     "text": [
      "/opt/conda/lib/python3.7/site-packages/ipykernel_launcher.py:5: SettingWithCopyWarning: \n",
      "A value is trying to be set on a copy of a slice from a DataFrame\n",
      "\n",
      "See the caveats in the documentation: https://pandas.pydata.org/pandas-docs/stable/user_guide/indexing.html#returning-a-view-versus-a-copy\n",
      "  \"\"\"\n",
      "/opt/conda/lib/python3.7/site-packages/ipykernel_launcher.py:6: SettingWithCopyWarning: \n",
      "A value is trying to be set on a copy of a slice from a DataFrame\n",
      "\n",
      "See the caveats in the documentation: https://pandas.pydata.org/pandas-docs/stable/user_guide/indexing.html#returning-a-view-versus-a-copy\n",
      "  \n"
     ]
    },
    {
     "data": {
      "text/html": [
       "<div>\n",
       "<style scoped>\n",
       "    .dataframe tbody tr th:only-of-type {\n",
       "        vertical-align: middle;\n",
       "    }\n",
       "\n",
       "    .dataframe tbody tr th {\n",
       "        vertical-align: top;\n",
       "    }\n",
       "\n",
       "    .dataframe thead th {\n",
       "        text-align: right;\n",
       "    }\n",
       "</style>\n",
       "<table border=\"1\" class=\"dataframe\">\n",
       "  <thead>\n",
       "    <tr style=\"text-align: right;\">\n",
       "      <th></th>\n",
       "      <th>date</th>\n",
       "      <th>prcp</th>\n",
       "      <th>snwd</th>\n",
       "      <th>snow</th>\n",
       "      <th>tmax</th>\n",
       "      <th>tmin</th>\n",
       "    </tr>\n",
       "  </thead>\n",
       "  <tbody>\n",
       "    <tr>\n",
       "      <th>360</th>\n",
       "      <td>20131227</td>\n",
       "      <td>0.000000</td>\n",
       "      <td>7.874016</td>\n",
       "      <td>0.000000</td>\n",
       "      <td>32.00</td>\n",
       "      <td>7.16</td>\n",
       "    </tr>\n",
       "    <tr>\n",
       "      <th>361</th>\n",
       "      <td>20131228</td>\n",
       "      <td>0.000000</td>\n",
       "      <td>7.874016</td>\n",
       "      <td>0.000000</td>\n",
       "      <td>37.04</td>\n",
       "      <td>18.14</td>\n",
       "    </tr>\n",
       "    <tr>\n",
       "      <th>362</th>\n",
       "      <td>20131229</td>\n",
       "      <td>8.700787</td>\n",
       "      <td>7.874016</td>\n",
       "      <td>1.299213</td>\n",
       "      <td>35.06</td>\n",
       "      <td>20.12</td>\n",
       "    </tr>\n",
       "    <tr>\n",
       "      <th>363</th>\n",
       "      <td>20131230</td>\n",
       "      <td>0.000000</td>\n",
       "      <td>7.874016</td>\n",
       "      <td>0.000000</td>\n",
       "      <td>35.06</td>\n",
       "      <td>8.24</td>\n",
       "    </tr>\n",
       "    <tr>\n",
       "      <th>364</th>\n",
       "      <td>20131231</td>\n",
       "      <td>0.118110</td>\n",
       "      <td>7.874016</td>\n",
       "      <td>0.000000</td>\n",
       "      <td>13.10</td>\n",
       "      <td>1.22</td>\n",
       "    </tr>\n",
       "  </tbody>\n",
       "</table>\n",
       "</div>"
      ],
      "text/plain": [
       "         date      prcp      snwd      snow   tmax   tmin\n",
       "360  20131227  0.000000  7.874016  0.000000  32.00   7.16\n",
       "361  20131228  0.000000  7.874016  0.000000  37.04  18.14\n",
       "362  20131229  8.700787  7.874016  1.299213  35.06  20.12\n",
       "363  20131230  0.000000  7.874016  0.000000  35.06   8.24\n",
       "364  20131231  0.118110  7.874016  0.000000  13.10   1.22"
      ]
     },
     "execution_count": 11,
     "metadata": {},
     "output_type": "execute_result"
    }
   ],
   "source": [
    "# your turn\n",
    "# replace the last values of the snow and snwd columns with an appropriate value\n",
    "# do this by using the value from the previous row for each\n",
    "# use .tail() to show the changes have been made\n",
    "wx_df['snow'][len(wx_df)-1] = wx_df['snow'][len(wx_df)-2]\n",
    "wx_df['snwd'][len(wx_df)-1] = wx_df['snwd'][len(wx_df)-2]\n",
    "wx_df.tail()"
   ]
  },
  {
   "cell_type": "code",
   "execution_count": 12,
   "id": "0cf73cee",
   "metadata": {
    "execution": {
     "iopub.execute_input": "2022-10-21T15:23:25.796530Z",
     "iopub.status.busy": "2022-10-21T15:23:25.796124Z",
     "iopub.status.idle": "2022-10-21T15:23:25.816829Z",
     "shell.execute_reply": "2022-10-21T15:23:25.815594Z"
    },
    "id": "samAaRgQLyUP",
    "papermill": {
     "duration": 0.035603,
     "end_time": "2022-10-21T15:23:25.820081",
     "exception": false,
     "start_time": "2022-10-21T15:23:25.784478",
     "status": "completed"
    },
    "tags": []
   },
   "outputs": [
    {
     "data": {
      "text/html": [
       "<div>\n",
       "<style scoped>\n",
       "    .dataframe tbody tr th:only-of-type {\n",
       "        vertical-align: middle;\n",
       "    }\n",
       "\n",
       "    .dataframe tbody tr th {\n",
       "        vertical-align: top;\n",
       "    }\n",
       "\n",
       "    .dataframe thead th {\n",
       "        text-align: right;\n",
       "    }\n",
       "</style>\n",
       "<table border=\"1\" class=\"dataframe\">\n",
       "  <thead>\n",
       "    <tr style=\"text-align: right;\">\n",
       "      <th></th>\n",
       "      <th>date</th>\n",
       "      <th>prcp</th>\n",
       "      <th>snwd</th>\n",
       "      <th>snow</th>\n",
       "      <th>tmax</th>\n",
       "      <th>tmin</th>\n",
       "      <th>avg_temp</th>\n",
       "    </tr>\n",
       "  </thead>\n",
       "  <tbody>\n",
       "    <tr>\n",
       "      <th>0</th>\n",
       "      <td>20130101</td>\n",
       "      <td>0.0</td>\n",
       "      <td>10.000000</td>\n",
       "      <td>0.0</td>\n",
       "      <td>32.00</td>\n",
       "      <td>10.94</td>\n",
       "      <td>21.47</td>\n",
       "    </tr>\n",
       "    <tr>\n",
       "      <th>1</th>\n",
       "      <td>20130102</td>\n",
       "      <td>0.0</td>\n",
       "      <td>10.000000</td>\n",
       "      <td>0.0</td>\n",
       "      <td>24.08</td>\n",
       "      <td>3.02</td>\n",
       "      <td>13.55</td>\n",
       "    </tr>\n",
       "    <tr>\n",
       "      <th>2</th>\n",
       "      <td>20130103</td>\n",
       "      <td>0.0</td>\n",
       "      <td>9.015748</td>\n",
       "      <td>0.0</td>\n",
       "      <td>23.00</td>\n",
       "      <td>-0.04</td>\n",
       "      <td>11.48</td>\n",
       "    </tr>\n",
       "    <tr>\n",
       "      <th>3</th>\n",
       "      <td>20130104</td>\n",
       "      <td>0.0</td>\n",
       "      <td>9.015748</td>\n",
       "      <td>0.0</td>\n",
       "      <td>33.98</td>\n",
       "      <td>8.96</td>\n",
       "      <td>21.47</td>\n",
       "    </tr>\n",
       "    <tr>\n",
       "      <th>4</th>\n",
       "      <td>20130105</td>\n",
       "      <td>0.0</td>\n",
       "      <td>9.015748</td>\n",
       "      <td>0.0</td>\n",
       "      <td>35.96</td>\n",
       "      <td>15.98</td>\n",
       "      <td>25.97</td>\n",
       "    </tr>\n",
       "  </tbody>\n",
       "</table>\n",
       "</div>"
      ],
      "text/plain": [
       "       date  prcp       snwd  snow   tmax   tmin  avg_temp\n",
       "0  20130101   0.0  10.000000   0.0  32.00  10.94     21.47\n",
       "1  20130102   0.0  10.000000   0.0  24.08   3.02     13.55\n",
       "2  20130103   0.0   9.015748   0.0  23.00  -0.04     11.48\n",
       "3  20130104   0.0   9.015748   0.0  33.98   8.96     21.47\n",
       "4  20130105   0.0   9.015748   0.0  35.96  15.98     25.97"
      ]
     },
     "execution_count": 12,
     "metadata": {},
     "output_type": "execute_result"
    }
   ],
   "source": [
    "# your turn\n",
    "# make a new column \"avg_temp\" that contains the avg daily temperature \n",
    "# (use tmax and tmin cols) for each day\n",
    "# use .head() to show the changes have been made\n",
    "wx_df['avg_temp'] =( wx_df['tmax'] + wx_df['tmin']) /2\n",
    "wx_df.head()"
   ]
  },
  {
   "cell_type": "markdown",
   "id": "303bb795",
   "metadata": {
    "id": "HulNOSGf-c4d",
    "papermill": {
     "duration": 0.010326,
     "end_time": "2022-10-21T15:23:25.841626",
     "exception": false,
     "start_time": "2022-10-21T15:23:25.831300",
     "status": "completed"
    },
    "tags": []
   },
   "source": [
    "## Handling Missing Data\n",
    "\n",
    "\n",
    "Drop rows with any column having NA/null data.\n",
    "        \n",
    "        df.dropna()\n",
    "\n",
    "\n",
    "Replace all NA/null data with value\n",
    "\n",
    "        df.fillna(value)\n"
   ]
  },
  {
   "cell_type": "markdown",
   "id": "d0a99d73",
   "metadata": {
    "id": "AC38MnC3-_Fb",
    "papermill": {
     "duration": 0.009505,
     "end_time": "2022-10-21T15:23:25.861188",
     "exception": false,
     "start_time": "2022-10-21T15:23:25.851683",
     "status": "completed"
    },
    "tags": []
   },
   "source": [
    "## DateTime"
   ]
  },
  {
   "cell_type": "markdown",
   "id": "bb49d1c1",
   "metadata": {
    "id": "SLY8Yfmp_XHV",
    "papermill": {
     "duration": 0.009586,
     "end_time": "2022-10-21T15:23:25.880738",
     "exception": false,
     "start_time": "2022-10-21T15:23:25.871152",
     "status": "completed"
    },
    "tags": []
   },
   "source": [
    "### Panda's Date Object to DateTime\n",
    "\n",
    "According to `og_df.info()` above, the data type of the **date** column is an object, which means the timestamps are stored as string values. To convert the data type of the datetime column from a string object to a datetime64 object, we can use the pandas to_datetime() method, as follows:\n",
    "\n",
    "        of_df['date'] = pd.to_datetime(og_df['date'])"
   ]
  },
  {
   "cell_type": "code",
   "execution_count": 13,
   "id": "d8ab378a",
   "metadata": {
    "execution": {
     "iopub.execute_input": "2022-10-21T15:23:25.903330Z",
     "iopub.status.busy": "2022-10-21T15:23:25.902905Z",
     "iopub.status.idle": "2022-10-21T15:23:25.937783Z",
     "shell.execute_reply": "2022-10-21T15:23:25.936324Z"
    },
    "id": "VtGmJdTX-gQ3",
    "papermill": {
     "duration": 0.049067,
     "end_time": "2022-10-21T15:23:25.940471",
     "exception": false,
     "start_time": "2022-10-21T15:23:25.891404",
     "status": "completed"
    },
    "tags": []
   },
   "outputs": [
    {
     "name": "stdout",
     "output_type": "stream",
     "text": [
      "<class 'pandas.core.frame.DataFrame'>\n",
      "Int64Index: 365 entries, 0 to 364\n",
      "Data columns (total 7 columns):\n",
      " #   Column    Non-Null Count  Dtype         \n",
      "---  ------    --------------  -----         \n",
      " 0   date      365 non-null    datetime64[ns]\n",
      " 1   prcp      365 non-null    float64       \n",
      " 2   snwd      365 non-null    float64       \n",
      " 3   snow      365 non-null    float64       \n",
      " 4   tmax      365 non-null    float64       \n",
      " 5   tmin      365 non-null    float64       \n",
      " 6   avg_temp  365 non-null    float64       \n",
      "dtypes: datetime64[ns](1), float64(6)\n",
      "memory usage: 30.9 KB\n"
     ]
    },
    {
     "data": {
      "text/html": [
       "<div>\n",
       "<style scoped>\n",
       "    .dataframe tbody tr th:only-of-type {\n",
       "        vertical-align: middle;\n",
       "    }\n",
       "\n",
       "    .dataframe tbody tr th {\n",
       "        vertical-align: top;\n",
       "    }\n",
       "\n",
       "    .dataframe thead th {\n",
       "        text-align: right;\n",
       "    }\n",
       "</style>\n",
       "<table border=\"1\" class=\"dataframe\">\n",
       "  <thead>\n",
       "    <tr style=\"text-align: right;\">\n",
       "      <th></th>\n",
       "      <th>date</th>\n",
       "      <th>prcp</th>\n",
       "      <th>snwd</th>\n",
       "      <th>snow</th>\n",
       "      <th>tmax</th>\n",
       "      <th>tmin</th>\n",
       "      <th>avg_temp</th>\n",
       "    </tr>\n",
       "  </thead>\n",
       "  <tbody>\n",
       "    <tr>\n",
       "      <th>0</th>\n",
       "      <td>2013-01-01</td>\n",
       "      <td>0.0</td>\n",
       "      <td>10.000000</td>\n",
       "      <td>0.0</td>\n",
       "      <td>32.00</td>\n",
       "      <td>10.94</td>\n",
       "      <td>21.47</td>\n",
       "    </tr>\n",
       "    <tr>\n",
       "      <th>1</th>\n",
       "      <td>2013-01-02</td>\n",
       "      <td>0.0</td>\n",
       "      <td>10.000000</td>\n",
       "      <td>0.0</td>\n",
       "      <td>24.08</td>\n",
       "      <td>3.02</td>\n",
       "      <td>13.55</td>\n",
       "    </tr>\n",
       "    <tr>\n",
       "      <th>2</th>\n",
       "      <td>2013-01-03</td>\n",
       "      <td>0.0</td>\n",
       "      <td>9.015748</td>\n",
       "      <td>0.0</td>\n",
       "      <td>23.00</td>\n",
       "      <td>-0.04</td>\n",
       "      <td>11.48</td>\n",
       "    </tr>\n",
       "    <tr>\n",
       "      <th>3</th>\n",
       "      <td>2013-01-04</td>\n",
       "      <td>0.0</td>\n",
       "      <td>9.015748</td>\n",
       "      <td>0.0</td>\n",
       "      <td>33.98</td>\n",
       "      <td>8.96</td>\n",
       "      <td>21.47</td>\n",
       "    </tr>\n",
       "    <tr>\n",
       "      <th>4</th>\n",
       "      <td>2013-01-05</td>\n",
       "      <td>0.0</td>\n",
       "      <td>9.015748</td>\n",
       "      <td>0.0</td>\n",
       "      <td>35.96</td>\n",
       "      <td>15.98</td>\n",
       "      <td>25.97</td>\n",
       "    </tr>\n",
       "  </tbody>\n",
       "</table>\n",
       "</div>"
      ],
      "text/plain": [
       "        date  prcp       snwd  snow   tmax   tmin  avg_temp\n",
       "0 2013-01-01   0.0  10.000000   0.0  32.00  10.94     21.47\n",
       "1 2013-01-02   0.0  10.000000   0.0  24.08   3.02     13.55\n",
       "2 2013-01-03   0.0   9.015748   0.0  23.00  -0.04     11.48\n",
       "3 2013-01-04   0.0   9.015748   0.0  33.98   8.96     21.47\n",
       "4 2013-01-05   0.0   9.015748   0.0  35.96  15.98     25.97"
      ]
     },
     "execution_count": 13,
     "metadata": {},
     "output_type": "execute_result"
    }
   ],
   "source": [
    "# change the values in the date column to datetime objects\n",
    "# run wx_df.info() to verify that they are now datetime objects\n",
    "wx_df['date'] = pd.to_datetime(wx_df['date'])\n",
    "wx_df.info()\n",
    "wx_df.head()"
   ]
  },
  {
   "cell_type": "markdown",
   "id": "84135d81",
   "metadata": {
    "id": "0TJTUdbFAobX",
    "papermill": {
     "duration": 0.009886,
     "end_time": "2022-10-21T15:23:25.960581",
     "exception": false,
     "start_time": "2022-10-21T15:23:25.950695",
     "status": "completed"
    },
    "tags": []
   },
   "source": [
    "Now, the data type of the datetime column should be a **datetime64[ns]** object. The **[ns]** means the nano second-based time format that specifies the precision of the DateTime object."
   ]
  },
  {
   "cell_type": "markdown",
   "id": "c64a818b",
   "metadata": {
    "id": "5C8fPo9iIovF",
    "papermill": {
     "duration": 0.010625,
     "end_time": "2022-10-21T15:23:25.981428",
     "exception": false,
     "start_time": "2022-10-21T15:23:25.970803",
     "status": "completed"
    },
    "tags": []
   },
   "source": [
    "### Change to DateTime when Loading Data\n",
    "\n",
    "Also, we can let the pandas **`read_csv()`** method parse certain columns as **DataTime** objects, which is more straightforward than using the **`to_datetime()`** method. \n",
    "\n",
    "        df = pd.read_csv(file_path, parse_dates=['date'])\n",
    "        df.head() "
   ]
  },
  {
   "cell_type": "markdown",
   "id": "c1d72823",
   "metadata": {
    "id": "wnJAQX5nCkcM",
    "papermill": {
     "duration": 0.009802,
     "end_time": "2022-10-21T15:23:26.001728",
     "exception": false,
     "start_time": "2022-10-21T15:23:25.991926",
     "status": "completed"
    },
    "tags": []
   },
   "source": [
    "### Get year, month, and day\n",
    "**`dt.year`**, **`dt.month`** and **`dt.day`** are the inbuilt attributes to get year, month , and day from Pandas datetime object.\n",
    "\n",
    "And to get year, month, and day\n",
    "\n",
    "        og_df['year']= og_df['date'].dt.year\n",
    "        og_df['month']= og_df['date'].dt.month\n",
    "        og_df['day']= og_df['date'].dt.day"
   ]
  },
  {
   "cell_type": "code",
   "execution_count": 14,
   "id": "8198e46d",
   "metadata": {
    "execution": {
     "iopub.execute_input": "2022-10-21T15:23:26.024971Z",
     "iopub.status.busy": "2022-10-21T15:23:26.023671Z",
     "iopub.status.idle": "2022-10-21T15:23:26.046774Z",
     "shell.execute_reply": "2022-10-21T15:23:26.045882Z"
    },
    "id": "PM2yhDg0I0A3",
    "papermill": {
     "duration": 0.037247,
     "end_time": "2022-10-21T15:23:26.049272",
     "exception": false,
     "start_time": "2022-10-21T15:23:26.012025",
     "status": "completed"
    },
    "tags": []
   },
   "outputs": [
    {
     "data": {
      "text/html": [
       "<div>\n",
       "<style scoped>\n",
       "    .dataframe tbody tr th:only-of-type {\n",
       "        vertical-align: middle;\n",
       "    }\n",
       "\n",
       "    .dataframe tbody tr th {\n",
       "        vertical-align: top;\n",
       "    }\n",
       "\n",
       "    .dataframe thead th {\n",
       "        text-align: right;\n",
       "    }\n",
       "</style>\n",
       "<table border=\"1\" class=\"dataframe\">\n",
       "  <thead>\n",
       "    <tr style=\"text-align: right;\">\n",
       "      <th></th>\n",
       "      <th>date</th>\n",
       "      <th>prcp</th>\n",
       "      <th>snwd</th>\n",
       "      <th>snow</th>\n",
       "      <th>tmax</th>\n",
       "      <th>tmin</th>\n",
       "      <th>avg_temp</th>\n",
       "      <th>month</th>\n",
       "      <th>day</th>\n",
       "    </tr>\n",
       "  </thead>\n",
       "  <tbody>\n",
       "    <tr>\n",
       "      <th>24</th>\n",
       "      <td>2013-01-25</td>\n",
       "      <td>0.000000</td>\n",
       "      <td>2.992126</td>\n",
       "      <td>0.0</td>\n",
       "      <td>23.00</td>\n",
       "      <td>1.04</td>\n",
       "      <td>12.02</td>\n",
       "      <td>1</td>\n",
       "      <td>25</td>\n",
       "    </tr>\n",
       "    <tr>\n",
       "      <th>336</th>\n",
       "      <td>2013-12-03</td>\n",
       "      <td>0.000000</td>\n",
       "      <td>0.000000</td>\n",
       "      <td>0.0</td>\n",
       "      <td>46.04</td>\n",
       "      <td>28.22</td>\n",
       "      <td>37.13</td>\n",
       "      <td>12</td>\n",
       "      <td>3</td>\n",
       "    </tr>\n",
       "    <tr>\n",
       "      <th>252</th>\n",
       "      <td>2013-09-10</td>\n",
       "      <td>0.590551</td>\n",
       "      <td>0.000000</td>\n",
       "      <td>0.0</td>\n",
       "      <td>66.02</td>\n",
       "      <td>53.96</td>\n",
       "      <td>59.99</td>\n",
       "      <td>9</td>\n",
       "      <td>10</td>\n",
       "    </tr>\n",
       "    <tr>\n",
       "      <th>212</th>\n",
       "      <td>2013-08-01</td>\n",
       "      <td>0.196850</td>\n",
       "      <td>0.000000</td>\n",
       "      <td>0.0</td>\n",
       "      <td>75.92</td>\n",
       "      <td>57.02</td>\n",
       "      <td>66.47</td>\n",
       "      <td>8</td>\n",
       "      <td>1</td>\n",
       "    </tr>\n",
       "    <tr>\n",
       "      <th>218</th>\n",
       "      <td>2013-08-07</td>\n",
       "      <td>0.000000</td>\n",
       "      <td>0.000000</td>\n",
       "      <td>0.0</td>\n",
       "      <td>75.02</td>\n",
       "      <td>51.08</td>\n",
       "      <td>63.05</td>\n",
       "      <td>8</td>\n",
       "      <td>7</td>\n",
       "    </tr>\n",
       "  </tbody>\n",
       "</table>\n",
       "</div>"
      ],
      "text/plain": [
       "          date      prcp      snwd  snow   tmax   tmin  avg_temp  month  day\n",
       "24  2013-01-25  0.000000  2.992126   0.0  23.00   1.04     12.02      1   25\n",
       "336 2013-12-03  0.000000  0.000000   0.0  46.04  28.22     37.13     12    3\n",
       "252 2013-09-10  0.590551  0.000000   0.0  66.02  53.96     59.99      9   10\n",
       "212 2013-08-01  0.196850  0.000000   0.0  75.92  57.02     66.47      8    1\n",
       "218 2013-08-07  0.000000  0.000000   0.0  75.02  51.08     63.05      8    7"
      ]
     },
     "execution_count": 14,
     "metadata": {},
     "output_type": "execute_result"
    }
   ],
   "source": [
    "# your turn\n",
    "# Add 'month' and 'day' columns and fill them with the correct values\n",
    "# use og_df.sample(n=10) to display 10 randomly chosen rows\n",
    "wx_df['month'] = wx_df['date'].dt.month\n",
    "wx_df['day'] = wx_df['date'].dt.day\n",
    "wx_df.sample(5)"
   ]
  },
  {
   "cell_type": "code",
   "execution_count": 15,
   "id": "bf82d528",
   "metadata": {
    "execution": {
     "iopub.execute_input": "2022-10-21T15:23:26.073897Z",
     "iopub.status.busy": "2022-10-21T15:23:26.072615Z",
     "iopub.status.idle": "2022-10-21T15:23:26.077192Z",
     "shell.execute_reply": "2022-10-21T15:23:26.076317Z"
    },
    "id": "ydO22AIUVqpw",
    "papermill": {
     "duration": 0.019488,
     "end_time": "2022-10-21T15:23:26.079535",
     "exception": false,
     "start_time": "2022-10-21T15:23:26.060047",
     "status": "completed"
    },
    "tags": []
   },
   "outputs": [],
   "source": [
    "# your turn\n",
    "# using wx_df create 2 python lists containing the average max/min temps for each month"
   ]
  },
  {
   "cell_type": "markdown",
   "id": "7a6c3e23",
   "metadata": {
    "id": "HEaaHKZeXA57",
    "papermill": {
     "duration": 0.011517,
     "end_time": "2022-10-21T15:23:26.101900",
     "exception": false,
     "start_time": "2022-10-21T15:23:26.090383",
     "status": "completed"
    },
    "tags": []
   },
   "source": [
    "## Plotting Side-by-Side Bar Graphs\n",
    "\n",
    "In **`plt.bar( )`** make sure to adjust the list names for the temps to match what you used above"
   ]
  },
  {
   "cell_type": "code",
   "execution_count": 16,
   "id": "d0520deb",
   "metadata": {
    "execution": {
     "iopub.execute_input": "2022-10-21T15:23:26.125083Z",
     "iopub.status.busy": "2022-10-21T15:23:26.124622Z",
     "iopub.status.idle": "2022-10-21T15:23:26.130612Z",
     "shell.execute_reply": "2022-10-21T15:23:26.129623Z"
    },
    "id": "lzyB48HqXByP",
    "papermill": {
     "duration": 0.020149,
     "end_time": "2022-10-21T15:23:26.133026",
     "exception": false,
     "start_time": "2022-10-21T15:23:26.112877",
     "status": "completed"
    },
    "tags": []
   },
   "outputs": [],
   "source": [
    "# month_names = ['January', 'February', 'March', 'April', 'May',\n",
    "#           'June', 'July', 'August', 'September', 'October', \n",
    "#           'November', 'December']\n",
    "\n",
    "# # array of numerical values for months to be used in intial bargraph\n",
    "# # needed to be able to move the bars\n",
    "# x_indices = np.arange(1, len(month_names)+1)\n",
    "\n",
    "# # standard bar width is .8, set a width a little less than width divided by the \n",
    "# # number of bars\n",
    "# width = .39\n",
    "# shift = width / 2\n",
    "\n",
    "# plt.style.use('seaborn')\n",
    "\n",
    "# # x-values, for graphing purposes, are goind to be the indices array +/- the shift\n",
    "# plt.bar(x_indices+shift, max_avgs, width=width, color='orangered', label=\"High Temps\")\n",
    "# plt.bar(x_indices-shift, min_avgs, width=width, color='deepskyblue', label=\"Low Temps\")\n",
    "# plt.legend()\n",
    "# plt.title(\"Average Hi/Low Temps\\nPortland, ME - 2013\")\n",
    "# plt.xlabel(\"Months\")\n",
    "# plt.ylabel(\"Temperature (F)\")\n",
    "\n",
    "# # convert the x-values into the names and rotate\n",
    "# # ticks = current xtick values\n",
    "# # labels = values to be changed to\n",
    "# plt.xticks(ticks=x_indices, labels=month_names, rotation=60)\n",
    "\n",
    "# plt.show()"
   ]
  }
 ],
 "metadata": {
  "kernelspec": {
   "display_name": "Python 3",
   "language": "python",
   "name": "python3"
  },
  "language_info": {
   "codemirror_mode": {
    "name": "ipython",
    "version": 3
   },
   "file_extension": ".py",
   "mimetype": "text/x-python",
   "name": "python",
   "nbconvert_exporter": "python",
   "pygments_lexer": "ipython3",
   "version": "3.7.12"
  },
  "papermill": {
   "default_parameters": {},
   "duration": 13.138784,
   "end_time": "2022-10-21T15:23:26.867138",
   "environment_variables": {},
   "exception": null,
   "input_path": "__notebook__.ipynb",
   "output_path": "__notebook__.ipynb",
   "parameters": {},
   "start_time": "2022-10-21T15:23:13.728354",
   "version": "2.3.4"
  }
 },
 "nbformat": 4,
 "nbformat_minor": 5
}
