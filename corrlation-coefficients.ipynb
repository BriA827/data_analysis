{
 "cells": [
  {
   "cell_type": "markdown",
   "id": "29ff7745",
   "metadata": {
    "papermill": {
     "duration": 0.003813,
     "end_time": "2022-11-17T16:47:54.550879",
     "exception": false,
     "start_time": "2022-11-17T16:47:54.547066",
     "status": "completed"
    },
    "tags": []
   },
   "source": [
    "Write a python function that takes as input two numeric lists and returns the value of the\n",
    "correlation between the two lists. Use the data shown below to test your function. The value of the\n",
    "correlation function for this data is 0.5298\n",
    "\n",
    "Place this function in your library of functions when you completed it. Also after you gotten your\n",
    "correlation function to work, create a generic xy plot function that can plot the data as either a scatter plot\n",
    "or an xy plot that draw a line between the data points. Place the plotting function in your function library.\n",
    "This will give a feel for how a correlation value corresponds to what you see in the scatterplot.\n",
    "\n",
    "* X  Y\n",
    "* 43 99\n",
    "* 21 65\n",
    "* 25 79\n",
    "* 42 75\n",
    "* 57 87\n",
    "* 59 81\n",
    "\n",
    "function for graphing 2 lists of data as scatter or line"
   ]
  },
  {
   "cell_type": "code",
   "execution_count": 1,
   "id": "1d895897",
   "metadata": {
    "execution": {
     "iopub.execute_input": "2022-11-17T16:47:54.559892Z",
     "iopub.status.busy": "2022-11-17T16:47:54.558599Z",
     "iopub.status.idle": "2022-11-17T16:47:54.573128Z",
     "shell.execute_reply": "2022-11-17T16:47:54.571884Z"
    },
    "papermill": {
     "duration": 0.0222,
     "end_time": "2022-11-17T16:47:54.576211",
     "exception": false,
     "start_time": "2022-11-17T16:47:54.554011",
     "status": "completed"
    },
    "tags": []
   },
   "outputs": [],
   "source": [
    "import math\n",
    "import matplotlib.pyplot as plt\n",
    "import numpy as np"
   ]
  },
  {
   "cell_type": "code",
   "execution_count": 2,
   "id": "82a9685e",
   "metadata": {
    "execution": {
     "iopub.execute_input": "2022-11-17T16:47:54.584024Z",
     "iopub.status.busy": "2022-11-17T16:47:54.583319Z",
     "iopub.status.idle": "2022-11-17T16:47:54.603106Z",
     "shell.execute_reply": "2022-11-17T16:47:54.601823Z"
    },
    "papermill": {
     "duration": 0.026731,
     "end_time": "2022-11-17T16:47:54.605876",
     "exception": false,
     "start_time": "2022-11-17T16:47:54.579145",
     "status": "completed"
    },
    "tags": []
   },
   "outputs": [],
   "source": [
    "def correlation(list1, list2):\n",
    "    x_sum = 0\n",
    "    y_sum = 0\n",
    "    e1 = 0\n",
    "    x_sq = 0\n",
    "    y_sq = 0\n",
    "    \n",
    "    for num in range(len(list1)):\n",
    "        x_sum += list1[num]\n",
    "        y_sum += list2[num]\n",
    "        e1+=  list1[num]*list2[num]\n",
    "        x_sq += list1[num]**2\n",
    "        y_sq += list2[num]**2\n",
    "    \n",
    "    e1= e1* len(list1)\n",
    "    \n",
    "    x_sq_sub = (x_sq *len(list1)) - x_sum**2\n",
    "    x_sqed = math.sqrt(x_sq_sub)\n",
    "    \n",
    "    y_sq_sub = (y_sq * len(list2)) - y_sum**2\n",
    "    y_sqed = math.sqrt(y_sq_sub)\n",
    "    \n",
    "    top = e1 - (x_sum * y_sum)\n",
    "    bottom = x_sqed*y_sqed\n",
    "    \n",
    "    corr = top / bottom\n",
    "    \n",
    "    return corr\n",
    "\n",
    "def scatter_plot(x_list, y_list, color='blue', point='o'):\n",
    "    plt.scatter(x_list, y_list, c=color, marker=point)\n",
    "    plt.show()\n",
    "    \n",
    "def line_graph(x_list, y_list, x_label = None, y_label = None, amount=1, colour='blue', mark=\"o\", line='-'):\n",
    "    '''amount is number of lines on a graph. if the amount is greater than one, submit lists of lists for the other three paramters. ex: amount=1, x_list=[1,2,3] or amount=2, x_list=[[1,2,3],[4,5,6]]'''\n",
    "    if amount >1:\n",
    "        for num in range(0, amount):\n",
    "            plt.plot(x_list[num], y_list[num], color=colour[num], marker=mark[num], linestyle=line[num])\n",
    "    else:\n",
    "        plt.plot(x_list, y_list, color=colour, marker=mark, linestyle=line)\n",
    "    plt.xlabel(x_label)\n",
    "    plt.ylabel(y_label)\n",
    "    plt.show()"
   ]
  },
  {
   "cell_type": "code",
   "execution_count": 3,
   "id": "f823b6f5",
   "metadata": {
    "execution": {
     "iopub.execute_input": "2022-11-17T16:47:54.613526Z",
     "iopub.status.busy": "2022-11-17T16:47:54.613127Z",
     "iopub.status.idle": "2022-11-17T16:47:54.868991Z",
     "shell.execute_reply": "2022-11-17T16:47:54.867837Z"
    },
    "papermill": {
     "duration": 0.262939,
     "end_time": "2022-11-17T16:47:54.871714",
     "exception": false,
     "start_time": "2022-11-17T16:47:54.608775",
     "status": "completed"
    },
    "tags": []
   },
   "outputs": [
    {
     "name": "stdout",
     "output_type": "stream",
     "text": [
      "0.5298089018901744\n"
     ]
    },
    {
     "data": {
      "image/png": "[encoded data removed]",
      "text/plain": [
       "<Figure size 432x288 with 1 Axes>"
      ]
     },
     "metadata": {
      "needs_background": "light"
     },
     "output_type": "display_data"
    }
   ],
   "source": [
    "xs = [43,21,25,42,57,59]\n",
    "ys = [99,65,79,75,87,81]\n",
    "\n",
    "corre = correlation(xs,ys)\n",
    "print(corre)\n",
    "\n",
    "scatter_plot(xs,ys,'red', \"*\")\n",
    "# line_graph(xs,ys)\n",
    "# line_graph([[1,2,3],[1,2,3]], [[2,3,4], [1,3,5]], amount=2, colour=['red', 'blue'], mark=['o', \"*\"], line=[\"-\", \"--\"]) #TEST, NOT RELATED TO THE ASSIGNMENT"
   ]
  },
  {
   "cell_type": "markdown",
   "id": "84d507f9",
   "metadata": {
    "papermill": {
     "duration": 0.002724,
     "end_time": "2022-11-17T16:47:54.877675",
     "exception": false,
     "start_time": "2022-11-17T16:47:54.874951",
     "status": "completed"
    },
    "tags": []
   },
   "source": [
    "Seen above, the line correlatin is 0.5\n",
    "The scatter plot above is a representation of the gathered data."
   ]
  },
  {
   "cell_type": "markdown",
   "id": "e57578e5",
   "metadata": {
    "papermill": {
     "duration": 0.00265,
     "end_time": "2022-11-17T16:47:54.883260",
     "exception": false,
     "start_time": "2022-11-17T16:47:54.880610",
     "status": "completed"
    },
    "tags": []
   },
   "source": [
    "Write a function that takes as input two lists of numeric data and computes the least squares coefficients for a linear fit of the data. You will be provided with two python functions. mat_inv will return the inverted the least squares matrix and get_coeffs will return the least squares coefficients for the fit. Use the data below to test your function. Read the documentation for the functions on the next slide in order to understand how the functions should be invoked from your program. Place your final function in your library. Write a separate function that calls the least squares computation function and takes as input 2 lists of data, a string for the x-axis label, a string for the y-axis label, a string for the title, and a flag that indicates whether a linear or quadratic fit is to be performed. The function should plot the data using a scatterplot and plot a line showing the function corresponding to the Least Squares fit for the data."
   ]
  },
  {
   "cell_type": "markdown",
   "id": "878cdc29",
   "metadata": {
    "papermill": {
     "duration": 0.002617,
     "end_time": "2022-11-17T16:47:54.888792",
     "exception": false,
     "start_time": "2022-11-17T16:47:54.886175",
     "status": "completed"
    },
    "tags": []
   },
   "source": [
    "For the linear regression function, we are going to be using the Numpy library to make our lives a little easier.  After you've found the necessary values to be placed into the A and B matrices you need to convert the A and B matrices into Numpy arrays.  Just pass your matrices into np.array(your_list) then use np.linalg.inv(A) to find the inverse of matrix A.  Finally because you are working with Numpy arrays now using regular multiplication won't work, you need to use Numpy's dot method, so np.dot(inv_A, B), this will return an array with the slope at index 0 and the y-intercept at index 1.\n",
    "* X Y\n",
    "* 2 4\n",
    "* 3 5\n",
    "* 5 7\n",
    "* 7 10\n",
    "* 9 15\n"
   ]
  },
  {
   "cell_type": "code",
   "execution_count": 4,
   "id": "994f3c22",
   "metadata": {
    "execution": {
     "iopub.execute_input": "2022-11-17T16:47:54.897672Z",
     "iopub.status.busy": "2022-11-17T16:47:54.896426Z",
     "iopub.status.idle": "2022-11-17T16:47:54.911190Z",
     "shell.execute_reply": "2022-11-17T16:47:54.909483Z"
    },
    "papermill": {
     "duration": 0.021867,
     "end_time": "2022-11-17T16:47:54.913720",
     "exception": false,
     "start_time": "2022-11-17T16:47:54.891853",
     "status": "completed"
    },
    "tags": []
   },
   "outputs": [
    {
     "data": {
      "text/plain": [
       "array([-4.45731707, 31.37804878])"
      ]
     },
     "execution_count": 4,
     "metadata": {},
     "output_type": "execute_result"
    }
   ],
   "source": [
    "xlist = [2,3,5,7,9]\n",
    "ylist = [4,5,7,10,15]\n",
    "\n",
    "def det(A):\n",
    "    answer = (A[0][0] * A[1][1]) - (A[0][1] * A[1][0])\n",
    "    return answer\n",
    "\n",
    "def mat(list1, list2):\n",
    "    x_sq = 0\n",
    "    x_sum = 0\n",
    "    xy_sum = 0\n",
    "    y_sum = 0\n",
    "    \n",
    "    for num in range(len(list1)):\n",
    "        x_sq += list1[num]**2\n",
    "        x_sum += list1[num]\n",
    "        xy_sum += list1[num] + list2[num]\n",
    "        y_sum += list2[num]\n",
    "        \n",
    "    A = [[x_sq, x_sum], [x_sum, len(list1)]]\n",
    "    B = [xy_sum, y_sum]\n",
    "    \n",
    "    array_reg = np.array(A)\n",
    "    array_inverse = np.linalg.inv(array_reg)\n",
    "    answer = np.dot(array_inverse, B)\n",
    "    return answer\n",
    "mat(xlist,ylist)"
   ]
  }
 ],
 "metadata": {
  "kernelspec": {
   "display_name": "Python 3",
   "language": "python",
   "name": "python3"
  },
  "language_info": {
   "codemirror_mode": {
    "name": "ipython",
    "version": 3
   },
   "file_extension": ".py",
   "mimetype": "text/x-python",
   "name": "python",
   "nbconvert_exporter": "python",
   "pygments_lexer": "ipython3",
   "version": "3.7.12"
  },
  "papermill": {
   "default_parameters": {},
   "duration": 10.593384,
   "end_time": "2022-11-17T16:47:55.640281",
   "environment_variables": {},
   "exception": null,
   "input_path": "__notebook__.ipynb",
   "output_path": "__notebook__.ipynb",
   "parameters": {},
   "start_time": "2022-11-17T16:47:45.046897",
   "version": "2.3.4"
  }
 },
 "nbformat": 4,
 "nbformat_minor": 5
}
