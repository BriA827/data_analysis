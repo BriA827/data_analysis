{
 "cells": [
  {
   "cell_type": "markdown",
   "id": "0d372855",
   "metadata": {
    "papermill": {
     "duration": 0.002452,
     "end_time": "2022-11-04T16:01:07.887838",
     "exception": false,
     "start_time": "2022-11-04T16:01:07.885386",
     "status": "completed"
    },
    "tags": []
   },
   "source": [
    "Write a python function that takes as input two numeric lists and returns the value of the\n",
    "correlation between the two lists. Use the data shown below to test your function. The value of the\n",
    "correlation function for this data is 0.5298\n",
    "\n",
    "Place this function in your library of functions when you completed it. Also after you gotten your\n",
    "correlation function to work, create a generic xy plot function that can plot the data as either a scatter plot\n",
    "or an xy plot that draw a line between the data points. Place the plotting function in your function library.\n",
    "This will give a feel for how a correlation value corresponds to what you see in the scatterplot.\n",
    "\n",
    "* X  Y\n",
    "* 43 99\n",
    "* 21 65\n",
    "* 25 79\n",
    "* 42 75\n",
    "* 57 87\n",
    "* 59 81\n",
    "\n",
    "function for graphing 2 lists of data as scatter or line"
   ]
  },
  {
   "cell_type": "code",
   "execution_count": 1,
   "id": "8f960675",
   "metadata": {
    "execution": {
     "iopub.execute_input": "2022-11-04T16:01:07.893718Z",
     "iopub.status.busy": "2022-11-04T16:01:07.893263Z",
     "iopub.status.idle": "2022-11-04T16:01:07.901908Z",
     "shell.execute_reply": "2022-11-04T16:01:07.901193Z"
    },
    "papermill": {
     "duration": 0.015029,
     "end_time": "2022-11-04T16:01:07.904804",
     "exception": false,
     "start_time": "2022-11-04T16:01:07.889775",
     "status": "completed"
    },
    "tags": []
   },
   "outputs": [],
   "source": [
    "import math\n",
    "import matplotlib.pyplot as plt"
   ]
  },
  {
   "cell_type": "code",
   "execution_count": 2,
   "id": "afe98f6c",
   "metadata": {
    "execution": {
     "iopub.execute_input": "2022-11-04T16:01:07.910285Z",
     "iopub.status.busy": "2022-11-04T16:01:07.909867Z",
     "iopub.status.idle": "2022-11-04T16:01:07.926762Z",
     "shell.execute_reply": "2022-11-04T16:01:07.925686Z"
    },
    "papermill": {
     "duration": 0.02258,
     "end_time": "2022-11-04T16:01:07.929376",
     "exception": false,
     "start_time": "2022-11-04T16:01:07.906796",
     "status": "completed"
    },
    "tags": []
   },
   "outputs": [],
   "source": [
    "def correlation(list1, list2):\n",
    "    x_sum = 0\n",
    "    y_sum = 0\n",
    "    e1 = 0\n",
    "    x_sq = 0\n",
    "    y_sq = 0\n",
    "    \n",
    "    for num in range(len(list1)):\n",
    "        x_sum += list1[num]\n",
    "        y_sum += list2[num]\n",
    "        e1+=  list1[num]*list2[num]\n",
    "        x_sq += list1[num]**2\n",
    "        y_sq += list2[num]**2\n",
    "    \n",
    "    e1= e1* len(list1)\n",
    "    \n",
    "    x_sq_sub = (x_sq *len(list1)) - x_sum**2\n",
    "    x_sqed = math.sqrt(x_sq_sub)\n",
    "    \n",
    "    y_sq_sub = (y_sq * len(list2)) - y_sum**2\n",
    "    y_sqed = math.sqrt(y_sq_sub)\n",
    "    \n",
    "    top = e1 - (x_sum * y_sum)\n",
    "    bottom = x_sqed*y_sqed\n",
    "    \n",
    "    corr = top / bottom\n",
    "    \n",
    "    return corr\n",
    "\n",
    "def scatter_plot(x_list, y_list, color='blue', point='o'):\n",
    "    plt.scatter(x_list, y_list, c=color, marker=point)\n",
    "    plt.show()\n",
    "    \n",
    "def line_graph(x_list, y_list, x_label = None, y_label = None, amount=1, colour='blue', mark=\"o\", line='-'):\n",
    "    '''amount is number of lines on a graph. if the amount is greater than one, submit lists of lists for the other three paramters. ex: amount=1, x_list=[1,2,3] or amount=2, x_list=[[1,2,3],[4,5,6]]'''\n",
    "    if amount >1:\n",
    "        for num in range(0, amount):\n",
    "            plt.plot(x_list[num], y_list[num], color=colour[num], marker=mark[num], linestyle=line[num])\n",
    "    else:\n",
    "        plt.plot(x_list, y_list, color=colour, marker=mark, linestyle=line)\n",
    "    plt.xlabel(x_label)\n",
    "    plt.ylabel(y_label)\n",
    "    plt.show()"
   ]
  },
  {
   "cell_type": "code",
   "execution_count": 3,
   "id": "01c4aa9d",
   "metadata": {
    "execution": {
     "iopub.execute_input": "2022-11-04T16:01:07.935539Z",
     "iopub.status.busy": "2022-11-04T16:01:07.934925Z",
     "iopub.status.idle": "2022-11-04T16:01:08.213966Z",
     "shell.execute_reply": "2022-11-04T16:01:08.212762Z"
    },
    "papermill": {
     "duration": 0.284836,
     "end_time": "2022-11-04T16:01:08.216327",
     "exception": false,
     "start_time": "2022-11-04T16:01:07.931491",
     "status": "completed"
    },
    "tags": []
   },
   "outputs": [
    {
     "name": "stdout",
     "output_type": "stream",
     "text": [
      "0.5298089018901744\n"
     ]
    },
    {
     "data": {
      "image/png": "[encoded data removed]",
      "text/plain": [
       "<Figure size 432x288 with 1 Axes>"
      ]
     },
     "metadata": {
      "needs_background": "light"
     },
     "output_type": "display_data"
    },
    {
     "data": {
      "image/png": "[encoded data removed]",
      "text/plain": [
       "<Figure size 432x288 with 1 Axes>"
      ]
     },
     "metadata": {
      "needs_background": "light"
     },
     "output_type": "display_data"
    }
   ],
   "source": [
    "xs = [43,21,25,42,57,59]\n",
    "ys = [99,65,79,75,87,81]\n",
    "\n",
    "corre = correlation(xs,ys)\n",
    "print(corre)\n",
    "\n",
    "scatter_plot(xs,ys,'red', \"*\")\n",
    "line_graph(xs,ys)\n",
    "# line_graph([[1,2,3],[1,2,3]], [[2,3,4], [1,3,5]], amount=2, colour=['red', 'blue'], mark=['o', \"*\"], line=[\"-\", \"--\"]) #TEST. NOT RELATED TO THE ASSIGNMENT"
   ]
  }
 ],
 "metadata": {
  "kernelspec": {
   "display_name": "Python 3",
   "language": "python",
   "name": "python3"
  },
  "language_info": {
   "codemirror_mode": {
    "name": "ipython",
    "version": 3
   },
   "file_extension": ".py",
   "mimetype": "text/x-python",
   "name": "python",
   "nbconvert_exporter": "python",
   "pygments_lexer": "ipython3",
   "version": "3.7.12"
  },
  "papermill": {
   "default_parameters": {},
   "duration": 8.746324,
   "end_time": "2022-11-04T16:01:08.939667",
   "environment_variables": {},
   "exception": null,
   "input_path": "__notebook__.ipynb",
   "output_path": "__notebook__.ipynb",
   "parameters": {},
   "start_time": "2022-11-04T16:01:00.193343",
   "version": "2.3.4"
  }
 },
 "nbformat": 4,
 "nbformat_minor": 5
}
