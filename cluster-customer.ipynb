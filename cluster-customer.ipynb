{
 "cells": [
  {
   "cell_type": "code",
   "execution_count": 1,
   "id": "49a45e6d",
   "metadata": {
    "execution": {
     "iopub.execute_input": "2023-03-21T13:31:08.906655Z",
     "iopub.status.busy": "2023-03-21T13:31:08.905637Z",
     "iopub.status.idle": "2023-03-21T13:31:08.920856Z",
     "shell.execute_reply": "2023-03-21T13:31:08.919331Z"
    },
    "papermill": {
     "duration": 0.028429,
     "end_time": "2023-03-21T13:31:08.924333",
     "exception": false,
     "start_time": "2023-03-21T13:31:08.895904",
     "status": "completed"
    },
    "tags": []
   },
   "outputs": [],
   "source": [
    "import pandas as pd\n",
    "import numpy as np\n",
    "import math\n",
    "import matplotlib.pyplot as plt"
   ]
  },
  {
   "cell_type": "code",
   "execution_count": 2,
   "id": "919c22ed",
   "metadata": {
    "execution": {
     "iopub.execute_input": "2023-03-21T13:31:08.939205Z",
     "iopub.status.busy": "2023-03-21T13:31:08.937775Z",
     "iopub.status.idle": "2023-03-21T13:31:08.967214Z",
     "shell.execute_reply": "2023-03-21T13:31:08.965789Z"
    },
    "papermill": {
     "duration": 0.04036,
     "end_time": "2023-03-21T13:31:08.970407",
     "exception": false,
     "start_time": "2023-03-21T13:31:08.930047",
     "status": "completed"
    },
    "tags": []
   },
   "outputs": [],
   "source": [
    "def mean(data):\n",
    "    sum = 0\n",
    "    for val in data:\n",
    "        sum += val\n",
    "    average = sum/len(data)\n",
    "    return average\n",
    "  \n",
    "def median(data):\n",
    "    data.sort()\n",
    "    if len(data) % 2 == 0:\n",
    "        middle = [data[len(data)//2 - 1], data[len(data)//2]]\n",
    "        mid_avg = mean(middle)\n",
    "        return mid_avg\n",
    "    else:\n",
    "        middle = data[len(data)//2]\n",
    "        return middle\n",
    "\n",
    "def variance(data):\n",
    "    sum = 0\n",
    "    for num in data:\n",
    "        sum += (num - mean(data))**2\n",
    "    vari = sum/len(data)\n",
    "    return vari\n",
    "\n",
    "def stand_dev(data):\n",
    "    de = math.sqrt(variance(data))\n",
    "    return de\n",
    "  \n",
    "def elem_stats(data, rounder=False):\n",
    "    if rounder== True:\n",
    "        data_stats = {\"mean\": round(mean(data), 2), 'median': round(median(data), 2), 'variance': round(variance(data),2), 'standard_deviance': round(stand_dev(data),2), \"min\": round(min(data),2), 'max': round(max(data),2)}\n",
    "    else:\n",
    "        data_stats = {\"mean\": mean(data), 'median':median(data), 'variance':variance(data), 'standard_deviance': stand_dev(data), \"min\": min(data), 'max': max(data)}\n",
    "    return data_stats\n",
    "\n",
    "def cluster_guess():\n",
    "    amount = int(input(\"How many: \"))\n",
    "    xes = []\n",
    "    yes = []\n",
    "    for n in range(0,amount):\n",
    "        xes.append(float(input(\"X cord: \")))\n",
    "        yes.append(float(input(\"Y cord: \")))\n",
    "    return xes, yes\n",
    "\n",
    "def classify(xs, ys, centroidx, centroidy, start, end):\n",
    "    group_coords = {}\n",
    "    indicies = {}\n",
    "    classe = [] #distance tracker \n",
    "    for num in range(0, len(centroidx)):\n",
    "        group_coords[num] = [[],[]] # establishes dictionary\n",
    "        indicies[num] = []\n",
    "    for n in range(start, end): # for each coord\n",
    "        \n",
    "        for c in range(0, len(centroidx)): # for each centroid\n",
    "            classe.append((xs[n] - centroidx[c])**2 + (ys[n] - centroidy[c])**2) # put the distance for each point to centroid in classe\n",
    "            \n",
    "        i = classe.index(min(classe)) #i is the index of the least distance\n",
    "        group_coords[i][0].append(xs[n])\n",
    "        group_coords[i][1].append(ys[n])\n",
    "        indicies[i].append(n)\n",
    "        classe.clear()\n",
    "    \n",
    "    return group_coords, indicies\n",
    "\n",
    "def centroid_new(xes, yes):\n",
    "    x_av =  mean(xes)\n",
    "    y_av =  mean(yes)\n",
    "    return x_av, y_av\n",
    "\n",
    "def cent(orig_x, orig_y, orig_cenx, orig_centy, s, e):\n",
    "    coords, indics = classify(orig_x, orig_y, orig_cenx, orig_centy, s, e) #first clusters\n",
    "    for i in range(0,4): #just counter thing\n",
    "        xcen = [] #these are new centroids\n",
    "        ycen = []\n",
    "        for n in range(0, len(orig_cenx)):\n",
    "            one, two = centroid_new(coords[n][0], coords[n][1])\n",
    "            xcen.append(one)\n",
    "            ycen.append(two)\n",
    "            \n",
    "        coords, indics =  classify(orig_x, orig_y, xcen, ycen, s, e)\n",
    "    return coords, indics, xcen, ycen\n",
    "\n",
    "def plot_clust(coord_dict, centxs,centys):\n",
    "    for g in range(0, len(coord_dict)):\n",
    "            plt.scatter(coord_dict[g][0], coord_dict[g][1])\n",
    "    for n in range(0, len(centxs)):\n",
    "        plt.text(centxs[n], centys[n], f\"{n}\")\n",
    "        \n",
    "def correlation_array(array1, array2):\n",
    "    x_sum = np.sum(array1)\n",
    "    y_sum = np.sum(array2)\n",
    "    e1 = np.sum(np.multiply(array1, array2))\n",
    "    x_sq = np.sum(np.power(array1, 2))\n",
    "    y_sq = np.sum(np.power(array2,2))\n",
    "    \n",
    "    e1 = e1*len(array1)\n",
    "\n",
    "    x_sq_sub = (x_sq *len(array1)) - x_sum**2\n",
    "    x_sqed = math.sqrt(x_sq_sub)\n",
    "    \n",
    "    y_sq_sub = (y_sq * len(array2)) - y_sum**2\n",
    "    y_sqed = math.sqrt(y_sq_sub)\n",
    "    \n",
    "    top = e1 - (x_sum * y_sum)\n",
    "    bottom = x_sqed*y_sqed\n",
    "    \n",
    "    corr = top / bottom\n",
    "    \n",
    "    return corr"
   ]
  },
  {
   "cell_type": "code",
   "execution_count": 3,
   "id": "b2023209",
   "metadata": {
    "execution": {
     "iopub.execute_input": "2023-03-21T13:31:08.983846Z",
     "iopub.status.busy": "2023-03-21T13:31:08.983447Z",
     "iopub.status.idle": "2023-03-21T13:31:09.045040Z",
     "shell.execute_reply": "2023-03-21T13:31:09.043811Z"
    },
    "papermill": {
     "duration": 0.071947,
     "end_time": "2023-03-21T13:31:09.047888",
     "exception": false,
     "start_time": "2023-03-21T13:31:08.975941",
     "status": "completed"
    },
    "tags": []
   },
   "outputs": [
    {
     "data": {
      "text/html": [
       "<div>\n",
       "<style scoped>\n",
       "    .dataframe tbody tr th:only-of-type {\n",
       "        vertical-align: middle;\n",
       "    }\n",
       "\n",
       "    .dataframe tbody tr th {\n",
       "        vertical-align: top;\n",
       "    }\n",
       "\n",
       "    .dataframe thead th {\n",
       "        text-align: right;\n",
       "    }\n",
       "</style>\n",
       "<table border=\"1\" class=\"dataframe\">\n",
       "  <thead>\n",
       "    <tr style=\"text-align: right;\">\n",
       "      <th></th>\n",
       "      <th>index</th>\n",
       "      <th>CustomerID</th>\n",
       "      <th>Gender</th>\n",
       "      <th>Age</th>\n",
       "      <th>Annual Income (k$)</th>\n",
       "      <th>Spending Score (1-100)</th>\n",
       "    </tr>\n",
       "  </thead>\n",
       "  <tbody>\n",
       "    <tr>\n",
       "      <th>0</th>\n",
       "      <td>69</td>\n",
       "      <td>70</td>\n",
       "      <td>Female</td>\n",
       "      <td>32</td>\n",
       "      <td>48</td>\n",
       "      <td>47</td>\n",
       "    </tr>\n",
       "    <tr>\n",
       "      <th>1</th>\n",
       "      <td>96</td>\n",
       "      <td>97</td>\n",
       "      <td>Female</td>\n",
       "      <td>47</td>\n",
       "      <td>60</td>\n",
       "      <td>47</td>\n",
       "    </tr>\n",
       "    <tr>\n",
       "      <th>2</th>\n",
       "      <td>160</td>\n",
       "      <td>161</td>\n",
       "      <td>Female</td>\n",
       "      <td>56</td>\n",
       "      <td>79</td>\n",
       "      <td>35</td>\n",
       "    </tr>\n",
       "    <tr>\n",
       "      <th>3</th>\n",
       "      <td>94</td>\n",
       "      <td>95</td>\n",
       "      <td>Female</td>\n",
       "      <td>32</td>\n",
       "      <td>60</td>\n",
       "      <td>42</td>\n",
       "    </tr>\n",
       "    <tr>\n",
       "      <th>4</th>\n",
       "      <td>93</td>\n",
       "      <td>94</td>\n",
       "      <td>Female</td>\n",
       "      <td>40</td>\n",
       "      <td>60</td>\n",
       "      <td>40</td>\n",
       "    </tr>\n",
       "    <tr>\n",
       "      <th>...</th>\n",
       "      <td>...</td>\n",
       "      <td>...</td>\n",
       "      <td>...</td>\n",
       "      <td>...</td>\n",
       "      <td>...</td>\n",
       "      <td>...</td>\n",
       "    </tr>\n",
       "    <tr>\n",
       "      <th>195</th>\n",
       "      <td>81</td>\n",
       "      <td>82</td>\n",
       "      <td>Male</td>\n",
       "      <td>38</td>\n",
       "      <td>54</td>\n",
       "      <td>55</td>\n",
       "    </tr>\n",
       "    <tr>\n",
       "      <th>196</th>\n",
       "      <td>80</td>\n",
       "      <td>81</td>\n",
       "      <td>Male</td>\n",
       "      <td>57</td>\n",
       "      <td>54</td>\n",
       "      <td>51</td>\n",
       "    </tr>\n",
       "    <tr>\n",
       "      <th>197</th>\n",
       "      <td>77</td>\n",
       "      <td>78</td>\n",
       "      <td>Male</td>\n",
       "      <td>40</td>\n",
       "      <td>54</td>\n",
       "      <td>48</td>\n",
       "    </tr>\n",
       "    <tr>\n",
       "      <th>198</th>\n",
       "      <td>138</td>\n",
       "      <td>139</td>\n",
       "      <td>Male</td>\n",
       "      <td>19</td>\n",
       "      <td>74</td>\n",
       "      <td>10</td>\n",
       "    </tr>\n",
       "    <tr>\n",
       "      <th>199</th>\n",
       "      <td>199</td>\n",
       "      <td>200</td>\n",
       "      <td>Male</td>\n",
       "      <td>30</td>\n",
       "      <td>137</td>\n",
       "      <td>83</td>\n",
       "    </tr>\n",
       "  </tbody>\n",
       "</table>\n",
       "<p>200 rows × 6 columns</p>\n",
       "</div>"
      ],
      "text/plain": [
       "     index  CustomerID  Gender  Age  Annual Income (k$)  \\\n",
       "0       69          70  Female   32                  48   \n",
       "1       96          97  Female   47                  60   \n",
       "2      160         161  Female   56                  79   \n",
       "3       94          95  Female   32                  60   \n",
       "4       93          94  Female   40                  60   \n",
       "..     ...         ...     ...  ...                 ...   \n",
       "195     81          82    Male   38                  54   \n",
       "196     80          81    Male   57                  54   \n",
       "197     77          78    Male   40                  54   \n",
       "198    138         139    Male   19                  74   \n",
       "199    199         200    Male   30                 137   \n",
       "\n",
       "     Spending Score (1-100)  \n",
       "0                        47  \n",
       "1                        47  \n",
       "2                        35  \n",
       "3                        42  \n",
       "4                        40  \n",
       "..                      ...  \n",
       "195                      55  \n",
       "196                      51  \n",
       "197                      48  \n",
       "198                      10  \n",
       "199                      83  \n",
       "\n",
       "[200 rows x 6 columns]"
      ]
     },
     "execution_count": 3,
     "metadata": {},
     "output_type": "execute_result"
    }
   ],
   "source": [
    "cus_path = \"/kaggle/input/customer/customer_data.csv\"\n",
    "customer = pd.read_csv(cus_path)\n",
    "customer.sort_values('Gender', inplace=True)\n",
    "customer.reset_index(inplace=True)\n",
    "customer"
   ]
  },
  {
   "cell_type": "code",
   "execution_count": 4,
   "id": "00612168",
   "metadata": {
    "execution": {
     "iopub.execute_input": "2023-03-21T13:31:09.062803Z",
     "iopub.status.busy": "2023-03-21T13:31:09.062312Z",
     "iopub.status.idle": "2023-03-21T13:31:09.361688Z",
     "shell.execute_reply": "2023-03-21T13:31:09.360145Z"
    },
    "papermill": {
     "duration": 0.310979,
     "end_time": "2023-03-21T13:31:09.364638",
     "exception": false,
     "start_time": "2023-03-21T13:31:09.053659",
     "status": "completed"
    },
    "tags": []
   },
   "outputs": [
    {
     "name": "stdout",
     "output_type": "stream",
     "text": [
      "112\n",
      "200\n"
     ]
    },
    {
     "data": {
      "text/plain": [
       "Text(0, 0.5, 'women score')"
      ]
     },
     "execution_count": 4,
     "metadata": {},
     "output_type": "execute_result"
    },
    {
     "data": {
      "image/png": "[encoded data removed]",
      "text/plain": [
       "<Figure size 640x480 with 1 Axes>"
      ]
     },
     "metadata": {},
     "output_type": "display_data"
    }
   ],
   "source": [
    "counter = 0\n",
    "for item in customer[\"Gender\"]:\n",
    "    if item == \"Female\":\n",
    "        counter+=1\n",
    "print(counter)\n",
    "\n",
    "fem_mon = customer['Annual Income (k$)'][0:counter]\n",
    "fem_score = customer['Spending Score (1-100)'][0:counter]\n",
    "\n",
    "print(len(customer[\"index\"]))\n",
    "male_mon = customer['Annual Income (k$)'][counter+1:len(customer[\"index\"])-1]\n",
    "male_score = customer['Spending Score (1-100)'][counter+1:len(customer[\"index\"])-1]\n",
    "\n",
    "plt.scatter(fem_mon, fem_score)\n",
    "plt.xlabel('women income')\n",
    "plt.ylabel('women score')"
   ]
  },
  {
   "cell_type": "code",
   "execution_count": 5,
   "id": "70b2d05f",
   "metadata": {
    "execution": {
     "iopub.execute_input": "2023-03-21T13:31:09.379668Z",
     "iopub.status.busy": "2023-03-21T13:31:09.378819Z",
     "iopub.status.idle": "2023-03-21T13:31:09.637204Z",
     "shell.execute_reply": "2023-03-21T13:31:09.635544Z"
    },
    "papermill": {
     "duration": 0.26965,
     "end_time": "2023-03-21T13:31:09.640559",
     "exception": false,
     "start_time": "2023-03-21T13:31:09.370909",
     "status": "completed"
    },
    "tags": []
   },
   "outputs": [
    {
     "data": {
      "text/plain": [
       "Text(0, 0.5, 'male score')"
      ]
     },
     "execution_count": 5,
     "metadata": {},
     "output_type": "execute_result"
    },
    {
     "data": {
      "image/png": "[encoded data removed]",
      "text/plain": [
       "<Figure size 640x480 with 1 Axes>"
      ]
     },
     "metadata": {},
     "output_type": "display_data"
    }
   ],
   "source": [
    "plt.scatter(male_mon, male_score, c=\"red\")\n",
    "plt.xlabel('male income')\n",
    "plt.ylabel('male score')"
   ]
  },
  {
   "cell_type": "markdown",
   "id": "869eefb1",
   "metadata": {
    "papermill": {
     "duration": 0.006639,
     "end_time": "2023-03-21T13:31:09.654651",
     "exception": false,
     "start_time": "2023-03-21T13:31:09.648012",
     "status": "completed"
    },
    "tags": []
   },
   "source": [
    "1). Use the K-Means algorithm to cluster the data using the variables income and\n",
    "spending score independently for women and men."
   ]
  },
  {
   "cell_type": "code",
   "execution_count": 6,
   "id": "893c7c44",
   "metadata": {
    "execution": {
     "iopub.execute_input": "2023-03-21T13:31:09.671882Z",
     "iopub.status.busy": "2023-03-21T13:31:09.671442Z",
     "iopub.status.idle": "2023-03-21T13:31:09.678774Z",
     "shell.execute_reply": "2023-03-21T13:31:09.677387Z"
    },
    "papermill": {
     "duration": 0.020932,
     "end_time": "2023-03-21T13:31:09.682554",
     "exception": false,
     "start_time": "2023-03-21T13:31:09.661622",
     "status": "completed"
    },
    "tags": []
   },
   "outputs": [
    {
     "name": "stdout",
     "output_type": "stream",
     "text": [
      "[25, 25, 55, 90, 90] [20, 85, 55, 25, 85]\n"
     ]
    }
   ],
   "source": [
    "# fem_x, fem_y = cluster_guess() #Hastaged out because input stuff makes errors on github\n",
    "fem_x = [25, 25, 55, 90, 90]\n",
    "fem_y = [20, 85, 55, 25, 85]\n",
    "print(fem_x, fem_y)\n",
    "#5, 25 20 25 85 55 55 90 25 90 85"
   ]
  },
  {
   "cell_type": "code",
   "execution_count": 7,
   "id": "4649ca9f",
   "metadata": {
    "execution": {
     "iopub.execute_input": "2023-03-21T13:31:09.701050Z",
     "iopub.status.busy": "2023-03-21T13:31:09.699675Z",
     "iopub.status.idle": "2023-03-21T13:31:10.000874Z",
     "shell.execute_reply": "2023-03-21T13:31:09.999158Z"
    },
    "papermill": {
     "duration": 0.314636,
     "end_time": "2023-03-21T13:31:10.004421",
     "exception": false,
     "start_time": "2023-03-21T13:31:09.689785",
     "status": "completed"
    },
    "tags": []
   },
   "outputs": [
    {
     "data": {
      "image/png": "[encoded data removed]",
      "text/plain": [
       "<Figure size 640x480 with 1 Axes>"
      ]
     },
     "metadata": {},
     "output_type": "display_data"
    }
   ],
   "source": [
    "fem_cords, fem_inds= classify(fem_mon, fem_score, fem_x, fem_y, 0, counter)\n",
    "for g in range(0, len(fem_cords)):\n",
    "               plt.scatter(fem_cords[g][0], fem_cords[g][1])\n",
    "for n in range(0, len(fem_x)):\n",
    "    plt.text(fem_x[n], fem_y[n], f\"{n}\")"
   ]
  },
  {
   "cell_type": "code",
   "execution_count": 8,
   "id": "3265cc76",
   "metadata": {
    "execution": {
     "iopub.execute_input": "2023-03-21T13:31:10.023852Z",
     "iopub.status.busy": "2023-03-21T13:31:10.022510Z",
     "iopub.status.idle": "2023-03-21T13:31:10.373935Z",
     "shell.execute_reply": "2023-03-21T13:31:10.372582Z"
    },
    "papermill": {
     "duration": 0.364677,
     "end_time": "2023-03-21T13:31:10.376884",
     "exception": false,
     "start_time": "2023-03-21T13:31:10.012207",
     "status": "completed"
    },
    "tags": []
   },
   "outputs": [
    {
     "data": {
      "image/png": "[encoded data removed]",
      "text/plain": [
       "<Figure size 640x480 with 1 Axes>"
      ]
     },
     "metadata": {},
     "output_type": "display_data"
    }
   ],
   "source": [
    "wom_cords, wom_inds, womx, womy = cent(fem_mon, fem_score, fem_x, fem_y,0, counter)\n",
    "plot_clust(wom_cords, womx, womy)"
   ]
  },
  {
   "cell_type": "code",
   "execution_count": 9,
   "id": "52a853b3",
   "metadata": {
    "execution": {
     "iopub.execute_input": "2023-03-21T13:31:10.395590Z",
     "iopub.status.busy": "2023-03-21T13:31:10.395073Z",
     "iopub.status.idle": "2023-03-21T13:31:10.403467Z",
     "shell.execute_reply": "2023-03-21T13:31:10.401760Z"
    },
    "papermill": {
     "duration": 0.021572,
     "end_time": "2023-03-21T13:31:10.406690",
     "exception": false,
     "start_time": "2023-03-21T13:31:10.385118",
     "status": "completed"
    },
    "tags": []
   },
   "outputs": [
    {
     "name": "stdout",
     "output_type": "stream",
     "text": [
      "[25, 25, 55, 85, 85] [20, 75, 55, 15, 80]\n"
     ]
    }
   ],
   "source": [
    "# male_x, male_y = cluster_guess() #again, makes errors when uploaded to github\n",
    "male_x = [25, 25, 55, 85, 85]\n",
    "male_y = [20, 75, 55, 15, 80]\n",
    "print(male_x, male_y)\n",
    "#5, 25 20 25 75 55 55 85 15 85 80"
   ]
  },
  {
   "cell_type": "code",
   "execution_count": 10,
   "id": "674d222c",
   "metadata": {
    "execution": {
     "iopub.execute_input": "2023-03-21T13:31:10.426681Z",
     "iopub.status.busy": "2023-03-21T13:31:10.426151Z",
     "iopub.status.idle": "2023-03-21T13:31:10.940589Z",
     "shell.execute_reply": "2023-03-21T13:31:10.937915Z"
    },
    "papermill": {
     "duration": 0.529092,
     "end_time": "2023-03-21T13:31:10.944658",
     "exception": false,
     "start_time": "2023-03-21T13:31:10.415566",
     "status": "completed"
    },
    "tags": []
   },
   "outputs": [
    {
     "data": {
      "image/png": "[encoded data removed]",
      "text/plain": [
       "<Figure size 640x480 with 1 Axes>"
      ]
     },
     "metadata": {},
     "output_type": "display_data"
    }
   ],
   "source": [
    "male_cords, male_inds= classify(male_mon, male_score, male_x, male_y, counter+1, len(customer[\"index\"])-1)\n",
    "for g in range(0, len(male_cords)):\n",
    "               plt.scatter(male_cords[g][0], male_cords[g][1])\n",
    "for n in range(0, len(male_x)):\n",
    "    plt.text(male_x[n], male_y[n], f\"{n}\")"
   ]
  },
  {
   "cell_type": "code",
   "execution_count": 11,
   "id": "47809b01",
   "metadata": {
    "execution": {
     "iopub.execute_input": "2023-03-21T13:31:10.967329Z",
     "iopub.status.busy": "2023-03-21T13:31:10.966794Z",
     "iopub.status.idle": "2023-03-21T13:31:11.314555Z",
     "shell.execute_reply": "2023-03-21T13:31:11.313046Z"
    },
    "papermill": {
     "duration": 0.361966,
     "end_time": "2023-03-21T13:31:11.317705",
     "exception": false,
     "start_time": "2023-03-21T13:31:10.955739",
     "status": "completed"
    },
    "tags": []
   },
   "outputs": [
    {
     "data": {
      "image/png": "[encoded data removed]",
      "text/plain": [
       "<Figure size 640x480 with 1 Axes>"
      ]
     },
     "metadata": {},
     "output_type": "display_data"
    }
   ],
   "source": [
    "men_cords, men_inds, menx, meny = cent(male_mon, male_score, male_x, male_y,counter+1, len(customer[\"index\"])-1)\n",
    "plot_clust(men_cords, menx, meny)"
   ]
  },
  {
   "cell_type": "markdown",
   "id": "4024ec17",
   "metadata": {
    "papermill": {
     "duration": 0.008738,
     "end_time": "2023-03-21T13:31:11.335471",
     "exception": false,
     "start_time": "2023-03-21T13:31:11.326733",
     "status": "completed"
    },
    "tags": []
   },
   "source": [
    "* a). Provide explanations of the shopper for each cluster.\n",
    "* b). Compute the statistics for each cluster for both the women and men.\n",
    "* Are there any significant differences ? If so, what are they ?"
   ]
  },
  {
   "cell_type": "code",
   "execution_count": 12,
   "id": "f4fd664f",
   "metadata": {
    "execution": {
     "iopub.execute_input": "2023-03-21T13:31:11.356265Z",
     "iopub.status.busy": "2023-03-21T13:31:11.355749Z",
     "iopub.status.idle": "2023-03-21T13:31:11.369055Z",
     "shell.execute_reply": "2023-03-21T13:31:11.367105Z"
    },
    "papermill": {
     "duration": 0.029139,
     "end_time": "2023-03-21T13:31:11.373711",
     "exception": false,
     "start_time": "2023-03-21T13:31:11.344572",
     "status": "completed"
    },
    "tags": []
   },
   "outputs": [
    {
     "name": "stdout",
     "output_type": "stream",
     "text": [
      "{0: [[{'mean': 27.357142857142858, 'median': 28.0, 'variance': 60.372448979591844, 'standard_deviance': 7.769970976753507, 'min': 16, 'max': 39}], [{'mean': 21.714285714285715, 'median': 21.5, 'variance': 135.48979591836732, 'standard_deviance': 11.640008415734385, 'min': 5, 'max': 40}]], 1: [[{'mean': 24.583333333333332, 'median': 21.5, 'variance': 51.90972222222222, 'standard_deviance': 7.204840194079409, 'min': 16, 'max': 37}], [{'mean': 81.83333333333333, 'median': 77.0, 'variance': 92.6388888888889, 'standard_deviance': 9.624909811987274, 'min': 72, 'max': 99}]], 2: [[{'mean': 54.212765957446805, 'median': 54, 'variance': 83.69941149841554, 'standard_deviance': 9.148738246250984, 'min': 39, 'max': 69}], [{'mean': 49.851063829787236, 'median': 50, 'variance': 41.318243549117255, 'standard_deviance': 6.427926846901515, 'min': 40, 'max': 65}]], 3: [[{'mean': 89.05555555555556, 'median': 83.0, 'variance': 264.9413580246914, 'standard_deviance': 16.27701932248934, 'min': 70, 'max': 126}], [{'mean': 23.72222222222222, 'median': 23.5, 'variance': 99.08950617283952, 'standard_deviance': 9.954371209315008, 'min': 5, 'max': 40}]], 4: [[{'mean': 86.04761904761905, 'median': 79, 'variance': 190.90249433106578, 'standard_deviance': 13.816746879459933, 'min': 70, 'max': 120}], [{'mean': 81.66666666666667, 'median': 83, 'variance': 58.412698412698404, 'standard_deviance': 7.642820056281478, 'min': 69, 'max': 95}]]}\n"
     ]
    }
   ],
   "source": [
    "wom_stats = {}\n",
    "\n",
    "mon_data1 = {}\n",
    "score_data1 = {}\n",
    "for i in range(0, len(wom_inds)):\n",
    "    mon_data1[i] = []\n",
    "    score_data1[i] = []\n",
    "    \n",
    "    for item in wom_inds[i]:\n",
    "        mon_data1[i].append(fem_mon[item])\n",
    "        score_data1[i].append(fem_score[item])\n",
    "        \n",
    "    wom_stats[i] = [[elem_stats(mon_data1[i])], [elem_stats(score_data1[i])]]\n",
    "\n",
    "print(wom_stats)"
   ]
  },
  {
   "cell_type": "code",
   "execution_count": 13,
   "id": "aaf08ee1",
   "metadata": {
    "execution": {
     "iopub.execute_input": "2023-03-21T13:31:11.396025Z",
     "iopub.status.busy": "2023-03-21T13:31:11.395117Z",
     "iopub.status.idle": "2023-03-21T13:31:11.408470Z",
     "shell.execute_reply": "2023-03-21T13:31:11.406917Z"
    },
    "papermill": {
     "duration": 0.028673,
     "end_time": "2023-03-21T13:31:11.412267",
     "exception": false,
     "start_time": "2023-03-21T13:31:11.383594",
     "status": "completed"
    },
    "tags": []
   },
   "outputs": [
    {
     "name": "stdout",
     "output_type": "stream",
     "text": [
      "{0: [[{'mean': 24.666666666666668, 'median': 23, 'variance': 54.0, 'standard_deviance': 7.3484692283495345, 'min': 15, 'max': 39}], [{'mean': 19.666666666666668, 'median': 14, 'variance': 200.88888888888889, 'standard_deviance': 14.173527750312866, 'min': 3, 'max': 39}]], 1: [[{'mean': 25.77777777777778, 'median': 25, 'variance': 43.061728395061735, 'standard_deviance': 6.562143582325956, 'min': 15, 'max': 38}], [{'mean': 77.66666666666667, 'median': 79, 'variance': 100.0, 'standard_deviance': 10.0, 'min': 61, 'max': 92}]], 2: [[{'mean': 54.71875, 'median': 54.0, 'variance': 55.4521484375, 'standard_deviance': 7.446619933735037, 'min': 42, 'max': 67}], [{'mean': 50.75, 'median': 51.0, 'variance': 34.8125, 'standard_deviance': 5.900211860602973, 'min': 41, 'max': 60}]], 3: [[{'mean': 85.57894736842105, 'median': 81, 'variance': 253.29639889196676, 'standard_deviance': 15.915288212657877, 'min': 71, 'max': 137}], [{'mean': 14.157894736842104, 'median': 13, 'variance': 91.2908587257618, 'standard_deviance': 9.554624991372597, 'min': 1, 'max': 36}]], 4: [[{'mean': 84.17647058823529, 'median': 78, 'variance': 203.3217993079585, 'standard_deviance': 14.259095318706532, 'min': 69, 'max': 126}], [{'mean': 82.6470588235294, 'median': 88, 'variance': 123.28719723183391, 'standard_deviance': 11.103476808271989, 'min': 63, 'max': 97}]]}\n"
     ]
    }
   ],
   "source": [
    "man_stats = {}\n",
    "\n",
    "mon_data2 = {}\n",
    "score_data2 = {}\n",
    "for i in range(0, len(male_inds)):\n",
    "    mon_data2[i] = []\n",
    "    score_data2[i] = []\n",
    "    \n",
    "    for item in male_inds[i]:\n",
    "        mon_data2[i].append(male_mon[item])\n",
    "        score_data2[i].append(male_score[item])\n",
    "        \n",
    "    man_stats[i] = [[elem_stats(mon_data2[i])], [elem_stats(score_data2[i])]]\n",
    "\n",
    "print(man_stats)"
   ]
  },
  {
   "cell_type": "markdown",
   "id": "ae7e9bf2",
   "metadata": {
    "papermill": {
     "duration": 0.00877,
     "end_time": "2023-03-21T13:31:11.430305",
     "exception": false,
     "start_time": "2023-03-21T13:31:11.421535",
     "status": "completed"
    },
    "tags": []
   },
   "source": [
    "How strongly correlated is income and age with gender ?"
   ]
  },
  {
   "cell_type": "code",
   "execution_count": 14,
   "id": "5d1fec79",
   "metadata": {
    "execution": {
     "iopub.execute_input": "2023-03-21T13:31:11.450796Z",
     "iopub.status.busy": "2023-03-21T13:31:11.450303Z",
     "iopub.status.idle": "2023-03-21T13:31:11.464406Z",
     "shell.execute_reply": "2023-03-21T13:31:11.462669Z"
    },
    "papermill": {
     "duration": 0.02899,
     "end_time": "2023-03-21T13:31:11.468187",
     "exception": false,
     "start_time": "2023-03-21T13:31:11.439197",
     "status": "completed"
    },
    "tags": []
   },
   "outputs": [
    {
     "name": "stdout",
     "output_type": "stream",
     "text": [
      "0.05991212789455605 -0.12280315572691498\n"
     ]
    }
   ],
   "source": [
    "corre1 = correlation_array(fem_mon, customer['Age'][0:len(fem_mon)])\n",
    "corre2 = correlation_array(male_mon, customer['Age'][len(fem_mon)+1:])\n",
    "print(corre1, corre2)"
   ]
  },
  {
   "cell_type": "markdown",
   "id": "596fb29c",
   "metadata": {
    "papermill": {
     "duration": 0.008597,
     "end_time": "2023-03-21T13:31:11.485938",
     "exception": false,
     "start_time": "2023-03-21T13:31:11.477341",
     "status": "completed"
    },
    "tags": []
   },
   "source": [
    "How strongly correlated is age and spending score with gender ?"
   ]
  },
  {
   "cell_type": "code",
   "execution_count": 15,
   "id": "8b7c8a19",
   "metadata": {
    "execution": {
     "iopub.execute_input": "2023-03-21T13:31:11.507290Z",
     "iopub.status.busy": "2023-03-21T13:31:11.506743Z",
     "iopub.status.idle": "2023-03-21T13:31:11.518338Z",
     "shell.execute_reply": "2023-03-21T13:31:11.516683Z"
    },
    "papermill": {
     "duration": 0.025789,
     "end_time": "2023-03-21T13:31:11.521388",
     "exception": false,
     "start_time": "2023-03-21T13:31:11.495599",
     "status": "completed"
    },
    "tags": []
   },
   "outputs": [
    {
     "name": "stdout",
     "output_type": "stream",
     "text": [
      "-0.37543858377804734 -0.32973933904097624\n"
     ]
    }
   ],
   "source": [
    "corre3 = correlation_array(fem_score, customer['Age'][0:len(fem_mon)])\n",
    "corre4 = correlation_array(male_score, customer['Age'][len(fem_mon)+1:])\n",
    "print(corre3, corre4)"
   ]
  }
 ],
 "metadata": {
  "kernelspec": {
   "display_name": "Python 3",
   "language": "python",
   "name": "python3"
  },
  "language_info": {
   "codemirror_mode": {
    "name": "ipython",
    "version": 3
   },
   "file_extension": ".py",
   "mimetype": "text/x-python",
   "name": "python",
   "nbconvert_exporter": "python",
   "pygments_lexer": "ipython3",
   "version": "3.7.12"
  },
  "papermill": {
   "default_parameters": {},
   "duration": 17.064696,
   "end_time": "2023-03-21T13:31:12.657936",
   "environment_variables": {},
   "exception": null,
   "input_path": "__notebook__.ipynb",
   "output_path": "__notebook__.ipynb",
   "parameters": {},
   "start_time": "2023-03-21T13:30:55.593240",
   "version": "2.4.0"
  }
 },
 "nbformat": 4,
 "nbformat_minor": 5
}
