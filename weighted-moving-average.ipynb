{
 "cells": [
  {
   "cell_type": "code",
   "execution_count": 1,
   "id": "37aaaf70",
   "metadata": {
    "execution": {
     "iopub.execute_input": "2023-01-25T15:59:06.203477Z",
     "iopub.status.busy": "2023-01-25T15:59:06.202647Z",
     "iopub.status.idle": "2023-01-25T15:59:06.217323Z",
     "shell.execute_reply": "2023-01-25T15:59:06.215761Z"
    },
    "papermill": {
     "duration": 0.02621,
     "end_time": "2023-01-25T15:59:06.220781",
     "exception": false,
     "start_time": "2023-01-25T15:59:06.194571",
     "status": "completed"
    },
    "tags": []
   },
   "outputs": [],
   "source": [
    "import matplotlib.pyplot as plt\n",
    "import numpy as np\n",
    "import math"
   ]
  },
  {
   "cell_type": "markdown",
   "id": "96a5418c",
   "metadata": {
    "papermill": {
     "duration": 0.002014,
     "end_time": "2023-01-25T15:59:06.225371",
     "exception": false,
     "start_time": "2023-01-25T15:59:06.223357",
     "status": "completed"
    },
    "tags": []
   },
   "source": [
    "Write 2 Python functions, one Python function to compute an arbitrary length weighted moving\n",
    "average filter. Note a simple moving average filter is just a weighted average filter with all weights set equal\n",
    "to 1. This function should take at a minimum three inputs : an arbitrary length numeric list, the filter length\n",
    "and weights and return a list containing the filtered output.\n",
    "\n",
    "The second Python function to write is an exponential moving average filter of length 2 with weights\n",
    "that sum to 1. This function should take at a minimum two inputs : an arbitrary length numeric list and filter\n",
    "weights and return a list containing the filtered output."
   ]
  },
  {
   "cell_type": "code",
   "execution_count": 2,
   "id": "e2951f89",
   "metadata": {
    "execution": {
     "iopub.execute_input": "2023-01-25T15:59:06.232070Z",
     "iopub.status.busy": "2023-01-25T15:59:06.231335Z",
     "iopub.status.idle": "2023-01-25T15:59:06.241078Z",
     "shell.execute_reply": "2023-01-25T15:59:06.239924Z"
    },
    "papermill": {
     "duration": 0.01801,
     "end_time": "2023-01-25T15:59:06.245539",
     "exception": false,
     "start_time": "2023-01-25T15:59:06.227529",
     "status": "completed"
    },
    "tags": []
   },
   "outputs": [],
   "source": [
    "def weight_move_avg(values, weights):\n",
    "    length = len(weights)\n",
    "    divisor = sum(weights)\n",
    "    averages = []\n",
    "    aver = 0\n",
    "    counter = 0\n",
    "    for i in range(0,len(values)+1-length):\n",
    "        for num in range(i,length+i):\n",
    "            aver += values[num] * weights[counter]\n",
    "            counter+=1\n",
    "        counter-=counter\n",
    "        aver = aver/divisor\n",
    "        aver = round(aver,2)\n",
    "        averages.append(aver)\n",
    "        aver-=aver\n",
    "            \n",
    "    return averages\n",
    "\n",
    "def fade_mem_avg(values, weights):\n",
    "    averages = []\n",
    "    f = values[0]\n",
    "    for i in range(0, len(values)):\n",
    "        f = weights[0] * f + weights[1] * values[i]\n",
    "        averages.append(f.round(2))\n",
    "#         F[N] = weights[0]*F[N-1] + weights[1]*values[N]\n",
    "    return averages"
   ]
  },
  {
   "cell_type": "markdown",
   "id": "166afdeb",
   "metadata": {
    "papermill": {
     "duration": 0.003371,
     "end_time": "2023-01-25T15:59:06.253376",
     "exception": false,
     "start_time": "2023-01-25T15:59:06.250005",
     "status": "completed"
    },
    "tags": []
   },
   "source": [
    "To validate your code run the following test cases :\n",
    "\n",
    "For a uniform weighted (i.e. all weights = 1) moving average filter of length 4 for the list\n",
    "X = [1 , 4 , 5 , 6, -2 , 9 , 3 , 4 , 0 , 2] the filtered output is [4 , 3.25 , 4.5 , 4 , 3.5 , 4 , 2.25] .\n",
    "\n",
    "Use weights [1.0 , 2.0 , 3.0 , 2.0 , 1.0] on list X = [4 , 7, 8, 2 , 10 , 23 , 9 , 5] and compute the filtered\n",
    "output. Filtered output is [6.22 , 8.0 , 10.77 , 12.66]\n",
    "\n",
    "Compute the filtered output of list X = [4 , 7, 8, 2 , 10 , 23 , 9 , 5] using an exponential average filter\n",
    "with weights equal = [.5 , .5] The filtered output = [4, 5.5, 6.75, 4.38, 7.19, 15.10, 12.05]"
   ]
  },
  {
   "cell_type": "code",
   "execution_count": 3,
   "id": "ada42e10",
   "metadata": {
    "execution": {
     "iopub.execute_input": "2023-01-25T15:59:06.261737Z",
     "iopub.status.busy": "2023-01-25T15:59:06.261205Z",
     "iopub.status.idle": "2023-01-25T15:59:06.271634Z",
     "shell.execute_reply": "2023-01-25T15:59:06.270253Z"
    },
    "papermill": {
     "duration": 0.018762,
     "end_time": "2023-01-25T15:59:06.275798",
     "exception": false,
     "start_time": "2023-01-25T15:59:06.257036",
     "status": "completed"
    },
    "tags": []
   },
   "outputs": [
    {
     "name": "stdout",
     "output_type": "stream",
     "text": [
      "[4.0, 3.25, 4.5, 4.0, 3.5, 4.0, 2.25]\n",
      "[6.22, 8.0, 10.78, 12.67]\n",
      "[4.0, 5.5, 6.75, 4.38, 7.19, 15.09, 12.05, 8.52]\n"
     ]
    }
   ],
   "source": [
    "test_1 = np.array([1 , 4 , 5 , 6, -2 , 9 , 3 , 4 , 0 , 2])\n",
    "weights_1 = [1,1,1,1]\n",
    "test_1_avg = weight_move_avg(test_1, weights_1)\n",
    "print(test_1_avg)\n",
    "\n",
    "test_2 = np.array([4 , 7, 8, 2 , 10 , 23 , 9 , 5])\n",
    "weights_2 = [1.0 , 2.0 , 3.0 , 2.0 , 1.0]\n",
    "test_2_avg = weight_move_avg(test_2, weights_2)\n",
    "print(test_2_avg)\n",
    "\n",
    "fade = np.array([4 , 7, 8, 2 , 10 , 23 , 9 , 5])\n",
    "weights_3 = [.5 , .5]\n",
    "fade_avg = fade_mem_avg(fade, weights_3)\n",
    "print(fade_avg)"
   ]
  }
 ],
 "metadata": {
  "kernelspec": {
   "display_name": "Python 3",
   "language": "python",
   "name": "python3"
  },
  "language_info": {
   "codemirror_mode": {
    "name": "ipython",
    "version": 3
   },
   "file_extension": ".py",
   "mimetype": "text/x-python",
   "name": "python",
   "nbconvert_exporter": "python",
   "pygments_lexer": "ipython3",
   "version": "3.7.12"
  },
  "papermill": {
   "default_parameters": {},
   "duration": 10.816315,
   "end_time": "2023-01-25T15:59:07.202298",
   "environment_variables": {},
   "exception": null,
   "input_path": "__notebook__.ipynb",
   "output_path": "__notebook__.ipynb",
   "parameters": {},
   "start_time": "2023-01-25T15:58:56.385983",
   "version": "2.3.4"
  }
 },
 "nbformat": 4,
 "nbformat_minor": 5
}
